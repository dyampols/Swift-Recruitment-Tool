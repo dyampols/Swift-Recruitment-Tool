{
 "cells": [
  {
   "cell_type": "code",
   "execution_count": 1,
   "metadata": {},
   "outputs": [
    {
     "name": "stdout",
     "output_type": "stream",
     "text": [
      "Hello World!\n"
     ]
    }
   ],
   "source": [
    "print('Hello World!')"
   ]
  },
  {
   "cell_type": "code",
   "execution_count": 3,
   "metadata": {},
   "outputs": [
    {
     "ename": "FileNotFoundError",
     "evalue": "File b'../mbti-type/mbti_1.csv' does not exist",
     "output_type": "error",
     "traceback": [
      "\u001b[1;31m---------------------------------------------------------------------------\u001b[0m",
      "\u001b[1;31mFileNotFoundError\u001b[0m                         Traceback (most recent call last)",
      "\u001b[1;32m<ipython-input-3-64db34fd50d9>\u001b[0m in \u001b[0;36m<module>\u001b[1;34m()\u001b[0m\n\u001b[0;32m     24\u001b[0m \u001b[1;33m\u001b[0m\u001b[0m\n\u001b[0;32m     25\u001b[0m \u001b[1;33m\u001b[0m\u001b[0m\n\u001b[1;32m---> 26\u001b[1;33m \u001b[0mdf\u001b[0m \u001b[1;33m=\u001b[0m \u001b[0mpd\u001b[0m\u001b[1;33m.\u001b[0m\u001b[0mread_csv\u001b[0m\u001b[1;33m(\u001b[0m\u001b[1;34m'../mbti-type/mbti_1.csv'\u001b[0m\u001b[1;33m)\u001b[0m\u001b[1;33m\u001b[0m\u001b[0m\n\u001b[0m\u001b[0;32m     27\u001b[0m \u001b[0mprint\u001b[0m\u001b[1;33m(\u001b[0m\u001b[0mdf\u001b[0m\u001b[1;33m.\u001b[0m\u001b[0mhead\u001b[0m\u001b[1;33m(\u001b[0m\u001b[1;36m10\u001b[0m\u001b[1;33m)\u001b[0m\u001b[1;33m)\u001b[0m\u001b[1;33m\u001b[0m\u001b[0m\n\u001b[0;32m     28\u001b[0m \u001b[0mprint\u001b[0m\u001b[1;33m(\u001b[0m\u001b[1;34m\"*\"\u001b[0m\u001b[1;33m*\u001b[0m\u001b[1;36m40\u001b[0m\u001b[1;33m)\u001b[0m\u001b[1;33m\u001b[0m\u001b[0m\n",
      "\u001b[1;32m~\\Anaconda3\\lib\\site-packages\\pandas\\io\\parsers.py\u001b[0m in \u001b[0;36mparser_f\u001b[1;34m(filepath_or_buffer, sep, delimiter, header, names, index_col, usecols, squeeze, prefix, mangle_dupe_cols, dtype, engine, converters, true_values, false_values, skipinitialspace, skiprows, nrows, na_values, keep_default_na, na_filter, verbose, skip_blank_lines, parse_dates, infer_datetime_format, keep_date_col, date_parser, dayfirst, iterator, chunksize, compression, thousands, decimal, lineterminator, quotechar, quoting, escapechar, comment, encoding, dialect, tupleize_cols, error_bad_lines, warn_bad_lines, skipfooter, doublequote, delim_whitespace, low_memory, memory_map, float_precision)\u001b[0m\n\u001b[0;32m    676\u001b[0m                     skip_blank_lines=skip_blank_lines)\n\u001b[0;32m    677\u001b[0m \u001b[1;33m\u001b[0m\u001b[0m\n\u001b[1;32m--> 678\u001b[1;33m         \u001b[1;32mreturn\u001b[0m \u001b[0m_read\u001b[0m\u001b[1;33m(\u001b[0m\u001b[0mfilepath_or_buffer\u001b[0m\u001b[1;33m,\u001b[0m \u001b[0mkwds\u001b[0m\u001b[1;33m)\u001b[0m\u001b[1;33m\u001b[0m\u001b[0m\n\u001b[0m\u001b[0;32m    679\u001b[0m \u001b[1;33m\u001b[0m\u001b[0m\n\u001b[0;32m    680\u001b[0m     \u001b[0mparser_f\u001b[0m\u001b[1;33m.\u001b[0m\u001b[0m__name__\u001b[0m \u001b[1;33m=\u001b[0m \u001b[0mname\u001b[0m\u001b[1;33m\u001b[0m\u001b[0m\n",
      "\u001b[1;32m~\\Anaconda3\\lib\\site-packages\\pandas\\io\\parsers.py\u001b[0m in \u001b[0;36m_read\u001b[1;34m(filepath_or_buffer, kwds)\u001b[0m\n\u001b[0;32m    438\u001b[0m \u001b[1;33m\u001b[0m\u001b[0m\n\u001b[0;32m    439\u001b[0m     \u001b[1;31m# Create the parser.\u001b[0m\u001b[1;33m\u001b[0m\u001b[1;33m\u001b[0m\u001b[0m\n\u001b[1;32m--> 440\u001b[1;33m     \u001b[0mparser\u001b[0m \u001b[1;33m=\u001b[0m \u001b[0mTextFileReader\u001b[0m\u001b[1;33m(\u001b[0m\u001b[0mfilepath_or_buffer\u001b[0m\u001b[1;33m,\u001b[0m \u001b[1;33m**\u001b[0m\u001b[0mkwds\u001b[0m\u001b[1;33m)\u001b[0m\u001b[1;33m\u001b[0m\u001b[0m\n\u001b[0m\u001b[0;32m    441\u001b[0m \u001b[1;33m\u001b[0m\u001b[0m\n\u001b[0;32m    442\u001b[0m     \u001b[1;32mif\u001b[0m \u001b[0mchunksize\u001b[0m \u001b[1;32mor\u001b[0m \u001b[0miterator\u001b[0m\u001b[1;33m:\u001b[0m\u001b[1;33m\u001b[0m\u001b[0m\n",
      "\u001b[1;32m~\\Anaconda3\\lib\\site-packages\\pandas\\io\\parsers.py\u001b[0m in \u001b[0;36m__init__\u001b[1;34m(self, f, engine, **kwds)\u001b[0m\n\u001b[0;32m    785\u001b[0m             \u001b[0mself\u001b[0m\u001b[1;33m.\u001b[0m\u001b[0moptions\u001b[0m\u001b[1;33m[\u001b[0m\u001b[1;34m'has_index_names'\u001b[0m\u001b[1;33m]\u001b[0m \u001b[1;33m=\u001b[0m \u001b[0mkwds\u001b[0m\u001b[1;33m[\u001b[0m\u001b[1;34m'has_index_names'\u001b[0m\u001b[1;33m]\u001b[0m\u001b[1;33m\u001b[0m\u001b[0m\n\u001b[0;32m    786\u001b[0m \u001b[1;33m\u001b[0m\u001b[0m\n\u001b[1;32m--> 787\u001b[1;33m         \u001b[0mself\u001b[0m\u001b[1;33m.\u001b[0m\u001b[0m_make_engine\u001b[0m\u001b[1;33m(\u001b[0m\u001b[0mself\u001b[0m\u001b[1;33m.\u001b[0m\u001b[0mengine\u001b[0m\u001b[1;33m)\u001b[0m\u001b[1;33m\u001b[0m\u001b[0m\n\u001b[0m\u001b[0;32m    788\u001b[0m \u001b[1;33m\u001b[0m\u001b[0m\n\u001b[0;32m    789\u001b[0m     \u001b[1;32mdef\u001b[0m \u001b[0mclose\u001b[0m\u001b[1;33m(\u001b[0m\u001b[0mself\u001b[0m\u001b[1;33m)\u001b[0m\u001b[1;33m:\u001b[0m\u001b[1;33m\u001b[0m\u001b[0m\n",
      "\u001b[1;32m~\\Anaconda3\\lib\\site-packages\\pandas\\io\\parsers.py\u001b[0m in \u001b[0;36m_make_engine\u001b[1;34m(self, engine)\u001b[0m\n\u001b[0;32m   1012\u001b[0m     \u001b[1;32mdef\u001b[0m \u001b[0m_make_engine\u001b[0m\u001b[1;33m(\u001b[0m\u001b[0mself\u001b[0m\u001b[1;33m,\u001b[0m \u001b[0mengine\u001b[0m\u001b[1;33m=\u001b[0m\u001b[1;34m'c'\u001b[0m\u001b[1;33m)\u001b[0m\u001b[1;33m:\u001b[0m\u001b[1;33m\u001b[0m\u001b[0m\n\u001b[0;32m   1013\u001b[0m         \u001b[1;32mif\u001b[0m \u001b[0mengine\u001b[0m \u001b[1;33m==\u001b[0m \u001b[1;34m'c'\u001b[0m\u001b[1;33m:\u001b[0m\u001b[1;33m\u001b[0m\u001b[0m\n\u001b[1;32m-> 1014\u001b[1;33m             \u001b[0mself\u001b[0m\u001b[1;33m.\u001b[0m\u001b[0m_engine\u001b[0m \u001b[1;33m=\u001b[0m \u001b[0mCParserWrapper\u001b[0m\u001b[1;33m(\u001b[0m\u001b[0mself\u001b[0m\u001b[1;33m.\u001b[0m\u001b[0mf\u001b[0m\u001b[1;33m,\u001b[0m \u001b[1;33m**\u001b[0m\u001b[0mself\u001b[0m\u001b[1;33m.\u001b[0m\u001b[0moptions\u001b[0m\u001b[1;33m)\u001b[0m\u001b[1;33m\u001b[0m\u001b[0m\n\u001b[0m\u001b[0;32m   1015\u001b[0m         \u001b[1;32melse\u001b[0m\u001b[1;33m:\u001b[0m\u001b[1;33m\u001b[0m\u001b[0m\n\u001b[0;32m   1016\u001b[0m             \u001b[1;32mif\u001b[0m \u001b[0mengine\u001b[0m \u001b[1;33m==\u001b[0m \u001b[1;34m'python'\u001b[0m\u001b[1;33m:\u001b[0m\u001b[1;33m\u001b[0m\u001b[0m\n",
      "\u001b[1;32m~\\Anaconda3\\lib\\site-packages\\pandas\\io\\parsers.py\u001b[0m in \u001b[0;36m__init__\u001b[1;34m(self, src, **kwds)\u001b[0m\n\u001b[0;32m   1706\u001b[0m         \u001b[0mkwds\u001b[0m\u001b[1;33m[\u001b[0m\u001b[1;34m'usecols'\u001b[0m\u001b[1;33m]\u001b[0m \u001b[1;33m=\u001b[0m \u001b[0mself\u001b[0m\u001b[1;33m.\u001b[0m\u001b[0musecols\u001b[0m\u001b[1;33m\u001b[0m\u001b[0m\n\u001b[0;32m   1707\u001b[0m \u001b[1;33m\u001b[0m\u001b[0m\n\u001b[1;32m-> 1708\u001b[1;33m         \u001b[0mself\u001b[0m\u001b[1;33m.\u001b[0m\u001b[0m_reader\u001b[0m \u001b[1;33m=\u001b[0m \u001b[0mparsers\u001b[0m\u001b[1;33m.\u001b[0m\u001b[0mTextReader\u001b[0m\u001b[1;33m(\u001b[0m\u001b[0msrc\u001b[0m\u001b[1;33m,\u001b[0m \u001b[1;33m**\u001b[0m\u001b[0mkwds\u001b[0m\u001b[1;33m)\u001b[0m\u001b[1;33m\u001b[0m\u001b[0m\n\u001b[0m\u001b[0;32m   1709\u001b[0m \u001b[1;33m\u001b[0m\u001b[0m\n\u001b[0;32m   1710\u001b[0m         \u001b[0mpassed_names\u001b[0m \u001b[1;33m=\u001b[0m \u001b[0mself\u001b[0m\u001b[1;33m.\u001b[0m\u001b[0mnames\u001b[0m \u001b[1;32mis\u001b[0m \u001b[1;32mNone\u001b[0m\u001b[1;33m\u001b[0m\u001b[0m\n",
      "\u001b[1;32mpandas\\_libs\\parsers.pyx\u001b[0m in \u001b[0;36mpandas._libs.parsers.TextReader.__cinit__\u001b[1;34m()\u001b[0m\n",
      "\u001b[1;32mpandas\\_libs\\parsers.pyx\u001b[0m in \u001b[0;36mpandas._libs.parsers.TextReader._setup_parser_source\u001b[1;34m()\u001b[0m\n",
      "\u001b[1;31mFileNotFoundError\u001b[0m: File b'../mbti-type/mbti_1.csv' does not exist"
     ]
    }
   ],
   "source": [
    "import re\n",
    "import numpy as np\n",
    "import collections\n",
    "from collections import Counter\n",
    "import pandas as pd\n",
    "import seaborn as sns\n",
    "import matplotlib.pyplot as plt\n",
    "from bokeh.io import output_file, show\n",
    "from bokeh.plotting import figure\n",
    "from bokeh.models import ColumnDataSource, HoverTool\n",
    "from sklearn.linear_model import LogisticRegression\n",
    "from sklearn.ensemble import RandomForestClassifier\n",
    "from sklearn.linear_model import Perceptron\n",
    "from sklearn.linear_model import SGDClassifier\n",
    "from sklearn.model_selection import train_test_split\n",
    "from sklearn.neighbors import KNeighborsClassifier\n",
    "from sklearn.linear_model import LinearRegression\n",
    "from sklearn.model_selection import cross_val_score\n",
    "from sklearn.metrics import accuracy_score\n",
    "from sklearn.preprocessing import MinMaxScaler\n",
    "from sklearn.multiclass import OneVsRestClassifier\n",
    "from sklearn.linear_model import LogisticRegression\n",
    "from sklearn.ensemble import RandomForestClassifier\n",
    "\n",
    "\n",
    "df = pd.read_csv('C:/Users/Daria Yampolsky/Documents/3A/DSS/FinalProject/mbti-type/mbti_1.csv')\n",
    "print(df.head(10))\n",
    "print(\"*\"*40)\n",
    "print(df.info())"
   ]
  },
  {
   "cell_type": "code",
   "execution_count": 3,
   "metadata": {},
   "outputs": [
    {
     "name": "stdout",
     "output_type": "stream",
     "text": [
      "   type                                              posts\n",
      "0  INFJ  'http://www.youtube.com/watch?v=qsXHcwe3krw|||...\n",
      "1  ENTP  'I'm finding the lack of me in these posts ver...\n",
      "2  INTP  'Good one  _____   https://www.youtube.com/wat...\n",
      "3  INTJ  'Dear INTP,   I enjoyed our conversation the o...\n",
      "4  ENTJ  'You're fired.|||That's another silly misconce...\n",
      "5  INTJ  '18/37 @.@|||Science  is not perfect. No scien...\n",
      "6  INFJ  'No, I can't draw on my own nails (haha). Thos...\n",
      "7  INTJ  'I tend to build up a collection of things on ...\n",
      "8  INFJ  I'm not sure, that's a good question. The dist...\n",
      "9  INTP  'https://www.youtube.com/watch?v=w8-egj0y8Qs||...\n",
      "****************************************\n",
      "<class 'pandas.core.frame.DataFrame'>\n",
      "RangeIndex: 8675 entries, 0 to 8674\n",
      "Data columns (total 2 columns):\n",
      "type     8675 non-null object\n",
      "posts    8675 non-null object\n",
      "dtypes: object(2)\n",
      "memory usage: 135.6+ KB\n",
      "None\n"
     ]
    }
   ],
   "source": [
    "import re\n",
    "import numpy as np\n",
    "import collections\n",
    "from collections import Counter\n",
    "import pandas as pd\n",
    "import seaborn as sns\n",
    "import matplotlib.pyplot as plt\n",
    "from bokeh.io import output_file, show\n",
    "from bokeh.plotting import figure\n",
    "from bokeh.models import ColumnDataSource, HoverTool\n",
    "from sklearn.linear_model import LogisticRegression\n",
    "from sklearn.ensemble import RandomForestClassifier\n",
    "from sklearn.linear_model import Perceptron\n",
    "from sklearn.linear_model import SGDClassifier\n",
    "from sklearn.model_selection import train_test_split\n",
    "from sklearn.neighbors import KNeighborsClassifier\n",
    "from sklearn.linear_model import LinearRegression\n",
    "from sklearn.model_selection import cross_val_score\n",
    "from sklearn.metrics import accuracy_score\n",
    "from sklearn.preprocessing import MinMaxScaler\n",
    "from sklearn.multiclass import OneVsRestClassifier\n",
    "from sklearn.linear_model import LogisticRegression\n",
    "from sklearn.ensemble import RandomForestClassifier\n",
    "\n",
    "\n",
    "df = pd.read_csv('C:/Users/Daria Yampolsky/Documents/3A/DSS/FinalProject/mbti-type/mbti_1.csv')\n",
    "print(df.head(10))\n",
    "print(\"*\"*40)\n",
    "print(df.info())"
   ]
  },
  {
   "cell_type": "code",
   "execution_count": 5,
   "metadata": {
    "scrolled": true
   },
   "outputs": [
    {
     "name": "stdout",
     "output_type": "stream",
     "text": [
      "   type                                              posts  words_per_comment\n",
      "0  INFJ  'http://www.youtube.com/watch?v=qsXHcwe3krw|||...              11.12\n",
      "1  ENTP  'I'm finding the lack of me in these posts ver...              23.40\n",
      "2  INTP  'Good one  _____   https://www.youtube.com/wat...              16.72\n",
      "3  INTJ  'Dear INTP,   I enjoyed our conversation the o...              21.28\n",
      "4  ENTJ  'You're fired.|||That's another silly misconce...              19.34\n"
     ]
    }
   ],
   "source": [
    "df['words_per_comment'] = df['posts'].apply(lambda x: len(x.split())/50)\n",
    "print(df.head())"
   ]
  },
  {
   "cell_type": "code",
   "execution_count": 6,
   "metadata": {},
   "outputs": [
    {
     "ename": "SyntaxError",
     "evalue": "invalid syntax (<ipython-input-6-e6fe4f6e406b>, line 1)",
     "output_type": "error",
     "traceback": [
      "\u001b[1;36m  File \u001b[1;32m\"<ipython-input-6-e6fe4f6e406b>\"\u001b[1;36m, line \u001b[1;32m1\u001b[0m\n\u001b[1;33m    analysis for further investigations.\u001b[0m\n\u001b[1;37m               ^\u001b[0m\n\u001b[1;31mSyntaxError\u001b[0m\u001b[1;31m:\u001b[0m invalid syntax\n"
     ]
    }
   ],
   "source": [
    "analysis for further investigations.\n",
    "\n",
    "plt.figure(figsize=(15,10))\n",
    "sns.violinplot(x='type', y='words_per_comment', data=df, inner=None, color='lightgray')\n",
    "sns.stripplot(x='type', y='words_per_comment', data=df, size=4, jitter=True)\n",
    "plt.ylabel('Words per comment')\n",
    "plt.show()"
   ]
  },
  {
   "cell_type": "code",
   "execution_count": 7,
   "metadata": {},
   "outputs": [
    {
     "ename": "NameError",
     "evalue": "name 'splt' is not defined",
     "output_type": "error",
     "traceback": [
      "\u001b[1;31m---------------------------------------------------------------------------\u001b[0m",
      "\u001b[1;31mNameError\u001b[0m                                 Traceback (most recent call last)",
      "\u001b[1;32m<ipython-input-7-00ab2fdf6477>\u001b[0m in \u001b[0;36m<module>\u001b[1;34m()\u001b[0m\n\u001b[1;32m----> 1\u001b[1;33m \u001b[0msplt\u001b[0m\u001b[1;33m.\u001b[0m\u001b[0mfigure\u001b[0m\u001b[1;33m(\u001b[0m\u001b[0mfigsize\u001b[0m\u001b[1;33m=\u001b[0m\u001b[1;33m(\u001b[0m\u001b[1;36m15\u001b[0m\u001b[1;33m,\u001b[0m\u001b[1;36m10\u001b[0m\u001b[1;33m)\u001b[0m\u001b[1;33m)\u001b[0m\u001b[1;33m\u001b[0m\u001b[0m\n\u001b[0m\u001b[0;32m      2\u001b[0m \u001b[0msns\u001b[0m\u001b[1;33m.\u001b[0m\u001b[0mviolinplot\u001b[0m\u001b[1;33m(\u001b[0m\u001b[0mx\u001b[0m\u001b[1;33m=\u001b[0m\u001b[1;34m'type'\u001b[0m\u001b[1;33m,\u001b[0m \u001b[0my\u001b[0m\u001b[1;33m=\u001b[0m\u001b[1;34m'words_per_comment'\u001b[0m\u001b[1;33m,\u001b[0m \u001b[0mdata\u001b[0m\u001b[1;33m=\u001b[0m\u001b[0mdf\u001b[0m\u001b[1;33m,\u001b[0m \u001b[0minner\u001b[0m\u001b[1;33m=\u001b[0m\u001b[1;32mNone\u001b[0m\u001b[1;33m,\u001b[0m \u001b[0mcolor\u001b[0m\u001b[1;33m=\u001b[0m\u001b[1;34m'lightgray'\u001b[0m\u001b[1;33m)\u001b[0m\u001b[1;33m\u001b[0m\u001b[0m\n\u001b[0;32m      3\u001b[0m \u001b[0msns\u001b[0m\u001b[1;33m.\u001b[0m\u001b[0mstripplot\u001b[0m\u001b[1;33m(\u001b[0m\u001b[0mx\u001b[0m\u001b[1;33m=\u001b[0m\u001b[1;34m'type'\u001b[0m\u001b[1;33m,\u001b[0m \u001b[0my\u001b[0m\u001b[1;33m=\u001b[0m\u001b[1;34m'words_per_comment'\u001b[0m\u001b[1;33m,\u001b[0m \u001b[0mdata\u001b[0m\u001b[1;33m=\u001b[0m\u001b[0mdf\u001b[0m\u001b[1;33m,\u001b[0m \u001b[0msize\u001b[0m\u001b[1;33m=\u001b[0m\u001b[1;36m4\u001b[0m\u001b[1;33m,\u001b[0m \u001b[0mjitter\u001b[0m\u001b[1;33m=\u001b[0m\u001b[1;32mTrue\u001b[0m\u001b[1;33m)\u001b[0m\u001b[1;33m\u001b[0m\u001b[0m\n\u001b[0;32m      4\u001b[0m \u001b[0mplt\u001b[0m\u001b[1;33m.\u001b[0m\u001b[0mylabel\u001b[0m\u001b[1;33m(\u001b[0m\u001b[1;34m'Words per comment'\u001b[0m\u001b[1;33m)\u001b[0m\u001b[1;33m\u001b[0m\u001b[0m\n\u001b[0;32m      5\u001b[0m \u001b[0mplt\u001b[0m\u001b[1;33m.\u001b[0m\u001b[0mshow\u001b[0m\u001b[1;33m(\u001b[0m\u001b[1;33m)\u001b[0m\u001b[1;33m\u001b[0m\u001b[0m\n",
      "\u001b[1;31mNameError\u001b[0m: name 'splt' is not defined"
     ]
    }
   ],
   "source": [
    "splt.figure(figsize=(15,10))\n",
    "sns.violinplot(x='type', y='words_per_comment', data=df, inner=None, color='lightgray')\n",
    "sns.stripplot(x='type', y='words_per_comment', data=df, size=4, jitter=True)\n",
    "plt.ylabel('Words per comment')\n",
    "plt.show()"
   ]
  },
  {
   "cell_type": "code",
   "execution_count": 8,
   "metadata": {},
   "outputs": [
    {
     "data": {
      "image/png": "[encoded data removed]",
      "text/plain": [
       "<Figure size 1080x720 with 1 Axes>"
      ]
     },
     "metadata": {},
     "output_type": "display_data"
    }
   ],
   "source": [
    "plt.figure(figsize=(15,10))\n",
    "sns.violinplot(x='type', y='words_per_comment', data=df, inner=None, color='lightgray')\n",
    "sns.stripplot(x='type', y='words_per_comment', data=df, size=4, jitter=True)\n",
    "plt.ylabel('Words per comment')\n",
    "plt.show()"
   ]
  },
  {
   "cell_type": "code",
   "execution_count": 1,
   "metadata": {},
   "outputs": [
    {
     "ename": "NameError",
     "evalue": "name 'df' is not defined",
     "output_type": "error",
     "traceback": [
      "\u001b[1;31m---------------------------------------------------------------------------\u001b[0m",
      "\u001b[1;31mNameError\u001b[0m                                 Traceback (most recent call last)",
      "\u001b[1;32m<ipython-input-1-529f7b7a97fb>\u001b[0m in \u001b[0;36m<module>\u001b[1;34m()\u001b[0m\n\u001b[1;32m----> 1\u001b[1;33m \u001b[0mdf\u001b[0m\u001b[1;33m.\u001b[0m\u001b[0mduplicated\u001b[0m\u001b[1;33m(\u001b[0m\u001b[0msubset\u001b[0m\u001b[1;33m=\u001b[0m\u001b[1;32mNone\u001b[0m\u001b[1;33m,\u001b[0m \u001b[0mkeep\u001b[0m\u001b[1;33m=\u001b[0m\u001b[1;34m'first'\u001b[0m\u001b[1;33m)\u001b[0m\u001b[1;33m\u001b[0m\u001b[0m\n\u001b[0m",
      "\u001b[1;31mNameError\u001b[0m: name 'df' is not defined"
     ]
    }
   ],
   "source": [
    "df.duplicated(subset=None, keep='first')"
   ]
  },
  {
   "cell_type": "code",
   "execution_count": 4,
   "metadata": {},
   "outputs": [
    {
     "data": {
      "text/plain": [
       "0       False\n",
       "1       False\n",
       "2       False\n",
       "3       False\n",
       "4       False\n",
       "5       False\n",
       "6       False\n",
       "7       False\n",
       "8       False\n",
       "9       False\n",
       "10      False\n",
       "11      False\n",
       "12      False\n",
       "13      False\n",
       "14      False\n",
       "15      False\n",
       "16      False\n",
       "17      False\n",
       "18      False\n",
       "19      False\n",
       "20      False\n",
       "21      False\n",
       "22      False\n",
       "23      False\n",
       "24      False\n",
       "25      False\n",
       "26      False\n",
       "27      False\n",
       "28      False\n",
       "29      False\n",
       "        ...  \n",
       "8645    False\n",
       "8646    False\n",
       "8647    False\n",
       "8648    False\n",
       "8649    False\n",
       "8650    False\n",
       "8651    False\n",
       "8652    False\n",
       "8653    False\n",
       "8654    False\n",
       "8655    False\n",
       "8656    False\n",
       "8657    False\n",
       "8658    False\n",
       "8659    False\n",
       "8660    False\n",
       "8661    False\n",
       "8662    False\n",
       "8663    False\n",
       "8664    False\n",
       "8665    False\n",
       "8666    False\n",
       "8667    False\n",
       "8668    False\n",
       "8669    False\n",
       "8670    False\n",
       "8671    False\n",
       "8672    False\n",
       "8673    False\n",
       "8674    False\n",
       "Length: 8675, dtype: bool"
      ]
     },
     "execution_count": 4,
     "metadata": {},
     "output_type": "execute_result"
    }
   ],
   "source": [
    "df.duplicated(subset=None, keep='first')"
   ]
  },
  {
   "cell_type": "code",
   "execution_count": 5,
   "metadata": {},
   "outputs": [
    {
     "ename": "TypeError",
     "evalue": "Empty 'DataFrame': no numeric data to plot",
     "output_type": "error",
     "traceback": [
      "\u001b[1;31m---------------------------------------------------------------------------\u001b[0m",
      "\u001b[1;31mTypeError\u001b[0m                                 Traceback (most recent call last)",
      "\u001b[1;32m<ipython-input-5-84c0a581014d>\u001b[0m in \u001b[0;36m<module>\u001b[1;34m()\u001b[0m\n\u001b[1;32m----> 1\u001b[1;33m \u001b[0mdf\u001b[0m\u001b[1;33m.\u001b[0m\u001b[0mplot\u001b[0m\u001b[1;33m.\u001b[0m\u001b[0mbar\u001b[0m\u001b[1;33m(\u001b[0m\u001b[1;33m)\u001b[0m\u001b[1;33m\u001b[0m\u001b[0m\n\u001b[0m",
      "\u001b[1;32m~\\Anaconda3\\lib\\site-packages\\pandas\\plotting\\_core.py\u001b[0m in \u001b[0;36mbar\u001b[1;34m(self, x, y, **kwds)\u001b[0m\n\u001b[0;32m   3088\u001b[0m             \u001b[1;33m>>\u001b[0m\u001b[1;33m>\u001b[0m \u001b[0max\u001b[0m \u001b[1;33m=\u001b[0m \u001b[0mdf\u001b[0m\u001b[1;33m.\u001b[0m\u001b[0mplot\u001b[0m\u001b[1;33m.\u001b[0m\u001b[0mbar\u001b[0m\u001b[1;33m(\u001b[0m\u001b[0mx\u001b[0m\u001b[1;33m=\u001b[0m\u001b[1;34m'lifespan'\u001b[0m\u001b[1;33m,\u001b[0m \u001b[0mrot\u001b[0m\u001b[1;33m=\u001b[0m\u001b[1;36m0\u001b[0m\u001b[1;33m)\u001b[0m\u001b[1;33m\u001b[0m\u001b[0m\n\u001b[0;32m   3089\u001b[0m         \"\"\"\n\u001b[1;32m-> 3090\u001b[1;33m         \u001b[1;32mreturn\u001b[0m \u001b[0mself\u001b[0m\u001b[1;33m(\u001b[0m\u001b[0mkind\u001b[0m\u001b[1;33m=\u001b[0m\u001b[1;34m'bar'\u001b[0m\u001b[1;33m,\u001b[0m \u001b[0mx\u001b[0m\u001b[1;33m=\u001b[0m\u001b[0mx\u001b[0m\u001b[1;33m,\u001b[0m \u001b[0my\u001b[0m\u001b[1;33m=\u001b[0m\u001b[0my\u001b[0m\u001b[1;33m,\u001b[0m \u001b[1;33m**\u001b[0m\u001b[0mkwds\u001b[0m\u001b[1;33m)\u001b[0m\u001b[1;33m\u001b[0m\u001b[0m\n\u001b[0m\u001b[0;32m   3091\u001b[0m \u001b[1;33m\u001b[0m\u001b[0m\n\u001b[0;32m   3092\u001b[0m     \u001b[1;32mdef\u001b[0m \u001b[0mbarh\u001b[0m\u001b[1;33m(\u001b[0m\u001b[0mself\u001b[0m\u001b[1;33m,\u001b[0m \u001b[0mx\u001b[0m\u001b[1;33m=\u001b[0m\u001b[1;32mNone\u001b[0m\u001b[1;33m,\u001b[0m \u001b[0my\u001b[0m\u001b[1;33m=\u001b[0m\u001b[1;32mNone\u001b[0m\u001b[1;33m,\u001b[0m \u001b[1;33m**\u001b[0m\u001b[0mkwds\u001b[0m\u001b[1;33m)\u001b[0m\u001b[1;33m:\u001b[0m\u001b[1;33m\u001b[0m\u001b[0m\n",
      "\u001b[1;32m~\\Anaconda3\\lib\\site-packages\\pandas\\plotting\\_core.py\u001b[0m in \u001b[0;36m__call__\u001b[1;34m(self, x, y, kind, ax, subplots, sharex, sharey, layout, figsize, use_index, title, grid, legend, style, logx, logy, loglog, xticks, yticks, xlim, ylim, rot, fontsize, colormap, table, yerr, xerr, secondary_y, sort_columns, **kwds)\u001b[0m\n\u001b[0;32m   2939\u001b[0m                           \u001b[0mfontsize\u001b[0m\u001b[1;33m=\u001b[0m\u001b[0mfontsize\u001b[0m\u001b[1;33m,\u001b[0m \u001b[0mcolormap\u001b[0m\u001b[1;33m=\u001b[0m\u001b[0mcolormap\u001b[0m\u001b[1;33m,\u001b[0m \u001b[0mtable\u001b[0m\u001b[1;33m=\u001b[0m\u001b[0mtable\u001b[0m\u001b[1;33m,\u001b[0m\u001b[1;33m\u001b[0m\u001b[0m\n\u001b[0;32m   2940\u001b[0m                           \u001b[0myerr\u001b[0m\u001b[1;33m=\u001b[0m\u001b[0myerr\u001b[0m\u001b[1;33m,\u001b[0m \u001b[0mxerr\u001b[0m\u001b[1;33m=\u001b[0m\u001b[0mxerr\u001b[0m\u001b[1;33m,\u001b[0m \u001b[0msecondary_y\u001b[0m\u001b[1;33m=\u001b[0m\u001b[0msecondary_y\u001b[0m\u001b[1;33m,\u001b[0m\u001b[1;33m\u001b[0m\u001b[0m\n\u001b[1;32m-> 2941\u001b[1;33m                           sort_columns=sort_columns, **kwds)\n\u001b[0m\u001b[0;32m   2942\u001b[0m     \u001b[0m__call__\u001b[0m\u001b[1;33m.\u001b[0m\u001b[0m__doc__\u001b[0m \u001b[1;33m=\u001b[0m \u001b[0mplot_frame\u001b[0m\u001b[1;33m.\u001b[0m\u001b[0m__doc__\u001b[0m\u001b[1;33m\u001b[0m\u001b[0m\n\u001b[0;32m   2943\u001b[0m \u001b[1;33m\u001b[0m\u001b[0m\n",
      "\u001b[1;32m~\\Anaconda3\\lib\\site-packages\\pandas\\plotting\\_core.py\u001b[0m in \u001b[0;36mplot_frame\u001b[1;34m(data, x, y, kind, ax, subplots, sharex, sharey, layout, figsize, use_index, title, grid, legend, style, logx, logy, loglog, xticks, yticks, xlim, ylim, rot, fontsize, colormap, table, yerr, xerr, secondary_y, sort_columns, **kwds)\u001b[0m\n\u001b[0;32m   1975\u001b[0m                  \u001b[0myerr\u001b[0m\u001b[1;33m=\u001b[0m\u001b[0myerr\u001b[0m\u001b[1;33m,\u001b[0m \u001b[0mxerr\u001b[0m\u001b[1;33m=\u001b[0m\u001b[0mxerr\u001b[0m\u001b[1;33m,\u001b[0m\u001b[1;33m\u001b[0m\u001b[0m\n\u001b[0;32m   1976\u001b[0m                  \u001b[0msecondary_y\u001b[0m\u001b[1;33m=\u001b[0m\u001b[0msecondary_y\u001b[0m\u001b[1;33m,\u001b[0m \u001b[0msort_columns\u001b[0m\u001b[1;33m=\u001b[0m\u001b[0msort_columns\u001b[0m\u001b[1;33m,\u001b[0m\u001b[1;33m\u001b[0m\u001b[0m\n\u001b[1;32m-> 1977\u001b[1;33m                  **kwds)\n\u001b[0m\u001b[0;32m   1978\u001b[0m \u001b[1;33m\u001b[0m\u001b[0m\n\u001b[0;32m   1979\u001b[0m \u001b[1;33m\u001b[0m\u001b[0m\n",
      "\u001b[1;32m~\\Anaconda3\\lib\\site-packages\\pandas\\plotting\\_core.py\u001b[0m in \u001b[0;36m_plot\u001b[1;34m(data, x, y, subplots, ax, kind, **kwds)\u001b[0m\n\u001b[0;32m   1802\u001b[0m         \u001b[0mplot_obj\u001b[0m \u001b[1;33m=\u001b[0m \u001b[0mklass\u001b[0m\u001b[1;33m(\u001b[0m\u001b[0mdata\u001b[0m\u001b[1;33m,\u001b[0m \u001b[0msubplots\u001b[0m\u001b[1;33m=\u001b[0m\u001b[0msubplots\u001b[0m\u001b[1;33m,\u001b[0m \u001b[0max\u001b[0m\u001b[1;33m=\u001b[0m\u001b[0max\u001b[0m\u001b[1;33m,\u001b[0m \u001b[0mkind\u001b[0m\u001b[1;33m=\u001b[0m\u001b[0mkind\u001b[0m\u001b[1;33m,\u001b[0m \u001b[1;33m**\u001b[0m\u001b[0mkwds\u001b[0m\u001b[1;33m)\u001b[0m\u001b[1;33m\u001b[0m\u001b[0m\n\u001b[0;32m   1803\u001b[0m \u001b[1;33m\u001b[0m\u001b[0m\n\u001b[1;32m-> 1804\u001b[1;33m     \u001b[0mplot_obj\u001b[0m\u001b[1;33m.\u001b[0m\u001b[0mgenerate\u001b[0m\u001b[1;33m(\u001b[0m\u001b[1;33m)\u001b[0m\u001b[1;33m\u001b[0m\u001b[0m\n\u001b[0m\u001b[0;32m   1805\u001b[0m     \u001b[0mplot_obj\u001b[0m\u001b[1;33m.\u001b[0m\u001b[0mdraw\u001b[0m\u001b[1;33m(\u001b[0m\u001b[1;33m)\u001b[0m\u001b[1;33m\u001b[0m\u001b[0m\n\u001b[0;32m   1806\u001b[0m     \u001b[1;32mreturn\u001b[0m \u001b[0mplot_obj\u001b[0m\u001b[1;33m.\u001b[0m\u001b[0mresult\u001b[0m\u001b[1;33m\u001b[0m\u001b[0m\n",
      "\u001b[1;32m~\\Anaconda3\\lib\\site-packages\\pandas\\plotting\\_core.py\u001b[0m in \u001b[0;36mgenerate\u001b[1;34m(self)\u001b[0m\n\u001b[0;32m    256\u001b[0m     \u001b[1;32mdef\u001b[0m \u001b[0mgenerate\u001b[0m\u001b[1;33m(\u001b[0m\u001b[0mself\u001b[0m\u001b[1;33m)\u001b[0m\u001b[1;33m:\u001b[0m\u001b[1;33m\u001b[0m\u001b[0m\n\u001b[0;32m    257\u001b[0m         \u001b[0mself\u001b[0m\u001b[1;33m.\u001b[0m\u001b[0m_args_adjust\u001b[0m\u001b[1;33m(\u001b[0m\u001b[1;33m)\u001b[0m\u001b[1;33m\u001b[0m\u001b[0m\n\u001b[1;32m--> 258\u001b[1;33m         \u001b[0mself\u001b[0m\u001b[1;33m.\u001b[0m\u001b[0m_compute_plot_data\u001b[0m\u001b[1;33m(\u001b[0m\u001b[1;33m)\u001b[0m\u001b[1;33m\u001b[0m\u001b[0m\n\u001b[0m\u001b[0;32m    259\u001b[0m         \u001b[0mself\u001b[0m\u001b[1;33m.\u001b[0m\u001b[0m_setup_subplots\u001b[0m\u001b[1;33m(\u001b[0m\u001b[1;33m)\u001b[0m\u001b[1;33m\u001b[0m\u001b[0m\n\u001b[0;32m    260\u001b[0m         \u001b[0mself\u001b[0m\u001b[1;33m.\u001b[0m\u001b[0m_make_plot\u001b[0m\u001b[1;33m(\u001b[0m\u001b[1;33m)\u001b[0m\u001b[1;33m\u001b[0m\u001b[0m\n",
      "\u001b[1;32m~\\Anaconda3\\lib\\site-packages\\pandas\\plotting\\_core.py\u001b[0m in \u001b[0;36m_compute_plot_data\u001b[1;34m(self)\u001b[0m\n\u001b[0;32m    371\u001b[0m         \u001b[1;32mif\u001b[0m \u001b[0mis_empty\u001b[0m\u001b[1;33m:\u001b[0m\u001b[1;33m\u001b[0m\u001b[0m\n\u001b[0;32m    372\u001b[0m             raise TypeError('Empty {0!r}: no numeric data to '\n\u001b[1;32m--> 373\u001b[1;33m                             'plot'.format(numeric_data.__class__.__name__))\n\u001b[0m\u001b[0;32m    374\u001b[0m \u001b[1;33m\u001b[0m\u001b[0m\n\u001b[0;32m    375\u001b[0m         \u001b[0mself\u001b[0m\u001b[1;33m.\u001b[0m\u001b[0mdata\u001b[0m \u001b[1;33m=\u001b[0m \u001b[0mnumeric_data\u001b[0m\u001b[1;33m\u001b[0m\u001b[0m\n",
      "\u001b[1;31mTypeError\u001b[0m: Empty 'DataFrame': no numeric data to plot"
     ]
    }
   ],
   "source": [
    "df.plot.bar() "
   ]
  },
  {
   "cell_type": "code",
   "execution_count": 6,
   "metadata": {},
   "outputs": [
    {
     "name": "stdout",
     "output_type": "stream",
     "text": [
      "<class 'pandas.core.frame.DataFrame'>\n",
      "RangeIndex: 8675 entries, 0 to 8674\n",
      "Data columns (total 2 columns):\n",
      "type     8675 non-null object\n",
      "posts    8675 non-null object\n",
      "dtypes: object(2)\n",
      "memory usage: 135.6+ KB\n"
     ]
    }
   ],
   "source": []
  },
  {
   "cell_type": "code",
   "execution_count": 7,
   "metadata": {},
   "outputs": [
    {
     "ename": "TypeError",
     "evalue": "Empty 'DataFrame': no numeric data to plot",
     "output_type": "error",
     "traceback": [
      "\u001b[1;31m---------------------------------------------------------------------------\u001b[0m",
      "\u001b[1;31mTypeError\u001b[0m                                 Traceback (most recent call last)",
      "\u001b[1;32m<ipython-input-7-84c0a581014d>\u001b[0m in \u001b[0;36m<module>\u001b[1;34m()\u001b[0m\n\u001b[1;32m----> 1\u001b[1;33m \u001b[0mdf\u001b[0m\u001b[1;33m.\u001b[0m\u001b[0mplot\u001b[0m\u001b[1;33m.\u001b[0m\u001b[0mbar\u001b[0m\u001b[1;33m(\u001b[0m\u001b[1;33m)\u001b[0m\u001b[1;33m\u001b[0m\u001b[0m\n\u001b[0m",
      "\u001b[1;32m~\\Anaconda3\\lib\\site-packages\\pandas\\plotting\\_core.py\u001b[0m in \u001b[0;36mbar\u001b[1;34m(self, x, y, **kwds)\u001b[0m\n\u001b[0;32m   3088\u001b[0m             \u001b[1;33m>>\u001b[0m\u001b[1;33m>\u001b[0m \u001b[0max\u001b[0m \u001b[1;33m=\u001b[0m \u001b[0mdf\u001b[0m\u001b[1;33m.\u001b[0m\u001b[0mplot\u001b[0m\u001b[1;33m.\u001b[0m\u001b[0mbar\u001b[0m\u001b[1;33m(\u001b[0m\u001b[0mx\u001b[0m\u001b[1;33m=\u001b[0m\u001b[1;34m'lifespan'\u001b[0m\u001b[1;33m,\u001b[0m \u001b[0mrot\u001b[0m\u001b[1;33m=\u001b[0m\u001b[1;36m0\u001b[0m\u001b[1;33m)\u001b[0m\u001b[1;33m\u001b[0m\u001b[0m\n\u001b[0;32m   3089\u001b[0m         \"\"\"\n\u001b[1;32m-> 3090\u001b[1;33m         \u001b[1;32mreturn\u001b[0m \u001b[0mself\u001b[0m\u001b[1;33m(\u001b[0m\u001b[0mkind\u001b[0m\u001b[1;33m=\u001b[0m\u001b[1;34m'bar'\u001b[0m\u001b[1;33m,\u001b[0m \u001b[0mx\u001b[0m\u001b[1;33m=\u001b[0m\u001b[0mx\u001b[0m\u001b[1;33m,\u001b[0m \u001b[0my\u001b[0m\u001b[1;33m=\u001b[0m\u001b[0my\u001b[0m\u001b[1;33m,\u001b[0m \u001b[1;33m**\u001b[0m\u001b[0mkwds\u001b[0m\u001b[1;33m)\u001b[0m\u001b[1;33m\u001b[0m\u001b[0m\n\u001b[0m\u001b[0;32m   3091\u001b[0m \u001b[1;33m\u001b[0m\u001b[0m\n\u001b[0;32m   3092\u001b[0m     \u001b[1;32mdef\u001b[0m \u001b[0mbarh\u001b[0m\u001b[1;33m(\u001b[0m\u001b[0mself\u001b[0m\u001b[1;33m,\u001b[0m \u001b[0mx\u001b[0m\u001b[1;33m=\u001b[0m\u001b[1;32mNone\u001b[0m\u001b[1;33m,\u001b[0m \u001b[0my\u001b[0m\u001b[1;33m=\u001b[0m\u001b[1;32mNone\u001b[0m\u001b[1;33m,\u001b[0m \u001b[1;33m**\u001b[0m\u001b[0mkwds\u001b[0m\u001b[1;33m)\u001b[0m\u001b[1;33m:\u001b[0m\u001b[1;33m\u001b[0m\u001b[0m\n",
      "\u001b[1;32m~\\Anaconda3\\lib\\site-packages\\pandas\\plotting\\_core.py\u001b[0m in \u001b[0;36m__call__\u001b[1;34m(self, x, y, kind, ax, subplots, sharex, sharey, layout, figsize, use_index, title, grid, legend, style, logx, logy, loglog, xticks, yticks, xlim, ylim, rot, fontsize, colormap, table, yerr, xerr, secondary_y, sort_columns, **kwds)\u001b[0m\n\u001b[0;32m   2939\u001b[0m                           \u001b[0mfontsize\u001b[0m\u001b[1;33m=\u001b[0m\u001b[0mfontsize\u001b[0m\u001b[1;33m,\u001b[0m \u001b[0mcolormap\u001b[0m\u001b[1;33m=\u001b[0m\u001b[0mcolormap\u001b[0m\u001b[1;33m,\u001b[0m \u001b[0mtable\u001b[0m\u001b[1;33m=\u001b[0m\u001b[0mtable\u001b[0m\u001b[1;33m,\u001b[0m\u001b[1;33m\u001b[0m\u001b[0m\n\u001b[0;32m   2940\u001b[0m                           \u001b[0myerr\u001b[0m\u001b[1;33m=\u001b[0m\u001b[0myerr\u001b[0m\u001b[1;33m,\u001b[0m \u001b[0mxerr\u001b[0m\u001b[1;33m=\u001b[0m\u001b[0mxerr\u001b[0m\u001b[1;33m,\u001b[0m \u001b[0msecondary_y\u001b[0m\u001b[1;33m=\u001b[0m\u001b[0msecondary_y\u001b[0m\u001b[1;33m,\u001b[0m\u001b[1;33m\u001b[0m\u001b[0m\n\u001b[1;32m-> 2941\u001b[1;33m                           sort_columns=sort_columns, **kwds)\n\u001b[0m\u001b[0;32m   2942\u001b[0m     \u001b[0m__call__\u001b[0m\u001b[1;33m.\u001b[0m\u001b[0m__doc__\u001b[0m \u001b[1;33m=\u001b[0m \u001b[0mplot_frame\u001b[0m\u001b[1;33m.\u001b[0m\u001b[0m__doc__\u001b[0m\u001b[1;33m\u001b[0m\u001b[0m\n\u001b[0;32m   2943\u001b[0m \u001b[1;33m\u001b[0m\u001b[0m\n",
      "\u001b[1;32m~\\Anaconda3\\lib\\site-packages\\pandas\\plotting\\_core.py\u001b[0m in \u001b[0;36mplot_frame\u001b[1;34m(data, x, y, kind, ax, subplots, sharex, sharey, layout, figsize, use_index, title, grid, legend, style, logx, logy, loglog, xticks, yticks, xlim, ylim, rot, fontsize, colormap, table, yerr, xerr, secondary_y, sort_columns, **kwds)\u001b[0m\n\u001b[0;32m   1975\u001b[0m                  \u001b[0myerr\u001b[0m\u001b[1;33m=\u001b[0m\u001b[0myerr\u001b[0m\u001b[1;33m,\u001b[0m \u001b[0mxerr\u001b[0m\u001b[1;33m=\u001b[0m\u001b[0mxerr\u001b[0m\u001b[1;33m,\u001b[0m\u001b[1;33m\u001b[0m\u001b[0m\n\u001b[0;32m   1976\u001b[0m                  \u001b[0msecondary_y\u001b[0m\u001b[1;33m=\u001b[0m\u001b[0msecondary_y\u001b[0m\u001b[1;33m,\u001b[0m \u001b[0msort_columns\u001b[0m\u001b[1;33m=\u001b[0m\u001b[0msort_columns\u001b[0m\u001b[1;33m,\u001b[0m\u001b[1;33m\u001b[0m\u001b[0m\n\u001b[1;32m-> 1977\u001b[1;33m                  **kwds)\n\u001b[0m\u001b[0;32m   1978\u001b[0m \u001b[1;33m\u001b[0m\u001b[0m\n\u001b[0;32m   1979\u001b[0m \u001b[1;33m\u001b[0m\u001b[0m\n",
      "\u001b[1;32m~\\Anaconda3\\lib\\site-packages\\pandas\\plotting\\_core.py\u001b[0m in \u001b[0;36m_plot\u001b[1;34m(data, x, y, subplots, ax, kind, **kwds)\u001b[0m\n\u001b[0;32m   1802\u001b[0m         \u001b[0mplot_obj\u001b[0m \u001b[1;33m=\u001b[0m \u001b[0mklass\u001b[0m\u001b[1;33m(\u001b[0m\u001b[0mdata\u001b[0m\u001b[1;33m,\u001b[0m \u001b[0msubplots\u001b[0m\u001b[1;33m=\u001b[0m\u001b[0msubplots\u001b[0m\u001b[1;33m,\u001b[0m \u001b[0max\u001b[0m\u001b[1;33m=\u001b[0m\u001b[0max\u001b[0m\u001b[1;33m,\u001b[0m \u001b[0mkind\u001b[0m\u001b[1;33m=\u001b[0m\u001b[0mkind\u001b[0m\u001b[1;33m,\u001b[0m \u001b[1;33m**\u001b[0m\u001b[0mkwds\u001b[0m\u001b[1;33m)\u001b[0m\u001b[1;33m\u001b[0m\u001b[0m\n\u001b[0;32m   1803\u001b[0m \u001b[1;33m\u001b[0m\u001b[0m\n\u001b[1;32m-> 1804\u001b[1;33m     \u001b[0mplot_obj\u001b[0m\u001b[1;33m.\u001b[0m\u001b[0mgenerate\u001b[0m\u001b[1;33m(\u001b[0m\u001b[1;33m)\u001b[0m\u001b[1;33m\u001b[0m\u001b[0m\n\u001b[0m\u001b[0;32m   1805\u001b[0m     \u001b[0mplot_obj\u001b[0m\u001b[1;33m.\u001b[0m\u001b[0mdraw\u001b[0m\u001b[1;33m(\u001b[0m\u001b[1;33m)\u001b[0m\u001b[1;33m\u001b[0m\u001b[0m\n\u001b[0;32m   1806\u001b[0m     \u001b[1;32mreturn\u001b[0m \u001b[0mplot_obj\u001b[0m\u001b[1;33m.\u001b[0m\u001b[0mresult\u001b[0m\u001b[1;33m\u001b[0m\u001b[0m\n",
      "\u001b[1;32m~\\Anaconda3\\lib\\site-packages\\pandas\\plotting\\_core.py\u001b[0m in \u001b[0;36mgenerate\u001b[1;34m(self)\u001b[0m\n\u001b[0;32m    256\u001b[0m     \u001b[1;32mdef\u001b[0m \u001b[0mgenerate\u001b[0m\u001b[1;33m(\u001b[0m\u001b[0mself\u001b[0m\u001b[1;33m)\u001b[0m\u001b[1;33m:\u001b[0m\u001b[1;33m\u001b[0m\u001b[0m\n\u001b[0;32m    257\u001b[0m         \u001b[0mself\u001b[0m\u001b[1;33m.\u001b[0m\u001b[0m_args_adjust\u001b[0m\u001b[1;33m(\u001b[0m\u001b[1;33m)\u001b[0m\u001b[1;33m\u001b[0m\u001b[0m\n\u001b[1;32m--> 258\u001b[1;33m         \u001b[0mself\u001b[0m\u001b[1;33m.\u001b[0m\u001b[0m_compute_plot_data\u001b[0m\u001b[1;33m(\u001b[0m\u001b[1;33m)\u001b[0m\u001b[1;33m\u001b[0m\u001b[0m\n\u001b[0m\u001b[0;32m    259\u001b[0m         \u001b[0mself\u001b[0m\u001b[1;33m.\u001b[0m\u001b[0m_setup_subplots\u001b[0m\u001b[1;33m(\u001b[0m\u001b[1;33m)\u001b[0m\u001b[1;33m\u001b[0m\u001b[0m\n\u001b[0;32m    260\u001b[0m         \u001b[0mself\u001b[0m\u001b[1;33m.\u001b[0m\u001b[0m_make_plot\u001b[0m\u001b[1;33m(\u001b[0m\u001b[1;33m)\u001b[0m\u001b[1;33m\u001b[0m\u001b[0m\n",
      "\u001b[1;32m~\\Anaconda3\\lib\\site-packages\\pandas\\plotting\\_core.py\u001b[0m in \u001b[0;36m_compute_plot_data\u001b[1;34m(self)\u001b[0m\n\u001b[0;32m    371\u001b[0m         \u001b[1;32mif\u001b[0m \u001b[0mis_empty\u001b[0m\u001b[1;33m:\u001b[0m\u001b[1;33m\u001b[0m\u001b[0m\n\u001b[0;32m    372\u001b[0m             raise TypeError('Empty {0!r}: no numeric data to '\n\u001b[1;32m--> 373\u001b[1;33m                             'plot'.format(numeric_data.__class__.__name__))\n\u001b[0m\u001b[0;32m    374\u001b[0m \u001b[1;33m\u001b[0m\u001b[0m\n\u001b[0;32m    375\u001b[0m         \u001b[0mself\u001b[0m\u001b[1;33m.\u001b[0m\u001b[0mdata\u001b[0m \u001b[1;33m=\u001b[0m \u001b[0mnumeric_data\u001b[0m\u001b[1;33m\u001b[0m\u001b[0m\n",
      "\u001b[1;31mTypeError\u001b[0m: Empty 'DataFrame': no numeric data to plot"
     ]
    }
   ],
   "source": [
    "df.plot.bar() "
   ]
  },
  {
   "cell_type": "code",
   "execution_count": 8,
   "metadata": {},
   "outputs": [
    {
     "ename": "KeyError",
     "evalue": "'name'",
     "output_type": "error",
     "traceback": [
      "\u001b[1;31m---------------------------------------------------------------------------\u001b[0m",
      "\u001b[1;31mKeyError\u001b[0m                                  Traceback (most recent call last)",
      "\u001b[1;32m~\\Anaconda3\\lib\\site-packages\\pandas\\core\\indexes\\base.py\u001b[0m in \u001b[0;36mget_loc\u001b[1;34m(self, key, method, tolerance)\u001b[0m\n\u001b[0;32m   3062\u001b[0m             \u001b[1;32mtry\u001b[0m\u001b[1;33m:\u001b[0m\u001b[1;33m\u001b[0m\u001b[0m\n\u001b[1;32m-> 3063\u001b[1;33m                 \u001b[1;32mreturn\u001b[0m \u001b[0mself\u001b[0m\u001b[1;33m.\u001b[0m\u001b[0m_engine\u001b[0m\u001b[1;33m.\u001b[0m\u001b[0mget_loc\u001b[0m\u001b[1;33m(\u001b[0m\u001b[0mkey\u001b[0m\u001b[1;33m)\u001b[0m\u001b[1;33m\u001b[0m\u001b[0m\n\u001b[0m\u001b[0;32m   3064\u001b[0m             \u001b[1;32mexcept\u001b[0m \u001b[0mKeyError\u001b[0m\u001b[1;33m:\u001b[0m\u001b[1;33m\u001b[0m\u001b[0m\n",
      "\u001b[1;32mpandas\\_libs\\index.pyx\u001b[0m in \u001b[0;36mpandas._libs.index.IndexEngine.get_loc\u001b[1;34m()\u001b[0m\n",
      "\u001b[1;32mpandas\\_libs\\index.pyx\u001b[0m in \u001b[0;36mpandas._libs.index.IndexEngine.get_loc\u001b[1;34m()\u001b[0m\n",
      "\u001b[1;32mpandas\\_libs\\hashtable_class_helper.pxi\u001b[0m in \u001b[0;36mpandas._libs.hashtable.PyObjectHashTable.get_item\u001b[1;34m()\u001b[0m\n",
      "\u001b[1;32mpandas\\_libs\\hashtable_class_helper.pxi\u001b[0m in \u001b[0;36mpandas._libs.hashtable.PyObjectHashTable.get_item\u001b[1;34m()\u001b[0m\n",
      "\u001b[1;31mKeyError\u001b[0m: 'name'",
      "\nDuring handling of the above exception, another exception occurred:\n",
      "\u001b[1;31mKeyError\u001b[0m                                  Traceback (most recent call last)",
      "\u001b[1;32m<ipython-input-8-857c088f2cab>\u001b[0m in \u001b[0;36m<module>\u001b[1;34m()\u001b[0m\n\u001b[1;32m----> 1\u001b[1;33m \u001b[0mdf\u001b[0m\u001b[1;33m.\u001b[0m\u001b[0mplot\u001b[0m\u001b[1;33m(\u001b[0m\u001b[0mkind\u001b[0m\u001b[1;33m=\u001b[0m\u001b[1;34m'bar'\u001b[0m\u001b[1;33m,\u001b[0m\u001b[0mx\u001b[0m\u001b[1;33m=\u001b[0m\u001b[1;34m'name'\u001b[0m\u001b[1;33m,\u001b[0m\u001b[0my\u001b[0m\u001b[1;33m=\u001b[0m\u001b[1;34m'age'\u001b[0m\u001b[1;33m)\u001b[0m\u001b[1;33m\u001b[0m\u001b[0m\n\u001b[0m",
      "\u001b[1;32m~\\Anaconda3\\lib\\site-packages\\pandas\\plotting\\_core.py\u001b[0m in \u001b[0;36m__call__\u001b[1;34m(self, x, y, kind, ax, subplots, sharex, sharey, layout, figsize, use_index, title, grid, legend, style, logx, logy, loglog, xticks, yticks, xlim, ylim, rot, fontsize, colormap, table, yerr, xerr, secondary_y, sort_columns, **kwds)\u001b[0m\n\u001b[0;32m   2939\u001b[0m                           \u001b[0mfontsize\u001b[0m\u001b[1;33m=\u001b[0m\u001b[0mfontsize\u001b[0m\u001b[1;33m,\u001b[0m \u001b[0mcolormap\u001b[0m\u001b[1;33m=\u001b[0m\u001b[0mcolormap\u001b[0m\u001b[1;33m,\u001b[0m \u001b[0mtable\u001b[0m\u001b[1;33m=\u001b[0m\u001b[0mtable\u001b[0m\u001b[1;33m,\u001b[0m\u001b[1;33m\u001b[0m\u001b[0m\n\u001b[0;32m   2940\u001b[0m                           \u001b[0myerr\u001b[0m\u001b[1;33m=\u001b[0m\u001b[0myerr\u001b[0m\u001b[1;33m,\u001b[0m \u001b[0mxerr\u001b[0m\u001b[1;33m=\u001b[0m\u001b[0mxerr\u001b[0m\u001b[1;33m,\u001b[0m \u001b[0msecondary_y\u001b[0m\u001b[1;33m=\u001b[0m\u001b[0msecondary_y\u001b[0m\u001b[1;33m,\u001b[0m\u001b[1;33m\u001b[0m\u001b[0m\n\u001b[1;32m-> 2941\u001b[1;33m                           sort_columns=sort_columns, **kwds)\n\u001b[0m\u001b[0;32m   2942\u001b[0m     \u001b[0m__call__\u001b[0m\u001b[1;33m.\u001b[0m\u001b[0m__doc__\u001b[0m \u001b[1;33m=\u001b[0m \u001b[0mplot_frame\u001b[0m\u001b[1;33m.\u001b[0m\u001b[0m__doc__\u001b[0m\u001b[1;33m\u001b[0m\u001b[0m\n\u001b[0;32m   2943\u001b[0m \u001b[1;33m\u001b[0m\u001b[0m\n",
      "\u001b[1;32m~\\Anaconda3\\lib\\site-packages\\pandas\\plotting\\_core.py\u001b[0m in \u001b[0;36mplot_frame\u001b[1;34m(data, x, y, kind, ax, subplots, sharex, sharey, layout, figsize, use_index, title, grid, legend, style, logx, logy, loglog, xticks, yticks, xlim, ylim, rot, fontsize, colormap, table, yerr, xerr, secondary_y, sort_columns, **kwds)\u001b[0m\n\u001b[0;32m   1975\u001b[0m                  \u001b[0myerr\u001b[0m\u001b[1;33m=\u001b[0m\u001b[0myerr\u001b[0m\u001b[1;33m,\u001b[0m \u001b[0mxerr\u001b[0m\u001b[1;33m=\u001b[0m\u001b[0mxerr\u001b[0m\u001b[1;33m,\u001b[0m\u001b[1;33m\u001b[0m\u001b[0m\n\u001b[0;32m   1976\u001b[0m                  \u001b[0msecondary_y\u001b[0m\u001b[1;33m=\u001b[0m\u001b[0msecondary_y\u001b[0m\u001b[1;33m,\u001b[0m \u001b[0msort_columns\u001b[0m\u001b[1;33m=\u001b[0m\u001b[0msort_columns\u001b[0m\u001b[1;33m,\u001b[0m\u001b[1;33m\u001b[0m\u001b[0m\n\u001b[1;32m-> 1977\u001b[1;33m                  **kwds)\n\u001b[0m\u001b[0;32m   1978\u001b[0m \u001b[1;33m\u001b[0m\u001b[0m\n\u001b[0;32m   1979\u001b[0m \u001b[1;33m\u001b[0m\u001b[0m\n",
      "\u001b[1;32m~\\Anaconda3\\lib\\site-packages\\pandas\\plotting\\_core.py\u001b[0m in \u001b[0;36m_plot\u001b[1;34m(data, x, y, subplots, ax, kind, **kwds)\u001b[0m\n\u001b[0;32m   1764\u001b[0m                 \u001b[1;32mif\u001b[0m \u001b[0mis_integer\u001b[0m\u001b[1;33m(\u001b[0m\u001b[0mx\u001b[0m\u001b[1;33m)\u001b[0m \u001b[1;32mand\u001b[0m \u001b[1;32mnot\u001b[0m \u001b[0mdata\u001b[0m\u001b[1;33m.\u001b[0m\u001b[0mcolumns\u001b[0m\u001b[1;33m.\u001b[0m\u001b[0mholds_integer\u001b[0m\u001b[1;33m(\u001b[0m\u001b[1;33m)\u001b[0m\u001b[1;33m:\u001b[0m\u001b[1;33m\u001b[0m\u001b[0m\n\u001b[0;32m   1765\u001b[0m                     \u001b[0mx\u001b[0m \u001b[1;33m=\u001b[0m \u001b[0mdata_cols\u001b[0m\u001b[1;33m[\u001b[0m\u001b[0mx\u001b[0m\u001b[1;33m]\u001b[0m\u001b[1;33m\u001b[0m\u001b[0m\n\u001b[1;32m-> 1766\u001b[1;33m                 \u001b[1;32melif\u001b[0m \u001b[1;32mnot\u001b[0m \u001b[0misinstance\u001b[0m\u001b[1;33m(\u001b[0m\u001b[0mdata\u001b[0m\u001b[1;33m[\u001b[0m\u001b[0mx\u001b[0m\u001b[1;33m]\u001b[0m\u001b[1;33m,\u001b[0m \u001b[0mABCSeries\u001b[0m\u001b[1;33m)\u001b[0m\u001b[1;33m:\u001b[0m\u001b[1;33m\u001b[0m\u001b[0m\n\u001b[0m\u001b[0;32m   1767\u001b[0m                     \u001b[1;32mraise\u001b[0m \u001b[0mValueError\u001b[0m\u001b[1;33m(\u001b[0m\u001b[1;34m\"x must be a label or position\"\u001b[0m\u001b[1;33m)\u001b[0m\u001b[1;33m\u001b[0m\u001b[0m\n\u001b[0;32m   1768\u001b[0m                 \u001b[0mdata\u001b[0m \u001b[1;33m=\u001b[0m \u001b[0mdata\u001b[0m\u001b[1;33m.\u001b[0m\u001b[0mset_index\u001b[0m\u001b[1;33m(\u001b[0m\u001b[0mx\u001b[0m\u001b[1;33m)\u001b[0m\u001b[1;33m\u001b[0m\u001b[0m\n",
      "\u001b[1;32m~\\Anaconda3\\lib\\site-packages\\pandas\\core\\frame.py\u001b[0m in \u001b[0;36m__getitem__\u001b[1;34m(self, key)\u001b[0m\n\u001b[0;32m   2683\u001b[0m             \u001b[1;32mreturn\u001b[0m \u001b[0mself\u001b[0m\u001b[1;33m.\u001b[0m\u001b[0m_getitem_multilevel\u001b[0m\u001b[1;33m(\u001b[0m\u001b[0mkey\u001b[0m\u001b[1;33m)\u001b[0m\u001b[1;33m\u001b[0m\u001b[0m\n\u001b[0;32m   2684\u001b[0m         \u001b[1;32melse\u001b[0m\u001b[1;33m:\u001b[0m\u001b[1;33m\u001b[0m\u001b[0m\n\u001b[1;32m-> 2685\u001b[1;33m             \u001b[1;32mreturn\u001b[0m \u001b[0mself\u001b[0m\u001b[1;33m.\u001b[0m\u001b[0m_getitem_column\u001b[0m\u001b[1;33m(\u001b[0m\u001b[0mkey\u001b[0m\u001b[1;33m)\u001b[0m\u001b[1;33m\u001b[0m\u001b[0m\n\u001b[0m\u001b[0;32m   2686\u001b[0m \u001b[1;33m\u001b[0m\u001b[0m\n\u001b[0;32m   2687\u001b[0m     \u001b[1;32mdef\u001b[0m \u001b[0m_getitem_column\u001b[0m\u001b[1;33m(\u001b[0m\u001b[0mself\u001b[0m\u001b[1;33m,\u001b[0m \u001b[0mkey\u001b[0m\u001b[1;33m)\u001b[0m\u001b[1;33m:\u001b[0m\u001b[1;33m\u001b[0m\u001b[0m\n",
      "\u001b[1;32m~\\Anaconda3\\lib\\site-packages\\pandas\\core\\frame.py\u001b[0m in \u001b[0;36m_getitem_column\u001b[1;34m(self, key)\u001b[0m\n\u001b[0;32m   2690\u001b[0m         \u001b[1;31m# get column\u001b[0m\u001b[1;33m\u001b[0m\u001b[1;33m\u001b[0m\u001b[0m\n\u001b[0;32m   2691\u001b[0m         \u001b[1;32mif\u001b[0m \u001b[0mself\u001b[0m\u001b[1;33m.\u001b[0m\u001b[0mcolumns\u001b[0m\u001b[1;33m.\u001b[0m\u001b[0mis_unique\u001b[0m\u001b[1;33m:\u001b[0m\u001b[1;33m\u001b[0m\u001b[0m\n\u001b[1;32m-> 2692\u001b[1;33m             \u001b[1;32mreturn\u001b[0m \u001b[0mself\u001b[0m\u001b[1;33m.\u001b[0m\u001b[0m_get_item_cache\u001b[0m\u001b[1;33m(\u001b[0m\u001b[0mkey\u001b[0m\u001b[1;33m)\u001b[0m\u001b[1;33m\u001b[0m\u001b[0m\n\u001b[0m\u001b[0;32m   2693\u001b[0m \u001b[1;33m\u001b[0m\u001b[0m\n\u001b[0;32m   2694\u001b[0m         \u001b[1;31m# duplicate columns & possible reduce dimensionality\u001b[0m\u001b[1;33m\u001b[0m\u001b[1;33m\u001b[0m\u001b[0m\n",
      "\u001b[1;32m~\\Anaconda3\\lib\\site-packages\\pandas\\core\\generic.py\u001b[0m in \u001b[0;36m_get_item_cache\u001b[1;34m(self, item)\u001b[0m\n\u001b[0;32m   2484\u001b[0m         \u001b[0mres\u001b[0m \u001b[1;33m=\u001b[0m \u001b[0mcache\u001b[0m\u001b[1;33m.\u001b[0m\u001b[0mget\u001b[0m\u001b[1;33m(\u001b[0m\u001b[0mitem\u001b[0m\u001b[1;33m)\u001b[0m\u001b[1;33m\u001b[0m\u001b[0m\n\u001b[0;32m   2485\u001b[0m         \u001b[1;32mif\u001b[0m \u001b[0mres\u001b[0m \u001b[1;32mis\u001b[0m \u001b[1;32mNone\u001b[0m\u001b[1;33m:\u001b[0m\u001b[1;33m\u001b[0m\u001b[0m\n\u001b[1;32m-> 2486\u001b[1;33m             \u001b[0mvalues\u001b[0m \u001b[1;33m=\u001b[0m \u001b[0mself\u001b[0m\u001b[1;33m.\u001b[0m\u001b[0m_data\u001b[0m\u001b[1;33m.\u001b[0m\u001b[0mget\u001b[0m\u001b[1;33m(\u001b[0m\u001b[0mitem\u001b[0m\u001b[1;33m)\u001b[0m\u001b[1;33m\u001b[0m\u001b[0m\n\u001b[0m\u001b[0;32m   2487\u001b[0m             \u001b[0mres\u001b[0m \u001b[1;33m=\u001b[0m \u001b[0mself\u001b[0m\u001b[1;33m.\u001b[0m\u001b[0m_box_item_values\u001b[0m\u001b[1;33m(\u001b[0m\u001b[0mitem\u001b[0m\u001b[1;33m,\u001b[0m \u001b[0mvalues\u001b[0m\u001b[1;33m)\u001b[0m\u001b[1;33m\u001b[0m\u001b[0m\n\u001b[0;32m   2488\u001b[0m             \u001b[0mcache\u001b[0m\u001b[1;33m[\u001b[0m\u001b[0mitem\u001b[0m\u001b[1;33m]\u001b[0m \u001b[1;33m=\u001b[0m \u001b[0mres\u001b[0m\u001b[1;33m\u001b[0m\u001b[0m\n",
      "\u001b[1;32m~\\Anaconda3\\lib\\site-packages\\pandas\\core\\internals.py\u001b[0m in \u001b[0;36mget\u001b[1;34m(self, item, fastpath)\u001b[0m\n\u001b[0;32m   4113\u001b[0m \u001b[1;33m\u001b[0m\u001b[0m\n\u001b[0;32m   4114\u001b[0m             \u001b[1;32mif\u001b[0m \u001b[1;32mnot\u001b[0m \u001b[0misna\u001b[0m\u001b[1;33m(\u001b[0m\u001b[0mitem\u001b[0m\u001b[1;33m)\u001b[0m\u001b[1;33m:\u001b[0m\u001b[1;33m\u001b[0m\u001b[0m\n\u001b[1;32m-> 4115\u001b[1;33m                 \u001b[0mloc\u001b[0m \u001b[1;33m=\u001b[0m \u001b[0mself\u001b[0m\u001b[1;33m.\u001b[0m\u001b[0mitems\u001b[0m\u001b[1;33m.\u001b[0m\u001b[0mget_loc\u001b[0m\u001b[1;33m(\u001b[0m\u001b[0mitem\u001b[0m\u001b[1;33m)\u001b[0m\u001b[1;33m\u001b[0m\u001b[0m\n\u001b[0m\u001b[0;32m   4116\u001b[0m             \u001b[1;32melse\u001b[0m\u001b[1;33m:\u001b[0m\u001b[1;33m\u001b[0m\u001b[0m\n\u001b[0;32m   4117\u001b[0m                 \u001b[0mindexer\u001b[0m \u001b[1;33m=\u001b[0m \u001b[0mnp\u001b[0m\u001b[1;33m.\u001b[0m\u001b[0marange\u001b[0m\u001b[1;33m(\u001b[0m\u001b[0mlen\u001b[0m\u001b[1;33m(\u001b[0m\u001b[0mself\u001b[0m\u001b[1;33m.\u001b[0m\u001b[0mitems\u001b[0m\u001b[1;33m)\u001b[0m\u001b[1;33m)\u001b[0m\u001b[1;33m[\u001b[0m\u001b[0misna\u001b[0m\u001b[1;33m(\u001b[0m\u001b[0mself\u001b[0m\u001b[1;33m.\u001b[0m\u001b[0mitems\u001b[0m\u001b[1;33m)\u001b[0m\u001b[1;33m]\u001b[0m\u001b[1;33m\u001b[0m\u001b[0m\n",
      "\u001b[1;32m~\\Anaconda3\\lib\\site-packages\\pandas\\core\\indexes\\base.py\u001b[0m in \u001b[0;36mget_loc\u001b[1;34m(self, key, method, tolerance)\u001b[0m\n\u001b[0;32m   3063\u001b[0m                 \u001b[1;32mreturn\u001b[0m \u001b[0mself\u001b[0m\u001b[1;33m.\u001b[0m\u001b[0m_engine\u001b[0m\u001b[1;33m.\u001b[0m\u001b[0mget_loc\u001b[0m\u001b[1;33m(\u001b[0m\u001b[0mkey\u001b[0m\u001b[1;33m)\u001b[0m\u001b[1;33m\u001b[0m\u001b[0m\n\u001b[0;32m   3064\u001b[0m             \u001b[1;32mexcept\u001b[0m \u001b[0mKeyError\u001b[0m\u001b[1;33m:\u001b[0m\u001b[1;33m\u001b[0m\u001b[0m\n\u001b[1;32m-> 3065\u001b[1;33m                 \u001b[1;32mreturn\u001b[0m \u001b[0mself\u001b[0m\u001b[1;33m.\u001b[0m\u001b[0m_engine\u001b[0m\u001b[1;33m.\u001b[0m\u001b[0mget_loc\u001b[0m\u001b[1;33m(\u001b[0m\u001b[0mself\u001b[0m\u001b[1;33m.\u001b[0m\u001b[0m_maybe_cast_indexer\u001b[0m\u001b[1;33m(\u001b[0m\u001b[0mkey\u001b[0m\u001b[1;33m)\u001b[0m\u001b[1;33m)\u001b[0m\u001b[1;33m\u001b[0m\u001b[0m\n\u001b[0m\u001b[0;32m   3066\u001b[0m \u001b[1;33m\u001b[0m\u001b[0m\n\u001b[0;32m   3067\u001b[0m         \u001b[0mindexer\u001b[0m \u001b[1;33m=\u001b[0m \u001b[0mself\u001b[0m\u001b[1;33m.\u001b[0m\u001b[0mget_indexer\u001b[0m\u001b[1;33m(\u001b[0m\u001b[1;33m[\u001b[0m\u001b[0mkey\u001b[0m\u001b[1;33m]\u001b[0m\u001b[1;33m,\u001b[0m \u001b[0mmethod\u001b[0m\u001b[1;33m=\u001b[0m\u001b[0mmethod\u001b[0m\u001b[1;33m,\u001b[0m \u001b[0mtolerance\u001b[0m\u001b[1;33m=\u001b[0m\u001b[0mtolerance\u001b[0m\u001b[1;33m)\u001b[0m\u001b[1;33m\u001b[0m\u001b[0m\n",
      "\u001b[1;32mpandas\\_libs\\index.pyx\u001b[0m in \u001b[0;36mpandas._libs.index.IndexEngine.get_loc\u001b[1;34m()\u001b[0m\n",
      "\u001b[1;32mpandas\\_libs\\index.pyx\u001b[0m in \u001b[0;36mpandas._libs.index.IndexEngine.get_loc\u001b[1;34m()\u001b[0m\n",
      "\u001b[1;32mpandas\\_libs\\hashtable_class_helper.pxi\u001b[0m in \u001b[0;36mpandas._libs.hashtable.PyObjectHashTable.get_item\u001b[1;34m()\u001b[0m\n",
      "\u001b[1;32mpandas\\_libs\\hashtable_class_helper.pxi\u001b[0m in \u001b[0;36mpandas._libs.hashtable.PyObjectHashTable.get_item\u001b[1;34m()\u001b[0m\n",
      "\u001b[1;31mKeyError\u001b[0m: 'name'"
     ]
    }
   ],
   "source": [
    "df.plot(kind='bar',x='name',y='age')"
   ]
  },
  {
   "cell_type": "code",
   "execution_count": 9,
   "metadata": {},
   "outputs": [
    {
     "data": {
      "text/plain": [
       "<pandas.core.groupby.groupby.DataFrameGroupBy object at 0x0000015124039FD0>"
      ]
     },
     "execution_count": 9,
     "metadata": {},
     "output_type": "execute_result"
    }
   ],
   "source": [
    "df.groupby(['type'])"
   ]
  },
  {
   "cell_type": "code",
   "execution_count": 11,
   "metadata": {},
   "outputs": [
    {
     "name": "stdout",
     "output_type": "stream",
     "text": [
      "      type                                              posts\n",
      "0     INFJ  'http://www.youtube.com/watch?v=qsXHcwe3krw|||...\n",
      "1     ENTP  'I'm finding the lack of me in these posts ver...\n",
      "2     INTP  'Good one  _____   https://www.youtube.com/wat...\n",
      "3     INTJ  'Dear INTP,   I enjoyed our conversation the o...\n",
      "4     ENTJ  'You're fired.|||That's another silly misconce...\n",
      "5     INTJ  '18/37 @.@|||Science  is not perfect. No scien...\n",
      "6     INFJ  'No, I can't draw on my own nails (haha). Thos...\n",
      "7     INTJ  'I tend to build up a collection of things on ...\n",
      "8     INFJ  I'm not sure, that's a good question. The dist...\n",
      "9     INTP  'https://www.youtube.com/watch?v=w8-egj0y8Qs||...\n",
      "10    INFJ  'One time my parents were fighting over my dad...\n",
      "11    ENFJ  'https://www.youtube.com/watch?v=PLAaiKvHvZs||...\n",
      "12    INFJ  'Joe santagato - ENTP|||ENFJ or  ENTP?   I'm n...\n",
      "13    INTJ  'Fair enough, if that's how you want to look a...\n",
      "14    INTP  'Basically this...  https://youtu.be/1pH5c1Jkh...\n",
      "15    INTP  'Your comment screams INTJ, bro. Especially th...\n",
      "17    INFP  'I think we do agree. I personally don't consi...\n",
      "19    INFP  'That's normal, it happens also to me. If I am...\n",
      "20    INTP  'Steve Job's was recognized for his striving f...\n",
      "22    ENTJ  'Now I'm interested. But too lazy to go resear...\n",
      "23    INFP  '45016 urh sorry uh. couldn't resist.|||all of...\n",
      "24    ENTJ  'Still going strong at just over the two year ...\n",
      "25    INFP  'Personally, I was thinking this would be more...\n",
      "26    ENFP  'He doesn't want to go on the trip without me,...\n",
      "27    ISFP  'They paint without numbers|||I'd guess at ist...\n",
      "28    INFP  'Basically, my main questions are : What do yo...\n",
      "34    ENFJ  https://www.youtube.com/watch?v=AwgF14ySLpw  I...\n",
      "36    INTJ  'Poker face for sure, accompanied by some sarc...\n",
      "38    ENFP  'Hey ENFPs. I've posted this thread on the phi...\n",
      "39    ENTJ  'Hello!  I am working on a presentation by typ...\n",
      "...    ...                                                ...\n",
      "110   ENTP  'I'm dating a guy that I'm about 95% sure is a...\n",
      "113   ESTP  Splinter Cell Blacklist for Xbox 360.|||ESTPs ...\n",
      "114   ISTP  'Nobody is the same so realistically it's 100%...\n",
      "123   ISTP  'I don't offer advice unless it is asked for o...\n",
      "131   ISFJ  'Absolutely. I feel like running away and goin...\n",
      "139   ISFP  'ponyjoyride Thankyou, Im not sure how I shoud...\n",
      "160   ESTP  'I'm str8 at night. I just moved here to SC fr...\n",
      "172   ISFJ  'We are always willing to help those in need.|...\n",
      "189   ISTJ  'If it's not what you expected, try browns ins...\n",
      "200   ESFP  'Edit: I forgot what board this was on.|||I am...\n",
      "202   ISFP  'ok so i'm moving and my new housemate said i ...\n",
      "258   ISTJ  '0 at 29. Can't see why I should keep it a sec...\n",
      "266   ISTJ  'ISTJ in university here, currently employed a...\n",
      "346   ESTP  'You know your're a ESTP when your're cooler t...\n",
      "394   ESTP  'Thank you for reading. I'm sorry it's really ...\n",
      "430   ESFP  'No. I'm pretty sure they've mistyped several ...\n",
      "447   ESTP  'There are some days or week when I actually d...\n",
      "529   ESFP  'lol, yes I see what you mean, with new friend...\n",
      "546   ESTJ  this is such a catch 22 |||I'm here! Although,...\n",
      "595   ESTJ  intj|||isfp|||They have been taught to live a ...\n",
      "617   ESFP  'INTP because you're paranoid and logical and ...\n",
      "627   ESFJ  'Why not?|||Any other ESFJs originally mistype...\n",
      "634   ESFP  'Leslie: ENFJ Ann: ESFJ Apirl: INFP Tom: ESTP ...\n",
      "683   ESFJ  'I was just curious. I dont see many ESFJ on h...\n",
      "764   ESTJ  'Classic format of an ESTJ response.|||Doctor ...\n",
      "814   ESFJ  married by 25 and after that have like 6-8 kid...\n",
      "914   ESFJ  'Lol that's what I figured it meant but then I...\n",
      "1112  ESTJ  'To answer your question, yes. People are capa...\n",
      "1227  ESFJ  'Jaime91 It seems to me that you are in need o...\n",
      "1240  ESTJ  'For me it started when I was born, I wanted t...\n",
      "\n",
      "[80 rows x 2 columns]\n"
     ]
    }
   ],
   "source": [
    "print(df.groupby(['type']).head())"
   ]
  },
  {
   "cell_type": "code",
   "execution_count": 12,
   "metadata": {},
   "outputs": [
    {
     "ename": "KeyError",
     "evalue": "'type'",
     "output_type": "error",
     "traceback": [
      "\u001b[1;31m---------------------------------------------------------------------------\u001b[0m",
      "\u001b[1;31mKeyError\u001b[0m                                  Traceback (most recent call last)",
      "\u001b[1;32m<ipython-input-12-70d7a20618c1>\u001b[0m in \u001b[0;36m<module>\u001b[1;34m()\u001b[0m\n\u001b[1;32m----> 1\u001b[1;33m \u001b[0mdf\u001b[0m\u001b[1;33m[\u001b[0m\u001b[1;34m'amount_of_each_type'\u001b[0m\u001b[1;33m]\u001b[0m \u001b[1;33m=\u001b[0m \u001b[0mdf\u001b[0m\u001b[1;33m[\u001b[0m\u001b[1;34m'type'\u001b[0m\u001b[1;33m]\u001b[0m\u001b[1;33m.\u001b[0m\u001b[0mgroupby\u001b[0m\u001b[1;33m(\u001b[0m\u001b[1;33m[\u001b[0m\u001b[1;34m'type'\u001b[0m\u001b[1;33m]\u001b[0m\u001b[1;33m)\u001b[0m\u001b[1;33m\u001b[0m\u001b[0m\n\u001b[0m",
      "\u001b[1;32m~\\Anaconda3\\lib\\site-packages\\pandas\\core\\generic.py\u001b[0m in \u001b[0;36mgroupby\u001b[1;34m(self, by, axis, level, as_index, sort, group_keys, squeeze, observed, **kwargs)\u001b[0m\n\u001b[0;32m   6657\u001b[0m         return groupby(self, by=by, axis=axis, level=level, as_index=as_index,\n\u001b[0;32m   6658\u001b[0m                        \u001b[0msort\u001b[0m\u001b[1;33m=\u001b[0m\u001b[0msort\u001b[0m\u001b[1;33m,\u001b[0m \u001b[0mgroup_keys\u001b[0m\u001b[1;33m=\u001b[0m\u001b[0mgroup_keys\u001b[0m\u001b[1;33m,\u001b[0m \u001b[0msqueeze\u001b[0m\u001b[1;33m=\u001b[0m\u001b[0msqueeze\u001b[0m\u001b[1;33m,\u001b[0m\u001b[1;33m\u001b[0m\u001b[0m\n\u001b[1;32m-> 6659\u001b[1;33m                        observed=observed, **kwargs)\n\u001b[0m\u001b[0;32m   6660\u001b[0m \u001b[1;33m\u001b[0m\u001b[0m\n\u001b[0;32m   6661\u001b[0m     def asfreq(self, freq, method=None, how=None, normalize=False,\n",
      "\u001b[1;32m~\\Anaconda3\\lib\\site-packages\\pandas\\core\\groupby\\groupby.py\u001b[0m in \u001b[0;36mgroupby\u001b[1;34m(obj, by, **kwds)\u001b[0m\n\u001b[0;32m   2150\u001b[0m         \u001b[1;32mraise\u001b[0m \u001b[0mTypeError\u001b[0m\u001b[1;33m(\u001b[0m\u001b[1;34m'invalid type: %s'\u001b[0m \u001b[1;33m%\u001b[0m \u001b[0mtype\u001b[0m\u001b[1;33m(\u001b[0m\u001b[0mobj\u001b[0m\u001b[1;33m)\u001b[0m\u001b[1;33m)\u001b[0m\u001b[1;33m\u001b[0m\u001b[0m\n\u001b[0;32m   2151\u001b[0m \u001b[1;33m\u001b[0m\u001b[0m\n\u001b[1;32m-> 2152\u001b[1;33m     \u001b[1;32mreturn\u001b[0m \u001b[0mklass\u001b[0m\u001b[1;33m(\u001b[0m\u001b[0mobj\u001b[0m\u001b[1;33m,\u001b[0m \u001b[0mby\u001b[0m\u001b[1;33m,\u001b[0m \u001b[1;33m**\u001b[0m\u001b[0mkwds\u001b[0m\u001b[1;33m)\u001b[0m\u001b[1;33m\u001b[0m\u001b[0m\n\u001b[0m\u001b[0;32m   2153\u001b[0m \u001b[1;33m\u001b[0m\u001b[0m\n\u001b[0;32m   2154\u001b[0m \u001b[1;33m\u001b[0m\u001b[0m\n",
      "\u001b[1;32m~\\Anaconda3\\lib\\site-packages\\pandas\\core\\groupby\\groupby.py\u001b[0m in \u001b[0;36m__init__\u001b[1;34m(self, obj, keys, axis, level, grouper, exclusions, selection, as_index, sort, group_keys, squeeze, observed, **kwargs)\u001b[0m\n\u001b[0;32m    597\u001b[0m                                                     \u001b[0msort\u001b[0m\u001b[1;33m=\u001b[0m\u001b[0msort\u001b[0m\u001b[1;33m,\u001b[0m\u001b[1;33m\u001b[0m\u001b[0m\n\u001b[0;32m    598\u001b[0m                                                     \u001b[0mobserved\u001b[0m\u001b[1;33m=\u001b[0m\u001b[0mobserved\u001b[0m\u001b[1;33m,\u001b[0m\u001b[1;33m\u001b[0m\u001b[0m\n\u001b[1;32m--> 599\u001b[1;33m                                                     mutated=self.mutated)\n\u001b[0m\u001b[0;32m    600\u001b[0m \u001b[1;33m\u001b[0m\u001b[0m\n\u001b[0;32m    601\u001b[0m         \u001b[0mself\u001b[0m\u001b[1;33m.\u001b[0m\u001b[0mobj\u001b[0m \u001b[1;33m=\u001b[0m \u001b[0mobj\u001b[0m\u001b[1;33m\u001b[0m\u001b[0m\n",
      "\u001b[1;32m~\\Anaconda3\\lib\\site-packages\\pandas\\core\\groupby\\groupby.py\u001b[0m in \u001b[0;36m_get_grouper\u001b[1;34m(obj, key, axis, level, sort, observed, mutated, validate)\u001b[0m\n\u001b[0;32m   3289\u001b[0m                 \u001b[0min_axis\u001b[0m\u001b[1;33m,\u001b[0m \u001b[0mname\u001b[0m\u001b[1;33m,\u001b[0m \u001b[0mlevel\u001b[0m\u001b[1;33m,\u001b[0m \u001b[0mgpr\u001b[0m \u001b[1;33m=\u001b[0m \u001b[1;32mFalse\u001b[0m\u001b[1;33m,\u001b[0m \u001b[1;32mNone\u001b[0m\u001b[1;33m,\u001b[0m \u001b[0mgpr\u001b[0m\u001b[1;33m,\u001b[0m \u001b[1;32mNone\u001b[0m\u001b[1;33m\u001b[0m\u001b[0m\n\u001b[0;32m   3290\u001b[0m             \u001b[1;32melse\u001b[0m\u001b[1;33m:\u001b[0m\u001b[1;33m\u001b[0m\u001b[0m\n\u001b[1;32m-> 3291\u001b[1;33m                 \u001b[1;32mraise\u001b[0m \u001b[0mKeyError\u001b[0m\u001b[1;33m(\u001b[0m\u001b[0mgpr\u001b[0m\u001b[1;33m)\u001b[0m\u001b[1;33m\u001b[0m\u001b[0m\n\u001b[0m\u001b[0;32m   3292\u001b[0m         \u001b[1;32melif\u001b[0m \u001b[0misinstance\u001b[0m\u001b[1;33m(\u001b[0m\u001b[0mgpr\u001b[0m\u001b[1;33m,\u001b[0m \u001b[0mGrouper\u001b[0m\u001b[1;33m)\u001b[0m \u001b[1;32mand\u001b[0m \u001b[0mgpr\u001b[0m\u001b[1;33m.\u001b[0m\u001b[0mkey\u001b[0m \u001b[1;32mis\u001b[0m \u001b[1;32mnot\u001b[0m \u001b[1;32mNone\u001b[0m\u001b[1;33m:\u001b[0m\u001b[1;33m\u001b[0m\u001b[0m\n\u001b[0;32m   3293\u001b[0m             \u001b[1;31m# Add key to exclusions\u001b[0m\u001b[1;33m\u001b[0m\u001b[1;33m\u001b[0m\u001b[0m\n",
      "\u001b[1;31mKeyError\u001b[0m: 'type'"
     ]
    }
   ],
   "source": [
    "df['amount_of_each_type'] = df['type'].groupby(['type'])"
   ]
  },
  {
   "cell_type": "code",
   "execution_count": 13,
   "metadata": {},
   "outputs": [
    {
     "ename": "ValueError",
     "evalue": "Length of values does not match length of index",
     "output_type": "error",
     "traceback": [
      "\u001b[1;31m---------------------------------------------------------------------------\u001b[0m",
      "\u001b[1;31mValueError\u001b[0m                                Traceback (most recent call last)",
      "\u001b[1;32m<ipython-input-13-98f1fda4471f>\u001b[0m in \u001b[0;36m<module>\u001b[1;34m()\u001b[0m\n\u001b[1;32m----> 1\u001b[1;33m \u001b[0mdf\u001b[0m\u001b[1;33m[\u001b[0m\u001b[1;34m'group_by'\u001b[0m\u001b[1;33m]\u001b[0m \u001b[1;33m=\u001b[0m \u001b[0mdf\u001b[0m\u001b[1;33m.\u001b[0m\u001b[0mgroupby\u001b[0m\u001b[1;33m(\u001b[0m\u001b[1;33m[\u001b[0m\u001b[1;34m'type'\u001b[0m\u001b[1;33m]\u001b[0m\u001b[1;33m)\u001b[0m\u001b[1;33m\u001b[0m\u001b[0m\n\u001b[0m\u001b[0;32m      2\u001b[0m \u001b[0mprint\u001b[0m\u001b[1;33m(\u001b[0m\u001b[0mdf\u001b[0m\u001b[1;33m.\u001b[0m\u001b[0mhead\u001b[0m\u001b[1;33m(\u001b[0m\u001b[1;33m)\u001b[0m\u001b[1;33m)\u001b[0m\u001b[1;33m\u001b[0m\u001b[0m\n",
      "\u001b[1;32m~\\Anaconda3\\lib\\site-packages\\pandas\\core\\frame.py\u001b[0m in \u001b[0;36m__setitem__\u001b[1;34m(self, key, value)\u001b[0m\n\u001b[0;32m   3114\u001b[0m         \u001b[1;32melse\u001b[0m\u001b[1;33m:\u001b[0m\u001b[1;33m\u001b[0m\u001b[0m\n\u001b[0;32m   3115\u001b[0m             \u001b[1;31m# set column\u001b[0m\u001b[1;33m\u001b[0m\u001b[1;33m\u001b[0m\u001b[0m\n\u001b[1;32m-> 3116\u001b[1;33m             \u001b[0mself\u001b[0m\u001b[1;33m.\u001b[0m\u001b[0m_set_item\u001b[0m\u001b[1;33m(\u001b[0m\u001b[0mkey\u001b[0m\u001b[1;33m,\u001b[0m \u001b[0mvalue\u001b[0m\u001b[1;33m)\u001b[0m\u001b[1;33m\u001b[0m\u001b[0m\n\u001b[0m\u001b[0;32m   3117\u001b[0m \u001b[1;33m\u001b[0m\u001b[0m\n\u001b[0;32m   3118\u001b[0m     \u001b[1;32mdef\u001b[0m \u001b[0m_setitem_slice\u001b[0m\u001b[1;33m(\u001b[0m\u001b[0mself\u001b[0m\u001b[1;33m,\u001b[0m \u001b[0mkey\u001b[0m\u001b[1;33m,\u001b[0m \u001b[0mvalue\u001b[0m\u001b[1;33m)\u001b[0m\u001b[1;33m:\u001b[0m\u001b[1;33m\u001b[0m\u001b[0m\n",
      "\u001b[1;32m~\\Anaconda3\\lib\\site-packages\\pandas\\core\\frame.py\u001b[0m in \u001b[0;36m_set_item\u001b[1;34m(self, key, value)\u001b[0m\n\u001b[0;32m   3189\u001b[0m \u001b[1;33m\u001b[0m\u001b[0m\n\u001b[0;32m   3190\u001b[0m         \u001b[0mself\u001b[0m\u001b[1;33m.\u001b[0m\u001b[0m_ensure_valid_index\u001b[0m\u001b[1;33m(\u001b[0m\u001b[0mvalue\u001b[0m\u001b[1;33m)\u001b[0m\u001b[1;33m\u001b[0m\u001b[0m\n\u001b[1;32m-> 3191\u001b[1;33m         \u001b[0mvalue\u001b[0m \u001b[1;33m=\u001b[0m \u001b[0mself\u001b[0m\u001b[1;33m.\u001b[0m\u001b[0m_sanitize_column\u001b[0m\u001b[1;33m(\u001b[0m\u001b[0mkey\u001b[0m\u001b[1;33m,\u001b[0m \u001b[0mvalue\u001b[0m\u001b[1;33m)\u001b[0m\u001b[1;33m\u001b[0m\u001b[0m\n\u001b[0m\u001b[0;32m   3192\u001b[0m         \u001b[0mNDFrame\u001b[0m\u001b[1;33m.\u001b[0m\u001b[0m_set_item\u001b[0m\u001b[1;33m(\u001b[0m\u001b[0mself\u001b[0m\u001b[1;33m,\u001b[0m \u001b[0mkey\u001b[0m\u001b[1;33m,\u001b[0m \u001b[0mvalue\u001b[0m\u001b[1;33m)\u001b[0m\u001b[1;33m\u001b[0m\u001b[0m\n\u001b[0;32m   3193\u001b[0m \u001b[1;33m\u001b[0m\u001b[0m\n",
      "\u001b[1;32m~\\Anaconda3\\lib\\site-packages\\pandas\\core\\frame.py\u001b[0m in \u001b[0;36m_sanitize_column\u001b[1;34m(self, key, value, broadcast)\u001b[0m\n\u001b[0;32m   3386\u001b[0m \u001b[1;33m\u001b[0m\u001b[0m\n\u001b[0;32m   3387\u001b[0m             \u001b[1;31m# turn me into an ndarray\u001b[0m\u001b[1;33m\u001b[0m\u001b[1;33m\u001b[0m\u001b[0m\n\u001b[1;32m-> 3388\u001b[1;33m             \u001b[0mvalue\u001b[0m \u001b[1;33m=\u001b[0m \u001b[0m_sanitize_index\u001b[0m\u001b[1;33m(\u001b[0m\u001b[0mvalue\u001b[0m\u001b[1;33m,\u001b[0m \u001b[0mself\u001b[0m\u001b[1;33m.\u001b[0m\u001b[0mindex\u001b[0m\u001b[1;33m,\u001b[0m \u001b[0mcopy\u001b[0m\u001b[1;33m=\u001b[0m\u001b[1;32mFalse\u001b[0m\u001b[1;33m)\u001b[0m\u001b[1;33m\u001b[0m\u001b[0m\n\u001b[0m\u001b[0;32m   3389\u001b[0m             \u001b[1;32mif\u001b[0m \u001b[1;32mnot\u001b[0m \u001b[0misinstance\u001b[0m\u001b[1;33m(\u001b[0m\u001b[0mvalue\u001b[0m\u001b[1;33m,\u001b[0m \u001b[1;33m(\u001b[0m\u001b[0mnp\u001b[0m\u001b[1;33m.\u001b[0m\u001b[0mndarray\u001b[0m\u001b[1;33m,\u001b[0m \u001b[0mIndex\u001b[0m\u001b[1;33m)\u001b[0m\u001b[1;33m)\u001b[0m\u001b[1;33m:\u001b[0m\u001b[1;33m\u001b[0m\u001b[0m\n\u001b[0;32m   3390\u001b[0m                 \u001b[1;32mif\u001b[0m \u001b[0misinstance\u001b[0m\u001b[1;33m(\u001b[0m\u001b[0mvalue\u001b[0m\u001b[1;33m,\u001b[0m \u001b[0mlist\u001b[0m\u001b[1;33m)\u001b[0m \u001b[1;32mand\u001b[0m \u001b[0mlen\u001b[0m\u001b[1;33m(\u001b[0m\u001b[0mvalue\u001b[0m\u001b[1;33m)\u001b[0m \u001b[1;33m>\u001b[0m \u001b[1;36m0\u001b[0m\u001b[1;33m:\u001b[0m\u001b[1;33m\u001b[0m\u001b[0m\n",
      "\u001b[1;32m~\\Anaconda3\\lib\\site-packages\\pandas\\core\\series.py\u001b[0m in \u001b[0;36m_sanitize_index\u001b[1;34m(data, index, copy)\u001b[0m\n\u001b[0;32m   3996\u001b[0m \u001b[1;33m\u001b[0m\u001b[0m\n\u001b[0;32m   3997\u001b[0m     \u001b[1;32mif\u001b[0m \u001b[0mlen\u001b[0m\u001b[1;33m(\u001b[0m\u001b[0mdata\u001b[0m\u001b[1;33m)\u001b[0m \u001b[1;33m!=\u001b[0m \u001b[0mlen\u001b[0m\u001b[1;33m(\u001b[0m\u001b[0mindex\u001b[0m\u001b[1;33m)\u001b[0m\u001b[1;33m:\u001b[0m\u001b[1;33m\u001b[0m\u001b[0m\n\u001b[1;32m-> 3998\u001b[1;33m         \u001b[1;32mraise\u001b[0m \u001b[0mValueError\u001b[0m\u001b[1;33m(\u001b[0m\u001b[1;34m'Length of values does not match length of '\u001b[0m \u001b[1;34m'index'\u001b[0m\u001b[1;33m)\u001b[0m\u001b[1;33m\u001b[0m\u001b[0m\n\u001b[0m\u001b[0;32m   3999\u001b[0m \u001b[1;33m\u001b[0m\u001b[0m\n\u001b[0;32m   4000\u001b[0m     \u001b[1;32mif\u001b[0m \u001b[0misinstance\u001b[0m\u001b[1;33m(\u001b[0m\u001b[0mdata\u001b[0m\u001b[1;33m,\u001b[0m \u001b[0mABCIndexClass\u001b[0m\u001b[1;33m)\u001b[0m \u001b[1;32mand\u001b[0m \u001b[1;32mnot\u001b[0m \u001b[0mcopy\u001b[0m\u001b[1;33m:\u001b[0m\u001b[1;33m\u001b[0m\u001b[0m\n",
      "\u001b[1;31mValueError\u001b[0m: Length of values does not match length of index"
     ]
    }
   ],
   "source": [
    "df['group_by'] = df.groupby(['type'])\n",
    "print(df.head())"
   ]
  },
  {
   "cell_type": "code",
   "execution_count": 14,
   "metadata": {},
   "outputs": [
    {
     "ename": "KeyError",
     "evalue": "'post'",
     "output_type": "error",
     "traceback": [
      "\u001b[1;31m---------------------------------------------------------------------------\u001b[0m",
      "\u001b[1;31mKeyError\u001b[0m                                  Traceback (most recent call last)",
      "\u001b[1;32m~\\Anaconda3\\lib\\site-packages\\pandas\\core\\indexes\\base.py\u001b[0m in \u001b[0;36mget_loc\u001b[1;34m(self, key, method, tolerance)\u001b[0m\n\u001b[0;32m   3062\u001b[0m             \u001b[1;32mtry\u001b[0m\u001b[1;33m:\u001b[0m\u001b[1;33m\u001b[0m\u001b[0m\n\u001b[1;32m-> 3063\u001b[1;33m                 \u001b[1;32mreturn\u001b[0m \u001b[0mself\u001b[0m\u001b[1;33m.\u001b[0m\u001b[0m_engine\u001b[0m\u001b[1;33m.\u001b[0m\u001b[0mget_loc\u001b[0m\u001b[1;33m(\u001b[0m\u001b[0mkey\u001b[0m\u001b[1;33m)\u001b[0m\u001b[1;33m\u001b[0m\u001b[0m\n\u001b[0m\u001b[0;32m   3064\u001b[0m             \u001b[1;32mexcept\u001b[0m \u001b[0mKeyError\u001b[0m\u001b[1;33m:\u001b[0m\u001b[1;33m\u001b[0m\u001b[0m\n",
      "\u001b[1;32mpandas\\_libs\\index.pyx\u001b[0m in \u001b[0;36mpandas._libs.index.IndexEngine.get_loc\u001b[1;34m()\u001b[0m\n",
      "\u001b[1;32mpandas\\_libs\\index.pyx\u001b[0m in \u001b[0;36mpandas._libs.index.IndexEngine.get_loc\u001b[1;34m()\u001b[0m\n",
      "\u001b[1;32mpandas\\_libs\\hashtable_class_helper.pxi\u001b[0m in \u001b[0;36mpandas._libs.hashtable.PyObjectHashTable.get_item\u001b[1;34m()\u001b[0m\n",
      "\u001b[1;32mpandas\\_libs\\hashtable_class_helper.pxi\u001b[0m in \u001b[0;36mpandas._libs.hashtable.PyObjectHashTable.get_item\u001b[1;34m()\u001b[0m\n",
      "\u001b[1;31mKeyError\u001b[0m: 'post'",
      "\nDuring handling of the above exception, another exception occurred:\n",
      "\u001b[1;31mKeyError\u001b[0m                                  Traceback (most recent call last)",
      "\u001b[1;32m<ipython-input-14-500d7e038fba>\u001b[0m in \u001b[0;36m<module>\u001b[1;34m()\u001b[0m\n\u001b[1;32m----> 1\u001b[1;33m \u001b[0mdf\u001b[0m\u001b[1;33m.\u001b[0m\u001b[0mset_index\u001b[0m\u001b[1;33m(\u001b[0m\u001b[1;33m[\u001b[0m\u001b[1;34m\"type\"\u001b[0m\u001b[1;33m,\u001b[0m \u001b[1;34m\"post\"\u001b[0m\u001b[1;33m]\u001b[0m\u001b[1;33m)\u001b[0m\u001b[1;33m.\u001b[0m\u001b[0mcount\u001b[0m\u001b[1;33m(\u001b[0m\u001b[0mlevel\u001b[0m\u001b[1;33m=\u001b[0m\u001b[1;34m\"type\"\u001b[0m\u001b[1;33m)\u001b[0m\u001b[1;33m\u001b[0m\u001b[0m\n\u001b[0m",
      "\u001b[1;32m~\\Anaconda3\\lib\\site-packages\\pandas\\core\\frame.py\u001b[0m in \u001b[0;36mset_index\u001b[1;34m(self, keys, drop, append, inplace, verify_integrity)\u001b[0m\n\u001b[0;32m   3904\u001b[0m                 \u001b[0mnames\u001b[0m\u001b[1;33m.\u001b[0m\u001b[0mappend\u001b[0m\u001b[1;33m(\u001b[0m\u001b[1;32mNone\u001b[0m\u001b[1;33m)\u001b[0m\u001b[1;33m\u001b[0m\u001b[0m\n\u001b[0;32m   3905\u001b[0m             \u001b[1;32melse\u001b[0m\u001b[1;33m:\u001b[0m\u001b[1;33m\u001b[0m\u001b[0m\n\u001b[1;32m-> 3906\u001b[1;33m                 \u001b[0mlevel\u001b[0m \u001b[1;33m=\u001b[0m \u001b[0mframe\u001b[0m\u001b[1;33m[\u001b[0m\u001b[0mcol\u001b[0m\u001b[1;33m]\u001b[0m\u001b[1;33m.\u001b[0m\u001b[0m_values\u001b[0m\u001b[1;33m\u001b[0m\u001b[0m\n\u001b[0m\u001b[0;32m   3907\u001b[0m                 \u001b[0mnames\u001b[0m\u001b[1;33m.\u001b[0m\u001b[0mappend\u001b[0m\u001b[1;33m(\u001b[0m\u001b[0mcol\u001b[0m\u001b[1;33m)\u001b[0m\u001b[1;33m\u001b[0m\u001b[0m\n\u001b[0;32m   3908\u001b[0m                 \u001b[1;32mif\u001b[0m \u001b[0mdrop\u001b[0m\u001b[1;33m:\u001b[0m\u001b[1;33m\u001b[0m\u001b[0m\n",
      "\u001b[1;32m~\\Anaconda3\\lib\\site-packages\\pandas\\core\\frame.py\u001b[0m in \u001b[0;36m__getitem__\u001b[1;34m(self, key)\u001b[0m\n\u001b[0;32m   2683\u001b[0m             \u001b[1;32mreturn\u001b[0m \u001b[0mself\u001b[0m\u001b[1;33m.\u001b[0m\u001b[0m_getitem_multilevel\u001b[0m\u001b[1;33m(\u001b[0m\u001b[0mkey\u001b[0m\u001b[1;33m)\u001b[0m\u001b[1;33m\u001b[0m\u001b[0m\n\u001b[0;32m   2684\u001b[0m         \u001b[1;32melse\u001b[0m\u001b[1;33m:\u001b[0m\u001b[1;33m\u001b[0m\u001b[0m\n\u001b[1;32m-> 2685\u001b[1;33m             \u001b[1;32mreturn\u001b[0m \u001b[0mself\u001b[0m\u001b[1;33m.\u001b[0m\u001b[0m_getitem_column\u001b[0m\u001b[1;33m(\u001b[0m\u001b[0mkey\u001b[0m\u001b[1;33m)\u001b[0m\u001b[1;33m\u001b[0m\u001b[0m\n\u001b[0m\u001b[0;32m   2686\u001b[0m \u001b[1;33m\u001b[0m\u001b[0m\n\u001b[0;32m   2687\u001b[0m     \u001b[1;32mdef\u001b[0m \u001b[0m_getitem_column\u001b[0m\u001b[1;33m(\u001b[0m\u001b[0mself\u001b[0m\u001b[1;33m,\u001b[0m \u001b[0mkey\u001b[0m\u001b[1;33m)\u001b[0m\u001b[1;33m:\u001b[0m\u001b[1;33m\u001b[0m\u001b[0m\n",
      "\u001b[1;32m~\\Anaconda3\\lib\\site-packages\\pandas\\core\\frame.py\u001b[0m in \u001b[0;36m_getitem_column\u001b[1;34m(self, key)\u001b[0m\n\u001b[0;32m   2690\u001b[0m         \u001b[1;31m# get column\u001b[0m\u001b[1;33m\u001b[0m\u001b[1;33m\u001b[0m\u001b[0m\n\u001b[0;32m   2691\u001b[0m         \u001b[1;32mif\u001b[0m \u001b[0mself\u001b[0m\u001b[1;33m.\u001b[0m\u001b[0mcolumns\u001b[0m\u001b[1;33m.\u001b[0m\u001b[0mis_unique\u001b[0m\u001b[1;33m:\u001b[0m\u001b[1;33m\u001b[0m\u001b[0m\n\u001b[1;32m-> 2692\u001b[1;33m             \u001b[1;32mreturn\u001b[0m \u001b[0mself\u001b[0m\u001b[1;33m.\u001b[0m\u001b[0m_get_item_cache\u001b[0m\u001b[1;33m(\u001b[0m\u001b[0mkey\u001b[0m\u001b[1;33m)\u001b[0m\u001b[1;33m\u001b[0m\u001b[0m\n\u001b[0m\u001b[0;32m   2693\u001b[0m \u001b[1;33m\u001b[0m\u001b[0m\n\u001b[0;32m   2694\u001b[0m         \u001b[1;31m# duplicate columns & possible reduce dimensionality\u001b[0m\u001b[1;33m\u001b[0m\u001b[1;33m\u001b[0m\u001b[0m\n",
      "\u001b[1;32m~\\Anaconda3\\lib\\site-packages\\pandas\\core\\generic.py\u001b[0m in \u001b[0;36m_get_item_cache\u001b[1;34m(self, item)\u001b[0m\n\u001b[0;32m   2484\u001b[0m         \u001b[0mres\u001b[0m \u001b[1;33m=\u001b[0m \u001b[0mcache\u001b[0m\u001b[1;33m.\u001b[0m\u001b[0mget\u001b[0m\u001b[1;33m(\u001b[0m\u001b[0mitem\u001b[0m\u001b[1;33m)\u001b[0m\u001b[1;33m\u001b[0m\u001b[0m\n\u001b[0;32m   2485\u001b[0m         \u001b[1;32mif\u001b[0m \u001b[0mres\u001b[0m \u001b[1;32mis\u001b[0m \u001b[1;32mNone\u001b[0m\u001b[1;33m:\u001b[0m\u001b[1;33m\u001b[0m\u001b[0m\n\u001b[1;32m-> 2486\u001b[1;33m             \u001b[0mvalues\u001b[0m \u001b[1;33m=\u001b[0m \u001b[0mself\u001b[0m\u001b[1;33m.\u001b[0m\u001b[0m_data\u001b[0m\u001b[1;33m.\u001b[0m\u001b[0mget\u001b[0m\u001b[1;33m(\u001b[0m\u001b[0mitem\u001b[0m\u001b[1;33m)\u001b[0m\u001b[1;33m\u001b[0m\u001b[0m\n\u001b[0m\u001b[0;32m   2487\u001b[0m             \u001b[0mres\u001b[0m \u001b[1;33m=\u001b[0m \u001b[0mself\u001b[0m\u001b[1;33m.\u001b[0m\u001b[0m_box_item_values\u001b[0m\u001b[1;33m(\u001b[0m\u001b[0mitem\u001b[0m\u001b[1;33m,\u001b[0m \u001b[0mvalues\u001b[0m\u001b[1;33m)\u001b[0m\u001b[1;33m\u001b[0m\u001b[0m\n\u001b[0;32m   2488\u001b[0m             \u001b[0mcache\u001b[0m\u001b[1;33m[\u001b[0m\u001b[0mitem\u001b[0m\u001b[1;33m]\u001b[0m \u001b[1;33m=\u001b[0m \u001b[0mres\u001b[0m\u001b[1;33m\u001b[0m\u001b[0m\n",
      "\u001b[1;32m~\\Anaconda3\\lib\\site-packages\\pandas\\core\\internals.py\u001b[0m in \u001b[0;36mget\u001b[1;34m(self, item, fastpath)\u001b[0m\n\u001b[0;32m   4113\u001b[0m \u001b[1;33m\u001b[0m\u001b[0m\n\u001b[0;32m   4114\u001b[0m             \u001b[1;32mif\u001b[0m \u001b[1;32mnot\u001b[0m \u001b[0misna\u001b[0m\u001b[1;33m(\u001b[0m\u001b[0mitem\u001b[0m\u001b[1;33m)\u001b[0m\u001b[1;33m:\u001b[0m\u001b[1;33m\u001b[0m\u001b[0m\n\u001b[1;32m-> 4115\u001b[1;33m                 \u001b[0mloc\u001b[0m \u001b[1;33m=\u001b[0m \u001b[0mself\u001b[0m\u001b[1;33m.\u001b[0m\u001b[0mitems\u001b[0m\u001b[1;33m.\u001b[0m\u001b[0mget_loc\u001b[0m\u001b[1;33m(\u001b[0m\u001b[0mitem\u001b[0m\u001b[1;33m)\u001b[0m\u001b[1;33m\u001b[0m\u001b[0m\n\u001b[0m\u001b[0;32m   4116\u001b[0m             \u001b[1;32melse\u001b[0m\u001b[1;33m:\u001b[0m\u001b[1;33m\u001b[0m\u001b[0m\n\u001b[0;32m   4117\u001b[0m                 \u001b[0mindexer\u001b[0m \u001b[1;33m=\u001b[0m \u001b[0mnp\u001b[0m\u001b[1;33m.\u001b[0m\u001b[0marange\u001b[0m\u001b[1;33m(\u001b[0m\u001b[0mlen\u001b[0m\u001b[1;33m(\u001b[0m\u001b[0mself\u001b[0m\u001b[1;33m.\u001b[0m\u001b[0mitems\u001b[0m\u001b[1;33m)\u001b[0m\u001b[1;33m)\u001b[0m\u001b[1;33m[\u001b[0m\u001b[0misna\u001b[0m\u001b[1;33m(\u001b[0m\u001b[0mself\u001b[0m\u001b[1;33m.\u001b[0m\u001b[0mitems\u001b[0m\u001b[1;33m)\u001b[0m\u001b[1;33m]\u001b[0m\u001b[1;33m\u001b[0m\u001b[0m\n",
      "\u001b[1;32m~\\Anaconda3\\lib\\site-packages\\pandas\\core\\indexes\\base.py\u001b[0m in \u001b[0;36mget_loc\u001b[1;34m(self, key, method, tolerance)\u001b[0m\n\u001b[0;32m   3063\u001b[0m                 \u001b[1;32mreturn\u001b[0m \u001b[0mself\u001b[0m\u001b[1;33m.\u001b[0m\u001b[0m_engine\u001b[0m\u001b[1;33m.\u001b[0m\u001b[0mget_loc\u001b[0m\u001b[1;33m(\u001b[0m\u001b[0mkey\u001b[0m\u001b[1;33m)\u001b[0m\u001b[1;33m\u001b[0m\u001b[0m\n\u001b[0;32m   3064\u001b[0m             \u001b[1;32mexcept\u001b[0m \u001b[0mKeyError\u001b[0m\u001b[1;33m:\u001b[0m\u001b[1;33m\u001b[0m\u001b[0m\n\u001b[1;32m-> 3065\u001b[1;33m                 \u001b[1;32mreturn\u001b[0m \u001b[0mself\u001b[0m\u001b[1;33m.\u001b[0m\u001b[0m_engine\u001b[0m\u001b[1;33m.\u001b[0m\u001b[0mget_loc\u001b[0m\u001b[1;33m(\u001b[0m\u001b[0mself\u001b[0m\u001b[1;33m.\u001b[0m\u001b[0m_maybe_cast_indexer\u001b[0m\u001b[1;33m(\u001b[0m\u001b[0mkey\u001b[0m\u001b[1;33m)\u001b[0m\u001b[1;33m)\u001b[0m\u001b[1;33m\u001b[0m\u001b[0m\n\u001b[0m\u001b[0;32m   3066\u001b[0m \u001b[1;33m\u001b[0m\u001b[0m\n\u001b[0;32m   3067\u001b[0m         \u001b[0mindexer\u001b[0m \u001b[1;33m=\u001b[0m \u001b[0mself\u001b[0m\u001b[1;33m.\u001b[0m\u001b[0mget_indexer\u001b[0m\u001b[1;33m(\u001b[0m\u001b[1;33m[\u001b[0m\u001b[0mkey\u001b[0m\u001b[1;33m]\u001b[0m\u001b[1;33m,\u001b[0m \u001b[0mmethod\u001b[0m\u001b[1;33m=\u001b[0m\u001b[0mmethod\u001b[0m\u001b[1;33m,\u001b[0m \u001b[0mtolerance\u001b[0m\u001b[1;33m=\u001b[0m\u001b[0mtolerance\u001b[0m\u001b[1;33m)\u001b[0m\u001b[1;33m\u001b[0m\u001b[0m\n",
      "\u001b[1;32mpandas\\_libs\\index.pyx\u001b[0m in \u001b[0;36mpandas._libs.index.IndexEngine.get_loc\u001b[1;34m()\u001b[0m\n",
      "\u001b[1;32mpandas\\_libs\\index.pyx\u001b[0m in \u001b[0;36mpandas._libs.index.IndexEngine.get_loc\u001b[1;34m()\u001b[0m\n",
      "\u001b[1;32mpandas\\_libs\\hashtable_class_helper.pxi\u001b[0m in \u001b[0;36mpandas._libs.hashtable.PyObjectHashTable.get_item\u001b[1;34m()\u001b[0m\n",
      "\u001b[1;32mpandas\\_libs\\hashtable_class_helper.pxi\u001b[0m in \u001b[0;36mpandas._libs.hashtable.PyObjectHashTable.get_item\u001b[1;34m()\u001b[0m\n",
      "\u001b[1;31mKeyError\u001b[0m: 'post'"
     ]
    }
   ],
   "source": [
    "df.set_index([\"type\", \"post\"]).count(level=\"type\")"
   ]
  },
  {
   "cell_type": "code",
   "execution_count": 15,
   "metadata": {},
   "outputs": [
    {
     "data": {
      "text/html": [
       "<div>\n",
       "<style scoped>\n",
       "    .dataframe tbody tr th:only-of-type {\n",
       "        vertical-align: middle;\n",
       "    }\n",
       "\n",
       "    .dataframe tbody tr th {\n",
       "        vertical-align: top;\n",
       "    }\n",
       "\n",
       "    .dataframe thead th {\n",
       "        text-align: right;\n",
       "    }\n",
       "</style>\n",
       "<table border=\"1\" class=\"dataframe\">\n",
       "  <thead>\n",
       "    <tr style=\"text-align: right;\">\n",
       "      <th></th>\n",
       "    </tr>\n",
       "    <tr>\n",
       "      <th>type</th>\n",
       "    </tr>\n",
       "  </thead>\n",
       "  <tbody>\n",
       "    <tr>\n",
       "      <th>ENFJ</th>\n",
       "    </tr>\n",
       "    <tr>\n",
       "      <th>ENFP</th>\n",
       "    </tr>\n",
       "    <tr>\n",
       "      <th>ENTJ</th>\n",
       "    </tr>\n",
       "    <tr>\n",
       "      <th>ENTP</th>\n",
       "    </tr>\n",
       "    <tr>\n",
       "      <th>ESFJ</th>\n",
       "    </tr>\n",
       "    <tr>\n",
       "      <th>ESFP</th>\n",
       "    </tr>\n",
       "    <tr>\n",
       "      <th>ESTJ</th>\n",
       "    </tr>\n",
       "    <tr>\n",
       "      <th>ESTP</th>\n",
       "    </tr>\n",
       "    <tr>\n",
       "      <th>INFJ</th>\n",
       "    </tr>\n",
       "    <tr>\n",
       "      <th>INFP</th>\n",
       "    </tr>\n",
       "    <tr>\n",
       "      <th>INTJ</th>\n",
       "    </tr>\n",
       "    <tr>\n",
       "      <th>INTP</th>\n",
       "    </tr>\n",
       "    <tr>\n",
       "      <th>ISFJ</th>\n",
       "    </tr>\n",
       "    <tr>\n",
       "      <th>ISFP</th>\n",
       "    </tr>\n",
       "    <tr>\n",
       "      <th>ISTJ</th>\n",
       "    </tr>\n",
       "    <tr>\n",
       "      <th>ISTP</th>\n",
       "    </tr>\n",
       "  </tbody>\n",
       "</table>\n",
       "</div>"
      ],
      "text/plain": [
       "Empty DataFrame\n",
       "Columns: []\n",
       "Index: [ENFJ, ENFP, ENTJ, ENTP, ESFJ, ESFP, ESTJ, ESTP, INFJ, INFP, INTJ, INTP, ISFJ, ISFP, ISTJ, ISTP]"
      ]
     },
     "execution_count": 15,
     "metadata": {},
     "output_type": "execute_result"
    }
   ],
   "source": [
    "df.set_index([\"type\", \"posts\"]).count(level=\"type\")"
   ]
  },
  {
   "cell_type": "code",
   "execution_count": 16,
   "metadata": {},
   "outputs": [
    {
     "ename": "KeyError",
     "evalue": "'post'",
     "output_type": "error",
     "traceback": [
      "\u001b[1;31m---------------------------------------------------------------------------\u001b[0m",
      "\u001b[1;31mKeyError\u001b[0m                                  Traceback (most recent call last)",
      "\u001b[1;32m~\\Anaconda3\\lib\\site-packages\\pandas\\core\\indexes\\base.py\u001b[0m in \u001b[0;36mget_loc\u001b[1;34m(self, key, method, tolerance)\u001b[0m\n\u001b[0;32m   3062\u001b[0m             \u001b[1;32mtry\u001b[0m\u001b[1;33m:\u001b[0m\u001b[1;33m\u001b[0m\u001b[0m\n\u001b[1;32m-> 3063\u001b[1;33m                 \u001b[1;32mreturn\u001b[0m \u001b[0mself\u001b[0m\u001b[1;33m.\u001b[0m\u001b[0m_engine\u001b[0m\u001b[1;33m.\u001b[0m\u001b[0mget_loc\u001b[0m\u001b[1;33m(\u001b[0m\u001b[0mkey\u001b[0m\u001b[1;33m)\u001b[0m\u001b[1;33m\u001b[0m\u001b[0m\n\u001b[0m\u001b[0;32m   3064\u001b[0m             \u001b[1;32mexcept\u001b[0m \u001b[0mKeyError\u001b[0m\u001b[1;33m:\u001b[0m\u001b[1;33m\u001b[0m\u001b[0m\n",
      "\u001b[1;32mpandas\\_libs\\index.pyx\u001b[0m in \u001b[0;36mpandas._libs.index.IndexEngine.get_loc\u001b[1;34m()\u001b[0m\n",
      "\u001b[1;32mpandas\\_libs\\index.pyx\u001b[0m in \u001b[0;36mpandas._libs.index.IndexEngine.get_loc\u001b[1;34m()\u001b[0m\n",
      "\u001b[1;32mpandas\\_libs\\hashtable_class_helper.pxi\u001b[0m in \u001b[0;36mpandas._libs.hashtable.PyObjectHashTable.get_item\u001b[1;34m()\u001b[0m\n",
      "\u001b[1;32mpandas\\_libs\\hashtable_class_helper.pxi\u001b[0m in \u001b[0;36mpandas._libs.hashtable.PyObjectHashTable.get_item\u001b[1;34m()\u001b[0m\n",
      "\u001b[1;31mKeyError\u001b[0m: 'post'",
      "\nDuring handling of the above exception, another exception occurred:\n",
      "\u001b[1;31mKeyError\u001b[0m                                  Traceback (most recent call last)",
      "\u001b[1;32m<ipython-input-16-500d7e038fba>\u001b[0m in \u001b[0;36m<module>\u001b[1;34m()\u001b[0m\n\u001b[1;32m----> 1\u001b[1;33m \u001b[0mdf\u001b[0m\u001b[1;33m.\u001b[0m\u001b[0mset_index\u001b[0m\u001b[1;33m(\u001b[0m\u001b[1;33m[\u001b[0m\u001b[1;34m\"type\"\u001b[0m\u001b[1;33m,\u001b[0m \u001b[1;34m\"post\"\u001b[0m\u001b[1;33m]\u001b[0m\u001b[1;33m)\u001b[0m\u001b[1;33m.\u001b[0m\u001b[0mcount\u001b[0m\u001b[1;33m(\u001b[0m\u001b[0mlevel\u001b[0m\u001b[1;33m=\u001b[0m\u001b[1;34m\"type\"\u001b[0m\u001b[1;33m)\u001b[0m\u001b[1;33m\u001b[0m\u001b[0m\n\u001b[0m",
      "\u001b[1;32m~\\Anaconda3\\lib\\site-packages\\pandas\\core\\frame.py\u001b[0m in \u001b[0;36mset_index\u001b[1;34m(self, keys, drop, append, inplace, verify_integrity)\u001b[0m\n\u001b[0;32m   3904\u001b[0m                 \u001b[0mnames\u001b[0m\u001b[1;33m.\u001b[0m\u001b[0mappend\u001b[0m\u001b[1;33m(\u001b[0m\u001b[1;32mNone\u001b[0m\u001b[1;33m)\u001b[0m\u001b[1;33m\u001b[0m\u001b[0m\n\u001b[0;32m   3905\u001b[0m             \u001b[1;32melse\u001b[0m\u001b[1;33m:\u001b[0m\u001b[1;33m\u001b[0m\u001b[0m\n\u001b[1;32m-> 3906\u001b[1;33m                 \u001b[0mlevel\u001b[0m \u001b[1;33m=\u001b[0m \u001b[0mframe\u001b[0m\u001b[1;33m[\u001b[0m\u001b[0mcol\u001b[0m\u001b[1;33m]\u001b[0m\u001b[1;33m.\u001b[0m\u001b[0m_values\u001b[0m\u001b[1;33m\u001b[0m\u001b[0m\n\u001b[0m\u001b[0;32m   3907\u001b[0m                 \u001b[0mnames\u001b[0m\u001b[1;33m.\u001b[0m\u001b[0mappend\u001b[0m\u001b[1;33m(\u001b[0m\u001b[0mcol\u001b[0m\u001b[1;33m)\u001b[0m\u001b[1;33m\u001b[0m\u001b[0m\n\u001b[0;32m   3908\u001b[0m                 \u001b[1;32mif\u001b[0m \u001b[0mdrop\u001b[0m\u001b[1;33m:\u001b[0m\u001b[1;33m\u001b[0m\u001b[0m\n",
      "\u001b[1;32m~\\Anaconda3\\lib\\site-packages\\pandas\\core\\frame.py\u001b[0m in \u001b[0;36m__getitem__\u001b[1;34m(self, key)\u001b[0m\n\u001b[0;32m   2683\u001b[0m             \u001b[1;32mreturn\u001b[0m \u001b[0mself\u001b[0m\u001b[1;33m.\u001b[0m\u001b[0m_getitem_multilevel\u001b[0m\u001b[1;33m(\u001b[0m\u001b[0mkey\u001b[0m\u001b[1;33m)\u001b[0m\u001b[1;33m\u001b[0m\u001b[0m\n\u001b[0;32m   2684\u001b[0m         \u001b[1;32melse\u001b[0m\u001b[1;33m:\u001b[0m\u001b[1;33m\u001b[0m\u001b[0m\n\u001b[1;32m-> 2685\u001b[1;33m             \u001b[1;32mreturn\u001b[0m \u001b[0mself\u001b[0m\u001b[1;33m.\u001b[0m\u001b[0m_getitem_column\u001b[0m\u001b[1;33m(\u001b[0m\u001b[0mkey\u001b[0m\u001b[1;33m)\u001b[0m\u001b[1;33m\u001b[0m\u001b[0m\n\u001b[0m\u001b[0;32m   2686\u001b[0m \u001b[1;33m\u001b[0m\u001b[0m\n\u001b[0;32m   2687\u001b[0m     \u001b[1;32mdef\u001b[0m \u001b[0m_getitem_column\u001b[0m\u001b[1;33m(\u001b[0m\u001b[0mself\u001b[0m\u001b[1;33m,\u001b[0m \u001b[0mkey\u001b[0m\u001b[1;33m)\u001b[0m\u001b[1;33m:\u001b[0m\u001b[1;33m\u001b[0m\u001b[0m\n",
      "\u001b[1;32m~\\Anaconda3\\lib\\site-packages\\pandas\\core\\frame.py\u001b[0m in \u001b[0;36m_getitem_column\u001b[1;34m(self, key)\u001b[0m\n\u001b[0;32m   2690\u001b[0m         \u001b[1;31m# get column\u001b[0m\u001b[1;33m\u001b[0m\u001b[1;33m\u001b[0m\u001b[0m\n\u001b[0;32m   2691\u001b[0m         \u001b[1;32mif\u001b[0m \u001b[0mself\u001b[0m\u001b[1;33m.\u001b[0m\u001b[0mcolumns\u001b[0m\u001b[1;33m.\u001b[0m\u001b[0mis_unique\u001b[0m\u001b[1;33m:\u001b[0m\u001b[1;33m\u001b[0m\u001b[0m\n\u001b[1;32m-> 2692\u001b[1;33m             \u001b[1;32mreturn\u001b[0m \u001b[0mself\u001b[0m\u001b[1;33m.\u001b[0m\u001b[0m_get_item_cache\u001b[0m\u001b[1;33m(\u001b[0m\u001b[0mkey\u001b[0m\u001b[1;33m)\u001b[0m\u001b[1;33m\u001b[0m\u001b[0m\n\u001b[0m\u001b[0;32m   2693\u001b[0m \u001b[1;33m\u001b[0m\u001b[0m\n\u001b[0;32m   2694\u001b[0m         \u001b[1;31m# duplicate columns & possible reduce dimensionality\u001b[0m\u001b[1;33m\u001b[0m\u001b[1;33m\u001b[0m\u001b[0m\n",
      "\u001b[1;32m~\\Anaconda3\\lib\\site-packages\\pandas\\core\\generic.py\u001b[0m in \u001b[0;36m_get_item_cache\u001b[1;34m(self, item)\u001b[0m\n\u001b[0;32m   2484\u001b[0m         \u001b[0mres\u001b[0m \u001b[1;33m=\u001b[0m \u001b[0mcache\u001b[0m\u001b[1;33m.\u001b[0m\u001b[0mget\u001b[0m\u001b[1;33m(\u001b[0m\u001b[0mitem\u001b[0m\u001b[1;33m)\u001b[0m\u001b[1;33m\u001b[0m\u001b[0m\n\u001b[0;32m   2485\u001b[0m         \u001b[1;32mif\u001b[0m \u001b[0mres\u001b[0m \u001b[1;32mis\u001b[0m \u001b[1;32mNone\u001b[0m\u001b[1;33m:\u001b[0m\u001b[1;33m\u001b[0m\u001b[0m\n\u001b[1;32m-> 2486\u001b[1;33m             \u001b[0mvalues\u001b[0m \u001b[1;33m=\u001b[0m \u001b[0mself\u001b[0m\u001b[1;33m.\u001b[0m\u001b[0m_data\u001b[0m\u001b[1;33m.\u001b[0m\u001b[0mget\u001b[0m\u001b[1;33m(\u001b[0m\u001b[0mitem\u001b[0m\u001b[1;33m)\u001b[0m\u001b[1;33m\u001b[0m\u001b[0m\n\u001b[0m\u001b[0;32m   2487\u001b[0m             \u001b[0mres\u001b[0m \u001b[1;33m=\u001b[0m \u001b[0mself\u001b[0m\u001b[1;33m.\u001b[0m\u001b[0m_box_item_values\u001b[0m\u001b[1;33m(\u001b[0m\u001b[0mitem\u001b[0m\u001b[1;33m,\u001b[0m \u001b[0mvalues\u001b[0m\u001b[1;33m)\u001b[0m\u001b[1;33m\u001b[0m\u001b[0m\n\u001b[0;32m   2488\u001b[0m             \u001b[0mcache\u001b[0m\u001b[1;33m[\u001b[0m\u001b[0mitem\u001b[0m\u001b[1;33m]\u001b[0m \u001b[1;33m=\u001b[0m \u001b[0mres\u001b[0m\u001b[1;33m\u001b[0m\u001b[0m\n",
      "\u001b[1;32m~\\Anaconda3\\lib\\site-packages\\pandas\\core\\internals.py\u001b[0m in \u001b[0;36mget\u001b[1;34m(self, item, fastpath)\u001b[0m\n\u001b[0;32m   4113\u001b[0m \u001b[1;33m\u001b[0m\u001b[0m\n\u001b[0;32m   4114\u001b[0m             \u001b[1;32mif\u001b[0m \u001b[1;32mnot\u001b[0m \u001b[0misna\u001b[0m\u001b[1;33m(\u001b[0m\u001b[0mitem\u001b[0m\u001b[1;33m)\u001b[0m\u001b[1;33m:\u001b[0m\u001b[1;33m\u001b[0m\u001b[0m\n\u001b[1;32m-> 4115\u001b[1;33m                 \u001b[0mloc\u001b[0m \u001b[1;33m=\u001b[0m \u001b[0mself\u001b[0m\u001b[1;33m.\u001b[0m\u001b[0mitems\u001b[0m\u001b[1;33m.\u001b[0m\u001b[0mget_loc\u001b[0m\u001b[1;33m(\u001b[0m\u001b[0mitem\u001b[0m\u001b[1;33m)\u001b[0m\u001b[1;33m\u001b[0m\u001b[0m\n\u001b[0m\u001b[0;32m   4116\u001b[0m             \u001b[1;32melse\u001b[0m\u001b[1;33m:\u001b[0m\u001b[1;33m\u001b[0m\u001b[0m\n\u001b[0;32m   4117\u001b[0m                 \u001b[0mindexer\u001b[0m \u001b[1;33m=\u001b[0m \u001b[0mnp\u001b[0m\u001b[1;33m.\u001b[0m\u001b[0marange\u001b[0m\u001b[1;33m(\u001b[0m\u001b[0mlen\u001b[0m\u001b[1;33m(\u001b[0m\u001b[0mself\u001b[0m\u001b[1;33m.\u001b[0m\u001b[0mitems\u001b[0m\u001b[1;33m)\u001b[0m\u001b[1;33m)\u001b[0m\u001b[1;33m[\u001b[0m\u001b[0misna\u001b[0m\u001b[1;33m(\u001b[0m\u001b[0mself\u001b[0m\u001b[1;33m.\u001b[0m\u001b[0mitems\u001b[0m\u001b[1;33m)\u001b[0m\u001b[1;33m]\u001b[0m\u001b[1;33m\u001b[0m\u001b[0m\n",
      "\u001b[1;32m~\\Anaconda3\\lib\\site-packages\\pandas\\core\\indexes\\base.py\u001b[0m in \u001b[0;36mget_loc\u001b[1;34m(self, key, method, tolerance)\u001b[0m\n\u001b[0;32m   3063\u001b[0m                 \u001b[1;32mreturn\u001b[0m \u001b[0mself\u001b[0m\u001b[1;33m.\u001b[0m\u001b[0m_engine\u001b[0m\u001b[1;33m.\u001b[0m\u001b[0mget_loc\u001b[0m\u001b[1;33m(\u001b[0m\u001b[0mkey\u001b[0m\u001b[1;33m)\u001b[0m\u001b[1;33m\u001b[0m\u001b[0m\n\u001b[0;32m   3064\u001b[0m             \u001b[1;32mexcept\u001b[0m \u001b[0mKeyError\u001b[0m\u001b[1;33m:\u001b[0m\u001b[1;33m\u001b[0m\u001b[0m\n\u001b[1;32m-> 3065\u001b[1;33m                 \u001b[1;32mreturn\u001b[0m \u001b[0mself\u001b[0m\u001b[1;33m.\u001b[0m\u001b[0m_engine\u001b[0m\u001b[1;33m.\u001b[0m\u001b[0mget_loc\u001b[0m\u001b[1;33m(\u001b[0m\u001b[0mself\u001b[0m\u001b[1;33m.\u001b[0m\u001b[0m_maybe_cast_indexer\u001b[0m\u001b[1;33m(\u001b[0m\u001b[0mkey\u001b[0m\u001b[1;33m)\u001b[0m\u001b[1;33m)\u001b[0m\u001b[1;33m\u001b[0m\u001b[0m\n\u001b[0m\u001b[0;32m   3066\u001b[0m \u001b[1;33m\u001b[0m\u001b[0m\n\u001b[0;32m   3067\u001b[0m         \u001b[0mindexer\u001b[0m \u001b[1;33m=\u001b[0m \u001b[0mself\u001b[0m\u001b[1;33m.\u001b[0m\u001b[0mget_indexer\u001b[0m\u001b[1;33m(\u001b[0m\u001b[1;33m[\u001b[0m\u001b[0mkey\u001b[0m\u001b[1;33m]\u001b[0m\u001b[1;33m,\u001b[0m \u001b[0mmethod\u001b[0m\u001b[1;33m=\u001b[0m\u001b[0mmethod\u001b[0m\u001b[1;33m,\u001b[0m \u001b[0mtolerance\u001b[0m\u001b[1;33m=\u001b[0m\u001b[0mtolerance\u001b[0m\u001b[1;33m)\u001b[0m\u001b[1;33m\u001b[0m\u001b[0m\n",
      "\u001b[1;32mpandas\\_libs\\index.pyx\u001b[0m in \u001b[0;36mpandas._libs.index.IndexEngine.get_loc\u001b[1;34m()\u001b[0m\n",
      "\u001b[1;32mpandas\\_libs\\index.pyx\u001b[0m in \u001b[0;36mpandas._libs.index.IndexEngine.get_loc\u001b[1;34m()\u001b[0m\n",
      "\u001b[1;32mpandas\\_libs\\hashtable_class_helper.pxi\u001b[0m in \u001b[0;36mpandas._libs.hashtable.PyObjectHashTable.get_item\u001b[1;34m()\u001b[0m\n",
      "\u001b[1;32mpandas\\_libs\\hashtable_class_helper.pxi\u001b[0m in \u001b[0;36mpandas._libs.hashtable.PyObjectHashTable.get_item\u001b[1;34m()\u001b[0m\n",
      "\u001b[1;31mKeyError\u001b[0m: 'post'"
     ]
    }
   ],
   "source": [
    "df.set_index([\"type\", \"post\"]).count(level=\"type\")"
   ]
  },
  {
   "cell_type": "code",
   "execution_count": 17,
   "metadata": {},
   "outputs": [
    {
     "data": {
      "text/html": [
       "<div>\n",
       "<style scoped>\n",
       "    .dataframe tbody tr th:only-of-type {\n",
       "        vertical-align: middle;\n",
       "    }\n",
       "\n",
       "    .dataframe tbody tr th {\n",
       "        vertical-align: top;\n",
       "    }\n",
       "\n",
       "    .dataframe thead th {\n",
       "        text-align: right;\n",
       "    }\n",
       "</style>\n",
       "<table border=\"1\" class=\"dataframe\">\n",
       "  <thead>\n",
       "    <tr style=\"text-align: right;\">\n",
       "      <th></th>\n",
       "    </tr>\n",
       "    <tr>\n",
       "      <th>type</th>\n",
       "    </tr>\n",
       "  </thead>\n",
       "  <tbody>\n",
       "    <tr>\n",
       "      <th>ENFJ</th>\n",
       "    </tr>\n",
       "    <tr>\n",
       "      <th>ENFP</th>\n",
       "    </tr>\n",
       "    <tr>\n",
       "      <th>ENTJ</th>\n",
       "    </tr>\n",
       "    <tr>\n",
       "      <th>ENTP</th>\n",
       "    </tr>\n",
       "    <tr>\n",
       "      <th>ESFJ</th>\n",
       "    </tr>\n",
       "    <tr>\n",
       "      <th>ESFP</th>\n",
       "    </tr>\n",
       "    <tr>\n",
       "      <th>ESTJ</th>\n",
       "    </tr>\n",
       "    <tr>\n",
       "      <th>ESTP</th>\n",
       "    </tr>\n",
       "    <tr>\n",
       "      <th>INFJ</th>\n",
       "    </tr>\n",
       "    <tr>\n",
       "      <th>INFP</th>\n",
       "    </tr>\n",
       "    <tr>\n",
       "      <th>INTJ</th>\n",
       "    </tr>\n",
       "    <tr>\n",
       "      <th>INTP</th>\n",
       "    </tr>\n",
       "    <tr>\n",
       "      <th>ISFJ</th>\n",
       "    </tr>\n",
       "    <tr>\n",
       "      <th>ISFP</th>\n",
       "    </tr>\n",
       "    <tr>\n",
       "      <th>ISTJ</th>\n",
       "    </tr>\n",
       "    <tr>\n",
       "      <th>ISTP</th>\n",
       "    </tr>\n",
       "  </tbody>\n",
       "</table>\n",
       "</div>"
      ],
      "text/plain": [
       "Empty DataFrame\n",
       "Columns: []\n",
       "Index: [ENFJ, ENFP, ENTJ, ENTP, ESFJ, ESFP, ESTJ, ESTP, INFJ, INFP, INTJ, INTP, ISFJ, ISFP, ISTJ, ISTP]"
      ]
     },
     "execution_count": 17,
     "metadata": {},
     "output_type": "execute_result"
    }
   ],
   "source": [
    "df.set_index([\"type\", \"posts\"]).count(level=\"type\")"
   ]
  },
  {
   "cell_type": "code",
   "execution_count": 18,
   "metadata": {},
   "outputs": [
    {
     "name": "stdout",
     "output_type": "stream",
     "text": [
      "   type                                              posts\n",
      "0  INFJ  'http://www.youtube.com/watch?v=qsXHcwe3krw|||...\n",
      "1  ENTP  'I'm finding the lack of me in these posts ver...\n",
      "2  INTP  'Good one  _____   https://www.youtube.com/wat...\n",
      "3  INTJ  'Dear INTP,   I enjoyed our conversation the o...\n",
      "4  ENTJ  'You're fired.|||That's another silly misconce...\n"
     ]
    }
   ],
   "source": [
    "df.set_index([\"type\", \"posts\"]).count(level=\"type\")\n",
    "print(df.head())"
   ]
  },
  {
   "cell_type": "code",
   "execution_count": 19,
   "metadata": {},
   "outputs": [
    {
     "data": {
      "text/html": [
       "<div>\n",
       "<style scoped>\n",
       "    .dataframe tbody tr th:only-of-type {\n",
       "        vertical-align: middle;\n",
       "    }\n",
       "\n",
       "    .dataframe tbody tr th {\n",
       "        vertical-align: top;\n",
       "    }\n",
       "\n",
       "    .dataframe thead th {\n",
       "        text-align: right;\n",
       "    }\n",
       "</style>\n",
       "<table border=\"1\" class=\"dataframe\">\n",
       "  <thead>\n",
       "    <tr style=\"text-align: right;\">\n",
       "      <th></th>\n",
       "      <th>posts</th>\n",
       "    </tr>\n",
       "    <tr>\n",
       "      <th>type</th>\n",
       "      <th></th>\n",
       "    </tr>\n",
       "  </thead>\n",
       "  <tbody>\n",
       "    <tr>\n",
       "      <th>ENFJ</th>\n",
       "      <td>190</td>\n",
       "    </tr>\n",
       "    <tr>\n",
       "      <th>ENFP</th>\n",
       "      <td>675</td>\n",
       "    </tr>\n",
       "    <tr>\n",
       "      <th>ENTJ</th>\n",
       "      <td>231</td>\n",
       "    </tr>\n",
       "    <tr>\n",
       "      <th>ENTP</th>\n",
       "      <td>685</td>\n",
       "    </tr>\n",
       "    <tr>\n",
       "      <th>ESFJ</th>\n",
       "      <td>42</td>\n",
       "    </tr>\n",
       "    <tr>\n",
       "      <th>ESFP</th>\n",
       "      <td>48</td>\n",
       "    </tr>\n",
       "    <tr>\n",
       "      <th>ESTJ</th>\n",
       "      <td>39</td>\n",
       "    </tr>\n",
       "    <tr>\n",
       "      <th>ESTP</th>\n",
       "      <td>89</td>\n",
       "    </tr>\n",
       "    <tr>\n",
       "      <th>INFJ</th>\n",
       "      <td>1470</td>\n",
       "    </tr>\n",
       "    <tr>\n",
       "      <th>INFP</th>\n",
       "      <td>1832</td>\n",
       "    </tr>\n",
       "    <tr>\n",
       "      <th>INTJ</th>\n",
       "      <td>1091</td>\n",
       "    </tr>\n",
       "    <tr>\n",
       "      <th>INTP</th>\n",
       "      <td>1304</td>\n",
       "    </tr>\n",
       "    <tr>\n",
       "      <th>ISFJ</th>\n",
       "      <td>166</td>\n",
       "    </tr>\n",
       "    <tr>\n",
       "      <th>ISFP</th>\n",
       "      <td>271</td>\n",
       "    </tr>\n",
       "    <tr>\n",
       "      <th>ISTJ</th>\n",
       "      <td>205</td>\n",
       "    </tr>\n",
       "    <tr>\n",
       "      <th>ISTP</th>\n",
       "      <td>337</td>\n",
       "    </tr>\n",
       "  </tbody>\n",
       "</table>\n",
       "</div>"
      ],
      "text/plain": [
       "      posts\n",
       "type       \n",
       "ENFJ    190\n",
       "ENFP    675\n",
       "ENTJ    231\n",
       "ENTP    685\n",
       "ESFJ     42\n",
       "ESFP     48\n",
       "ESTJ     39\n",
       "ESTP     89\n",
       "INFJ   1470\n",
       "INFP   1832\n",
       "INTJ   1091\n",
       "INTP   1304\n",
       "ISFJ    166\n",
       "ISFP    271\n",
       "ISTJ    205\n",
       "ISTP    337"
      ]
     },
     "execution_count": 19,
     "metadata": {},
     "output_type": "execute_result"
    }
   ],
   "source": [
    "df.groupby('type').count().plot(kind='bar',x='name',y='age')"
   ]
  },
  {
   "cell_type": "code",
   "execution_count": 20,
   "metadata": {},
   "outputs": [
    {
     "ename": "KeyError",
     "evalue": "'type'",
     "output_type": "error",
     "traceback": [
      "\u001b[1;31m---------------------------------------------------------------------------\u001b[0m",
      "\u001b[1;31mKeyError\u001b[0m                                  Traceback (most recent call last)",
      "\u001b[1;32m~\\Anaconda3\\lib\\site-packages\\pandas\\core\\indexes\\base.py\u001b[0m in \u001b[0;36mget_loc\u001b[1;34m(self, key, method, tolerance)\u001b[0m\n\u001b[0;32m   3062\u001b[0m             \u001b[1;32mtry\u001b[0m\u001b[1;33m:\u001b[0m\u001b[1;33m\u001b[0m\u001b[0m\n\u001b[1;32m-> 3063\u001b[1;33m                 \u001b[1;32mreturn\u001b[0m \u001b[0mself\u001b[0m\u001b[1;33m.\u001b[0m\u001b[0m_engine\u001b[0m\u001b[1;33m.\u001b[0m\u001b[0mget_loc\u001b[0m\u001b[1;33m(\u001b[0m\u001b[0mkey\u001b[0m\u001b[1;33m)\u001b[0m\u001b[1;33m\u001b[0m\u001b[0m\n\u001b[0m\u001b[0;32m   3064\u001b[0m             \u001b[1;32mexcept\u001b[0m \u001b[0mKeyError\u001b[0m\u001b[1;33m:\u001b[0m\u001b[1;33m\u001b[0m\u001b[0m\n",
      "\u001b[1;32mpandas\\_libs\\index.pyx\u001b[0m in \u001b[0;36mpandas._libs.index.IndexEngine.get_loc\u001b[1;34m()\u001b[0m\n",
      "\u001b[1;32mpandas\\_libs\\index.pyx\u001b[0m in \u001b[0;36mpandas._libs.index.IndexEngine.get_loc\u001b[1;34m()\u001b[0m\n",
      "\u001b[1;32mpandas\\_libs\\hashtable_class_helper.pxi\u001b[0m in \u001b[0;36mpandas._libs.hashtable.PyObjectHashTable.get_item\u001b[1;34m()\u001b[0m\n",
      "\u001b[1;32mpandas\\_libs\\hashtable_class_helper.pxi\u001b[0m in \u001b[0;36mpandas._libs.hashtable.PyObjectHashTable.get_item\u001b[1;34m()\u001b[0m\n",
      "\u001b[1;31mKeyError\u001b[0m: 'type'",
      "\nDuring handling of the above exception, another exception occurred:\n",
      "\u001b[1;31mKeyError\u001b[0m                                  Traceback (most recent call last)",
      "\u001b[1;32m<ipython-input-20-7a1eb9f669a5>\u001b[0m in \u001b[0;36m<module>\u001b[1;34m()\u001b[0m\n\u001b[1;32m----> 1\u001b[1;33m \u001b[0mdf\u001b[0m\u001b[1;33m.\u001b[0m\u001b[0mgroupby\u001b[0m\u001b[1;33m(\u001b[0m\u001b[1;34m'type'\u001b[0m\u001b[1;33m)\u001b[0m\u001b[1;33m.\u001b[0m\u001b[0mcount\u001b[0m\u001b[1;33m(\u001b[0m\u001b[1;33m)\u001b[0m\u001b[1;33m.\u001b[0m\u001b[0mplot\u001b[0m\u001b[1;33m(\u001b[0m\u001b[0mkind\u001b[0m\u001b[1;33m=\u001b[0m\u001b[1;34m'bar'\u001b[0m\u001b[1;33m,\u001b[0m\u001b[0mx\u001b[0m\u001b[1;33m=\u001b[0m\u001b[1;34m'type'\u001b[0m\u001b[1;33m,\u001b[0m\u001b[0my\u001b[0m\u001b[1;33m=\u001b[0m\u001b[1;34m'amount of each'\u001b[0m\u001b[1;33m)\u001b[0m\u001b[1;33m\u001b[0m\u001b[0m\n\u001b[0m",
      "\u001b[1;32m~\\Anaconda3\\lib\\site-packages\\pandas\\plotting\\_core.py\u001b[0m in \u001b[0;36m__call__\u001b[1;34m(self, x, y, kind, ax, subplots, sharex, sharey, layout, figsize, use_index, title, grid, legend, style, logx, logy, loglog, xticks, yticks, xlim, ylim, rot, fontsize, colormap, table, yerr, xerr, secondary_y, sort_columns, **kwds)\u001b[0m\n\u001b[0;32m   2939\u001b[0m                           \u001b[0mfontsize\u001b[0m\u001b[1;33m=\u001b[0m\u001b[0mfontsize\u001b[0m\u001b[1;33m,\u001b[0m \u001b[0mcolormap\u001b[0m\u001b[1;33m=\u001b[0m\u001b[0mcolormap\u001b[0m\u001b[1;33m,\u001b[0m \u001b[0mtable\u001b[0m\u001b[1;33m=\u001b[0m\u001b[0mtable\u001b[0m\u001b[1;33m,\u001b[0m\u001b[1;33m\u001b[0m\u001b[0m\n\u001b[0;32m   2940\u001b[0m                           \u001b[0myerr\u001b[0m\u001b[1;33m=\u001b[0m\u001b[0myerr\u001b[0m\u001b[1;33m,\u001b[0m \u001b[0mxerr\u001b[0m\u001b[1;33m=\u001b[0m\u001b[0mxerr\u001b[0m\u001b[1;33m,\u001b[0m \u001b[0msecondary_y\u001b[0m\u001b[1;33m=\u001b[0m\u001b[0msecondary_y\u001b[0m\u001b[1;33m,\u001b[0m\u001b[1;33m\u001b[0m\u001b[0m\n\u001b[1;32m-> 2941\u001b[1;33m                           sort_columns=sort_columns, **kwds)\n\u001b[0m\u001b[0;32m   2942\u001b[0m     \u001b[0m__call__\u001b[0m\u001b[1;33m.\u001b[0m\u001b[0m__doc__\u001b[0m \u001b[1;33m=\u001b[0m \u001b[0mplot_frame\u001b[0m\u001b[1;33m.\u001b[0m\u001b[0m__doc__\u001b[0m\u001b[1;33m\u001b[0m\u001b[0m\n\u001b[0;32m   2943\u001b[0m \u001b[1;33m\u001b[0m\u001b[0m\n",
      "\u001b[1;32m~\\Anaconda3\\lib\\site-packages\\pandas\\plotting\\_core.py\u001b[0m in \u001b[0;36mplot_frame\u001b[1;34m(data, x, y, kind, ax, subplots, sharex, sharey, layout, figsize, use_index, title, grid, legend, style, logx, logy, loglog, xticks, yticks, xlim, ylim, rot, fontsize, colormap, table, yerr, xerr, secondary_y, sort_columns, **kwds)\u001b[0m\n\u001b[0;32m   1975\u001b[0m                  \u001b[0myerr\u001b[0m\u001b[1;33m=\u001b[0m\u001b[0myerr\u001b[0m\u001b[1;33m,\u001b[0m \u001b[0mxerr\u001b[0m\u001b[1;33m=\u001b[0m\u001b[0mxerr\u001b[0m\u001b[1;33m,\u001b[0m\u001b[1;33m\u001b[0m\u001b[0m\n\u001b[0;32m   1976\u001b[0m                  \u001b[0msecondary_y\u001b[0m\u001b[1;33m=\u001b[0m\u001b[0msecondary_y\u001b[0m\u001b[1;33m,\u001b[0m \u001b[0msort_columns\u001b[0m\u001b[1;33m=\u001b[0m\u001b[0msort_columns\u001b[0m\u001b[1;33m,\u001b[0m\u001b[1;33m\u001b[0m\u001b[0m\n\u001b[1;32m-> 1977\u001b[1;33m                  **kwds)\n\u001b[0m\u001b[0;32m   1978\u001b[0m \u001b[1;33m\u001b[0m\u001b[0m\n\u001b[0;32m   1979\u001b[0m \u001b[1;33m\u001b[0m\u001b[0m\n",
      "\u001b[1;32m~\\Anaconda3\\lib\\site-packages\\pandas\\plotting\\_core.py\u001b[0m in \u001b[0;36m_plot\u001b[1;34m(data, x, y, subplots, ax, kind, **kwds)\u001b[0m\n\u001b[0;32m   1764\u001b[0m                 \u001b[1;32mif\u001b[0m \u001b[0mis_integer\u001b[0m\u001b[1;33m(\u001b[0m\u001b[0mx\u001b[0m\u001b[1;33m)\u001b[0m \u001b[1;32mand\u001b[0m \u001b[1;32mnot\u001b[0m \u001b[0mdata\u001b[0m\u001b[1;33m.\u001b[0m\u001b[0mcolumns\u001b[0m\u001b[1;33m.\u001b[0m\u001b[0mholds_integer\u001b[0m\u001b[1;33m(\u001b[0m\u001b[1;33m)\u001b[0m\u001b[1;33m:\u001b[0m\u001b[1;33m\u001b[0m\u001b[0m\n\u001b[0;32m   1765\u001b[0m                     \u001b[0mx\u001b[0m \u001b[1;33m=\u001b[0m \u001b[0mdata_cols\u001b[0m\u001b[1;33m[\u001b[0m\u001b[0mx\u001b[0m\u001b[1;33m]\u001b[0m\u001b[1;33m\u001b[0m\u001b[0m\n\u001b[1;32m-> 1766\u001b[1;33m                 \u001b[1;32melif\u001b[0m \u001b[1;32mnot\u001b[0m \u001b[0misinstance\u001b[0m\u001b[1;33m(\u001b[0m\u001b[0mdata\u001b[0m\u001b[1;33m[\u001b[0m\u001b[0mx\u001b[0m\u001b[1;33m]\u001b[0m\u001b[1;33m,\u001b[0m \u001b[0mABCSeries\u001b[0m\u001b[1;33m)\u001b[0m\u001b[1;33m:\u001b[0m\u001b[1;33m\u001b[0m\u001b[0m\n\u001b[0m\u001b[0;32m   1767\u001b[0m                     \u001b[1;32mraise\u001b[0m \u001b[0mValueError\u001b[0m\u001b[1;33m(\u001b[0m\u001b[1;34m\"x must be a label or position\"\u001b[0m\u001b[1;33m)\u001b[0m\u001b[1;33m\u001b[0m\u001b[0m\n\u001b[0;32m   1768\u001b[0m                 \u001b[0mdata\u001b[0m \u001b[1;33m=\u001b[0m \u001b[0mdata\u001b[0m\u001b[1;33m.\u001b[0m\u001b[0mset_index\u001b[0m\u001b[1;33m(\u001b[0m\u001b[0mx\u001b[0m\u001b[1;33m)\u001b[0m\u001b[1;33m\u001b[0m\u001b[0m\n",
      "\u001b[1;32m~\\Anaconda3\\lib\\site-packages\\pandas\\core\\frame.py\u001b[0m in \u001b[0;36m__getitem__\u001b[1;34m(self, key)\u001b[0m\n\u001b[0;32m   2683\u001b[0m             \u001b[1;32mreturn\u001b[0m \u001b[0mself\u001b[0m\u001b[1;33m.\u001b[0m\u001b[0m_getitem_multilevel\u001b[0m\u001b[1;33m(\u001b[0m\u001b[0mkey\u001b[0m\u001b[1;33m)\u001b[0m\u001b[1;33m\u001b[0m\u001b[0m\n\u001b[0;32m   2684\u001b[0m         \u001b[1;32melse\u001b[0m\u001b[1;33m:\u001b[0m\u001b[1;33m\u001b[0m\u001b[0m\n\u001b[1;32m-> 2685\u001b[1;33m             \u001b[1;32mreturn\u001b[0m \u001b[0mself\u001b[0m\u001b[1;33m.\u001b[0m\u001b[0m_getitem_column\u001b[0m\u001b[1;33m(\u001b[0m\u001b[0mkey\u001b[0m\u001b[1;33m)\u001b[0m\u001b[1;33m\u001b[0m\u001b[0m\n\u001b[0m\u001b[0;32m   2686\u001b[0m \u001b[1;33m\u001b[0m\u001b[0m\n\u001b[0;32m   2687\u001b[0m     \u001b[1;32mdef\u001b[0m \u001b[0m_getitem_column\u001b[0m\u001b[1;33m(\u001b[0m\u001b[0mself\u001b[0m\u001b[1;33m,\u001b[0m \u001b[0mkey\u001b[0m\u001b[1;33m)\u001b[0m\u001b[1;33m:\u001b[0m\u001b[1;33m\u001b[0m\u001b[0m\n",
      "\u001b[1;32m~\\Anaconda3\\lib\\site-packages\\pandas\\core\\frame.py\u001b[0m in \u001b[0;36m_getitem_column\u001b[1;34m(self, key)\u001b[0m\n\u001b[0;32m   2690\u001b[0m         \u001b[1;31m# get column\u001b[0m\u001b[1;33m\u001b[0m\u001b[1;33m\u001b[0m\u001b[0m\n\u001b[0;32m   2691\u001b[0m         \u001b[1;32mif\u001b[0m \u001b[0mself\u001b[0m\u001b[1;33m.\u001b[0m\u001b[0mcolumns\u001b[0m\u001b[1;33m.\u001b[0m\u001b[0mis_unique\u001b[0m\u001b[1;33m:\u001b[0m\u001b[1;33m\u001b[0m\u001b[0m\n\u001b[1;32m-> 2692\u001b[1;33m             \u001b[1;32mreturn\u001b[0m \u001b[0mself\u001b[0m\u001b[1;33m.\u001b[0m\u001b[0m_get_item_cache\u001b[0m\u001b[1;33m(\u001b[0m\u001b[0mkey\u001b[0m\u001b[1;33m)\u001b[0m\u001b[1;33m\u001b[0m\u001b[0m\n\u001b[0m\u001b[0;32m   2693\u001b[0m \u001b[1;33m\u001b[0m\u001b[0m\n\u001b[0;32m   2694\u001b[0m         \u001b[1;31m# duplicate columns & possible reduce dimensionality\u001b[0m\u001b[1;33m\u001b[0m\u001b[1;33m\u001b[0m\u001b[0m\n",
      "\u001b[1;32m~\\Anaconda3\\lib\\site-packages\\pandas\\core\\generic.py\u001b[0m in \u001b[0;36m_get_item_cache\u001b[1;34m(self, item)\u001b[0m\n\u001b[0;32m   2484\u001b[0m         \u001b[0mres\u001b[0m \u001b[1;33m=\u001b[0m \u001b[0mcache\u001b[0m\u001b[1;33m.\u001b[0m\u001b[0mget\u001b[0m\u001b[1;33m(\u001b[0m\u001b[0mitem\u001b[0m\u001b[1;33m)\u001b[0m\u001b[1;33m\u001b[0m\u001b[0m\n\u001b[0;32m   2485\u001b[0m         \u001b[1;32mif\u001b[0m \u001b[0mres\u001b[0m \u001b[1;32mis\u001b[0m \u001b[1;32mNone\u001b[0m\u001b[1;33m:\u001b[0m\u001b[1;33m\u001b[0m\u001b[0m\n\u001b[1;32m-> 2486\u001b[1;33m             \u001b[0mvalues\u001b[0m \u001b[1;33m=\u001b[0m \u001b[0mself\u001b[0m\u001b[1;33m.\u001b[0m\u001b[0m_data\u001b[0m\u001b[1;33m.\u001b[0m\u001b[0mget\u001b[0m\u001b[1;33m(\u001b[0m\u001b[0mitem\u001b[0m\u001b[1;33m)\u001b[0m\u001b[1;33m\u001b[0m\u001b[0m\n\u001b[0m\u001b[0;32m   2487\u001b[0m             \u001b[0mres\u001b[0m \u001b[1;33m=\u001b[0m \u001b[0mself\u001b[0m\u001b[1;33m.\u001b[0m\u001b[0m_box_item_values\u001b[0m\u001b[1;33m(\u001b[0m\u001b[0mitem\u001b[0m\u001b[1;33m,\u001b[0m \u001b[0mvalues\u001b[0m\u001b[1;33m)\u001b[0m\u001b[1;33m\u001b[0m\u001b[0m\n\u001b[0;32m   2488\u001b[0m             \u001b[0mcache\u001b[0m\u001b[1;33m[\u001b[0m\u001b[0mitem\u001b[0m\u001b[1;33m]\u001b[0m \u001b[1;33m=\u001b[0m \u001b[0mres\u001b[0m\u001b[1;33m\u001b[0m\u001b[0m\n",
      "\u001b[1;32m~\\Anaconda3\\lib\\site-packages\\pandas\\core\\internals.py\u001b[0m in \u001b[0;36mget\u001b[1;34m(self, item, fastpath)\u001b[0m\n\u001b[0;32m   4113\u001b[0m \u001b[1;33m\u001b[0m\u001b[0m\n\u001b[0;32m   4114\u001b[0m             \u001b[1;32mif\u001b[0m \u001b[1;32mnot\u001b[0m \u001b[0misna\u001b[0m\u001b[1;33m(\u001b[0m\u001b[0mitem\u001b[0m\u001b[1;33m)\u001b[0m\u001b[1;33m:\u001b[0m\u001b[1;33m\u001b[0m\u001b[0m\n\u001b[1;32m-> 4115\u001b[1;33m                 \u001b[0mloc\u001b[0m \u001b[1;33m=\u001b[0m \u001b[0mself\u001b[0m\u001b[1;33m.\u001b[0m\u001b[0mitems\u001b[0m\u001b[1;33m.\u001b[0m\u001b[0mget_loc\u001b[0m\u001b[1;33m(\u001b[0m\u001b[0mitem\u001b[0m\u001b[1;33m)\u001b[0m\u001b[1;33m\u001b[0m\u001b[0m\n\u001b[0m\u001b[0;32m   4116\u001b[0m             \u001b[1;32melse\u001b[0m\u001b[1;33m:\u001b[0m\u001b[1;33m\u001b[0m\u001b[0m\n\u001b[0;32m   4117\u001b[0m                 \u001b[0mindexer\u001b[0m \u001b[1;33m=\u001b[0m \u001b[0mnp\u001b[0m\u001b[1;33m.\u001b[0m\u001b[0marange\u001b[0m\u001b[1;33m(\u001b[0m\u001b[0mlen\u001b[0m\u001b[1;33m(\u001b[0m\u001b[0mself\u001b[0m\u001b[1;33m.\u001b[0m\u001b[0mitems\u001b[0m\u001b[1;33m)\u001b[0m\u001b[1;33m)\u001b[0m\u001b[1;33m[\u001b[0m\u001b[0misna\u001b[0m\u001b[1;33m(\u001b[0m\u001b[0mself\u001b[0m\u001b[1;33m.\u001b[0m\u001b[0mitems\u001b[0m\u001b[1;33m)\u001b[0m\u001b[1;33m]\u001b[0m\u001b[1;33m\u001b[0m\u001b[0m\n",
      "\u001b[1;32m~\\Anaconda3\\lib\\site-packages\\pandas\\core\\indexes\\base.py\u001b[0m in \u001b[0;36mget_loc\u001b[1;34m(self, key, method, tolerance)\u001b[0m\n\u001b[0;32m   3063\u001b[0m                 \u001b[1;32mreturn\u001b[0m \u001b[0mself\u001b[0m\u001b[1;33m.\u001b[0m\u001b[0m_engine\u001b[0m\u001b[1;33m.\u001b[0m\u001b[0mget_loc\u001b[0m\u001b[1;33m(\u001b[0m\u001b[0mkey\u001b[0m\u001b[1;33m)\u001b[0m\u001b[1;33m\u001b[0m\u001b[0m\n\u001b[0;32m   3064\u001b[0m             \u001b[1;32mexcept\u001b[0m \u001b[0mKeyError\u001b[0m\u001b[1;33m:\u001b[0m\u001b[1;33m\u001b[0m\u001b[0m\n\u001b[1;32m-> 3065\u001b[1;33m                 \u001b[1;32mreturn\u001b[0m \u001b[0mself\u001b[0m\u001b[1;33m.\u001b[0m\u001b[0m_engine\u001b[0m\u001b[1;33m.\u001b[0m\u001b[0mget_loc\u001b[0m\u001b[1;33m(\u001b[0m\u001b[0mself\u001b[0m\u001b[1;33m.\u001b[0m\u001b[0m_maybe_cast_indexer\u001b[0m\u001b[1;33m(\u001b[0m\u001b[0mkey\u001b[0m\u001b[1;33m)\u001b[0m\u001b[1;33m)\u001b[0m\u001b[1;33m\u001b[0m\u001b[0m\n\u001b[0m\u001b[0;32m   3066\u001b[0m \u001b[1;33m\u001b[0m\u001b[0m\n\u001b[0;32m   3067\u001b[0m         \u001b[0mindexer\u001b[0m \u001b[1;33m=\u001b[0m \u001b[0mself\u001b[0m\u001b[1;33m.\u001b[0m\u001b[0mget_indexer\u001b[0m\u001b[1;33m(\u001b[0m\u001b[1;33m[\u001b[0m\u001b[0mkey\u001b[0m\u001b[1;33m]\u001b[0m\u001b[1;33m,\u001b[0m \u001b[0mmethod\u001b[0m\u001b[1;33m=\u001b[0m\u001b[0mmethod\u001b[0m\u001b[1;33m,\u001b[0m \u001b[0mtolerance\u001b[0m\u001b[1;33m=\u001b[0m\u001b[0mtolerance\u001b[0m\u001b[1;33m)\u001b[0m\u001b[1;33m\u001b[0m\u001b[0m\n",
      "\u001b[1;32mpandas\\_libs\\index.pyx\u001b[0m in \u001b[0;36mpandas._libs.index.IndexEngine.get_loc\u001b[1;34m()\u001b[0m\n",
      "\u001b[1;32mpandas\\_libs\\index.pyx\u001b[0m in \u001b[0;36mpandas._libs.index.IndexEngine.get_loc\u001b[1;34m()\u001b[0m\n",
      "\u001b[1;32mpandas\\_libs\\hashtable_class_helper.pxi\u001b[0m in \u001b[0;36mpandas._libs.hashtable.PyObjectHashTable.get_item\u001b[1;34m()\u001b[0m\n",
      "\u001b[1;32mpandas\\_libs\\hashtable_class_helper.pxi\u001b[0m in \u001b[0;36mpandas._libs.hashtable.PyObjectHashTable.get_item\u001b[1;34m()\u001b[0m\n",
      "\u001b[1;31mKeyError\u001b[0m: 'type'"
     ]
    }
   ],
   "source": [
    "df.groupby('type').count().plot(kind='bar',x='type',y='amount of each')"
   ]
  },
  {
   "cell_type": "code",
   "execution_count": 21,
   "metadata": {},
   "outputs": [
    {
     "data": {
      "text/plain": [
       "<matplotlib.axes._subplots.AxesSubplot at 0x151243462b0>"
      ]
     },
     "execution_count": 21,
     "metadata": {},
     "output_type": "execute_result"
    },
    {
     "data": {
      "image/png": "[encoded data removed]",
      "text/plain": [
       "<Figure size 432x288 with 1 Axes>"
      ]
     },
     "metadata": {},
     "output_type": "display_data"
    }
   ],
   "source": [
    "df.groupby('type').count().plot(kind='bar')"
   ]
  },
  {
   "cell_type": "code",
   "execution_count": 22,
   "metadata": {},
   "outputs": [
    {
     "ename": "KeyError",
     "evalue": "'amount of each sample'",
     "output_type": "error",
     "traceback": [
      "\u001b[1;31m---------------------------------------------------------------------------\u001b[0m",
      "\u001b[1;31mKeyError\u001b[0m                                  Traceback (most recent call last)",
      "\u001b[1;32m~\\Anaconda3\\lib\\site-packages\\pandas\\core\\indexes\\base.py\u001b[0m in \u001b[0;36mget_loc\u001b[1;34m(self, key, method, tolerance)\u001b[0m\n\u001b[0;32m   3062\u001b[0m             \u001b[1;32mtry\u001b[0m\u001b[1;33m:\u001b[0m\u001b[1;33m\u001b[0m\u001b[0m\n\u001b[1;32m-> 3063\u001b[1;33m                 \u001b[1;32mreturn\u001b[0m \u001b[0mself\u001b[0m\u001b[1;33m.\u001b[0m\u001b[0m_engine\u001b[0m\u001b[1;33m.\u001b[0m\u001b[0mget_loc\u001b[0m\u001b[1;33m(\u001b[0m\u001b[0mkey\u001b[0m\u001b[1;33m)\u001b[0m\u001b[1;33m\u001b[0m\u001b[0m\n\u001b[0m\u001b[0;32m   3064\u001b[0m             \u001b[1;32mexcept\u001b[0m \u001b[0mKeyError\u001b[0m\u001b[1;33m:\u001b[0m\u001b[1;33m\u001b[0m\u001b[0m\n",
      "\u001b[1;32mpandas\\_libs\\index.pyx\u001b[0m in \u001b[0;36mpandas._libs.index.IndexEngine.get_loc\u001b[1;34m()\u001b[0m\n",
      "\u001b[1;32mpandas\\_libs\\index.pyx\u001b[0m in \u001b[0;36mpandas._libs.index.IndexEngine.get_loc\u001b[1;34m()\u001b[0m\n",
      "\u001b[1;32mpandas\\_libs\\hashtable_class_helper.pxi\u001b[0m in \u001b[0;36mpandas._libs.hashtable.PyObjectHashTable.get_item\u001b[1;34m()\u001b[0m\n",
      "\u001b[1;32mpandas\\_libs\\hashtable_class_helper.pxi\u001b[0m in \u001b[0;36mpandas._libs.hashtable.PyObjectHashTable.get_item\u001b[1;34m()\u001b[0m\n",
      "\u001b[1;31mKeyError\u001b[0m: 'amount of each sample'",
      "\nDuring handling of the above exception, another exception occurred:\n",
      "\u001b[1;31mKeyError\u001b[0m                                  Traceback (most recent call last)",
      "\u001b[1;32m<ipython-input-22-2086c38c6f78>\u001b[0m in \u001b[0;36m<module>\u001b[1;34m()\u001b[0m\n\u001b[1;32m----> 1\u001b[1;33m \u001b[0mdf\u001b[0m\u001b[1;33m.\u001b[0m\u001b[0mgroupby\u001b[0m\u001b[1;33m(\u001b[0m\u001b[1;34m'type'\u001b[0m\u001b[1;33m)\u001b[0m\u001b[1;33m.\u001b[0m\u001b[0mcount\u001b[0m\u001b[1;33m(\u001b[0m\u001b[1;33m)\u001b[0m\u001b[1;33m.\u001b[0m\u001b[0mplot\u001b[0m\u001b[1;33m(\u001b[0m\u001b[0mkind\u001b[0m\u001b[1;33m=\u001b[0m\u001b[1;34m'bar'\u001b[0m\u001b[1;33m,\u001b[0m\u001b[0my\u001b[0m\u001b[1;33m=\u001b[0m\u001b[1;34m'amount of each sample'\u001b[0m\u001b[1;33m)\u001b[0m\u001b[1;33m\u001b[0m\u001b[0m\n\u001b[0m",
      "\u001b[1;32m~\\Anaconda3\\lib\\site-packages\\pandas\\plotting\\_core.py\u001b[0m in \u001b[0;36m__call__\u001b[1;34m(self, x, y, kind, ax, subplots, sharex, sharey, layout, figsize, use_index, title, grid, legend, style, logx, logy, loglog, xticks, yticks, xlim, ylim, rot, fontsize, colormap, table, yerr, xerr, secondary_y, sort_columns, **kwds)\u001b[0m\n\u001b[0;32m   2939\u001b[0m                           \u001b[0mfontsize\u001b[0m\u001b[1;33m=\u001b[0m\u001b[0mfontsize\u001b[0m\u001b[1;33m,\u001b[0m \u001b[0mcolormap\u001b[0m\u001b[1;33m=\u001b[0m\u001b[0mcolormap\u001b[0m\u001b[1;33m,\u001b[0m \u001b[0mtable\u001b[0m\u001b[1;33m=\u001b[0m\u001b[0mtable\u001b[0m\u001b[1;33m,\u001b[0m\u001b[1;33m\u001b[0m\u001b[0m\n\u001b[0;32m   2940\u001b[0m                           \u001b[0myerr\u001b[0m\u001b[1;33m=\u001b[0m\u001b[0myerr\u001b[0m\u001b[1;33m,\u001b[0m \u001b[0mxerr\u001b[0m\u001b[1;33m=\u001b[0m\u001b[0mxerr\u001b[0m\u001b[1;33m,\u001b[0m \u001b[0msecondary_y\u001b[0m\u001b[1;33m=\u001b[0m\u001b[0msecondary_y\u001b[0m\u001b[1;33m,\u001b[0m\u001b[1;33m\u001b[0m\u001b[0m\n\u001b[1;32m-> 2941\u001b[1;33m                           sort_columns=sort_columns, **kwds)\n\u001b[0m\u001b[0;32m   2942\u001b[0m     \u001b[0m__call__\u001b[0m\u001b[1;33m.\u001b[0m\u001b[0m__doc__\u001b[0m \u001b[1;33m=\u001b[0m \u001b[0mplot_frame\u001b[0m\u001b[1;33m.\u001b[0m\u001b[0m__doc__\u001b[0m\u001b[1;33m\u001b[0m\u001b[0m\n\u001b[0;32m   2943\u001b[0m \u001b[1;33m\u001b[0m\u001b[0m\n",
      "\u001b[1;32m~\\Anaconda3\\lib\\site-packages\\pandas\\plotting\\_core.py\u001b[0m in \u001b[0;36mplot_frame\u001b[1;34m(data, x, y, kind, ax, subplots, sharex, sharey, layout, figsize, use_index, title, grid, legend, style, logx, logy, loglog, xticks, yticks, xlim, ylim, rot, fontsize, colormap, table, yerr, xerr, secondary_y, sort_columns, **kwds)\u001b[0m\n\u001b[0;32m   1975\u001b[0m                  \u001b[0myerr\u001b[0m\u001b[1;33m=\u001b[0m\u001b[0myerr\u001b[0m\u001b[1;33m,\u001b[0m \u001b[0mxerr\u001b[0m\u001b[1;33m=\u001b[0m\u001b[0mxerr\u001b[0m\u001b[1;33m,\u001b[0m\u001b[1;33m\u001b[0m\u001b[0m\n\u001b[0;32m   1976\u001b[0m                  \u001b[0msecondary_y\u001b[0m\u001b[1;33m=\u001b[0m\u001b[0msecondary_y\u001b[0m\u001b[1;33m,\u001b[0m \u001b[0msort_columns\u001b[0m\u001b[1;33m=\u001b[0m\u001b[0msort_columns\u001b[0m\u001b[1;33m,\u001b[0m\u001b[1;33m\u001b[0m\u001b[0m\n\u001b[1;32m-> 1977\u001b[1;33m                  **kwds)\n\u001b[0m\u001b[0;32m   1978\u001b[0m \u001b[1;33m\u001b[0m\u001b[0m\n\u001b[0;32m   1979\u001b[0m \u001b[1;33m\u001b[0m\u001b[0m\n",
      "\u001b[1;32m~\\Anaconda3\\lib\\site-packages\\pandas\\plotting\\_core.py\u001b[0m in \u001b[0;36m_plot\u001b[1;34m(data, x, y, subplots, ax, kind, **kwds)\u001b[0m\n\u001b[0;32m   1786\u001b[0m \u001b[1;33m\u001b[0m\u001b[0m\n\u001b[0;32m   1787\u001b[0m                 \u001b[1;31m# don't overwrite\u001b[0m\u001b[1;33m\u001b[0m\u001b[1;33m\u001b[0m\u001b[0m\n\u001b[1;32m-> 1788\u001b[1;33m                 \u001b[0mdata\u001b[0m \u001b[1;33m=\u001b[0m \u001b[0mdata\u001b[0m\u001b[1;33m[\u001b[0m\u001b[0my\u001b[0m\u001b[1;33m]\u001b[0m\u001b[1;33m.\u001b[0m\u001b[0mcopy\u001b[0m\u001b[1;33m(\u001b[0m\u001b[1;33m)\u001b[0m\u001b[1;33m\u001b[0m\u001b[0m\n\u001b[0m\u001b[0;32m   1789\u001b[0m \u001b[1;33m\u001b[0m\u001b[0m\n\u001b[0;32m   1790\u001b[0m                 \u001b[1;32mif\u001b[0m \u001b[0misinstance\u001b[0m\u001b[1;33m(\u001b[0m\u001b[0mdata\u001b[0m\u001b[1;33m,\u001b[0m \u001b[0mABCSeries\u001b[0m\u001b[1;33m)\u001b[0m\u001b[1;33m:\u001b[0m\u001b[1;33m\u001b[0m\u001b[0m\n",
      "\u001b[1;32m~\\Anaconda3\\lib\\site-packages\\pandas\\core\\frame.py\u001b[0m in \u001b[0;36m__getitem__\u001b[1;34m(self, key)\u001b[0m\n\u001b[0;32m   2683\u001b[0m             \u001b[1;32mreturn\u001b[0m \u001b[0mself\u001b[0m\u001b[1;33m.\u001b[0m\u001b[0m_getitem_multilevel\u001b[0m\u001b[1;33m(\u001b[0m\u001b[0mkey\u001b[0m\u001b[1;33m)\u001b[0m\u001b[1;33m\u001b[0m\u001b[0m\n\u001b[0;32m   2684\u001b[0m         \u001b[1;32melse\u001b[0m\u001b[1;33m:\u001b[0m\u001b[1;33m\u001b[0m\u001b[0m\n\u001b[1;32m-> 2685\u001b[1;33m             \u001b[1;32mreturn\u001b[0m \u001b[0mself\u001b[0m\u001b[1;33m.\u001b[0m\u001b[0m_getitem_column\u001b[0m\u001b[1;33m(\u001b[0m\u001b[0mkey\u001b[0m\u001b[1;33m)\u001b[0m\u001b[1;33m\u001b[0m\u001b[0m\n\u001b[0m\u001b[0;32m   2686\u001b[0m \u001b[1;33m\u001b[0m\u001b[0m\n\u001b[0;32m   2687\u001b[0m     \u001b[1;32mdef\u001b[0m \u001b[0m_getitem_column\u001b[0m\u001b[1;33m(\u001b[0m\u001b[0mself\u001b[0m\u001b[1;33m,\u001b[0m \u001b[0mkey\u001b[0m\u001b[1;33m)\u001b[0m\u001b[1;33m:\u001b[0m\u001b[1;33m\u001b[0m\u001b[0m\n",
      "\u001b[1;32m~\\Anaconda3\\lib\\site-packages\\pandas\\core\\frame.py\u001b[0m in \u001b[0;36m_getitem_column\u001b[1;34m(self, key)\u001b[0m\n\u001b[0;32m   2690\u001b[0m         \u001b[1;31m# get column\u001b[0m\u001b[1;33m\u001b[0m\u001b[1;33m\u001b[0m\u001b[0m\n\u001b[0;32m   2691\u001b[0m         \u001b[1;32mif\u001b[0m \u001b[0mself\u001b[0m\u001b[1;33m.\u001b[0m\u001b[0mcolumns\u001b[0m\u001b[1;33m.\u001b[0m\u001b[0mis_unique\u001b[0m\u001b[1;33m:\u001b[0m\u001b[1;33m\u001b[0m\u001b[0m\n\u001b[1;32m-> 2692\u001b[1;33m             \u001b[1;32mreturn\u001b[0m \u001b[0mself\u001b[0m\u001b[1;33m.\u001b[0m\u001b[0m_get_item_cache\u001b[0m\u001b[1;33m(\u001b[0m\u001b[0mkey\u001b[0m\u001b[1;33m)\u001b[0m\u001b[1;33m\u001b[0m\u001b[0m\n\u001b[0m\u001b[0;32m   2693\u001b[0m \u001b[1;33m\u001b[0m\u001b[0m\n\u001b[0;32m   2694\u001b[0m         \u001b[1;31m# duplicate columns & possible reduce dimensionality\u001b[0m\u001b[1;33m\u001b[0m\u001b[1;33m\u001b[0m\u001b[0m\n",
      "\u001b[1;32m~\\Anaconda3\\lib\\site-packages\\pandas\\core\\generic.py\u001b[0m in \u001b[0;36m_get_item_cache\u001b[1;34m(self, item)\u001b[0m\n\u001b[0;32m   2484\u001b[0m         \u001b[0mres\u001b[0m \u001b[1;33m=\u001b[0m \u001b[0mcache\u001b[0m\u001b[1;33m.\u001b[0m\u001b[0mget\u001b[0m\u001b[1;33m(\u001b[0m\u001b[0mitem\u001b[0m\u001b[1;33m)\u001b[0m\u001b[1;33m\u001b[0m\u001b[0m\n\u001b[0;32m   2485\u001b[0m         \u001b[1;32mif\u001b[0m \u001b[0mres\u001b[0m \u001b[1;32mis\u001b[0m \u001b[1;32mNone\u001b[0m\u001b[1;33m:\u001b[0m\u001b[1;33m\u001b[0m\u001b[0m\n\u001b[1;32m-> 2486\u001b[1;33m             \u001b[0mvalues\u001b[0m \u001b[1;33m=\u001b[0m \u001b[0mself\u001b[0m\u001b[1;33m.\u001b[0m\u001b[0m_data\u001b[0m\u001b[1;33m.\u001b[0m\u001b[0mget\u001b[0m\u001b[1;33m(\u001b[0m\u001b[0mitem\u001b[0m\u001b[1;33m)\u001b[0m\u001b[1;33m\u001b[0m\u001b[0m\n\u001b[0m\u001b[0;32m   2487\u001b[0m             \u001b[0mres\u001b[0m \u001b[1;33m=\u001b[0m \u001b[0mself\u001b[0m\u001b[1;33m.\u001b[0m\u001b[0m_box_item_values\u001b[0m\u001b[1;33m(\u001b[0m\u001b[0mitem\u001b[0m\u001b[1;33m,\u001b[0m \u001b[0mvalues\u001b[0m\u001b[1;33m)\u001b[0m\u001b[1;33m\u001b[0m\u001b[0m\n\u001b[0;32m   2488\u001b[0m             \u001b[0mcache\u001b[0m\u001b[1;33m[\u001b[0m\u001b[0mitem\u001b[0m\u001b[1;33m]\u001b[0m \u001b[1;33m=\u001b[0m \u001b[0mres\u001b[0m\u001b[1;33m\u001b[0m\u001b[0m\n",
      "\u001b[1;32m~\\Anaconda3\\lib\\site-packages\\pandas\\core\\internals.py\u001b[0m in \u001b[0;36mget\u001b[1;34m(self, item, fastpath)\u001b[0m\n\u001b[0;32m   4113\u001b[0m \u001b[1;33m\u001b[0m\u001b[0m\n\u001b[0;32m   4114\u001b[0m             \u001b[1;32mif\u001b[0m \u001b[1;32mnot\u001b[0m \u001b[0misna\u001b[0m\u001b[1;33m(\u001b[0m\u001b[0mitem\u001b[0m\u001b[1;33m)\u001b[0m\u001b[1;33m:\u001b[0m\u001b[1;33m\u001b[0m\u001b[0m\n\u001b[1;32m-> 4115\u001b[1;33m                 \u001b[0mloc\u001b[0m \u001b[1;33m=\u001b[0m \u001b[0mself\u001b[0m\u001b[1;33m.\u001b[0m\u001b[0mitems\u001b[0m\u001b[1;33m.\u001b[0m\u001b[0mget_loc\u001b[0m\u001b[1;33m(\u001b[0m\u001b[0mitem\u001b[0m\u001b[1;33m)\u001b[0m\u001b[1;33m\u001b[0m\u001b[0m\n\u001b[0m\u001b[0;32m   4116\u001b[0m             \u001b[1;32melse\u001b[0m\u001b[1;33m:\u001b[0m\u001b[1;33m\u001b[0m\u001b[0m\n\u001b[0;32m   4117\u001b[0m                 \u001b[0mindexer\u001b[0m \u001b[1;33m=\u001b[0m \u001b[0mnp\u001b[0m\u001b[1;33m.\u001b[0m\u001b[0marange\u001b[0m\u001b[1;33m(\u001b[0m\u001b[0mlen\u001b[0m\u001b[1;33m(\u001b[0m\u001b[0mself\u001b[0m\u001b[1;33m.\u001b[0m\u001b[0mitems\u001b[0m\u001b[1;33m)\u001b[0m\u001b[1;33m)\u001b[0m\u001b[1;33m[\u001b[0m\u001b[0misna\u001b[0m\u001b[1;33m(\u001b[0m\u001b[0mself\u001b[0m\u001b[1;33m.\u001b[0m\u001b[0mitems\u001b[0m\u001b[1;33m)\u001b[0m\u001b[1;33m]\u001b[0m\u001b[1;33m\u001b[0m\u001b[0m\n",
      "\u001b[1;32m~\\Anaconda3\\lib\\site-packages\\pandas\\core\\indexes\\base.py\u001b[0m in \u001b[0;36mget_loc\u001b[1;34m(self, key, method, tolerance)\u001b[0m\n\u001b[0;32m   3063\u001b[0m                 \u001b[1;32mreturn\u001b[0m \u001b[0mself\u001b[0m\u001b[1;33m.\u001b[0m\u001b[0m_engine\u001b[0m\u001b[1;33m.\u001b[0m\u001b[0mget_loc\u001b[0m\u001b[1;33m(\u001b[0m\u001b[0mkey\u001b[0m\u001b[1;33m)\u001b[0m\u001b[1;33m\u001b[0m\u001b[0m\n\u001b[0;32m   3064\u001b[0m             \u001b[1;32mexcept\u001b[0m \u001b[0mKeyError\u001b[0m\u001b[1;33m:\u001b[0m\u001b[1;33m\u001b[0m\u001b[0m\n\u001b[1;32m-> 3065\u001b[1;33m                 \u001b[1;32mreturn\u001b[0m \u001b[0mself\u001b[0m\u001b[1;33m.\u001b[0m\u001b[0m_engine\u001b[0m\u001b[1;33m.\u001b[0m\u001b[0mget_loc\u001b[0m\u001b[1;33m(\u001b[0m\u001b[0mself\u001b[0m\u001b[1;33m.\u001b[0m\u001b[0m_maybe_cast_indexer\u001b[0m\u001b[1;33m(\u001b[0m\u001b[0mkey\u001b[0m\u001b[1;33m)\u001b[0m\u001b[1;33m)\u001b[0m\u001b[1;33m\u001b[0m\u001b[0m\n\u001b[0m\u001b[0;32m   3066\u001b[0m \u001b[1;33m\u001b[0m\u001b[0m\n\u001b[0;32m   3067\u001b[0m         \u001b[0mindexer\u001b[0m \u001b[1;33m=\u001b[0m \u001b[0mself\u001b[0m\u001b[1;33m.\u001b[0m\u001b[0mget_indexer\u001b[0m\u001b[1;33m(\u001b[0m\u001b[1;33m[\u001b[0m\u001b[0mkey\u001b[0m\u001b[1;33m]\u001b[0m\u001b[1;33m,\u001b[0m \u001b[0mmethod\u001b[0m\u001b[1;33m=\u001b[0m\u001b[0mmethod\u001b[0m\u001b[1;33m,\u001b[0m \u001b[0mtolerance\u001b[0m\u001b[1;33m=\u001b[0m\u001b[0mtolerance\u001b[0m\u001b[1;33m)\u001b[0m\u001b[1;33m\u001b[0m\u001b[0m\n",
      "\u001b[1;32mpandas\\_libs\\index.pyx\u001b[0m in \u001b[0;36mpandas._libs.index.IndexEngine.get_loc\u001b[1;34m()\u001b[0m\n",
      "\u001b[1;32mpandas\\_libs\\index.pyx\u001b[0m in \u001b[0;36mpandas._libs.index.IndexEngine.get_loc\u001b[1;34m()\u001b[0m\n",
      "\u001b[1;32mpandas\\_libs\\hashtable_class_helper.pxi\u001b[0m in \u001b[0;36mpandas._libs.hashtable.PyObjectHashTable.get_item\u001b[1;34m()\u001b[0m\n",
      "\u001b[1;32mpandas\\_libs\\hashtable_class_helper.pxi\u001b[0m in \u001b[0;36mpandas._libs.hashtable.PyObjectHashTable.get_item\u001b[1;34m()\u001b[0m\n",
      "\u001b[1;31mKeyError\u001b[0m: 'amount of each sample'"
     ]
    }
   ],
   "source": [
    "df.groupby('type').count().plot(kind='bar',y='amount of each sample')"
   ]
  },
  {
   "cell_type": "code",
   "execution_count": 23,
   "metadata": {},
   "outputs": [
    {
     "data": {
      "text/plain": [
       "Text(0,0.5,'amount of each sample')"
      ]
     },
     "execution_count": 23,
     "metadata": {},
     "output_type": "execute_result"
    },
    {
     "data": {
      "image/png": "[encoded data removed]",
      "text/plain": [
       "<Figure size 432x288 with 1 Axes>"
      ]
     },
     "metadata": {},
     "output_type": "display_data"
    }
   ],
   "source": [
    "plot = df.groupby('type').count().plot(kind='bar',title)\n",
    "plot.set_ylabel(\"amount of each sample\")"
   ]
  },
  {
   "cell_type": "code",
   "execution_count": 24,
   "metadata": {},
   "outputs": [
    {
     "ename": "AttributeError",
     "evalue": "'str' object has no attribute 'str'",
     "output_type": "error",
     "traceback": [
      "\u001b[1;31m---------------------------------------------------------------------------\u001b[0m",
      "\u001b[1;31mAttributeError\u001b[0m                            Traceback (most recent call last)",
      "\u001b[1;32m<ipython-input-24-dbb2efa2eeaf>\u001b[0m in \u001b[0;36m<module>\u001b[1;34m()\u001b[0m\n\u001b[1;32m----> 1\u001b[1;33m \u001b[0mdf\u001b[0m\u001b[1;33m.\u001b[0m\u001b[0mgroupby\u001b[0m\u001b[1;33m(\u001b[0m\u001b[1;34m'type'\u001b[0m\u001b[1;33m.\u001b[0m\u001b[0mstr\u001b[0m\u001b[1;33m[\u001b[0m\u001b[1;36m0\u001b[0m\u001b[1;33m]\u001b[0m\u001b[1;33m)\u001b[0m\u001b[1;33m.\u001b[0m\u001b[0mcount\u001b[0m\u001b[1;33m(\u001b[0m\u001b[1;33m)\u001b[0m\u001b[1;33m\u001b[0m\u001b[0m\n\u001b[0m",
      "\u001b[1;31mAttributeError\u001b[0m: 'str' object has no attribute 'str'"
     ]
    }
   ],
   "source": [
    "df.groupby('type'.str[0]).count()"
   ]
  },
  {
   "cell_type": "code",
   "execution_count": 25,
   "metadata": {},
   "outputs": [
    {
     "ename": "KeyError",
     "evalue": "'t'",
     "output_type": "error",
     "traceback": [
      "\u001b[1;31m---------------------------------------------------------------------------\u001b[0m",
      "\u001b[1;31mKeyError\u001b[0m                                  Traceback (most recent call last)",
      "\u001b[1;32m<ipython-input-25-d8c4381522e4>\u001b[0m in \u001b[0;36m<module>\u001b[1;34m()\u001b[0m\n\u001b[1;32m----> 1\u001b[1;33m \u001b[0mplot\u001b[0m \u001b[1;33m=\u001b[0m \u001b[0mdf\u001b[0m\u001b[1;33m.\u001b[0m\u001b[0mgroupby\u001b[0m\u001b[1;33m(\u001b[0m\u001b[1;34m'type'\u001b[0m\u001b[1;33m[\u001b[0m\u001b[1;36m0\u001b[0m\u001b[1;33m]\u001b[0m\u001b[1;33m)\u001b[0m\u001b[1;33m.\u001b[0m\u001b[0mcount\u001b[0m\u001b[1;33m(\u001b[0m\u001b[1;33m)\u001b[0m\u001b[1;33m\u001b[0m\u001b[0m\n\u001b[0m",
      "\u001b[1;32m~\\Anaconda3\\lib\\site-packages\\pandas\\core\\generic.py\u001b[0m in \u001b[0;36mgroupby\u001b[1;34m(self, by, axis, level, as_index, sort, group_keys, squeeze, observed, **kwargs)\u001b[0m\n\u001b[0;32m   6657\u001b[0m         return groupby(self, by=by, axis=axis, level=level, as_index=as_index,\n\u001b[0;32m   6658\u001b[0m                        \u001b[0msort\u001b[0m\u001b[1;33m=\u001b[0m\u001b[0msort\u001b[0m\u001b[1;33m,\u001b[0m \u001b[0mgroup_keys\u001b[0m\u001b[1;33m=\u001b[0m\u001b[0mgroup_keys\u001b[0m\u001b[1;33m,\u001b[0m \u001b[0msqueeze\u001b[0m\u001b[1;33m=\u001b[0m\u001b[0msqueeze\u001b[0m\u001b[1;33m,\u001b[0m\u001b[1;33m\u001b[0m\u001b[0m\n\u001b[1;32m-> 6659\u001b[1;33m                        observed=observed, **kwargs)\n\u001b[0m\u001b[0;32m   6660\u001b[0m \u001b[1;33m\u001b[0m\u001b[0m\n\u001b[0;32m   6661\u001b[0m     def asfreq(self, freq, method=None, how=None, normalize=False,\n",
      "\u001b[1;32m~\\Anaconda3\\lib\\site-packages\\pandas\\core\\groupby\\groupby.py\u001b[0m in \u001b[0;36mgroupby\u001b[1;34m(obj, by, **kwds)\u001b[0m\n\u001b[0;32m   2150\u001b[0m         \u001b[1;32mraise\u001b[0m \u001b[0mTypeError\u001b[0m\u001b[1;33m(\u001b[0m\u001b[1;34m'invalid type: %s'\u001b[0m \u001b[1;33m%\u001b[0m \u001b[0mtype\u001b[0m\u001b[1;33m(\u001b[0m\u001b[0mobj\u001b[0m\u001b[1;33m)\u001b[0m\u001b[1;33m)\u001b[0m\u001b[1;33m\u001b[0m\u001b[0m\n\u001b[0;32m   2151\u001b[0m \u001b[1;33m\u001b[0m\u001b[0m\n\u001b[1;32m-> 2152\u001b[1;33m     \u001b[1;32mreturn\u001b[0m \u001b[0mklass\u001b[0m\u001b[1;33m(\u001b[0m\u001b[0mobj\u001b[0m\u001b[1;33m,\u001b[0m \u001b[0mby\u001b[0m\u001b[1;33m,\u001b[0m \u001b[1;33m**\u001b[0m\u001b[0mkwds\u001b[0m\u001b[1;33m)\u001b[0m\u001b[1;33m\u001b[0m\u001b[0m\n\u001b[0m\u001b[0;32m   2153\u001b[0m \u001b[1;33m\u001b[0m\u001b[0m\n\u001b[0;32m   2154\u001b[0m \u001b[1;33m\u001b[0m\u001b[0m\n",
      "\u001b[1;32m~\\Anaconda3\\lib\\site-packages\\pandas\\core\\groupby\\groupby.py\u001b[0m in \u001b[0;36m__init__\u001b[1;34m(self, obj, keys, axis, level, grouper, exclusions, selection, as_index, sort, group_keys, squeeze, observed, **kwargs)\u001b[0m\n\u001b[0;32m    597\u001b[0m                                                     \u001b[0msort\u001b[0m\u001b[1;33m=\u001b[0m\u001b[0msort\u001b[0m\u001b[1;33m,\u001b[0m\u001b[1;33m\u001b[0m\u001b[0m\n\u001b[0;32m    598\u001b[0m                                                     \u001b[0mobserved\u001b[0m\u001b[1;33m=\u001b[0m\u001b[0mobserved\u001b[0m\u001b[1;33m,\u001b[0m\u001b[1;33m\u001b[0m\u001b[0m\n\u001b[1;32m--> 599\u001b[1;33m                                                     mutated=self.mutated)\n\u001b[0m\u001b[0;32m    600\u001b[0m \u001b[1;33m\u001b[0m\u001b[0m\n\u001b[0;32m    601\u001b[0m         \u001b[0mself\u001b[0m\u001b[1;33m.\u001b[0m\u001b[0mobj\u001b[0m \u001b[1;33m=\u001b[0m \u001b[0mobj\u001b[0m\u001b[1;33m\u001b[0m\u001b[0m\n",
      "\u001b[1;32m~\\Anaconda3\\lib\\site-packages\\pandas\\core\\groupby\\groupby.py\u001b[0m in \u001b[0;36m_get_grouper\u001b[1;34m(obj, key, axis, level, sort, observed, mutated, validate)\u001b[0m\n\u001b[0;32m   3289\u001b[0m                 \u001b[0min_axis\u001b[0m\u001b[1;33m,\u001b[0m \u001b[0mname\u001b[0m\u001b[1;33m,\u001b[0m \u001b[0mlevel\u001b[0m\u001b[1;33m,\u001b[0m \u001b[0mgpr\u001b[0m \u001b[1;33m=\u001b[0m \u001b[1;32mFalse\u001b[0m\u001b[1;33m,\u001b[0m \u001b[1;32mNone\u001b[0m\u001b[1;33m,\u001b[0m \u001b[0mgpr\u001b[0m\u001b[1;33m,\u001b[0m \u001b[1;32mNone\u001b[0m\u001b[1;33m\u001b[0m\u001b[0m\n\u001b[0;32m   3290\u001b[0m             \u001b[1;32melse\u001b[0m\u001b[1;33m:\u001b[0m\u001b[1;33m\u001b[0m\u001b[0m\n\u001b[1;32m-> 3291\u001b[1;33m                 \u001b[1;32mraise\u001b[0m \u001b[0mKeyError\u001b[0m\u001b[1;33m(\u001b[0m\u001b[0mgpr\u001b[0m\u001b[1;33m)\u001b[0m\u001b[1;33m\u001b[0m\u001b[0m\n\u001b[0m\u001b[0;32m   3292\u001b[0m         \u001b[1;32melif\u001b[0m \u001b[0misinstance\u001b[0m\u001b[1;33m(\u001b[0m\u001b[0mgpr\u001b[0m\u001b[1;33m,\u001b[0m \u001b[0mGrouper\u001b[0m\u001b[1;33m)\u001b[0m \u001b[1;32mand\u001b[0m \u001b[0mgpr\u001b[0m\u001b[1;33m.\u001b[0m\u001b[0mkey\u001b[0m \u001b[1;32mis\u001b[0m \u001b[1;32mnot\u001b[0m \u001b[1;32mNone\u001b[0m\u001b[1;33m:\u001b[0m\u001b[1;33m\u001b[0m\u001b[0m\n\u001b[0;32m   3293\u001b[0m             \u001b[1;31m# Add key to exclusions\u001b[0m\u001b[1;33m\u001b[0m\u001b[1;33m\u001b[0m\u001b[0m\n",
      "\u001b[1;31mKeyError\u001b[0m: 't'"
     ]
    }
   ],
   "source": [
    "plot = df.groupby('type'[0]).count()"
   ]
  },
  {
   "cell_type": "code",
   "execution_count": 26,
   "metadata": {},
   "outputs": [],
   "source": [
    "df['I/E'] = df['type'].str[0]"
   ]
  },
  {
   "cell_type": "code",
   "execution_count": 27,
   "metadata": {},
   "outputs": [
    {
     "name": "stdout",
     "output_type": "stream",
     "text": [
      "<class 'pandas.core.frame.DataFrame'>\n",
      "RangeIndex: 8675 entries, 0 to 8674\n",
      "Data columns (total 3 columns):\n",
      "type     8675 non-null object\n",
      "posts    8675 non-null object\n",
      "I/E      8675 non-null object\n",
      "dtypes: object(3)\n",
      "memory usage: 203.4+ KB\n"
     ]
    }
   ],
   "source": [
    "df.info()"
   ]
  },
  {
   "cell_type": "code",
   "execution_count": 29,
   "metadata": {},
   "outputs": [
    {
     "name": "stdout",
     "output_type": "stream",
     "text": [
      "   type                                              posts I/E\n",
      "0  INFJ  'http://www.youtube.com/watch?v=qsXHcwe3krw|||...   I\n",
      "1  ENTP  'I'm finding the lack of me in these posts ver...   E\n",
      "2  INTP  'Good one  _____   https://www.youtube.com/wat...   I\n",
      "3  INTJ  'Dear INTP,   I enjoyed our conversation the o...   I\n",
      "4  ENTJ  'You're fired.|||That's another silly misconce...   E\n"
     ]
    }
   ],
   "source": [
    "print(df.head())"
   ]
  },
  {
   "cell_type": "code",
   "execution_count": 30,
   "metadata": {},
   "outputs": [
    {
     "name": "stdout",
     "output_type": "stream",
     "text": [
      "   type                                              posts I/E  \\\n",
      "0  INFJ  'http://www.youtube.com/watch?v=qsXHcwe3krw|||...   I   \n",
      "1  ENTP  'I'm finding the lack of me in these posts ver...   E   \n",
      "2  INTP  'Good one  _____   https://www.youtube.com/wat...   I   \n",
      "3  INTJ  'Dear INTP,   I enjoyed our conversation the o...   I   \n",
      "4  ENTJ  'You're fired.|||That's another silly misconce...   E   \n",
      "\n",
      "   words_per_comment  \n",
      "0              11.12  \n",
      "1              23.40  \n",
      "2              16.72  \n",
      "3              21.28  \n",
      "4              19.34  \n"
     ]
    }
   ],
   "source": [
    "df['words_per_comment'] = df['posts'].apply(lambda x: len(x.split())/50)\n",
    "print(df.head())"
   ]
  },
  {
   "cell_type": "code",
   "execution_count": 31,
   "metadata": {},
   "outputs": [
    {
     "name": "stdout",
     "output_type": "stream",
     "text": [
      "   type                                              posts I/E  \\\n",
      "0  INFJ  'http://www.youtube.com/watch?v=qsXHcwe3krw|||...   I   \n",
      "1  ENTP  'I'm finding the lack of me in these posts ver...   E   \n",
      "2  INTP  'Good one  _____   https://www.youtube.com/wat...   I   \n",
      "3  INTJ  'Dear INTP,   I enjoyed our conversation the o...   I   \n",
      "4  ENTJ  'You're fired.|||That's another silly misconce...   E   \n",
      "\n",
      "   words_per_comment  \n",
      "0              11.12  \n",
      "1              23.40  \n",
      "2              16.72  \n",
      "3              21.28  \n",
      "4              19.34  \n"
     ]
    }
   ],
   "source": [
    "print(df.head())"
   ]
  },
  {
   "cell_type": "code",
   "execution_count": 32,
   "metadata": {},
   "outputs": [
    {
     "data": {
      "image/png": "[encoded data removed]",
      "text/plain": [
       "<Figure size 432x288 with 1 Axes>"
      ]
     },
     "metadata": {},
     "output_type": "display_data"
    }
   ],
   "source": [
    "plot = df.plot(kind='hist',x='I/E',y='words_per_comment')"
   ]
  },
  {
   "cell_type": "code",
   "execution_count": 33,
   "metadata": {},
   "outputs": [
    {
     "name": "stdout",
     "output_type": "stream",
     "text": [
      "<pandas.core.groupby.groupby.DataFrameGroupBy object at 0x00000151247CFEF0>\n"
     ]
    }
   ],
   "source": [
    "print(df.groupby('I/E'))\n"
   ]
  },
  {
   "cell_type": "code",
   "execution_count": 34,
   "metadata": {},
   "outputs": [
    {
     "name": "stdout",
     "output_type": "stream",
     "text": [
      "    type                                              posts I/E  \\\n",
      "0   INFJ  'http://www.youtube.com/watch?v=qsXHcwe3krw|||...   I   \n",
      "1   ENTP  'I'm finding the lack of me in these posts ver...   E   \n",
      "2   INTP  'Good one  _____   https://www.youtube.com/wat...   I   \n",
      "3   INTJ  'Dear INTP,   I enjoyed our conversation the o...   I   \n",
      "4   ENTJ  'You're fired.|||That's another silly misconce...   E   \n",
      "5   INTJ  '18/37 @.@|||Science  is not perfect. No scien...   I   \n",
      "6   INFJ  'No, I can't draw on my own nails (haha). Thos...   I   \n",
      "11  ENFJ  'https://www.youtube.com/watch?v=PLAaiKvHvZs||...   E   \n",
      "22  ENTJ  'Now I'm interested. But too lazy to go resear...   E   \n",
      "24  ENTJ  'Still going strong at just over the two year ...   E   \n",
      "\n",
      "    words_per_comment  \n",
      "0               11.12  \n",
      "1               23.40  \n",
      "2               16.72  \n",
      "3               21.28  \n",
      "4               19.34  \n",
      "5               29.82  \n",
      "6               26.58  \n",
      "11              15.94  \n",
      "22              23.84  \n",
      "24              21.72  \n"
     ]
    }
   ],
   "source": [
    "print(df.groupby('I/E').head())\n"
   ]
  },
  {
   "cell_type": "code",
   "execution_count": 35,
   "metadata": {},
   "outputs": [
    {
     "name": "stdout",
     "output_type": "stream",
     "text": [
      "     type  posts  words_per_comment\n",
      "I/E                                \n",
      "E    1999   1999               1999\n",
      "I    6676   6676               6676\n"
     ]
    }
   ],
   "source": [
    "print(df.groupby('I/E').count())\n"
   ]
  },
  {
   "cell_type": "code",
   "execution_count": 36,
   "metadata": {},
   "outputs": [
    {
     "ename": "KeyError",
     "evalue": "'I/E'",
     "output_type": "error",
     "traceback": [
      "\u001b[1;31m---------------------------------------------------------------------------\u001b[0m",
      "\u001b[1;31mTypeError\u001b[0m                                 Traceback (most recent call last)",
      "\u001b[1;32m~\\Anaconda3\\lib\\site-packages\\pandas\\core\\groupby\\groupby.py\u001b[0m in \u001b[0;36mapply\u001b[1;34m(self, func, *args, **kwargs)\u001b[0m\n\u001b[0;32m    917\u001b[0m             \u001b[1;32mtry\u001b[0m\u001b[1;33m:\u001b[0m\u001b[1;33m\u001b[0m\u001b[0m\n\u001b[1;32m--> 918\u001b[1;33m                 \u001b[0mresult\u001b[0m \u001b[1;33m=\u001b[0m \u001b[0mself\u001b[0m\u001b[1;33m.\u001b[0m\u001b[0m_python_apply_general\u001b[0m\u001b[1;33m(\u001b[0m\u001b[0mf\u001b[0m\u001b[1;33m)\u001b[0m\u001b[1;33m\u001b[0m\u001b[0m\n\u001b[0m\u001b[0;32m    919\u001b[0m             \u001b[1;32mexcept\u001b[0m \u001b[0mException\u001b[0m\u001b[1;33m:\u001b[0m\u001b[1;33m\u001b[0m\u001b[0m\n",
      "\u001b[1;32m~\\Anaconda3\\lib\\site-packages\\pandas\\core\\groupby\\groupby.py\u001b[0m in \u001b[0;36m_python_apply_general\u001b[1;34m(self, f)\u001b[0m\n\u001b[0;32m    935\u001b[0m         keys, values, mutated = self.grouper.apply(f, self._selected_obj,\n\u001b[1;32m--> 936\u001b[1;33m                                                    self.axis)\n\u001b[0m\u001b[0;32m    937\u001b[0m \u001b[1;33m\u001b[0m\u001b[0m\n",
      "\u001b[1;32m~\\Anaconda3\\lib\\site-packages\\pandas\\core\\groupby\\groupby.py\u001b[0m in \u001b[0;36mapply\u001b[1;34m(self, f, data, axis)\u001b[0m\n\u001b[0;32m   2272\u001b[0m             \u001b[0mgroup_axes\u001b[0m \u001b[1;33m=\u001b[0m \u001b[0m_get_axes\u001b[0m\u001b[1;33m(\u001b[0m\u001b[0mgroup\u001b[0m\u001b[1;33m)\u001b[0m\u001b[1;33m\u001b[0m\u001b[0m\n\u001b[1;32m-> 2273\u001b[1;33m             \u001b[0mres\u001b[0m \u001b[1;33m=\u001b[0m \u001b[0mf\u001b[0m\u001b[1;33m(\u001b[0m\u001b[0mgroup\u001b[0m\u001b[1;33m)\u001b[0m\u001b[1;33m\u001b[0m\u001b[0m\n\u001b[0m\u001b[0;32m   2274\u001b[0m             \u001b[1;32mif\u001b[0m \u001b[1;32mnot\u001b[0m \u001b[0m_is_indexed_like\u001b[0m\u001b[1;33m(\u001b[0m\u001b[0mres\u001b[0m\u001b[1;33m,\u001b[0m \u001b[0mgroup_axes\u001b[0m\u001b[1;33m)\u001b[0m\u001b[1;33m:\u001b[0m\u001b[1;33m\u001b[0m\u001b[0m\n",
      "\u001b[1;32m~\\Anaconda3\\lib\\site-packages\\pandas\\core\\groupby\\groupby.py\u001b[0m in \u001b[0;36mf\u001b[1;34m(self)\u001b[0m\n\u001b[0;32m    540\u001b[0m         \u001b[1;32mdef\u001b[0m \u001b[0mf\u001b[0m\u001b[1;33m(\u001b[0m\u001b[0mself\u001b[0m\u001b[1;33m)\u001b[0m\u001b[1;33m:\u001b[0m\u001b[1;33m\u001b[0m\u001b[0m\n\u001b[1;32m--> 541\u001b[1;33m             \u001b[1;32mreturn\u001b[0m \u001b[0mself\u001b[0m\u001b[1;33m.\u001b[0m\u001b[0mplot\u001b[0m\u001b[1;33m(\u001b[0m\u001b[1;33m*\u001b[0m\u001b[0margs\u001b[0m\u001b[1;33m,\u001b[0m \u001b[1;33m**\u001b[0m\u001b[0mkwargs\u001b[0m\u001b[1;33m)\u001b[0m\u001b[1;33m\u001b[0m\u001b[0m\n\u001b[0m\u001b[0;32m    542\u001b[0m         \u001b[0mf\u001b[0m\u001b[1;33m.\u001b[0m\u001b[0m__name__\u001b[0m \u001b[1;33m=\u001b[0m \u001b[1;34m'plot'\u001b[0m\u001b[1;33m\u001b[0m\u001b[0m\n",
      "\u001b[1;32m~\\Anaconda3\\lib\\site-packages\\pandas\\plotting\\_core.py\u001b[0m in \u001b[0;36m__call__\u001b[1;34m(self, x, y, kind, ax, subplots, sharex, sharey, layout, figsize, use_index, title, grid, legend, style, logx, logy, loglog, xticks, yticks, xlim, ylim, rot, fontsize, colormap, table, yerr, xerr, secondary_y, sort_columns, **kwds)\u001b[0m\n\u001b[0;32m   2940\u001b[0m                           \u001b[0myerr\u001b[0m\u001b[1;33m=\u001b[0m\u001b[0myerr\u001b[0m\u001b[1;33m,\u001b[0m \u001b[0mxerr\u001b[0m\u001b[1;33m=\u001b[0m\u001b[0mxerr\u001b[0m\u001b[1;33m,\u001b[0m \u001b[0msecondary_y\u001b[0m\u001b[1;33m=\u001b[0m\u001b[0msecondary_y\u001b[0m\u001b[1;33m,\u001b[0m\u001b[1;33m\u001b[0m\u001b[0m\n\u001b[1;32m-> 2941\u001b[1;33m                           sort_columns=sort_columns, **kwds)\n\u001b[0m\u001b[0;32m   2942\u001b[0m     \u001b[0m__call__\u001b[0m\u001b[1;33m.\u001b[0m\u001b[0m__doc__\u001b[0m \u001b[1;33m=\u001b[0m \u001b[0mplot_frame\u001b[0m\u001b[1;33m.\u001b[0m\u001b[0m__doc__\u001b[0m\u001b[1;33m\u001b[0m\u001b[0m\n",
      "\u001b[1;32m~\\Anaconda3\\lib\\site-packages\\pandas\\plotting\\_core.py\u001b[0m in \u001b[0;36mplot_frame\u001b[1;34m(data, x, y, kind, ax, subplots, sharex, sharey, layout, figsize, use_index, title, grid, legend, style, logx, logy, loglog, xticks, yticks, xlim, ylim, rot, fontsize, colormap, table, yerr, xerr, secondary_y, sort_columns, **kwds)\u001b[0m\n\u001b[0;32m   1976\u001b[0m                  \u001b[0msecondary_y\u001b[0m\u001b[1;33m=\u001b[0m\u001b[0msecondary_y\u001b[0m\u001b[1;33m,\u001b[0m \u001b[0msort_columns\u001b[0m\u001b[1;33m=\u001b[0m\u001b[0msort_columns\u001b[0m\u001b[1;33m,\u001b[0m\u001b[1;33m\u001b[0m\u001b[0m\n\u001b[1;32m-> 1977\u001b[1;33m                  **kwds)\n\u001b[0m\u001b[0;32m   1978\u001b[0m \u001b[1;33m\u001b[0m\u001b[0m\n",
      "\u001b[1;32m~\\Anaconda3\\lib\\site-packages\\pandas\\plotting\\_core.py\u001b[0m in \u001b[0;36m_plot\u001b[1;34m(data, x, y, subplots, ax, kind, **kwds)\u001b[0m\n\u001b[0;32m   1803\u001b[0m \u001b[1;33m\u001b[0m\u001b[0m\n\u001b[1;32m-> 1804\u001b[1;33m     \u001b[0mplot_obj\u001b[0m\u001b[1;33m.\u001b[0m\u001b[0mgenerate\u001b[0m\u001b[1;33m(\u001b[0m\u001b[1;33m)\u001b[0m\u001b[1;33m\u001b[0m\u001b[0m\n\u001b[0m\u001b[0;32m   1805\u001b[0m     \u001b[0mplot_obj\u001b[0m\u001b[1;33m.\u001b[0m\u001b[0mdraw\u001b[0m\u001b[1;33m(\u001b[0m\u001b[1;33m)\u001b[0m\u001b[1;33m\u001b[0m\u001b[0m\n",
      "\u001b[1;32m~\\Anaconda3\\lib\\site-packages\\pandas\\plotting\\_core.py\u001b[0m in \u001b[0;36mgenerate\u001b[1;34m(self)\u001b[0m\n\u001b[0;32m    257\u001b[0m         \u001b[0mself\u001b[0m\u001b[1;33m.\u001b[0m\u001b[0m_args_adjust\u001b[0m\u001b[1;33m(\u001b[0m\u001b[1;33m)\u001b[0m\u001b[1;33m\u001b[0m\u001b[0m\n\u001b[1;32m--> 258\u001b[1;33m         \u001b[0mself\u001b[0m\u001b[1;33m.\u001b[0m\u001b[0m_compute_plot_data\u001b[0m\u001b[1;33m(\u001b[0m\u001b[1;33m)\u001b[0m\u001b[1;33m\u001b[0m\u001b[0m\n\u001b[0m\u001b[0;32m    259\u001b[0m         \u001b[0mself\u001b[0m\u001b[1;33m.\u001b[0m\u001b[0m_setup_subplots\u001b[0m\u001b[1;33m(\u001b[0m\u001b[1;33m)\u001b[0m\u001b[1;33m\u001b[0m\u001b[0m\n",
      "\u001b[1;32m~\\Anaconda3\\lib\\site-packages\\pandas\\plotting\\_core.py\u001b[0m in \u001b[0;36m_compute_plot_data\u001b[1;34m(self)\u001b[0m\n\u001b[0;32m    372\u001b[0m             raise TypeError('Empty {0!r}: no numeric data to '\n\u001b[1;32m--> 373\u001b[1;33m                             'plot'.format(numeric_data.__class__.__name__))\n\u001b[0m\u001b[0;32m    374\u001b[0m \u001b[1;33m\u001b[0m\u001b[0m\n",
      "\u001b[1;31mTypeError\u001b[0m: Empty 'DataFrame': no numeric data to plot",
      "\nDuring handling of the above exception, another exception occurred:\n",
      "\u001b[1;31mKeyError\u001b[0m                                  Traceback (most recent call last)",
      "\u001b[1;32m~\\Anaconda3\\lib\\site-packages\\pandas\\core\\indexes\\base.py\u001b[0m in \u001b[0;36mget_loc\u001b[1;34m(self, key, method, tolerance)\u001b[0m\n\u001b[0;32m   3062\u001b[0m             \u001b[1;32mtry\u001b[0m\u001b[1;33m:\u001b[0m\u001b[1;33m\u001b[0m\u001b[0m\n\u001b[1;32m-> 3063\u001b[1;33m                 \u001b[1;32mreturn\u001b[0m \u001b[0mself\u001b[0m\u001b[1;33m.\u001b[0m\u001b[0m_engine\u001b[0m\u001b[1;33m.\u001b[0m\u001b[0mget_loc\u001b[0m\u001b[1;33m(\u001b[0m\u001b[0mkey\u001b[0m\u001b[1;33m)\u001b[0m\u001b[1;33m\u001b[0m\u001b[0m\n\u001b[0m\u001b[0;32m   3064\u001b[0m             \u001b[1;32mexcept\u001b[0m \u001b[0mKeyError\u001b[0m\u001b[1;33m:\u001b[0m\u001b[1;33m\u001b[0m\u001b[0m\n",
      "\u001b[1;32mpandas\\_libs\\index.pyx\u001b[0m in \u001b[0;36mpandas._libs.index.IndexEngine.get_loc\u001b[1;34m()\u001b[0m\n",
      "\u001b[1;32mpandas\\_libs\\index.pyx\u001b[0m in \u001b[0;36mpandas._libs.index.IndexEngine.get_loc\u001b[1;34m()\u001b[0m\n",
      "\u001b[1;32mpandas\\_libs\\hashtable_class_helper.pxi\u001b[0m in \u001b[0;36mpandas._libs.hashtable.PyObjectHashTable.get_item\u001b[1;34m()\u001b[0m\n",
      "\u001b[1;32mpandas\\_libs\\hashtable_class_helper.pxi\u001b[0m in \u001b[0;36mpandas._libs.hashtable.PyObjectHashTable.get_item\u001b[1;34m()\u001b[0m\n",
      "\u001b[1;31mKeyError\u001b[0m: 'I/E'",
      "\nDuring handling of the above exception, another exception occurred:\n",
      "\u001b[1;31mKeyError\u001b[0m                                  Traceback (most recent call last)",
      "\u001b[1;32m<ipython-input-36-dd4874f167d1>\u001b[0m in \u001b[0;36m<module>\u001b[1;34m()\u001b[0m\n\u001b[1;32m----> 1\u001b[1;33m \u001b[0mdf\u001b[0m\u001b[1;33m.\u001b[0m\u001b[0mgroupby\u001b[0m\u001b[1;33m(\u001b[0m\u001b[1;34m'I/E'\u001b[0m\u001b[1;33m)\u001b[0m\u001b[1;33m.\u001b[0m\u001b[0mplot\u001b[0m\u001b[1;33m(\u001b[0m\u001b[0mkind\u001b[0m\u001b[1;33m=\u001b[0m\u001b[1;34m'bar'\u001b[0m\u001b[1;33m,\u001b[0m\u001b[0mx\u001b[0m\u001b[1;33m=\u001b[0m\u001b[1;34m'I/E'\u001b[0m\u001b[1;33m,\u001b[0m\u001b[0my\u001b[0m\u001b[1;33m=\u001b[0m\u001b[1;34m'type'\u001b[0m\u001b[1;33m)\u001b[0m\u001b[1;33m\u001b[0m\u001b[0m\n\u001b[0m",
      "\u001b[1;32m~\\Anaconda3\\lib\\site-packages\\pandas\\core\\groupby\\groupby.py\u001b[0m in \u001b[0;36m__call__\u001b[1;34m(self, *args, **kwargs)\u001b[0m\n\u001b[0;32m    541\u001b[0m             \u001b[1;32mreturn\u001b[0m \u001b[0mself\u001b[0m\u001b[1;33m.\u001b[0m\u001b[0mplot\u001b[0m\u001b[1;33m(\u001b[0m\u001b[1;33m*\u001b[0m\u001b[0margs\u001b[0m\u001b[1;33m,\u001b[0m \u001b[1;33m**\u001b[0m\u001b[0mkwargs\u001b[0m\u001b[1;33m)\u001b[0m\u001b[1;33m\u001b[0m\u001b[0m\n\u001b[0;32m    542\u001b[0m         \u001b[0mf\u001b[0m\u001b[1;33m.\u001b[0m\u001b[0m__name__\u001b[0m \u001b[1;33m=\u001b[0m \u001b[1;34m'plot'\u001b[0m\u001b[1;33m\u001b[0m\u001b[0m\n\u001b[1;32m--> 543\u001b[1;33m         \u001b[1;32mreturn\u001b[0m \u001b[0mself\u001b[0m\u001b[1;33m.\u001b[0m\u001b[0m_groupby\u001b[0m\u001b[1;33m.\u001b[0m\u001b[0mapply\u001b[0m\u001b[1;33m(\u001b[0m\u001b[0mf\u001b[0m\u001b[1;33m)\u001b[0m\u001b[1;33m\u001b[0m\u001b[0m\n\u001b[0m\u001b[0;32m    544\u001b[0m \u001b[1;33m\u001b[0m\u001b[0m\n\u001b[0;32m    545\u001b[0m     \u001b[1;32mdef\u001b[0m \u001b[0m__getattr__\u001b[0m\u001b[1;33m(\u001b[0m\u001b[0mself\u001b[0m\u001b[1;33m,\u001b[0m \u001b[0mname\u001b[0m\u001b[1;33m)\u001b[0m\u001b[1;33m:\u001b[0m\u001b[1;33m\u001b[0m\u001b[0m\n",
      "\u001b[1;32m~\\Anaconda3\\lib\\site-packages\\pandas\\core\\groupby\\groupby.py\u001b[0m in \u001b[0;36mapply\u001b[1;34m(self, func, *args, **kwargs)\u001b[0m\n\u001b[0;32m    928\u001b[0m \u001b[1;33m\u001b[0m\u001b[0m\n\u001b[0;32m    929\u001b[0m                 \u001b[1;32mwith\u001b[0m \u001b[0m_group_selection_context\u001b[0m\u001b[1;33m(\u001b[0m\u001b[0mself\u001b[0m\u001b[1;33m)\u001b[0m\u001b[1;33m:\u001b[0m\u001b[1;33m\u001b[0m\u001b[0m\n\u001b[1;32m--> 930\u001b[1;33m                     \u001b[1;32mreturn\u001b[0m \u001b[0mself\u001b[0m\u001b[1;33m.\u001b[0m\u001b[0m_python_apply_general\u001b[0m\u001b[1;33m(\u001b[0m\u001b[0mf\u001b[0m\u001b[1;33m)\u001b[0m\u001b[1;33m\u001b[0m\u001b[0m\n\u001b[0m\u001b[0;32m    931\u001b[0m \u001b[1;33m\u001b[0m\u001b[0m\n\u001b[0;32m    932\u001b[0m         \u001b[1;32mreturn\u001b[0m \u001b[0mresult\u001b[0m\u001b[1;33m\u001b[0m\u001b[0m\n",
      "\u001b[1;32m~\\Anaconda3\\lib\\site-packages\\pandas\\core\\groupby\\groupby.py\u001b[0m in \u001b[0;36m_python_apply_general\u001b[1;34m(self, f)\u001b[0m\n\u001b[0;32m    934\u001b[0m     \u001b[1;32mdef\u001b[0m \u001b[0m_python_apply_general\u001b[0m\u001b[1;33m(\u001b[0m\u001b[0mself\u001b[0m\u001b[1;33m,\u001b[0m \u001b[0mf\u001b[0m\u001b[1;33m)\u001b[0m\u001b[1;33m:\u001b[0m\u001b[1;33m\u001b[0m\u001b[0m\n\u001b[0;32m    935\u001b[0m         keys, values, mutated = self.grouper.apply(f, self._selected_obj,\n\u001b[1;32m--> 936\u001b[1;33m                                                    self.axis)\n\u001b[0m\u001b[0;32m    937\u001b[0m \u001b[1;33m\u001b[0m\u001b[0m\n\u001b[0;32m    938\u001b[0m         return self._wrap_applied_output(\n",
      "\u001b[1;32m~\\Anaconda3\\lib\\site-packages\\pandas\\core\\groupby\\groupby.py\u001b[0m in \u001b[0;36mapply\u001b[1;34m(self, f, data, axis)\u001b[0m\n\u001b[0;32m   2271\u001b[0m             \u001b[1;31m# group might be modified\u001b[0m\u001b[1;33m\u001b[0m\u001b[1;33m\u001b[0m\u001b[0m\n\u001b[0;32m   2272\u001b[0m             \u001b[0mgroup_axes\u001b[0m \u001b[1;33m=\u001b[0m \u001b[0m_get_axes\u001b[0m\u001b[1;33m(\u001b[0m\u001b[0mgroup\u001b[0m\u001b[1;33m)\u001b[0m\u001b[1;33m\u001b[0m\u001b[0m\n\u001b[1;32m-> 2273\u001b[1;33m             \u001b[0mres\u001b[0m \u001b[1;33m=\u001b[0m \u001b[0mf\u001b[0m\u001b[1;33m(\u001b[0m\u001b[0mgroup\u001b[0m\u001b[1;33m)\u001b[0m\u001b[1;33m\u001b[0m\u001b[0m\n\u001b[0m\u001b[0;32m   2274\u001b[0m             \u001b[1;32mif\u001b[0m \u001b[1;32mnot\u001b[0m \u001b[0m_is_indexed_like\u001b[0m\u001b[1;33m(\u001b[0m\u001b[0mres\u001b[0m\u001b[1;33m,\u001b[0m \u001b[0mgroup_axes\u001b[0m\u001b[1;33m)\u001b[0m\u001b[1;33m:\u001b[0m\u001b[1;33m\u001b[0m\u001b[0m\n\u001b[0;32m   2275\u001b[0m                 \u001b[0mmutated\u001b[0m \u001b[1;33m=\u001b[0m \u001b[1;32mTrue\u001b[0m\u001b[1;33m\u001b[0m\u001b[0m\n",
      "\u001b[1;32m~\\Anaconda3\\lib\\site-packages\\pandas\\core\\groupby\\groupby.py\u001b[0m in \u001b[0;36mf\u001b[1;34m(self)\u001b[0m\n\u001b[0;32m    539\u001b[0m     \u001b[1;32mdef\u001b[0m \u001b[0m__call__\u001b[0m\u001b[1;33m(\u001b[0m\u001b[0mself\u001b[0m\u001b[1;33m,\u001b[0m \u001b[1;33m*\u001b[0m\u001b[0margs\u001b[0m\u001b[1;33m,\u001b[0m \u001b[1;33m**\u001b[0m\u001b[0mkwargs\u001b[0m\u001b[1;33m)\u001b[0m\u001b[1;33m:\u001b[0m\u001b[1;33m\u001b[0m\u001b[0m\n\u001b[0;32m    540\u001b[0m         \u001b[1;32mdef\u001b[0m \u001b[0mf\u001b[0m\u001b[1;33m(\u001b[0m\u001b[0mself\u001b[0m\u001b[1;33m)\u001b[0m\u001b[1;33m:\u001b[0m\u001b[1;33m\u001b[0m\u001b[0m\n\u001b[1;32m--> 541\u001b[1;33m             \u001b[1;32mreturn\u001b[0m \u001b[0mself\u001b[0m\u001b[1;33m.\u001b[0m\u001b[0mplot\u001b[0m\u001b[1;33m(\u001b[0m\u001b[1;33m*\u001b[0m\u001b[0margs\u001b[0m\u001b[1;33m,\u001b[0m \u001b[1;33m**\u001b[0m\u001b[0mkwargs\u001b[0m\u001b[1;33m)\u001b[0m\u001b[1;33m\u001b[0m\u001b[0m\n\u001b[0m\u001b[0;32m    542\u001b[0m         \u001b[0mf\u001b[0m\u001b[1;33m.\u001b[0m\u001b[0m__name__\u001b[0m \u001b[1;33m=\u001b[0m \u001b[1;34m'plot'\u001b[0m\u001b[1;33m\u001b[0m\u001b[0m\n\u001b[0;32m    543\u001b[0m         \u001b[1;32mreturn\u001b[0m \u001b[0mself\u001b[0m\u001b[1;33m.\u001b[0m\u001b[0m_groupby\u001b[0m\u001b[1;33m.\u001b[0m\u001b[0mapply\u001b[0m\u001b[1;33m(\u001b[0m\u001b[0mf\u001b[0m\u001b[1;33m)\u001b[0m\u001b[1;33m\u001b[0m\u001b[0m\n",
      "\u001b[1;32m~\\Anaconda3\\lib\\site-packages\\pandas\\plotting\\_core.py\u001b[0m in \u001b[0;36m__call__\u001b[1;34m(self, x, y, kind, ax, subplots, sharex, sharey, layout, figsize, use_index, title, grid, legend, style, logx, logy, loglog, xticks, yticks, xlim, ylim, rot, fontsize, colormap, table, yerr, xerr, secondary_y, sort_columns, **kwds)\u001b[0m\n\u001b[0;32m   2939\u001b[0m                           \u001b[0mfontsize\u001b[0m\u001b[1;33m=\u001b[0m\u001b[0mfontsize\u001b[0m\u001b[1;33m,\u001b[0m \u001b[0mcolormap\u001b[0m\u001b[1;33m=\u001b[0m\u001b[0mcolormap\u001b[0m\u001b[1;33m,\u001b[0m \u001b[0mtable\u001b[0m\u001b[1;33m=\u001b[0m\u001b[0mtable\u001b[0m\u001b[1;33m,\u001b[0m\u001b[1;33m\u001b[0m\u001b[0m\n\u001b[0;32m   2940\u001b[0m                           \u001b[0myerr\u001b[0m\u001b[1;33m=\u001b[0m\u001b[0myerr\u001b[0m\u001b[1;33m,\u001b[0m \u001b[0mxerr\u001b[0m\u001b[1;33m=\u001b[0m\u001b[0mxerr\u001b[0m\u001b[1;33m,\u001b[0m \u001b[0msecondary_y\u001b[0m\u001b[1;33m=\u001b[0m\u001b[0msecondary_y\u001b[0m\u001b[1;33m,\u001b[0m\u001b[1;33m\u001b[0m\u001b[0m\n\u001b[1;32m-> 2941\u001b[1;33m                           sort_columns=sort_columns, **kwds)\n\u001b[0m\u001b[0;32m   2942\u001b[0m     \u001b[0m__call__\u001b[0m\u001b[1;33m.\u001b[0m\u001b[0m__doc__\u001b[0m \u001b[1;33m=\u001b[0m \u001b[0mplot_frame\u001b[0m\u001b[1;33m.\u001b[0m\u001b[0m__doc__\u001b[0m\u001b[1;33m\u001b[0m\u001b[0m\n\u001b[0;32m   2943\u001b[0m \u001b[1;33m\u001b[0m\u001b[0m\n",
      "\u001b[1;32m~\\Anaconda3\\lib\\site-packages\\pandas\\plotting\\_core.py\u001b[0m in \u001b[0;36mplot_frame\u001b[1;34m(data, x, y, kind, ax, subplots, sharex, sharey, layout, figsize, use_index, title, grid, legend, style, logx, logy, loglog, xticks, yticks, xlim, ylim, rot, fontsize, colormap, table, yerr, xerr, secondary_y, sort_columns, **kwds)\u001b[0m\n\u001b[0;32m   1975\u001b[0m                  \u001b[0myerr\u001b[0m\u001b[1;33m=\u001b[0m\u001b[0myerr\u001b[0m\u001b[1;33m,\u001b[0m \u001b[0mxerr\u001b[0m\u001b[1;33m=\u001b[0m\u001b[0mxerr\u001b[0m\u001b[1;33m,\u001b[0m\u001b[1;33m\u001b[0m\u001b[0m\n\u001b[0;32m   1976\u001b[0m                  \u001b[0msecondary_y\u001b[0m\u001b[1;33m=\u001b[0m\u001b[0msecondary_y\u001b[0m\u001b[1;33m,\u001b[0m \u001b[0msort_columns\u001b[0m\u001b[1;33m=\u001b[0m\u001b[0msort_columns\u001b[0m\u001b[1;33m,\u001b[0m\u001b[1;33m\u001b[0m\u001b[0m\n\u001b[1;32m-> 1977\u001b[1;33m                  **kwds)\n\u001b[0m\u001b[0;32m   1978\u001b[0m \u001b[1;33m\u001b[0m\u001b[0m\n\u001b[0;32m   1979\u001b[0m \u001b[1;33m\u001b[0m\u001b[0m\n",
      "\u001b[1;32m~\\Anaconda3\\lib\\site-packages\\pandas\\plotting\\_core.py\u001b[0m in \u001b[0;36m_plot\u001b[1;34m(data, x, y, subplots, ax, kind, **kwds)\u001b[0m\n\u001b[0;32m   1764\u001b[0m                 \u001b[1;32mif\u001b[0m \u001b[0mis_integer\u001b[0m\u001b[1;33m(\u001b[0m\u001b[0mx\u001b[0m\u001b[1;33m)\u001b[0m \u001b[1;32mand\u001b[0m \u001b[1;32mnot\u001b[0m \u001b[0mdata\u001b[0m\u001b[1;33m.\u001b[0m\u001b[0mcolumns\u001b[0m\u001b[1;33m.\u001b[0m\u001b[0mholds_integer\u001b[0m\u001b[1;33m(\u001b[0m\u001b[1;33m)\u001b[0m\u001b[1;33m:\u001b[0m\u001b[1;33m\u001b[0m\u001b[0m\n\u001b[0;32m   1765\u001b[0m                     \u001b[0mx\u001b[0m \u001b[1;33m=\u001b[0m \u001b[0mdata_cols\u001b[0m\u001b[1;33m[\u001b[0m\u001b[0mx\u001b[0m\u001b[1;33m]\u001b[0m\u001b[1;33m\u001b[0m\u001b[0m\n\u001b[1;32m-> 1766\u001b[1;33m                 \u001b[1;32melif\u001b[0m \u001b[1;32mnot\u001b[0m \u001b[0misinstance\u001b[0m\u001b[1;33m(\u001b[0m\u001b[0mdata\u001b[0m\u001b[1;33m[\u001b[0m\u001b[0mx\u001b[0m\u001b[1;33m]\u001b[0m\u001b[1;33m,\u001b[0m \u001b[0mABCSeries\u001b[0m\u001b[1;33m)\u001b[0m\u001b[1;33m:\u001b[0m\u001b[1;33m\u001b[0m\u001b[0m\n\u001b[0m\u001b[0;32m   1767\u001b[0m                     \u001b[1;32mraise\u001b[0m \u001b[0mValueError\u001b[0m\u001b[1;33m(\u001b[0m\u001b[1;34m\"x must be a label or position\"\u001b[0m\u001b[1;33m)\u001b[0m\u001b[1;33m\u001b[0m\u001b[0m\n\u001b[0;32m   1768\u001b[0m                 \u001b[0mdata\u001b[0m \u001b[1;33m=\u001b[0m \u001b[0mdata\u001b[0m\u001b[1;33m.\u001b[0m\u001b[0mset_index\u001b[0m\u001b[1;33m(\u001b[0m\u001b[0mx\u001b[0m\u001b[1;33m)\u001b[0m\u001b[1;33m\u001b[0m\u001b[0m\n",
      "\u001b[1;32m~\\Anaconda3\\lib\\site-packages\\pandas\\core\\frame.py\u001b[0m in \u001b[0;36m__getitem__\u001b[1;34m(self, key)\u001b[0m\n\u001b[0;32m   2683\u001b[0m             \u001b[1;32mreturn\u001b[0m \u001b[0mself\u001b[0m\u001b[1;33m.\u001b[0m\u001b[0m_getitem_multilevel\u001b[0m\u001b[1;33m(\u001b[0m\u001b[0mkey\u001b[0m\u001b[1;33m)\u001b[0m\u001b[1;33m\u001b[0m\u001b[0m\n\u001b[0;32m   2684\u001b[0m         \u001b[1;32melse\u001b[0m\u001b[1;33m:\u001b[0m\u001b[1;33m\u001b[0m\u001b[0m\n\u001b[1;32m-> 2685\u001b[1;33m             \u001b[1;32mreturn\u001b[0m \u001b[0mself\u001b[0m\u001b[1;33m.\u001b[0m\u001b[0m_getitem_column\u001b[0m\u001b[1;33m(\u001b[0m\u001b[0mkey\u001b[0m\u001b[1;33m)\u001b[0m\u001b[1;33m\u001b[0m\u001b[0m\n\u001b[0m\u001b[0;32m   2686\u001b[0m \u001b[1;33m\u001b[0m\u001b[0m\n\u001b[0;32m   2687\u001b[0m     \u001b[1;32mdef\u001b[0m \u001b[0m_getitem_column\u001b[0m\u001b[1;33m(\u001b[0m\u001b[0mself\u001b[0m\u001b[1;33m,\u001b[0m \u001b[0mkey\u001b[0m\u001b[1;33m)\u001b[0m\u001b[1;33m:\u001b[0m\u001b[1;33m\u001b[0m\u001b[0m\n",
      "\u001b[1;32m~\\Anaconda3\\lib\\site-packages\\pandas\\core\\frame.py\u001b[0m in \u001b[0;36m_getitem_column\u001b[1;34m(self, key)\u001b[0m\n\u001b[0;32m   2690\u001b[0m         \u001b[1;31m# get column\u001b[0m\u001b[1;33m\u001b[0m\u001b[1;33m\u001b[0m\u001b[0m\n\u001b[0;32m   2691\u001b[0m         \u001b[1;32mif\u001b[0m \u001b[0mself\u001b[0m\u001b[1;33m.\u001b[0m\u001b[0mcolumns\u001b[0m\u001b[1;33m.\u001b[0m\u001b[0mis_unique\u001b[0m\u001b[1;33m:\u001b[0m\u001b[1;33m\u001b[0m\u001b[0m\n\u001b[1;32m-> 2692\u001b[1;33m             \u001b[1;32mreturn\u001b[0m \u001b[0mself\u001b[0m\u001b[1;33m.\u001b[0m\u001b[0m_get_item_cache\u001b[0m\u001b[1;33m(\u001b[0m\u001b[0mkey\u001b[0m\u001b[1;33m)\u001b[0m\u001b[1;33m\u001b[0m\u001b[0m\n\u001b[0m\u001b[0;32m   2693\u001b[0m \u001b[1;33m\u001b[0m\u001b[0m\n\u001b[0;32m   2694\u001b[0m         \u001b[1;31m# duplicate columns & possible reduce dimensionality\u001b[0m\u001b[1;33m\u001b[0m\u001b[1;33m\u001b[0m\u001b[0m\n",
      "\u001b[1;32m~\\Anaconda3\\lib\\site-packages\\pandas\\core\\generic.py\u001b[0m in \u001b[0;36m_get_item_cache\u001b[1;34m(self, item)\u001b[0m\n\u001b[0;32m   2484\u001b[0m         \u001b[0mres\u001b[0m \u001b[1;33m=\u001b[0m \u001b[0mcache\u001b[0m\u001b[1;33m.\u001b[0m\u001b[0mget\u001b[0m\u001b[1;33m(\u001b[0m\u001b[0mitem\u001b[0m\u001b[1;33m)\u001b[0m\u001b[1;33m\u001b[0m\u001b[0m\n\u001b[0;32m   2485\u001b[0m         \u001b[1;32mif\u001b[0m \u001b[0mres\u001b[0m \u001b[1;32mis\u001b[0m \u001b[1;32mNone\u001b[0m\u001b[1;33m:\u001b[0m\u001b[1;33m\u001b[0m\u001b[0m\n\u001b[1;32m-> 2486\u001b[1;33m             \u001b[0mvalues\u001b[0m \u001b[1;33m=\u001b[0m \u001b[0mself\u001b[0m\u001b[1;33m.\u001b[0m\u001b[0m_data\u001b[0m\u001b[1;33m.\u001b[0m\u001b[0mget\u001b[0m\u001b[1;33m(\u001b[0m\u001b[0mitem\u001b[0m\u001b[1;33m)\u001b[0m\u001b[1;33m\u001b[0m\u001b[0m\n\u001b[0m\u001b[0;32m   2487\u001b[0m             \u001b[0mres\u001b[0m \u001b[1;33m=\u001b[0m \u001b[0mself\u001b[0m\u001b[1;33m.\u001b[0m\u001b[0m_box_item_values\u001b[0m\u001b[1;33m(\u001b[0m\u001b[0mitem\u001b[0m\u001b[1;33m,\u001b[0m \u001b[0mvalues\u001b[0m\u001b[1;33m)\u001b[0m\u001b[1;33m\u001b[0m\u001b[0m\n\u001b[0;32m   2488\u001b[0m             \u001b[0mcache\u001b[0m\u001b[1;33m[\u001b[0m\u001b[0mitem\u001b[0m\u001b[1;33m]\u001b[0m \u001b[1;33m=\u001b[0m \u001b[0mres\u001b[0m\u001b[1;33m\u001b[0m\u001b[0m\n",
      "\u001b[1;32m~\\Anaconda3\\lib\\site-packages\\pandas\\core\\internals.py\u001b[0m in \u001b[0;36mget\u001b[1;34m(self, item, fastpath)\u001b[0m\n\u001b[0;32m   4113\u001b[0m \u001b[1;33m\u001b[0m\u001b[0m\n\u001b[0;32m   4114\u001b[0m             \u001b[1;32mif\u001b[0m \u001b[1;32mnot\u001b[0m \u001b[0misna\u001b[0m\u001b[1;33m(\u001b[0m\u001b[0mitem\u001b[0m\u001b[1;33m)\u001b[0m\u001b[1;33m:\u001b[0m\u001b[1;33m\u001b[0m\u001b[0m\n\u001b[1;32m-> 4115\u001b[1;33m                 \u001b[0mloc\u001b[0m \u001b[1;33m=\u001b[0m \u001b[0mself\u001b[0m\u001b[1;33m.\u001b[0m\u001b[0mitems\u001b[0m\u001b[1;33m.\u001b[0m\u001b[0mget_loc\u001b[0m\u001b[1;33m(\u001b[0m\u001b[0mitem\u001b[0m\u001b[1;33m)\u001b[0m\u001b[1;33m\u001b[0m\u001b[0m\n\u001b[0m\u001b[0;32m   4116\u001b[0m             \u001b[1;32melse\u001b[0m\u001b[1;33m:\u001b[0m\u001b[1;33m\u001b[0m\u001b[0m\n\u001b[0;32m   4117\u001b[0m                 \u001b[0mindexer\u001b[0m \u001b[1;33m=\u001b[0m \u001b[0mnp\u001b[0m\u001b[1;33m.\u001b[0m\u001b[0marange\u001b[0m\u001b[1;33m(\u001b[0m\u001b[0mlen\u001b[0m\u001b[1;33m(\u001b[0m\u001b[0mself\u001b[0m\u001b[1;33m.\u001b[0m\u001b[0mitems\u001b[0m\u001b[1;33m)\u001b[0m\u001b[1;33m)\u001b[0m\u001b[1;33m[\u001b[0m\u001b[0misna\u001b[0m\u001b[1;33m(\u001b[0m\u001b[0mself\u001b[0m\u001b[1;33m.\u001b[0m\u001b[0mitems\u001b[0m\u001b[1;33m)\u001b[0m\u001b[1;33m]\u001b[0m\u001b[1;33m\u001b[0m\u001b[0m\n",
      "\u001b[1;32m~\\Anaconda3\\lib\\site-packages\\pandas\\core\\indexes\\base.py\u001b[0m in \u001b[0;36mget_loc\u001b[1;34m(self, key, method, tolerance)\u001b[0m\n\u001b[0;32m   3063\u001b[0m                 \u001b[1;32mreturn\u001b[0m \u001b[0mself\u001b[0m\u001b[1;33m.\u001b[0m\u001b[0m_engine\u001b[0m\u001b[1;33m.\u001b[0m\u001b[0mget_loc\u001b[0m\u001b[1;33m(\u001b[0m\u001b[0mkey\u001b[0m\u001b[1;33m)\u001b[0m\u001b[1;33m\u001b[0m\u001b[0m\n\u001b[0;32m   3064\u001b[0m             \u001b[1;32mexcept\u001b[0m \u001b[0mKeyError\u001b[0m\u001b[1;33m:\u001b[0m\u001b[1;33m\u001b[0m\u001b[0m\n\u001b[1;32m-> 3065\u001b[1;33m                 \u001b[1;32mreturn\u001b[0m \u001b[0mself\u001b[0m\u001b[1;33m.\u001b[0m\u001b[0m_engine\u001b[0m\u001b[1;33m.\u001b[0m\u001b[0mget_loc\u001b[0m\u001b[1;33m(\u001b[0m\u001b[0mself\u001b[0m\u001b[1;33m.\u001b[0m\u001b[0m_maybe_cast_indexer\u001b[0m\u001b[1;33m(\u001b[0m\u001b[0mkey\u001b[0m\u001b[1;33m)\u001b[0m\u001b[1;33m)\u001b[0m\u001b[1;33m\u001b[0m\u001b[0m\n\u001b[0m\u001b[0;32m   3066\u001b[0m \u001b[1;33m\u001b[0m\u001b[0m\n\u001b[0;32m   3067\u001b[0m         \u001b[0mindexer\u001b[0m \u001b[1;33m=\u001b[0m \u001b[0mself\u001b[0m\u001b[1;33m.\u001b[0m\u001b[0mget_indexer\u001b[0m\u001b[1;33m(\u001b[0m\u001b[1;33m[\u001b[0m\u001b[0mkey\u001b[0m\u001b[1;33m]\u001b[0m\u001b[1;33m,\u001b[0m \u001b[0mmethod\u001b[0m\u001b[1;33m=\u001b[0m\u001b[0mmethod\u001b[0m\u001b[1;33m,\u001b[0m \u001b[0mtolerance\u001b[0m\u001b[1;33m=\u001b[0m\u001b[0mtolerance\u001b[0m\u001b[1;33m)\u001b[0m\u001b[1;33m\u001b[0m\u001b[0m\n",
      "\u001b[1;32mpandas\\_libs\\index.pyx\u001b[0m in \u001b[0;36mpandas._libs.index.IndexEngine.get_loc\u001b[1;34m()\u001b[0m\n",
      "\u001b[1;32mpandas\\_libs\\index.pyx\u001b[0m in \u001b[0;36mpandas._libs.index.IndexEngine.get_loc\u001b[1;34m()\u001b[0m\n",
      "\u001b[1;32mpandas\\_libs\\hashtable_class_helper.pxi\u001b[0m in \u001b[0;36mpandas._libs.hashtable.PyObjectHashTable.get_item\u001b[1;34m()\u001b[0m\n",
      "\u001b[1;32mpandas\\_libs\\hashtable_class_helper.pxi\u001b[0m in \u001b[0;36mpandas._libs.hashtable.PyObjectHashTable.get_item\u001b[1;34m()\u001b[0m\n",
      "\u001b[1;31mKeyError\u001b[0m: 'I/E'"
     ]
    }
   ],
   "source": [
    "df.groupby('I/E').plot(kind='bar',x='I/E',y='type')\n"
   ]
  },
  {
   "cell_type": "code",
   "execution_count": 37,
   "metadata": {},
   "outputs": [
    {
     "ename": "KeyError",
     "evalue": "'I/E'",
     "output_type": "error",
     "traceback": [
      "\u001b[1;31m---------------------------------------------------------------------------\u001b[0m",
      "\u001b[1;31mKeyError\u001b[0m                                  Traceback (most recent call last)",
      "\u001b[1;32m~\\Anaconda3\\lib\\site-packages\\pandas\\core\\indexes\\base.py\u001b[0m in \u001b[0;36mget_loc\u001b[1;34m(self, key, method, tolerance)\u001b[0m\n\u001b[0;32m   3062\u001b[0m             \u001b[1;32mtry\u001b[0m\u001b[1;33m:\u001b[0m\u001b[1;33m\u001b[0m\u001b[0m\n\u001b[1;32m-> 3063\u001b[1;33m                 \u001b[1;32mreturn\u001b[0m \u001b[0mself\u001b[0m\u001b[1;33m.\u001b[0m\u001b[0m_engine\u001b[0m\u001b[1;33m.\u001b[0m\u001b[0mget_loc\u001b[0m\u001b[1;33m(\u001b[0m\u001b[0mkey\u001b[0m\u001b[1;33m)\u001b[0m\u001b[1;33m\u001b[0m\u001b[0m\n\u001b[0m\u001b[0;32m   3064\u001b[0m             \u001b[1;32mexcept\u001b[0m \u001b[0mKeyError\u001b[0m\u001b[1;33m:\u001b[0m\u001b[1;33m\u001b[0m\u001b[0m\n",
      "\u001b[1;32mpandas\\_libs\\index.pyx\u001b[0m in \u001b[0;36mpandas._libs.index.IndexEngine.get_loc\u001b[1;34m()\u001b[0m\n",
      "\u001b[1;32mpandas\\_libs\\index.pyx\u001b[0m in \u001b[0;36mpandas._libs.index.IndexEngine.get_loc\u001b[1;34m()\u001b[0m\n",
      "\u001b[1;32mpandas\\_libs\\hashtable_class_helper.pxi\u001b[0m in \u001b[0;36mpandas._libs.hashtable.PyObjectHashTable.get_item\u001b[1;34m()\u001b[0m\n",
      "\u001b[1;32mpandas\\_libs\\hashtable_class_helper.pxi\u001b[0m in \u001b[0;36mpandas._libs.hashtable.PyObjectHashTable.get_item\u001b[1;34m()\u001b[0m\n",
      "\u001b[1;31mKeyError\u001b[0m: 'I/E'",
      "\nDuring handling of the above exception, another exception occurred:\n",
      "\u001b[1;31mKeyError\u001b[0m                                  Traceback (most recent call last)",
      "\u001b[1;32m<ipython-input-37-f10eb4bccc2a>\u001b[0m in \u001b[0;36m<module>\u001b[1;34m()\u001b[0m\n\u001b[1;32m----> 1\u001b[1;33m \u001b[0mdf\u001b[0m\u001b[1;33m.\u001b[0m\u001b[0mgroupby\u001b[0m\u001b[1;33m(\u001b[0m\u001b[1;34m'I/E'\u001b[0m\u001b[1;33m)\u001b[0m\u001b[1;33m.\u001b[0m\u001b[0mcount\u001b[0m\u001b[1;33m(\u001b[0m\u001b[1;33m)\u001b[0m\u001b[1;33m.\u001b[0m\u001b[0mplot\u001b[0m\u001b[1;33m(\u001b[0m\u001b[0mkind\u001b[0m\u001b[1;33m=\u001b[0m\u001b[1;34m'bar'\u001b[0m\u001b[1;33m,\u001b[0m\u001b[0mx\u001b[0m\u001b[1;33m=\u001b[0m\u001b[1;34m'I/E'\u001b[0m\u001b[1;33m,\u001b[0m\u001b[0my\u001b[0m\u001b[1;33m=\u001b[0m\u001b[1;34m'type'\u001b[0m\u001b[1;33m)\u001b[0m\u001b[1;33m\u001b[0m\u001b[0m\n\u001b[0m",
      "\u001b[1;32m~\\Anaconda3\\lib\\site-packages\\pandas\\plotting\\_core.py\u001b[0m in \u001b[0;36m__call__\u001b[1;34m(self, x, y, kind, ax, subplots, sharex, sharey, layout, figsize, use_index, title, grid, legend, style, logx, logy, loglog, xticks, yticks, xlim, ylim, rot, fontsize, colormap, table, yerr, xerr, secondary_y, sort_columns, **kwds)\u001b[0m\n\u001b[0;32m   2939\u001b[0m                           \u001b[0mfontsize\u001b[0m\u001b[1;33m=\u001b[0m\u001b[0mfontsize\u001b[0m\u001b[1;33m,\u001b[0m \u001b[0mcolormap\u001b[0m\u001b[1;33m=\u001b[0m\u001b[0mcolormap\u001b[0m\u001b[1;33m,\u001b[0m \u001b[0mtable\u001b[0m\u001b[1;33m=\u001b[0m\u001b[0mtable\u001b[0m\u001b[1;33m,\u001b[0m\u001b[1;33m\u001b[0m\u001b[0m\n\u001b[0;32m   2940\u001b[0m                           \u001b[0myerr\u001b[0m\u001b[1;33m=\u001b[0m\u001b[0myerr\u001b[0m\u001b[1;33m,\u001b[0m \u001b[0mxerr\u001b[0m\u001b[1;33m=\u001b[0m\u001b[0mxerr\u001b[0m\u001b[1;33m,\u001b[0m \u001b[0msecondary_y\u001b[0m\u001b[1;33m=\u001b[0m\u001b[0msecondary_y\u001b[0m\u001b[1;33m,\u001b[0m\u001b[1;33m\u001b[0m\u001b[0m\n\u001b[1;32m-> 2941\u001b[1;33m                           sort_columns=sort_columns, **kwds)\n\u001b[0m\u001b[0;32m   2942\u001b[0m     \u001b[0m__call__\u001b[0m\u001b[1;33m.\u001b[0m\u001b[0m__doc__\u001b[0m \u001b[1;33m=\u001b[0m \u001b[0mplot_frame\u001b[0m\u001b[1;33m.\u001b[0m\u001b[0m__doc__\u001b[0m\u001b[1;33m\u001b[0m\u001b[0m\n\u001b[0;32m   2943\u001b[0m \u001b[1;33m\u001b[0m\u001b[0m\n",
      "\u001b[1;32m~\\Anaconda3\\lib\\site-packages\\pandas\\plotting\\_core.py\u001b[0m in \u001b[0;36mplot_frame\u001b[1;34m(data, x, y, kind, ax, subplots, sharex, sharey, layout, figsize, use_index, title, grid, legend, style, logx, logy, loglog, xticks, yticks, xlim, ylim, rot, fontsize, colormap, table, yerr, xerr, secondary_y, sort_columns, **kwds)\u001b[0m\n\u001b[0;32m   1975\u001b[0m                  \u001b[0myerr\u001b[0m\u001b[1;33m=\u001b[0m\u001b[0myerr\u001b[0m\u001b[1;33m,\u001b[0m \u001b[0mxerr\u001b[0m\u001b[1;33m=\u001b[0m\u001b[0mxerr\u001b[0m\u001b[1;33m,\u001b[0m\u001b[1;33m\u001b[0m\u001b[0m\n\u001b[0;32m   1976\u001b[0m                  \u001b[0msecondary_y\u001b[0m\u001b[1;33m=\u001b[0m\u001b[0msecondary_y\u001b[0m\u001b[1;33m,\u001b[0m \u001b[0msort_columns\u001b[0m\u001b[1;33m=\u001b[0m\u001b[0msort_columns\u001b[0m\u001b[1;33m,\u001b[0m\u001b[1;33m\u001b[0m\u001b[0m\n\u001b[1;32m-> 1977\u001b[1;33m                  **kwds)\n\u001b[0m\u001b[0;32m   1978\u001b[0m \u001b[1;33m\u001b[0m\u001b[0m\n\u001b[0;32m   1979\u001b[0m \u001b[1;33m\u001b[0m\u001b[0m\n",
      "\u001b[1;32m~\\Anaconda3\\lib\\site-packages\\pandas\\plotting\\_core.py\u001b[0m in \u001b[0;36m_plot\u001b[1;34m(data, x, y, subplots, ax, kind, **kwds)\u001b[0m\n\u001b[0;32m   1764\u001b[0m                 \u001b[1;32mif\u001b[0m \u001b[0mis_integer\u001b[0m\u001b[1;33m(\u001b[0m\u001b[0mx\u001b[0m\u001b[1;33m)\u001b[0m \u001b[1;32mand\u001b[0m \u001b[1;32mnot\u001b[0m \u001b[0mdata\u001b[0m\u001b[1;33m.\u001b[0m\u001b[0mcolumns\u001b[0m\u001b[1;33m.\u001b[0m\u001b[0mholds_integer\u001b[0m\u001b[1;33m(\u001b[0m\u001b[1;33m)\u001b[0m\u001b[1;33m:\u001b[0m\u001b[1;33m\u001b[0m\u001b[0m\n\u001b[0;32m   1765\u001b[0m                     \u001b[0mx\u001b[0m \u001b[1;33m=\u001b[0m \u001b[0mdata_cols\u001b[0m\u001b[1;33m[\u001b[0m\u001b[0mx\u001b[0m\u001b[1;33m]\u001b[0m\u001b[1;33m\u001b[0m\u001b[0m\n\u001b[1;32m-> 1766\u001b[1;33m                 \u001b[1;32melif\u001b[0m \u001b[1;32mnot\u001b[0m \u001b[0misinstance\u001b[0m\u001b[1;33m(\u001b[0m\u001b[0mdata\u001b[0m\u001b[1;33m[\u001b[0m\u001b[0mx\u001b[0m\u001b[1;33m]\u001b[0m\u001b[1;33m,\u001b[0m \u001b[0mABCSeries\u001b[0m\u001b[1;33m)\u001b[0m\u001b[1;33m:\u001b[0m\u001b[1;33m\u001b[0m\u001b[0m\n\u001b[0m\u001b[0;32m   1767\u001b[0m                     \u001b[1;32mraise\u001b[0m \u001b[0mValueError\u001b[0m\u001b[1;33m(\u001b[0m\u001b[1;34m\"x must be a label or position\"\u001b[0m\u001b[1;33m)\u001b[0m\u001b[1;33m\u001b[0m\u001b[0m\n\u001b[0;32m   1768\u001b[0m                 \u001b[0mdata\u001b[0m \u001b[1;33m=\u001b[0m \u001b[0mdata\u001b[0m\u001b[1;33m.\u001b[0m\u001b[0mset_index\u001b[0m\u001b[1;33m(\u001b[0m\u001b[0mx\u001b[0m\u001b[1;33m)\u001b[0m\u001b[1;33m\u001b[0m\u001b[0m\n",
      "\u001b[1;32m~\\Anaconda3\\lib\\site-packages\\pandas\\core\\frame.py\u001b[0m in \u001b[0;36m__getitem__\u001b[1;34m(self, key)\u001b[0m\n\u001b[0;32m   2683\u001b[0m             \u001b[1;32mreturn\u001b[0m \u001b[0mself\u001b[0m\u001b[1;33m.\u001b[0m\u001b[0m_getitem_multilevel\u001b[0m\u001b[1;33m(\u001b[0m\u001b[0mkey\u001b[0m\u001b[1;33m)\u001b[0m\u001b[1;33m\u001b[0m\u001b[0m\n\u001b[0;32m   2684\u001b[0m         \u001b[1;32melse\u001b[0m\u001b[1;33m:\u001b[0m\u001b[1;33m\u001b[0m\u001b[0m\n\u001b[1;32m-> 2685\u001b[1;33m             \u001b[1;32mreturn\u001b[0m \u001b[0mself\u001b[0m\u001b[1;33m.\u001b[0m\u001b[0m_getitem_column\u001b[0m\u001b[1;33m(\u001b[0m\u001b[0mkey\u001b[0m\u001b[1;33m)\u001b[0m\u001b[1;33m\u001b[0m\u001b[0m\n\u001b[0m\u001b[0;32m   2686\u001b[0m \u001b[1;33m\u001b[0m\u001b[0m\n\u001b[0;32m   2687\u001b[0m     \u001b[1;32mdef\u001b[0m \u001b[0m_getitem_column\u001b[0m\u001b[1;33m(\u001b[0m\u001b[0mself\u001b[0m\u001b[1;33m,\u001b[0m \u001b[0mkey\u001b[0m\u001b[1;33m)\u001b[0m\u001b[1;33m:\u001b[0m\u001b[1;33m\u001b[0m\u001b[0m\n",
      "\u001b[1;32m~\\Anaconda3\\lib\\site-packages\\pandas\\core\\frame.py\u001b[0m in \u001b[0;36m_getitem_column\u001b[1;34m(self, key)\u001b[0m\n\u001b[0;32m   2690\u001b[0m         \u001b[1;31m# get column\u001b[0m\u001b[1;33m\u001b[0m\u001b[1;33m\u001b[0m\u001b[0m\n\u001b[0;32m   2691\u001b[0m         \u001b[1;32mif\u001b[0m \u001b[0mself\u001b[0m\u001b[1;33m.\u001b[0m\u001b[0mcolumns\u001b[0m\u001b[1;33m.\u001b[0m\u001b[0mis_unique\u001b[0m\u001b[1;33m:\u001b[0m\u001b[1;33m\u001b[0m\u001b[0m\n\u001b[1;32m-> 2692\u001b[1;33m             \u001b[1;32mreturn\u001b[0m \u001b[0mself\u001b[0m\u001b[1;33m.\u001b[0m\u001b[0m_get_item_cache\u001b[0m\u001b[1;33m(\u001b[0m\u001b[0mkey\u001b[0m\u001b[1;33m)\u001b[0m\u001b[1;33m\u001b[0m\u001b[0m\n\u001b[0m\u001b[0;32m   2693\u001b[0m \u001b[1;33m\u001b[0m\u001b[0m\n\u001b[0;32m   2694\u001b[0m         \u001b[1;31m# duplicate columns & possible reduce dimensionality\u001b[0m\u001b[1;33m\u001b[0m\u001b[1;33m\u001b[0m\u001b[0m\n",
      "\u001b[1;32m~\\Anaconda3\\lib\\site-packages\\pandas\\core\\generic.py\u001b[0m in \u001b[0;36m_get_item_cache\u001b[1;34m(self, item)\u001b[0m\n\u001b[0;32m   2484\u001b[0m         \u001b[0mres\u001b[0m \u001b[1;33m=\u001b[0m \u001b[0mcache\u001b[0m\u001b[1;33m.\u001b[0m\u001b[0mget\u001b[0m\u001b[1;33m(\u001b[0m\u001b[0mitem\u001b[0m\u001b[1;33m)\u001b[0m\u001b[1;33m\u001b[0m\u001b[0m\n\u001b[0;32m   2485\u001b[0m         \u001b[1;32mif\u001b[0m \u001b[0mres\u001b[0m \u001b[1;32mis\u001b[0m \u001b[1;32mNone\u001b[0m\u001b[1;33m:\u001b[0m\u001b[1;33m\u001b[0m\u001b[0m\n\u001b[1;32m-> 2486\u001b[1;33m             \u001b[0mvalues\u001b[0m \u001b[1;33m=\u001b[0m \u001b[0mself\u001b[0m\u001b[1;33m.\u001b[0m\u001b[0m_data\u001b[0m\u001b[1;33m.\u001b[0m\u001b[0mget\u001b[0m\u001b[1;33m(\u001b[0m\u001b[0mitem\u001b[0m\u001b[1;33m)\u001b[0m\u001b[1;33m\u001b[0m\u001b[0m\n\u001b[0m\u001b[0;32m   2487\u001b[0m             \u001b[0mres\u001b[0m \u001b[1;33m=\u001b[0m \u001b[0mself\u001b[0m\u001b[1;33m.\u001b[0m\u001b[0m_box_item_values\u001b[0m\u001b[1;33m(\u001b[0m\u001b[0mitem\u001b[0m\u001b[1;33m,\u001b[0m \u001b[0mvalues\u001b[0m\u001b[1;33m)\u001b[0m\u001b[1;33m\u001b[0m\u001b[0m\n\u001b[0;32m   2488\u001b[0m             \u001b[0mcache\u001b[0m\u001b[1;33m[\u001b[0m\u001b[0mitem\u001b[0m\u001b[1;33m]\u001b[0m \u001b[1;33m=\u001b[0m \u001b[0mres\u001b[0m\u001b[1;33m\u001b[0m\u001b[0m\n",
      "\u001b[1;32m~\\Anaconda3\\lib\\site-packages\\pandas\\core\\internals.py\u001b[0m in \u001b[0;36mget\u001b[1;34m(self, item, fastpath)\u001b[0m\n\u001b[0;32m   4113\u001b[0m \u001b[1;33m\u001b[0m\u001b[0m\n\u001b[0;32m   4114\u001b[0m             \u001b[1;32mif\u001b[0m \u001b[1;32mnot\u001b[0m \u001b[0misna\u001b[0m\u001b[1;33m(\u001b[0m\u001b[0mitem\u001b[0m\u001b[1;33m)\u001b[0m\u001b[1;33m:\u001b[0m\u001b[1;33m\u001b[0m\u001b[0m\n\u001b[1;32m-> 4115\u001b[1;33m                 \u001b[0mloc\u001b[0m \u001b[1;33m=\u001b[0m \u001b[0mself\u001b[0m\u001b[1;33m.\u001b[0m\u001b[0mitems\u001b[0m\u001b[1;33m.\u001b[0m\u001b[0mget_loc\u001b[0m\u001b[1;33m(\u001b[0m\u001b[0mitem\u001b[0m\u001b[1;33m)\u001b[0m\u001b[1;33m\u001b[0m\u001b[0m\n\u001b[0m\u001b[0;32m   4116\u001b[0m             \u001b[1;32melse\u001b[0m\u001b[1;33m:\u001b[0m\u001b[1;33m\u001b[0m\u001b[0m\n\u001b[0;32m   4117\u001b[0m                 \u001b[0mindexer\u001b[0m \u001b[1;33m=\u001b[0m \u001b[0mnp\u001b[0m\u001b[1;33m.\u001b[0m\u001b[0marange\u001b[0m\u001b[1;33m(\u001b[0m\u001b[0mlen\u001b[0m\u001b[1;33m(\u001b[0m\u001b[0mself\u001b[0m\u001b[1;33m.\u001b[0m\u001b[0mitems\u001b[0m\u001b[1;33m)\u001b[0m\u001b[1;33m)\u001b[0m\u001b[1;33m[\u001b[0m\u001b[0misna\u001b[0m\u001b[1;33m(\u001b[0m\u001b[0mself\u001b[0m\u001b[1;33m.\u001b[0m\u001b[0mitems\u001b[0m\u001b[1;33m)\u001b[0m\u001b[1;33m]\u001b[0m\u001b[1;33m\u001b[0m\u001b[0m\n",
      "\u001b[1;32m~\\Anaconda3\\lib\\site-packages\\pandas\\core\\indexes\\base.py\u001b[0m in \u001b[0;36mget_loc\u001b[1;34m(self, key, method, tolerance)\u001b[0m\n\u001b[0;32m   3063\u001b[0m                 \u001b[1;32mreturn\u001b[0m \u001b[0mself\u001b[0m\u001b[1;33m.\u001b[0m\u001b[0m_engine\u001b[0m\u001b[1;33m.\u001b[0m\u001b[0mget_loc\u001b[0m\u001b[1;33m(\u001b[0m\u001b[0mkey\u001b[0m\u001b[1;33m)\u001b[0m\u001b[1;33m\u001b[0m\u001b[0m\n\u001b[0;32m   3064\u001b[0m             \u001b[1;32mexcept\u001b[0m \u001b[0mKeyError\u001b[0m\u001b[1;33m:\u001b[0m\u001b[1;33m\u001b[0m\u001b[0m\n\u001b[1;32m-> 3065\u001b[1;33m                 \u001b[1;32mreturn\u001b[0m \u001b[0mself\u001b[0m\u001b[1;33m.\u001b[0m\u001b[0m_engine\u001b[0m\u001b[1;33m.\u001b[0m\u001b[0mget_loc\u001b[0m\u001b[1;33m(\u001b[0m\u001b[0mself\u001b[0m\u001b[1;33m.\u001b[0m\u001b[0m_maybe_cast_indexer\u001b[0m\u001b[1;33m(\u001b[0m\u001b[0mkey\u001b[0m\u001b[1;33m)\u001b[0m\u001b[1;33m)\u001b[0m\u001b[1;33m\u001b[0m\u001b[0m\n\u001b[0m\u001b[0;32m   3066\u001b[0m \u001b[1;33m\u001b[0m\u001b[0m\n\u001b[0;32m   3067\u001b[0m         \u001b[0mindexer\u001b[0m \u001b[1;33m=\u001b[0m \u001b[0mself\u001b[0m\u001b[1;33m.\u001b[0m\u001b[0mget_indexer\u001b[0m\u001b[1;33m(\u001b[0m\u001b[1;33m[\u001b[0m\u001b[0mkey\u001b[0m\u001b[1;33m]\u001b[0m\u001b[1;33m,\u001b[0m \u001b[0mmethod\u001b[0m\u001b[1;33m=\u001b[0m\u001b[0mmethod\u001b[0m\u001b[1;33m,\u001b[0m \u001b[0mtolerance\u001b[0m\u001b[1;33m=\u001b[0m\u001b[0mtolerance\u001b[0m\u001b[1;33m)\u001b[0m\u001b[1;33m\u001b[0m\u001b[0m\n",
      "\u001b[1;32mpandas\\_libs\\index.pyx\u001b[0m in \u001b[0;36mpandas._libs.index.IndexEngine.get_loc\u001b[1;34m()\u001b[0m\n",
      "\u001b[1;32mpandas\\_libs\\index.pyx\u001b[0m in \u001b[0;36mpandas._libs.index.IndexEngine.get_loc\u001b[1;34m()\u001b[0m\n",
      "\u001b[1;32mpandas\\_libs\\hashtable_class_helper.pxi\u001b[0m in \u001b[0;36mpandas._libs.hashtable.PyObjectHashTable.get_item\u001b[1;34m()\u001b[0m\n",
      "\u001b[1;32mpandas\\_libs\\hashtable_class_helper.pxi\u001b[0m in \u001b[0;36mpandas._libs.hashtable.PyObjectHashTable.get_item\u001b[1;34m()\u001b[0m\n",
      "\u001b[1;31mKeyError\u001b[0m: 'I/E'"
     ]
    }
   ],
   "source": [
    "df.groupby('I/E').count().plot(kind='bar',x='I/E',y='type')\n"
   ]
  },
  {
   "cell_type": "code",
   "execution_count": 38,
   "metadata": {},
   "outputs": [
    {
     "name": "stdout",
     "output_type": "stream",
     "text": [
      "     type  posts  words_per_comment\n",
      "I/E                                \n",
      "E    1999   1999               1999\n",
      "I    6676   6676               6676\n"
     ]
    },
    {
     "ename": "AttributeError",
     "evalue": "'NoneType' object has no attribute 'plot'",
     "output_type": "error",
     "traceback": [
      "\u001b[1;31m---------------------------------------------------------------------------\u001b[0m",
      "\u001b[1;31mAttributeError\u001b[0m                            Traceback (most recent call last)",
      "\u001b[1;32m<ipython-input-38-0d8234d9d235>\u001b[0m in \u001b[0;36m<module>\u001b[1;34m()\u001b[0m\n\u001b[1;32m----> 1\u001b[1;33m \u001b[0mprint\u001b[0m\u001b[1;33m(\u001b[0m\u001b[0mdf\u001b[0m\u001b[1;33m.\u001b[0m\u001b[0mgroupby\u001b[0m\u001b[1;33m(\u001b[0m\u001b[1;34m'I/E'\u001b[0m\u001b[1;33m)\u001b[0m\u001b[1;33m.\u001b[0m\u001b[0mcount\u001b[0m\u001b[1;33m(\u001b[0m\u001b[1;33m)\u001b[0m\u001b[1;33m)\u001b[0m\u001b[1;33m.\u001b[0m\u001b[0mplot\u001b[0m\u001b[1;33m(\u001b[0m\u001b[0mkind\u001b[0m\u001b[1;33m=\u001b[0m\u001b[1;34m'bar'\u001b[0m\u001b[1;33m,\u001b[0m\u001b[0mx\u001b[0m\u001b[1;33m=\u001b[0m\u001b[1;34m'I/E'\u001b[0m\u001b[1;33m,\u001b[0m\u001b[0my\u001b[0m\u001b[1;33m=\u001b[0m\u001b[1;34m'words_per_comment'\u001b[0m\u001b[1;33m)\u001b[0m\u001b[1;33m\u001b[0m\u001b[0m\n\u001b[0m",
      "\u001b[1;31mAttributeError\u001b[0m: 'NoneType' object has no attribute 'plot'"
     ]
    }
   ],
   "source": [
    "print(df.groupby('I/E').count()).plot(kind='bar',x='I/E',y='words_per_comment')"
   ]
  },
  {
   "cell_type": "code",
   "execution_count": 39,
   "metadata": {},
   "outputs": [
    {
     "ename": "KeyError",
     "evalue": "'I/E'",
     "output_type": "error",
     "traceback": [
      "\u001b[1;31m---------------------------------------------------------------------------\u001b[0m",
      "\u001b[1;31mKeyError\u001b[0m                                  Traceback (most recent call last)",
      "\u001b[1;32m~\\Anaconda3\\lib\\site-packages\\pandas\\core\\indexes\\base.py\u001b[0m in \u001b[0;36mget_loc\u001b[1;34m(self, key, method, tolerance)\u001b[0m\n\u001b[0;32m   3062\u001b[0m             \u001b[1;32mtry\u001b[0m\u001b[1;33m:\u001b[0m\u001b[1;33m\u001b[0m\u001b[0m\n\u001b[1;32m-> 3063\u001b[1;33m                 \u001b[1;32mreturn\u001b[0m \u001b[0mself\u001b[0m\u001b[1;33m.\u001b[0m\u001b[0m_engine\u001b[0m\u001b[1;33m.\u001b[0m\u001b[0mget_loc\u001b[0m\u001b[1;33m(\u001b[0m\u001b[0mkey\u001b[0m\u001b[1;33m)\u001b[0m\u001b[1;33m\u001b[0m\u001b[0m\n\u001b[0m\u001b[0;32m   3064\u001b[0m             \u001b[1;32mexcept\u001b[0m \u001b[0mKeyError\u001b[0m\u001b[1;33m:\u001b[0m\u001b[1;33m\u001b[0m\u001b[0m\n",
      "\u001b[1;32mpandas\\_libs\\index.pyx\u001b[0m in \u001b[0;36mpandas._libs.index.IndexEngine.get_loc\u001b[1;34m()\u001b[0m\n",
      "\u001b[1;32mpandas\\_libs\\index.pyx\u001b[0m in \u001b[0;36mpandas._libs.index.IndexEngine.get_loc\u001b[1;34m()\u001b[0m\n",
      "\u001b[1;32mpandas\\_libs\\hashtable_class_helper.pxi\u001b[0m in \u001b[0;36mpandas._libs.hashtable.PyObjectHashTable.get_item\u001b[1;34m()\u001b[0m\n",
      "\u001b[1;32mpandas\\_libs\\hashtable_class_helper.pxi\u001b[0m in \u001b[0;36mpandas._libs.hashtable.PyObjectHashTable.get_item\u001b[1;34m()\u001b[0m\n",
      "\u001b[1;31mKeyError\u001b[0m: 'I/E'",
      "\nDuring handling of the above exception, another exception occurred:\n",
      "\u001b[1;31mKeyError\u001b[0m                                  Traceback (most recent call last)",
      "\u001b[1;32m<ipython-input-39-9a596968b8c2>\u001b[0m in \u001b[0;36m<module>\u001b[1;34m()\u001b[0m\n\u001b[1;32m----> 1\u001b[1;33m \u001b[0mdf\u001b[0m\u001b[1;33m.\u001b[0m\u001b[0mgroupby\u001b[0m\u001b[1;33m(\u001b[0m\u001b[1;34m'I/E'\u001b[0m\u001b[1;33m)\u001b[0m\u001b[1;33m.\u001b[0m\u001b[0mcount\u001b[0m\u001b[1;33m(\u001b[0m\u001b[1;33m)\u001b[0m\u001b[1;33m.\u001b[0m\u001b[0mplot\u001b[0m\u001b[1;33m(\u001b[0m\u001b[0mkind\u001b[0m\u001b[1;33m=\u001b[0m\u001b[1;34m'bar'\u001b[0m\u001b[1;33m,\u001b[0m\u001b[0mx\u001b[0m\u001b[1;33m=\u001b[0m\u001b[1;34m'I/E'\u001b[0m\u001b[1;33m,\u001b[0m\u001b[0my\u001b[0m\u001b[1;33m=\u001b[0m\u001b[1;34m'words_per_comment'\u001b[0m\u001b[1;33m)\u001b[0m\u001b[1;33m\u001b[0m\u001b[0m\n\u001b[0m",
      "\u001b[1;32m~\\Anaconda3\\lib\\site-packages\\pandas\\plotting\\_core.py\u001b[0m in \u001b[0;36m__call__\u001b[1;34m(self, x, y, kind, ax, subplots, sharex, sharey, layout, figsize, use_index, title, grid, legend, style, logx, logy, loglog, xticks, yticks, xlim, ylim, rot, fontsize, colormap, table, yerr, xerr, secondary_y, sort_columns, **kwds)\u001b[0m\n\u001b[0;32m   2939\u001b[0m                           \u001b[0mfontsize\u001b[0m\u001b[1;33m=\u001b[0m\u001b[0mfontsize\u001b[0m\u001b[1;33m,\u001b[0m \u001b[0mcolormap\u001b[0m\u001b[1;33m=\u001b[0m\u001b[0mcolormap\u001b[0m\u001b[1;33m,\u001b[0m \u001b[0mtable\u001b[0m\u001b[1;33m=\u001b[0m\u001b[0mtable\u001b[0m\u001b[1;33m,\u001b[0m\u001b[1;33m\u001b[0m\u001b[0m\n\u001b[0;32m   2940\u001b[0m                           \u001b[0myerr\u001b[0m\u001b[1;33m=\u001b[0m\u001b[0myerr\u001b[0m\u001b[1;33m,\u001b[0m \u001b[0mxerr\u001b[0m\u001b[1;33m=\u001b[0m\u001b[0mxerr\u001b[0m\u001b[1;33m,\u001b[0m \u001b[0msecondary_y\u001b[0m\u001b[1;33m=\u001b[0m\u001b[0msecondary_y\u001b[0m\u001b[1;33m,\u001b[0m\u001b[1;33m\u001b[0m\u001b[0m\n\u001b[1;32m-> 2941\u001b[1;33m                           sort_columns=sort_columns, **kwds)\n\u001b[0m\u001b[0;32m   2942\u001b[0m     \u001b[0m__call__\u001b[0m\u001b[1;33m.\u001b[0m\u001b[0m__doc__\u001b[0m \u001b[1;33m=\u001b[0m \u001b[0mplot_frame\u001b[0m\u001b[1;33m.\u001b[0m\u001b[0m__doc__\u001b[0m\u001b[1;33m\u001b[0m\u001b[0m\n\u001b[0;32m   2943\u001b[0m \u001b[1;33m\u001b[0m\u001b[0m\n",
      "\u001b[1;32m~\\Anaconda3\\lib\\site-packages\\pandas\\plotting\\_core.py\u001b[0m in \u001b[0;36mplot_frame\u001b[1;34m(data, x, y, kind, ax, subplots, sharex, sharey, layout, figsize, use_index, title, grid, legend, style, logx, logy, loglog, xticks, yticks, xlim, ylim, rot, fontsize, colormap, table, yerr, xerr, secondary_y, sort_columns, **kwds)\u001b[0m\n\u001b[0;32m   1975\u001b[0m                  \u001b[0myerr\u001b[0m\u001b[1;33m=\u001b[0m\u001b[0myerr\u001b[0m\u001b[1;33m,\u001b[0m \u001b[0mxerr\u001b[0m\u001b[1;33m=\u001b[0m\u001b[0mxerr\u001b[0m\u001b[1;33m,\u001b[0m\u001b[1;33m\u001b[0m\u001b[0m\n\u001b[0;32m   1976\u001b[0m                  \u001b[0msecondary_y\u001b[0m\u001b[1;33m=\u001b[0m\u001b[0msecondary_y\u001b[0m\u001b[1;33m,\u001b[0m \u001b[0msort_columns\u001b[0m\u001b[1;33m=\u001b[0m\u001b[0msort_columns\u001b[0m\u001b[1;33m,\u001b[0m\u001b[1;33m\u001b[0m\u001b[0m\n\u001b[1;32m-> 1977\u001b[1;33m                  **kwds)\n\u001b[0m\u001b[0;32m   1978\u001b[0m \u001b[1;33m\u001b[0m\u001b[0m\n\u001b[0;32m   1979\u001b[0m \u001b[1;33m\u001b[0m\u001b[0m\n",
      "\u001b[1;32m~\\Anaconda3\\lib\\site-packages\\pandas\\plotting\\_core.py\u001b[0m in \u001b[0;36m_plot\u001b[1;34m(data, x, y, subplots, ax, kind, **kwds)\u001b[0m\n\u001b[0;32m   1764\u001b[0m                 \u001b[1;32mif\u001b[0m \u001b[0mis_integer\u001b[0m\u001b[1;33m(\u001b[0m\u001b[0mx\u001b[0m\u001b[1;33m)\u001b[0m \u001b[1;32mand\u001b[0m \u001b[1;32mnot\u001b[0m \u001b[0mdata\u001b[0m\u001b[1;33m.\u001b[0m\u001b[0mcolumns\u001b[0m\u001b[1;33m.\u001b[0m\u001b[0mholds_integer\u001b[0m\u001b[1;33m(\u001b[0m\u001b[1;33m)\u001b[0m\u001b[1;33m:\u001b[0m\u001b[1;33m\u001b[0m\u001b[0m\n\u001b[0;32m   1765\u001b[0m                     \u001b[0mx\u001b[0m \u001b[1;33m=\u001b[0m \u001b[0mdata_cols\u001b[0m\u001b[1;33m[\u001b[0m\u001b[0mx\u001b[0m\u001b[1;33m]\u001b[0m\u001b[1;33m\u001b[0m\u001b[0m\n\u001b[1;32m-> 1766\u001b[1;33m                 \u001b[1;32melif\u001b[0m \u001b[1;32mnot\u001b[0m \u001b[0misinstance\u001b[0m\u001b[1;33m(\u001b[0m\u001b[0mdata\u001b[0m\u001b[1;33m[\u001b[0m\u001b[0mx\u001b[0m\u001b[1;33m]\u001b[0m\u001b[1;33m,\u001b[0m \u001b[0mABCSeries\u001b[0m\u001b[1;33m)\u001b[0m\u001b[1;33m:\u001b[0m\u001b[1;33m\u001b[0m\u001b[0m\n\u001b[0m\u001b[0;32m   1767\u001b[0m                     \u001b[1;32mraise\u001b[0m \u001b[0mValueError\u001b[0m\u001b[1;33m(\u001b[0m\u001b[1;34m\"x must be a label or position\"\u001b[0m\u001b[1;33m)\u001b[0m\u001b[1;33m\u001b[0m\u001b[0m\n\u001b[0;32m   1768\u001b[0m                 \u001b[0mdata\u001b[0m \u001b[1;33m=\u001b[0m \u001b[0mdata\u001b[0m\u001b[1;33m.\u001b[0m\u001b[0mset_index\u001b[0m\u001b[1;33m(\u001b[0m\u001b[0mx\u001b[0m\u001b[1;33m)\u001b[0m\u001b[1;33m\u001b[0m\u001b[0m\n",
      "\u001b[1;32m~\\Anaconda3\\lib\\site-packages\\pandas\\core\\frame.py\u001b[0m in \u001b[0;36m__getitem__\u001b[1;34m(self, key)\u001b[0m\n\u001b[0;32m   2683\u001b[0m             \u001b[1;32mreturn\u001b[0m \u001b[0mself\u001b[0m\u001b[1;33m.\u001b[0m\u001b[0m_getitem_multilevel\u001b[0m\u001b[1;33m(\u001b[0m\u001b[0mkey\u001b[0m\u001b[1;33m)\u001b[0m\u001b[1;33m\u001b[0m\u001b[0m\n\u001b[0;32m   2684\u001b[0m         \u001b[1;32melse\u001b[0m\u001b[1;33m:\u001b[0m\u001b[1;33m\u001b[0m\u001b[0m\n\u001b[1;32m-> 2685\u001b[1;33m             \u001b[1;32mreturn\u001b[0m \u001b[0mself\u001b[0m\u001b[1;33m.\u001b[0m\u001b[0m_getitem_column\u001b[0m\u001b[1;33m(\u001b[0m\u001b[0mkey\u001b[0m\u001b[1;33m)\u001b[0m\u001b[1;33m\u001b[0m\u001b[0m\n\u001b[0m\u001b[0;32m   2686\u001b[0m \u001b[1;33m\u001b[0m\u001b[0m\n\u001b[0;32m   2687\u001b[0m     \u001b[1;32mdef\u001b[0m \u001b[0m_getitem_column\u001b[0m\u001b[1;33m(\u001b[0m\u001b[0mself\u001b[0m\u001b[1;33m,\u001b[0m \u001b[0mkey\u001b[0m\u001b[1;33m)\u001b[0m\u001b[1;33m:\u001b[0m\u001b[1;33m\u001b[0m\u001b[0m\n",
      "\u001b[1;32m~\\Anaconda3\\lib\\site-packages\\pandas\\core\\frame.py\u001b[0m in \u001b[0;36m_getitem_column\u001b[1;34m(self, key)\u001b[0m\n\u001b[0;32m   2690\u001b[0m         \u001b[1;31m# get column\u001b[0m\u001b[1;33m\u001b[0m\u001b[1;33m\u001b[0m\u001b[0m\n\u001b[0;32m   2691\u001b[0m         \u001b[1;32mif\u001b[0m \u001b[0mself\u001b[0m\u001b[1;33m.\u001b[0m\u001b[0mcolumns\u001b[0m\u001b[1;33m.\u001b[0m\u001b[0mis_unique\u001b[0m\u001b[1;33m:\u001b[0m\u001b[1;33m\u001b[0m\u001b[0m\n\u001b[1;32m-> 2692\u001b[1;33m             \u001b[1;32mreturn\u001b[0m \u001b[0mself\u001b[0m\u001b[1;33m.\u001b[0m\u001b[0m_get_item_cache\u001b[0m\u001b[1;33m(\u001b[0m\u001b[0mkey\u001b[0m\u001b[1;33m)\u001b[0m\u001b[1;33m\u001b[0m\u001b[0m\n\u001b[0m\u001b[0;32m   2693\u001b[0m \u001b[1;33m\u001b[0m\u001b[0m\n\u001b[0;32m   2694\u001b[0m         \u001b[1;31m# duplicate columns & possible reduce dimensionality\u001b[0m\u001b[1;33m\u001b[0m\u001b[1;33m\u001b[0m\u001b[0m\n",
      "\u001b[1;32m~\\Anaconda3\\lib\\site-packages\\pandas\\core\\generic.py\u001b[0m in \u001b[0;36m_get_item_cache\u001b[1;34m(self, item)\u001b[0m\n\u001b[0;32m   2484\u001b[0m         \u001b[0mres\u001b[0m \u001b[1;33m=\u001b[0m \u001b[0mcache\u001b[0m\u001b[1;33m.\u001b[0m\u001b[0mget\u001b[0m\u001b[1;33m(\u001b[0m\u001b[0mitem\u001b[0m\u001b[1;33m)\u001b[0m\u001b[1;33m\u001b[0m\u001b[0m\n\u001b[0;32m   2485\u001b[0m         \u001b[1;32mif\u001b[0m \u001b[0mres\u001b[0m \u001b[1;32mis\u001b[0m \u001b[1;32mNone\u001b[0m\u001b[1;33m:\u001b[0m\u001b[1;33m\u001b[0m\u001b[0m\n\u001b[1;32m-> 2486\u001b[1;33m             \u001b[0mvalues\u001b[0m \u001b[1;33m=\u001b[0m \u001b[0mself\u001b[0m\u001b[1;33m.\u001b[0m\u001b[0m_data\u001b[0m\u001b[1;33m.\u001b[0m\u001b[0mget\u001b[0m\u001b[1;33m(\u001b[0m\u001b[0mitem\u001b[0m\u001b[1;33m)\u001b[0m\u001b[1;33m\u001b[0m\u001b[0m\n\u001b[0m\u001b[0;32m   2487\u001b[0m             \u001b[0mres\u001b[0m \u001b[1;33m=\u001b[0m \u001b[0mself\u001b[0m\u001b[1;33m.\u001b[0m\u001b[0m_box_item_values\u001b[0m\u001b[1;33m(\u001b[0m\u001b[0mitem\u001b[0m\u001b[1;33m,\u001b[0m \u001b[0mvalues\u001b[0m\u001b[1;33m)\u001b[0m\u001b[1;33m\u001b[0m\u001b[0m\n\u001b[0;32m   2488\u001b[0m             \u001b[0mcache\u001b[0m\u001b[1;33m[\u001b[0m\u001b[0mitem\u001b[0m\u001b[1;33m]\u001b[0m \u001b[1;33m=\u001b[0m \u001b[0mres\u001b[0m\u001b[1;33m\u001b[0m\u001b[0m\n",
      "\u001b[1;32m~\\Anaconda3\\lib\\site-packages\\pandas\\core\\internals.py\u001b[0m in \u001b[0;36mget\u001b[1;34m(self, item, fastpath)\u001b[0m\n\u001b[0;32m   4113\u001b[0m \u001b[1;33m\u001b[0m\u001b[0m\n\u001b[0;32m   4114\u001b[0m             \u001b[1;32mif\u001b[0m \u001b[1;32mnot\u001b[0m \u001b[0misna\u001b[0m\u001b[1;33m(\u001b[0m\u001b[0mitem\u001b[0m\u001b[1;33m)\u001b[0m\u001b[1;33m:\u001b[0m\u001b[1;33m\u001b[0m\u001b[0m\n\u001b[1;32m-> 4115\u001b[1;33m                 \u001b[0mloc\u001b[0m \u001b[1;33m=\u001b[0m \u001b[0mself\u001b[0m\u001b[1;33m.\u001b[0m\u001b[0mitems\u001b[0m\u001b[1;33m.\u001b[0m\u001b[0mget_loc\u001b[0m\u001b[1;33m(\u001b[0m\u001b[0mitem\u001b[0m\u001b[1;33m)\u001b[0m\u001b[1;33m\u001b[0m\u001b[0m\n\u001b[0m\u001b[0;32m   4116\u001b[0m             \u001b[1;32melse\u001b[0m\u001b[1;33m:\u001b[0m\u001b[1;33m\u001b[0m\u001b[0m\n\u001b[0;32m   4117\u001b[0m                 \u001b[0mindexer\u001b[0m \u001b[1;33m=\u001b[0m \u001b[0mnp\u001b[0m\u001b[1;33m.\u001b[0m\u001b[0marange\u001b[0m\u001b[1;33m(\u001b[0m\u001b[0mlen\u001b[0m\u001b[1;33m(\u001b[0m\u001b[0mself\u001b[0m\u001b[1;33m.\u001b[0m\u001b[0mitems\u001b[0m\u001b[1;33m)\u001b[0m\u001b[1;33m)\u001b[0m\u001b[1;33m[\u001b[0m\u001b[0misna\u001b[0m\u001b[1;33m(\u001b[0m\u001b[0mself\u001b[0m\u001b[1;33m.\u001b[0m\u001b[0mitems\u001b[0m\u001b[1;33m)\u001b[0m\u001b[1;33m]\u001b[0m\u001b[1;33m\u001b[0m\u001b[0m\n",
      "\u001b[1;32m~\\Anaconda3\\lib\\site-packages\\pandas\\core\\indexes\\base.py\u001b[0m in \u001b[0;36mget_loc\u001b[1;34m(self, key, method, tolerance)\u001b[0m\n\u001b[0;32m   3063\u001b[0m                 \u001b[1;32mreturn\u001b[0m \u001b[0mself\u001b[0m\u001b[1;33m.\u001b[0m\u001b[0m_engine\u001b[0m\u001b[1;33m.\u001b[0m\u001b[0mget_loc\u001b[0m\u001b[1;33m(\u001b[0m\u001b[0mkey\u001b[0m\u001b[1;33m)\u001b[0m\u001b[1;33m\u001b[0m\u001b[0m\n\u001b[0;32m   3064\u001b[0m             \u001b[1;32mexcept\u001b[0m \u001b[0mKeyError\u001b[0m\u001b[1;33m:\u001b[0m\u001b[1;33m\u001b[0m\u001b[0m\n\u001b[1;32m-> 3065\u001b[1;33m                 \u001b[1;32mreturn\u001b[0m \u001b[0mself\u001b[0m\u001b[1;33m.\u001b[0m\u001b[0m_engine\u001b[0m\u001b[1;33m.\u001b[0m\u001b[0mget_loc\u001b[0m\u001b[1;33m(\u001b[0m\u001b[0mself\u001b[0m\u001b[1;33m.\u001b[0m\u001b[0m_maybe_cast_indexer\u001b[0m\u001b[1;33m(\u001b[0m\u001b[0mkey\u001b[0m\u001b[1;33m)\u001b[0m\u001b[1;33m)\u001b[0m\u001b[1;33m\u001b[0m\u001b[0m\n\u001b[0m\u001b[0;32m   3066\u001b[0m \u001b[1;33m\u001b[0m\u001b[0m\n\u001b[0;32m   3067\u001b[0m         \u001b[0mindexer\u001b[0m \u001b[1;33m=\u001b[0m \u001b[0mself\u001b[0m\u001b[1;33m.\u001b[0m\u001b[0mget_indexer\u001b[0m\u001b[1;33m(\u001b[0m\u001b[1;33m[\u001b[0m\u001b[0mkey\u001b[0m\u001b[1;33m]\u001b[0m\u001b[1;33m,\u001b[0m \u001b[0mmethod\u001b[0m\u001b[1;33m=\u001b[0m\u001b[0mmethod\u001b[0m\u001b[1;33m,\u001b[0m \u001b[0mtolerance\u001b[0m\u001b[1;33m=\u001b[0m\u001b[0mtolerance\u001b[0m\u001b[1;33m)\u001b[0m\u001b[1;33m\u001b[0m\u001b[0m\n",
      "\u001b[1;32mpandas\\_libs\\index.pyx\u001b[0m in \u001b[0;36mpandas._libs.index.IndexEngine.get_loc\u001b[1;34m()\u001b[0m\n",
      "\u001b[1;32mpandas\\_libs\\index.pyx\u001b[0m in \u001b[0;36mpandas._libs.index.IndexEngine.get_loc\u001b[1;34m()\u001b[0m\n",
      "\u001b[1;32mpandas\\_libs\\hashtable_class_helper.pxi\u001b[0m in \u001b[0;36mpandas._libs.hashtable.PyObjectHashTable.get_item\u001b[1;34m()\u001b[0m\n",
      "\u001b[1;32mpandas\\_libs\\hashtable_class_helper.pxi\u001b[0m in \u001b[0;36mpandas._libs.hashtable.PyObjectHashTable.get_item\u001b[1;34m()\u001b[0m\n",
      "\u001b[1;31mKeyError\u001b[0m: 'I/E'"
     ]
    }
   ],
   "source": [
    "df.groupby('I/E').count().plot(kind='bar',x='I/E',y='words_per_comment')"
   ]
  },
  {
   "cell_type": "code",
   "execution_count": 41,
   "metadata": {},
   "outputs": [
    {
     "data": {
      "text/plain": [
       "<matplotlib.axes._subplots.AxesSubplot at 0x151247404e0>"
      ]
     },
     "execution_count": 41,
     "metadata": {},
     "output_type": "execute_result"
    },
    {
     "data": {
      "image/png": "[encoded data removed]",
      "text/plain": [
       "<Figure size 432x288 with 1 Axes>"
      ]
     },
     "metadata": {},
     "output_type": "display_data"
    }
   ],
   "source": [
    "df.groupby('I/E').count().plot(kind='bar',y='type')"
   ]
  },
  {
   "cell_type": "code",
   "execution_count": 42,
   "metadata": {},
   "outputs": [
    {
     "ename": "NameError",
     "evalue": "name 'kind' is not defined",
     "output_type": "error",
     "traceback": [
      "\u001b[1;31m---------------------------------------------------------------------------\u001b[0m",
      "\u001b[1;31mNameError\u001b[0m                                 Traceback (most recent call last)",
      "\u001b[1;32m<ipython-input-42-e89e217aaa09>\u001b[0m in \u001b[0;36m<module>\u001b[1;34m()\u001b[0m\n\u001b[1;32m----> 1\u001b[1;33m \u001b[0mdf\u001b[0m\u001b[1;33m.\u001b[0m\u001b[0mplot\u001b[0m\u001b[1;33m(\u001b[0m\u001b[0mkind\u001b[0m\u001b[1;33m-\u001b[0m\u001b[1;34m'scatter'\u001b[0m\u001b[1;33m,\u001b[0m\u001b[0mx\u001b[0m\u001b[1;33m=\u001b[0m\u001b[1;34m'I/E'\u001b[0m\u001b[1;33m,\u001b[0m \u001b[0my\u001b[0m\u001b[1;33m=\u001b[0m\u001b[1;34m'words_per_comment'\u001b[0m\u001b[1;33m)\u001b[0m\u001b[1;33m\u001b[0m\u001b[0m\n\u001b[0m",
      "\u001b[1;31mNameError\u001b[0m: name 'kind' is not defined"
     ]
    }
   ],
   "source": [
    "df.plot(kind-'scatter',x='I/E', y='words_per_comment')\n"
   ]
  },
  {
   "cell_type": "code",
   "execution_count": 43,
   "metadata": {},
   "outputs": [
    {
     "ename": "ValueError",
     "evalue": "scatter requires x column to be numeric",
     "output_type": "error",
     "traceback": [
      "\u001b[1;31m---------------------------------------------------------------------------\u001b[0m",
      "\u001b[1;31mValueError\u001b[0m                                Traceback (most recent call last)",
      "\u001b[1;32m<ipython-input-43-747c02a0f7a0>\u001b[0m in \u001b[0;36m<module>\u001b[1;34m()\u001b[0m\n\u001b[1;32m----> 1\u001b[1;33m \u001b[0mdf\u001b[0m\u001b[1;33m.\u001b[0m\u001b[0mplot\u001b[0m\u001b[1;33m(\u001b[0m\u001b[0mkind\u001b[0m\u001b[1;33m=\u001b[0m\u001b[1;34m'scatter'\u001b[0m\u001b[1;33m,\u001b[0m\u001b[0mx\u001b[0m\u001b[1;33m=\u001b[0m\u001b[1;34m'I/E'\u001b[0m\u001b[1;33m,\u001b[0m \u001b[0my\u001b[0m\u001b[1;33m=\u001b[0m\u001b[1;34m'words_per_comment'\u001b[0m\u001b[1;33m)\u001b[0m\u001b[1;33m\u001b[0m\u001b[0m\n\u001b[0m",
      "\u001b[1;32m~\\Anaconda3\\lib\\site-packages\\pandas\\plotting\\_core.py\u001b[0m in \u001b[0;36m__call__\u001b[1;34m(self, x, y, kind, ax, subplots, sharex, sharey, layout, figsize, use_index, title, grid, legend, style, logx, logy, loglog, xticks, yticks, xlim, ylim, rot, fontsize, colormap, table, yerr, xerr, secondary_y, sort_columns, **kwds)\u001b[0m\n\u001b[0;32m   2939\u001b[0m                           \u001b[0mfontsize\u001b[0m\u001b[1;33m=\u001b[0m\u001b[0mfontsize\u001b[0m\u001b[1;33m,\u001b[0m \u001b[0mcolormap\u001b[0m\u001b[1;33m=\u001b[0m\u001b[0mcolormap\u001b[0m\u001b[1;33m,\u001b[0m \u001b[0mtable\u001b[0m\u001b[1;33m=\u001b[0m\u001b[0mtable\u001b[0m\u001b[1;33m,\u001b[0m\u001b[1;33m\u001b[0m\u001b[0m\n\u001b[0;32m   2940\u001b[0m                           \u001b[0myerr\u001b[0m\u001b[1;33m=\u001b[0m\u001b[0myerr\u001b[0m\u001b[1;33m,\u001b[0m \u001b[0mxerr\u001b[0m\u001b[1;33m=\u001b[0m\u001b[0mxerr\u001b[0m\u001b[1;33m,\u001b[0m \u001b[0msecondary_y\u001b[0m\u001b[1;33m=\u001b[0m\u001b[0msecondary_y\u001b[0m\u001b[1;33m,\u001b[0m\u001b[1;33m\u001b[0m\u001b[0m\n\u001b[1;32m-> 2941\u001b[1;33m                           sort_columns=sort_columns, **kwds)\n\u001b[0m\u001b[0;32m   2942\u001b[0m     \u001b[0m__call__\u001b[0m\u001b[1;33m.\u001b[0m\u001b[0m__doc__\u001b[0m \u001b[1;33m=\u001b[0m \u001b[0mplot_frame\u001b[0m\u001b[1;33m.\u001b[0m\u001b[0m__doc__\u001b[0m\u001b[1;33m\u001b[0m\u001b[0m\n\u001b[0;32m   2943\u001b[0m \u001b[1;33m\u001b[0m\u001b[0m\n",
      "\u001b[1;32m~\\Anaconda3\\lib\\site-packages\\pandas\\plotting\\_core.py\u001b[0m in \u001b[0;36mplot_frame\u001b[1;34m(data, x, y, kind, ax, subplots, sharex, sharey, layout, figsize, use_index, title, grid, legend, style, logx, logy, loglog, xticks, yticks, xlim, ylim, rot, fontsize, colormap, table, yerr, xerr, secondary_y, sort_columns, **kwds)\u001b[0m\n\u001b[0;32m   1975\u001b[0m                  \u001b[0myerr\u001b[0m\u001b[1;33m=\u001b[0m\u001b[0myerr\u001b[0m\u001b[1;33m,\u001b[0m \u001b[0mxerr\u001b[0m\u001b[1;33m=\u001b[0m\u001b[0mxerr\u001b[0m\u001b[1;33m,\u001b[0m\u001b[1;33m\u001b[0m\u001b[0m\n\u001b[0;32m   1976\u001b[0m                  \u001b[0msecondary_y\u001b[0m\u001b[1;33m=\u001b[0m\u001b[0msecondary_y\u001b[0m\u001b[1;33m,\u001b[0m \u001b[0msort_columns\u001b[0m\u001b[1;33m=\u001b[0m\u001b[0msort_columns\u001b[0m\u001b[1;33m,\u001b[0m\u001b[1;33m\u001b[0m\u001b[0m\n\u001b[1;32m-> 1977\u001b[1;33m                  **kwds)\n\u001b[0m\u001b[0;32m   1978\u001b[0m \u001b[1;33m\u001b[0m\u001b[0m\n\u001b[0;32m   1979\u001b[0m \u001b[1;33m\u001b[0m\u001b[0m\n",
      "\u001b[1;32m~\\Anaconda3\\lib\\site-packages\\pandas\\plotting\\_core.py\u001b[0m in \u001b[0;36m_plot\u001b[1;34m(data, x, y, subplots, ax, kind, **kwds)\u001b[0m\n\u001b[0;32m   1741\u001b[0m         \u001b[1;32mif\u001b[0m \u001b[0misinstance\u001b[0m\u001b[1;33m(\u001b[0m\u001b[0mdata\u001b[0m\u001b[1;33m,\u001b[0m \u001b[0mABCDataFrame\u001b[0m\u001b[1;33m)\u001b[0m\u001b[1;33m:\u001b[0m\u001b[1;33m\u001b[0m\u001b[0m\n\u001b[0;32m   1742\u001b[0m             plot_obj = klass(data, x=x, y=y, subplots=subplots, ax=ax,\n\u001b[1;32m-> 1743\u001b[1;33m                              kind=kind, **kwds)\n\u001b[0m\u001b[0;32m   1744\u001b[0m         \u001b[1;32melse\u001b[0m\u001b[1;33m:\u001b[0m\u001b[1;33m\u001b[0m\u001b[0m\n\u001b[0;32m   1745\u001b[0m             raise ValueError(\"plot kind %r can only be used for data frames\"\n",
      "\u001b[1;32m~\\Anaconda3\\lib\\site-packages\\pandas\\plotting\\_core.py\u001b[0m in \u001b[0;36m__init__\u001b[1;34m(self, data, x, y, s, c, **kwargs)\u001b[0m\n\u001b[0;32m    843\u001b[0m             \u001b[1;31m# the handling of this argument later\u001b[0m\u001b[1;33m\u001b[0m\u001b[1;33m\u001b[0m\u001b[0m\n\u001b[0;32m    844\u001b[0m             \u001b[0ms\u001b[0m \u001b[1;33m=\u001b[0m \u001b[1;36m20\u001b[0m\u001b[1;33m\u001b[0m\u001b[0m\n\u001b[1;32m--> 845\u001b[1;33m         \u001b[0msuper\u001b[0m\u001b[1;33m(\u001b[0m\u001b[0mScatterPlot\u001b[0m\u001b[1;33m,\u001b[0m \u001b[0mself\u001b[0m\u001b[1;33m)\u001b[0m\u001b[1;33m.\u001b[0m\u001b[0m__init__\u001b[0m\u001b[1;33m(\u001b[0m\u001b[0mdata\u001b[0m\u001b[1;33m,\u001b[0m \u001b[0mx\u001b[0m\u001b[1;33m,\u001b[0m \u001b[0my\u001b[0m\u001b[1;33m,\u001b[0m \u001b[0ms\u001b[0m\u001b[1;33m=\u001b[0m\u001b[0ms\u001b[0m\u001b[1;33m,\u001b[0m \u001b[1;33m**\u001b[0m\u001b[0mkwargs\u001b[0m\u001b[1;33m)\u001b[0m\u001b[1;33m\u001b[0m\u001b[0m\n\u001b[0m\u001b[0;32m    846\u001b[0m         \u001b[1;32mif\u001b[0m \u001b[0mis_integer\u001b[0m\u001b[1;33m(\u001b[0m\u001b[0mc\u001b[0m\u001b[1;33m)\u001b[0m \u001b[1;32mand\u001b[0m \u001b[1;32mnot\u001b[0m \u001b[0mself\u001b[0m\u001b[1;33m.\u001b[0m\u001b[0mdata\u001b[0m\u001b[1;33m.\u001b[0m\u001b[0mcolumns\u001b[0m\u001b[1;33m.\u001b[0m\u001b[0mholds_integer\u001b[0m\u001b[1;33m(\u001b[0m\u001b[1;33m)\u001b[0m\u001b[1;33m:\u001b[0m\u001b[1;33m\u001b[0m\u001b[0m\n\u001b[0;32m    847\u001b[0m             \u001b[0mc\u001b[0m \u001b[1;33m=\u001b[0m \u001b[0mself\u001b[0m\u001b[1;33m.\u001b[0m\u001b[0mdata\u001b[0m\u001b[1;33m.\u001b[0m\u001b[0mcolumns\u001b[0m\u001b[1;33m[\u001b[0m\u001b[0mc\u001b[0m\u001b[1;33m]\u001b[0m\u001b[1;33m\u001b[0m\u001b[0m\n",
      "\u001b[1;32m~\\Anaconda3\\lib\\site-packages\\pandas\\plotting\\_core.py\u001b[0m in \u001b[0;36m__init__\u001b[1;34m(self, data, x, y, **kwargs)\u001b[0m\n\u001b[0;32m    818\u001b[0m             \u001b[0my\u001b[0m \u001b[1;33m=\u001b[0m \u001b[0mself\u001b[0m\u001b[1;33m.\u001b[0m\u001b[0mdata\u001b[0m\u001b[1;33m.\u001b[0m\u001b[0mcolumns\u001b[0m\u001b[1;33m[\u001b[0m\u001b[0my\u001b[0m\u001b[1;33m]\u001b[0m\u001b[1;33m\u001b[0m\u001b[0m\n\u001b[0;32m    819\u001b[0m         \u001b[1;32mif\u001b[0m \u001b[0mlen\u001b[0m\u001b[1;33m(\u001b[0m\u001b[0mself\u001b[0m\u001b[1;33m.\u001b[0m\u001b[0mdata\u001b[0m\u001b[1;33m[\u001b[0m\u001b[0mx\u001b[0m\u001b[1;33m]\u001b[0m\u001b[1;33m.\u001b[0m\u001b[0m_get_numeric_data\u001b[0m\u001b[1;33m(\u001b[0m\u001b[1;33m)\u001b[0m\u001b[1;33m)\u001b[0m \u001b[1;33m==\u001b[0m \u001b[1;36m0\u001b[0m\u001b[1;33m:\u001b[0m\u001b[1;33m\u001b[0m\u001b[0m\n\u001b[1;32m--> 820\u001b[1;33m             \u001b[1;32mraise\u001b[0m \u001b[0mValueError\u001b[0m\u001b[1;33m(\u001b[0m\u001b[0mself\u001b[0m\u001b[1;33m.\u001b[0m\u001b[0m_kind\u001b[0m \u001b[1;33m+\u001b[0m \u001b[1;34m' requires x column to be numeric'\u001b[0m\u001b[1;33m)\u001b[0m\u001b[1;33m\u001b[0m\u001b[0m\n\u001b[0m\u001b[0;32m    821\u001b[0m         \u001b[1;32mif\u001b[0m \u001b[0mlen\u001b[0m\u001b[1;33m(\u001b[0m\u001b[0mself\u001b[0m\u001b[1;33m.\u001b[0m\u001b[0mdata\u001b[0m\u001b[1;33m[\u001b[0m\u001b[0my\u001b[0m\u001b[1;33m]\u001b[0m\u001b[1;33m.\u001b[0m\u001b[0m_get_numeric_data\u001b[0m\u001b[1;33m(\u001b[0m\u001b[1;33m)\u001b[0m\u001b[1;33m)\u001b[0m \u001b[1;33m==\u001b[0m \u001b[1;36m0\u001b[0m\u001b[1;33m:\u001b[0m\u001b[1;33m\u001b[0m\u001b[0m\n\u001b[0;32m    822\u001b[0m             \u001b[1;32mraise\u001b[0m \u001b[0mValueError\u001b[0m\u001b[1;33m(\u001b[0m\u001b[0mself\u001b[0m\u001b[1;33m.\u001b[0m\u001b[0m_kind\u001b[0m \u001b[1;33m+\u001b[0m \u001b[1;34m' requires y column to be numeric'\u001b[0m\u001b[1;33m)\u001b[0m\u001b[1;33m\u001b[0m\u001b[0m\n",
      "\u001b[1;31mValueError\u001b[0m: scatter requires x column to be numeric"
     ]
    }
   ],
   "source": [
    "df.plot(kind='scatter',x='I/E', y='words_per_comment')\n"
   ]
  },
  {
   "cell_type": "code",
   "execution_count": 44,
   "metadata": {},
   "outputs": [
    {
     "data": {
      "text/plain": [
       "<matplotlib.axes._subplots.AxesSubplot at 0x151248beac8>"
      ]
     },
     "execution_count": 44,
     "metadata": {},
     "output_type": "execute_result"
    },
    {
     "data": {
      "image/png": "[encoded data removed]",
      "text/plain": [
       "<Figure size 432x288 with 1 Axes>"
      ]
     },
     "metadata": {},
     "output_type": "display_data"
    }
   ],
   "source": [
    "sns.violinplot(x='I/E', y='words_per_comment', data=df, inner=None, color='lightgray')\n"
   ]
  },
  {
   "cell_type": "code",
   "execution_count": 45,
   "metadata": {},
   "outputs": [
    {
     "data": {
      "text/plain": [
       "<matplotlib.axes._subplots.AxesSubplot at 0x1512490ac50>"
      ]
     },
     "execution_count": 45,
     "metadata": {},
     "output_type": "execute_result"
    },
    {
     "data": {
      "image/png": "[encoded data removed]",
      "text/plain": [
       "<Figure size 432x288 with 1 Axes>"
      ]
     },
     "metadata": {},
     "output_type": "display_data"
    }
   ],
   "source": [
    "sns.stripplot(x='type', y='words_per_comment', data=df, size=4, jitter=True)\n"
   ]
  },
  {
   "cell_type": "code",
   "execution_count": 46,
   "metadata": {},
   "outputs": [
    {
     "data": {
      "text/plain": [
       "<matplotlib.axes._subplots.AxesSubplot at 0x151249a20f0>"
      ]
     },
     "execution_count": 46,
     "metadata": {},
     "output_type": "execute_result"
    },
    {
     "data": {
      "image/png": "[encoded data removed]",
      "text/plain": [
       "<Figure size 432x288 with 1 Axes>"
      ]
     },
     "metadata": {},
     "output_type": "display_data"
    }
   ],
   "source": [
    "sns.stripplot(x='I/E', y='words_per_comment', data=df, size=4, jitter=True)\n"
   ]
  },
  {
   "cell_type": "code",
   "execution_count": 47,
   "metadata": {},
   "outputs": [
    {
     "data": {
      "text/html": [
       "<div>\n",
       "<style scoped>\n",
       "    .dataframe tbody tr th:only-of-type {\n",
       "        vertical-align: middle;\n",
       "    }\n",
       "\n",
       "    .dataframe tbody tr th {\n",
       "        vertical-align: top;\n",
       "    }\n",
       "\n",
       "    .dataframe thead th {\n",
       "        text-align: right;\n",
       "    }\n",
       "</style>\n",
       "<table border=\"1\" class=\"dataframe\">\n",
       "  <thead>\n",
       "    <tr style=\"text-align: right;\">\n",
       "      <th></th>\n",
       "      <th>words_per_comment</th>\n",
       "    </tr>\n",
       "    <tr>\n",
       "      <th>I/E</th>\n",
       "      <th></th>\n",
       "    </tr>\n",
       "  </thead>\n",
       "  <tbody>\n",
       "    <tr>\n",
       "      <th>E</th>\n",
       "      <td>24.588704</td>\n",
       "    </tr>\n",
       "    <tr>\n",
       "      <th>I</th>\n",
       "      <td>24.505704</td>\n",
       "    </tr>\n",
       "  </tbody>\n",
       "</table>\n",
       "</div>"
      ],
      "text/plain": [
       "     words_per_comment\n",
       "I/E                   \n",
       "E            24.588704\n",
       "I            24.505704"
      ]
     },
     "execution_count": 47,
     "metadata": {},
     "output_type": "execute_result"
    }
   ],
   "source": [
    "df.groupby(['I/E']).mean()"
   ]
  },
  {
   "cell_type": "code",
   "execution_count": 48,
   "metadata": {},
   "outputs": [
    {
     "name": "stdout",
     "output_type": "stream",
     "text": [
      "   type                                              posts I/E  \\\n",
      "0  INFJ  'http://www.youtube.com/watch?v=qsXHcwe3krw|||...   I   \n",
      "1  ENTP  'I'm finding the lack of me in these posts ver...   E   \n",
      "2  INTP  'Good one  _____   https://www.youtube.com/wat...   I   \n",
      "3  INTJ  'Dear INTP,   I enjoyed our conversation the o...   I   \n",
      "4  ENTJ  'You're fired.|||That's another silly misconce...   E   \n",
      "\n",
      "   words_per_comment  \n",
      "0              11.12  \n",
      "1              23.40  \n",
      "2              16.72  \n",
      "3              21.28  \n",
      "4              19.34  \n"
     ]
    }
   ],
   "source": [
    "print(df.head())"
   ]
  },
  {
   "cell_type": "code",
   "execution_count": 49,
   "metadata": {},
   "outputs": [],
   "source": [
    "df['question_per_comment'] = df['posts'].apply(lambda x: x.count('?')/50)"
   ]
  },
  {
   "cell_type": "code",
   "execution_count": 50,
   "metadata": {},
   "outputs": [
    {
     "name": "stdout",
     "output_type": "stream",
     "text": [
      "   type                                              posts I/E  \\\n",
      "0  INFJ  'http://www.youtube.com/watch?v=qsXHcwe3krw|||...   I   \n",
      "1  ENTP  'I'm finding the lack of me in these posts ver...   E   \n",
      "2  INTP  'Good one  _____   https://www.youtube.com/wat...   I   \n",
      "3  INTJ  'Dear INTP,   I enjoyed our conversation the o...   I   \n",
      "4  ENTJ  'You're fired.|||That's another silly misconce...   E   \n",
      "\n",
      "   words_per_comment  question_per_comment  \n",
      "0              11.12                  0.36  \n",
      "1              23.40                  0.10  \n",
      "2              16.72                  0.24  \n",
      "3              21.28                  0.22  \n",
      "4              19.34                  0.20  \n"
     ]
    }
   ],
   "source": [
    "print(df.head())"
   ]
  },
  {
   "cell_type": "code",
   "execution_count": 51,
   "metadata": {},
   "outputs": [
    {
     "data": {
      "text/html": [
       "<div>\n",
       "<style scoped>\n",
       "    .dataframe tbody tr th:only-of-type {\n",
       "        vertical-align: middle;\n",
       "    }\n",
       "\n",
       "    .dataframe tbody tr th {\n",
       "        vertical-align: top;\n",
       "    }\n",
       "\n",
       "    .dataframe thead th {\n",
       "        text-align: right;\n",
       "    }\n",
       "</style>\n",
       "<table border=\"1\" class=\"dataframe\">\n",
       "  <thead>\n",
       "    <tr style=\"text-align: right;\">\n",
       "      <th></th>\n",
       "      <th>words_per_comment</th>\n",
       "      <th>question_per_comment</th>\n",
       "    </tr>\n",
       "    <tr>\n",
       "      <th>I/E</th>\n",
       "      <th></th>\n",
       "      <th></th>\n",
       "    </tr>\n",
       "  </thead>\n",
       "  <tbody>\n",
       "    <tr>\n",
       "      <th>E</th>\n",
       "      <td>24.588704</td>\n",
       "      <td>0.224872</td>\n",
       "    </tr>\n",
       "    <tr>\n",
       "      <th>I</th>\n",
       "      <td>24.505704</td>\n",
       "      <td>0.211549</td>\n",
       "    </tr>\n",
       "  </tbody>\n",
       "</table>\n",
       "</div>"
      ],
      "text/plain": [
       "     words_per_comment  question_per_comment\n",
       "I/E                                         \n",
       "E            24.588704              0.224872\n",
       "I            24.505704              0.211549"
      ]
     },
     "execution_count": 51,
     "metadata": {},
     "output_type": "execute_result"
    }
   ],
   "source": [
    "df.groupby(['I/E']).mean()"
   ]
  },
  {
   "cell_type": "code",
   "execution_count": 52,
   "metadata": {},
   "outputs": [
    {
     "data": {
      "text/html": [
       "<div>\n",
       "<style scoped>\n",
       "    .dataframe tbody tr th:only-of-type {\n",
       "        vertical-align: middle;\n",
       "    }\n",
       "\n",
       "    .dataframe tbody tr th {\n",
       "        vertical-align: top;\n",
       "    }\n",
       "\n",
       "    .dataframe thead th {\n",
       "        text-align: right;\n",
       "    }\n",
       "</style>\n",
       "<table border=\"1\" class=\"dataframe\">\n",
       "  <thead>\n",
       "    <tr style=\"text-align: right;\">\n",
       "      <th></th>\n",
       "      <th>words_per_comment</th>\n",
       "      <th>question_per_comment</th>\n",
       "      <th>ellipsis_per_comment</th>\n",
       "    </tr>\n",
       "    <tr>\n",
       "      <th>I/E</th>\n",
       "      <th></th>\n",
       "      <th></th>\n",
       "      <th></th>\n",
       "    </tr>\n",
       "  </thead>\n",
       "  <tbody>\n",
       "    <tr>\n",
       "      <th>E</th>\n",
       "      <td>24.588704</td>\n",
       "      <td>0.224872</td>\n",
       "      <td>0.667704</td>\n",
       "    </tr>\n",
       "    <tr>\n",
       "      <th>I</th>\n",
       "      <td>24.505704</td>\n",
       "      <td>0.211549</td>\n",
       "      <td>0.660923</td>\n",
       "    </tr>\n",
       "  </tbody>\n",
       "</table>\n",
       "</div>"
      ],
      "text/plain": [
       "     words_per_comment  question_per_comment  ellipsis_per_comment\n",
       "I/E                                                               \n",
       "E            24.588704              0.224872              0.667704\n",
       "I            24.505704              0.211549              0.660923"
      ]
     },
     "execution_count": 52,
     "metadata": {},
     "output_type": "execute_result"
    }
   ],
   "source": [
    "df['ellipsis_per_comment'] = df['posts'].apply(lambda x: x.count('...')/50)\n",
    "df.groupby(['I/E']).mean()"
   ]
  },
  {
   "cell_type": "code",
   "execution_count": 53,
   "metadata": {
    "scrolled": true
   },
   "outputs": [
    {
     "data": {
      "text/html": [
       "<div>\n",
       "<style scoped>\n",
       "    .dataframe tbody tr th:only-of-type {\n",
       "        vertical-align: middle;\n",
       "    }\n",
       "\n",
       "    .dataframe tbody tr th {\n",
       "        vertical-align: top;\n",
       "    }\n",
       "\n",
       "    .dataframe thead th {\n",
       "        text-align: right;\n",
       "    }\n",
       "</style>\n",
       "<table border=\"1\" class=\"dataframe\">\n",
       "  <thead>\n",
       "    <tr style=\"text-align: right;\">\n",
       "      <th></th>\n",
       "      <th>words_per_comment</th>\n",
       "      <th>question_per_comment</th>\n",
       "      <th>ellipsis_per_comment</th>\n",
       "      <th>excl_per_comment</th>\n",
       "    </tr>\n",
       "    <tr>\n",
       "      <th>I/E</th>\n",
       "      <th></th>\n",
       "      <th></th>\n",
       "      <th></th>\n",
       "      <th></th>\n",
       "    </tr>\n",
       "  </thead>\n",
       "  <tbody>\n",
       "    <tr>\n",
       "      <th>E</th>\n",
       "      <td>24.588704</td>\n",
       "      <td>0.224872</td>\n",
       "      <td>0.667704</td>\n",
       "      <td>0.229105</td>\n",
       "    </tr>\n",
       "    <tr>\n",
       "      <th>I</th>\n",
       "      <td>24.505704</td>\n",
       "      <td>0.211549</td>\n",
       "      <td>0.660923</td>\n",
       "      <td>0.151114</td>\n",
       "    </tr>\n",
       "  </tbody>\n",
       "</table>\n",
       "</div>"
      ],
      "text/plain": [
       "     words_per_comment  question_per_comment  ellipsis_per_comment  \\\n",
       "I/E                                                                  \n",
       "E            24.588704              0.224872              0.667704   \n",
       "I            24.505704              0.211549              0.660923   \n",
       "\n",
       "     excl_per_comment  \n",
       "I/E                    \n",
       "E            0.229105  \n",
       "I            0.151114  "
      ]
     },
     "execution_count": 53,
     "metadata": {},
     "output_type": "execute_result"
    }
   ],
   "source": [
    "df['excl_per_comment'] = df['posts'].apply(lambda x: x.count('!')/50)\n",
    "df.groupby(['I/E']).mean()"
   ]
  },
  {
   "cell_type": "code",
   "execution_count": 54,
   "metadata": {},
   "outputs": [
    {
     "ename": "AttributeError",
     "evalue": "Unknown property type",
     "output_type": "error",
     "traceback": [
      "\u001b[1;31m---------------------------------------------------------------------------\u001b[0m",
      "\u001b[1;31mAttributeError\u001b[0m                            Traceback (most recent call last)",
      "\u001b[1;32m<ipython-input-54-3e872bcf86b6>\u001b[0m in \u001b[0;36m<module>\u001b[1;34m()\u001b[0m\n\u001b[1;32m----> 1\u001b[1;33m \u001b[0mdf\u001b[0m\u001b[1;33m.\u001b[0m\u001b[0mgroupby\u001b[0m\u001b[1;33m(\u001b[0m\u001b[1;33m[\u001b[0m\u001b[1;34m'I/E'\u001b[0m\u001b[1;33m]\u001b[0m\u001b[1;33m)\u001b[0m\u001b[1;33m.\u001b[0m\u001b[0mmean\u001b[0m\u001b[1;33m(\u001b[0m\u001b[1;33m)\u001b[0m\u001b[1;33m.\u001b[0m\u001b[0mplot\u001b[0m\u001b[1;33m(\u001b[0m\u001b[0mtype\u001b[0m\u001b[1;33m=\u001b[0m\u001b[1;34m'bar'\u001b[0m\u001b[1;33m)\u001b[0m\u001b[1;33m\u001b[0m\u001b[0m\n\u001b[0m",
      "\u001b[1;32m~\\Anaconda3\\lib\\site-packages\\pandas\\plotting\\_core.py\u001b[0m in \u001b[0;36m__call__\u001b[1;34m(self, x, y, kind, ax, subplots, sharex, sharey, layout, figsize, use_index, title, grid, legend, style, logx, logy, loglog, xticks, yticks, xlim, ylim, rot, fontsize, colormap, table, yerr, xerr, secondary_y, sort_columns, **kwds)\u001b[0m\n\u001b[0;32m   2939\u001b[0m                           \u001b[0mfontsize\u001b[0m\u001b[1;33m=\u001b[0m\u001b[0mfontsize\u001b[0m\u001b[1;33m,\u001b[0m \u001b[0mcolormap\u001b[0m\u001b[1;33m=\u001b[0m\u001b[0mcolormap\u001b[0m\u001b[1;33m,\u001b[0m \u001b[0mtable\u001b[0m\u001b[1;33m=\u001b[0m\u001b[0mtable\u001b[0m\u001b[1;33m,\u001b[0m\u001b[1;33m\u001b[0m\u001b[0m\n\u001b[0;32m   2940\u001b[0m                           \u001b[0myerr\u001b[0m\u001b[1;33m=\u001b[0m\u001b[0myerr\u001b[0m\u001b[1;33m,\u001b[0m \u001b[0mxerr\u001b[0m\u001b[1;33m=\u001b[0m\u001b[0mxerr\u001b[0m\u001b[1;33m,\u001b[0m \u001b[0msecondary_y\u001b[0m\u001b[1;33m=\u001b[0m\u001b[0msecondary_y\u001b[0m\u001b[1;33m,\u001b[0m\u001b[1;33m\u001b[0m\u001b[0m\n\u001b[1;32m-> 2941\u001b[1;33m                           sort_columns=sort_columns, **kwds)\n\u001b[0m\u001b[0;32m   2942\u001b[0m     \u001b[0m__call__\u001b[0m\u001b[1;33m.\u001b[0m\u001b[0m__doc__\u001b[0m \u001b[1;33m=\u001b[0m \u001b[0mplot_frame\u001b[0m\u001b[1;33m.\u001b[0m\u001b[0m__doc__\u001b[0m\u001b[1;33m\u001b[0m\u001b[0m\n\u001b[0;32m   2943\u001b[0m \u001b[1;33m\u001b[0m\u001b[0m\n",
      "\u001b[1;32m~\\Anaconda3\\lib\\site-packages\\pandas\\plotting\\_core.py\u001b[0m in \u001b[0;36mplot_frame\u001b[1;34m(data, x, y, kind, ax, subplots, sharex, sharey, layout, figsize, use_index, title, grid, legend, style, logx, logy, loglog, xticks, yticks, xlim, ylim, rot, fontsize, colormap, table, yerr, xerr, secondary_y, sort_columns, **kwds)\u001b[0m\n\u001b[0;32m   1975\u001b[0m                  \u001b[0myerr\u001b[0m\u001b[1;33m=\u001b[0m\u001b[0myerr\u001b[0m\u001b[1;33m,\u001b[0m \u001b[0mxerr\u001b[0m\u001b[1;33m=\u001b[0m\u001b[0mxerr\u001b[0m\u001b[1;33m,\u001b[0m\u001b[1;33m\u001b[0m\u001b[0m\n\u001b[0;32m   1976\u001b[0m                  \u001b[0msecondary_y\u001b[0m\u001b[1;33m=\u001b[0m\u001b[0msecondary_y\u001b[0m\u001b[1;33m,\u001b[0m \u001b[0msort_columns\u001b[0m\u001b[1;33m=\u001b[0m\u001b[0msort_columns\u001b[0m\u001b[1;33m,\u001b[0m\u001b[1;33m\u001b[0m\u001b[0m\n\u001b[1;32m-> 1977\u001b[1;33m                  **kwds)\n\u001b[0m\u001b[0;32m   1978\u001b[0m \u001b[1;33m\u001b[0m\u001b[0m\n\u001b[0;32m   1979\u001b[0m \u001b[1;33m\u001b[0m\u001b[0m\n",
      "\u001b[1;32m~\\Anaconda3\\lib\\site-packages\\pandas\\plotting\\_core.py\u001b[0m in \u001b[0;36m_plot\u001b[1;34m(data, x, y, subplots, ax, kind, **kwds)\u001b[0m\n\u001b[0;32m   1802\u001b[0m         \u001b[0mplot_obj\u001b[0m \u001b[1;33m=\u001b[0m \u001b[0mklass\u001b[0m\u001b[1;33m(\u001b[0m\u001b[0mdata\u001b[0m\u001b[1;33m,\u001b[0m \u001b[0msubplots\u001b[0m\u001b[1;33m=\u001b[0m\u001b[0msubplots\u001b[0m\u001b[1;33m,\u001b[0m \u001b[0max\u001b[0m\u001b[1;33m=\u001b[0m\u001b[0max\u001b[0m\u001b[1;33m,\u001b[0m \u001b[0mkind\u001b[0m\u001b[1;33m=\u001b[0m\u001b[0mkind\u001b[0m\u001b[1;33m,\u001b[0m \u001b[1;33m**\u001b[0m\u001b[0mkwds\u001b[0m\u001b[1;33m)\u001b[0m\u001b[1;33m\u001b[0m\u001b[0m\n\u001b[0;32m   1803\u001b[0m \u001b[1;33m\u001b[0m\u001b[0m\n\u001b[1;32m-> 1804\u001b[1;33m     \u001b[0mplot_obj\u001b[0m\u001b[1;33m.\u001b[0m\u001b[0mgenerate\u001b[0m\u001b[1;33m(\u001b[0m\u001b[1;33m)\u001b[0m\u001b[1;33m\u001b[0m\u001b[0m\n\u001b[0m\u001b[0;32m   1805\u001b[0m     \u001b[0mplot_obj\u001b[0m\u001b[1;33m.\u001b[0m\u001b[0mdraw\u001b[0m\u001b[1;33m(\u001b[0m\u001b[1;33m)\u001b[0m\u001b[1;33m\u001b[0m\u001b[0m\n\u001b[0;32m   1806\u001b[0m     \u001b[1;32mreturn\u001b[0m \u001b[0mplot_obj\u001b[0m\u001b[1;33m.\u001b[0m\u001b[0mresult\u001b[0m\u001b[1;33m\u001b[0m\u001b[0m\n",
      "\u001b[1;32m~\\Anaconda3\\lib\\site-packages\\pandas\\plotting\\_core.py\u001b[0m in \u001b[0;36mgenerate\u001b[1;34m(self)\u001b[0m\n\u001b[0;32m    258\u001b[0m         \u001b[0mself\u001b[0m\u001b[1;33m.\u001b[0m\u001b[0m_compute_plot_data\u001b[0m\u001b[1;33m(\u001b[0m\u001b[1;33m)\u001b[0m\u001b[1;33m\u001b[0m\u001b[0m\n\u001b[0;32m    259\u001b[0m         \u001b[0mself\u001b[0m\u001b[1;33m.\u001b[0m\u001b[0m_setup_subplots\u001b[0m\u001b[1;33m(\u001b[0m\u001b[1;33m)\u001b[0m\u001b[1;33m\u001b[0m\u001b[0m\n\u001b[1;32m--> 260\u001b[1;33m         \u001b[0mself\u001b[0m\u001b[1;33m.\u001b[0m\u001b[0m_make_plot\u001b[0m\u001b[1;33m(\u001b[0m\u001b[1;33m)\u001b[0m\u001b[1;33m\u001b[0m\u001b[0m\n\u001b[0m\u001b[0;32m    261\u001b[0m         \u001b[0mself\u001b[0m\u001b[1;33m.\u001b[0m\u001b[0m_add_table\u001b[0m\u001b[1;33m(\u001b[0m\u001b[1;33m)\u001b[0m\u001b[1;33m\u001b[0m\u001b[0m\n\u001b[0;32m    262\u001b[0m         \u001b[0mself\u001b[0m\u001b[1;33m.\u001b[0m\u001b[0m_make_legend\u001b[0m\u001b[1;33m(\u001b[0m\u001b[1;33m)\u001b[0m\u001b[1;33m\u001b[0m\u001b[0m\n",
      "\u001b[1;32m~\\Anaconda3\\lib\\site-packages\\pandas\\plotting\\_core.py\u001b[0m in \u001b[0;36m_make_plot\u001b[1;34m(self)\u001b[0m\n\u001b[0;32m    983\u001b[0m                              \u001b[0mstacking_id\u001b[0m\u001b[1;33m=\u001b[0m\u001b[0mstacking_id\u001b[0m\u001b[1;33m,\u001b[0m\u001b[1;33m\u001b[0m\u001b[0m\n\u001b[0;32m    984\u001b[0m                              \u001b[0mis_errorbar\u001b[0m\u001b[1;33m=\u001b[0m\u001b[0mis_errorbar\u001b[0m\u001b[1;33m,\u001b[0m\u001b[1;33m\u001b[0m\u001b[0m\n\u001b[1;32m--> 985\u001b[1;33m                              **kwds)\n\u001b[0m\u001b[0;32m    986\u001b[0m             \u001b[0mself\u001b[0m\u001b[1;33m.\u001b[0m\u001b[0m_add_legend_handle\u001b[0m\u001b[1;33m(\u001b[0m\u001b[0mnewlines\u001b[0m\u001b[1;33m[\u001b[0m\u001b[1;36m0\u001b[0m\u001b[1;33m]\u001b[0m\u001b[1;33m,\u001b[0m \u001b[0mlabel\u001b[0m\u001b[1;33m,\u001b[0m \u001b[0mindex\u001b[0m\u001b[1;33m=\u001b[0m\u001b[0mi\u001b[0m\u001b[1;33m)\u001b[0m\u001b[1;33m\u001b[0m\u001b[0m\n\u001b[0;32m    987\u001b[0m \u001b[1;33m\u001b[0m\u001b[0m\n",
      "\u001b[1;32m~\\Anaconda3\\lib\\site-packages\\pandas\\plotting\\_core.py\u001b[0m in \u001b[0;36m_plot\u001b[1;34m(cls, ax, x, y, style, column_num, stacking_id, **kwds)\u001b[0m\n\u001b[0;32m    999\u001b[0m             \u001b[0mcls\u001b[0m\u001b[1;33m.\u001b[0m\u001b[0m_initialize_stacker\u001b[0m\u001b[1;33m(\u001b[0m\u001b[0max\u001b[0m\u001b[1;33m,\u001b[0m \u001b[0mstacking_id\u001b[0m\u001b[1;33m,\u001b[0m \u001b[0mlen\u001b[0m\u001b[1;33m(\u001b[0m\u001b[0my\u001b[0m\u001b[1;33m)\u001b[0m\u001b[1;33m)\u001b[0m\u001b[1;33m\u001b[0m\u001b[0m\n\u001b[0;32m   1000\u001b[0m         \u001b[0my_values\u001b[0m \u001b[1;33m=\u001b[0m \u001b[0mcls\u001b[0m\u001b[1;33m.\u001b[0m\u001b[0m_get_stacked_values\u001b[0m\u001b[1;33m(\u001b[0m\u001b[0max\u001b[0m\u001b[1;33m,\u001b[0m \u001b[0mstacking_id\u001b[0m\u001b[1;33m,\u001b[0m \u001b[0my\u001b[0m\u001b[1;33m,\u001b[0m \u001b[0mkwds\u001b[0m\u001b[1;33m[\u001b[0m\u001b[1;34m'label'\u001b[0m\u001b[1;33m]\u001b[0m\u001b[1;33m)\u001b[0m\u001b[1;33m\u001b[0m\u001b[0m\n\u001b[1;32m-> 1001\u001b[1;33m         \u001b[0mlines\u001b[0m \u001b[1;33m=\u001b[0m \u001b[0mMPLPlot\u001b[0m\u001b[1;33m.\u001b[0m\u001b[0m_plot\u001b[0m\u001b[1;33m(\u001b[0m\u001b[0max\u001b[0m\u001b[1;33m,\u001b[0m \u001b[0mx\u001b[0m\u001b[1;33m,\u001b[0m \u001b[0my_values\u001b[0m\u001b[1;33m,\u001b[0m \u001b[0mstyle\u001b[0m\u001b[1;33m=\u001b[0m\u001b[0mstyle\u001b[0m\u001b[1;33m,\u001b[0m \u001b[1;33m**\u001b[0m\u001b[0mkwds\u001b[0m\u001b[1;33m)\u001b[0m\u001b[1;33m\u001b[0m\u001b[0m\n\u001b[0m\u001b[0;32m   1002\u001b[0m         \u001b[0mcls\u001b[0m\u001b[1;33m.\u001b[0m\u001b[0m_update_stacker\u001b[0m\u001b[1;33m(\u001b[0m\u001b[0max\u001b[0m\u001b[1;33m,\u001b[0m \u001b[0mstacking_id\u001b[0m\u001b[1;33m,\u001b[0m \u001b[0my\u001b[0m\u001b[1;33m)\u001b[0m\u001b[1;33m\u001b[0m\u001b[0m\n\u001b[0;32m   1003\u001b[0m         \u001b[1;32mreturn\u001b[0m \u001b[0mlines\u001b[0m\u001b[1;33m\u001b[0m\u001b[0m\n",
      "\u001b[1;32m~\\Anaconda3\\lib\\site-packages\\pandas\\plotting\\_core.py\u001b[0m in \u001b[0;36m_plot\u001b[1;34m(cls, ax, x, y, style, is_errorbar, **kwds)\u001b[0m\n\u001b[0;32m    613\u001b[0m             \u001b[1;32melse\u001b[0m\u001b[1;33m:\u001b[0m\u001b[1;33m\u001b[0m\u001b[0m\n\u001b[0;32m    614\u001b[0m                 \u001b[0margs\u001b[0m \u001b[1;33m=\u001b[0m \u001b[1;33m(\u001b[0m\u001b[0mx\u001b[0m\u001b[1;33m,\u001b[0m \u001b[0my\u001b[0m\u001b[1;33m)\u001b[0m\u001b[1;33m\u001b[0m\u001b[0m\n\u001b[1;32m--> 615\u001b[1;33m             \u001b[1;32mreturn\u001b[0m \u001b[0max\u001b[0m\u001b[1;33m.\u001b[0m\u001b[0mplot\u001b[0m\u001b[1;33m(\u001b[0m\u001b[1;33m*\u001b[0m\u001b[0margs\u001b[0m\u001b[1;33m,\u001b[0m \u001b[1;33m**\u001b[0m\u001b[0mkwds\u001b[0m\u001b[1;33m)\u001b[0m\u001b[1;33m\u001b[0m\u001b[0m\n\u001b[0m\u001b[0;32m    616\u001b[0m \u001b[1;33m\u001b[0m\u001b[0m\n\u001b[0;32m    617\u001b[0m     \u001b[1;32mdef\u001b[0m \u001b[0m_get_index_name\u001b[0m\u001b[1;33m(\u001b[0m\u001b[0mself\u001b[0m\u001b[1;33m)\u001b[0m\u001b[1;33m:\u001b[0m\u001b[1;33m\u001b[0m\u001b[0m\n",
      "\u001b[1;32m~\\Anaconda3\\lib\\site-packages\\matplotlib\\__init__.py\u001b[0m in \u001b[0;36minner\u001b[1;34m(ax, *args, **kwargs)\u001b[0m\n\u001b[0;32m   1853\u001b[0m                         \u001b[1;34m\"the Matplotlib list!)\"\u001b[0m \u001b[1;33m%\u001b[0m \u001b[1;33m(\u001b[0m\u001b[0mlabel_namer\u001b[0m\u001b[1;33m,\u001b[0m \u001b[0mfunc\u001b[0m\u001b[1;33m.\u001b[0m\u001b[0m__name__\u001b[0m\u001b[1;33m)\u001b[0m\u001b[1;33m,\u001b[0m\u001b[1;33m\u001b[0m\u001b[0m\n\u001b[0;32m   1854\u001b[0m                         RuntimeWarning, stacklevel=2)\n\u001b[1;32m-> 1855\u001b[1;33m             \u001b[1;32mreturn\u001b[0m \u001b[0mfunc\u001b[0m\u001b[1;33m(\u001b[0m\u001b[0max\u001b[0m\u001b[1;33m,\u001b[0m \u001b[1;33m*\u001b[0m\u001b[0margs\u001b[0m\u001b[1;33m,\u001b[0m \u001b[1;33m**\u001b[0m\u001b[0mkwargs\u001b[0m\u001b[1;33m)\u001b[0m\u001b[1;33m\u001b[0m\u001b[0m\n\u001b[0m\u001b[0;32m   1856\u001b[0m \u001b[1;33m\u001b[0m\u001b[0m\n\u001b[0;32m   1857\u001b[0m         inner.__doc__ = _add_data_doc(inner.__doc__,\n",
      "\u001b[1;32m~\\Anaconda3\\lib\\site-packages\\matplotlib\\axes\\_axes.py\u001b[0m in \u001b[0;36mplot\u001b[1;34m(self, *args, **kwargs)\u001b[0m\n\u001b[0;32m   1525\u001b[0m         \u001b[0mkwargs\u001b[0m \u001b[1;33m=\u001b[0m \u001b[0mcbook\u001b[0m\u001b[1;33m.\u001b[0m\u001b[0mnormalize_kwargs\u001b[0m\u001b[1;33m(\u001b[0m\u001b[0mkwargs\u001b[0m\u001b[1;33m,\u001b[0m \u001b[0m_alias_map\u001b[0m\u001b[1;33m)\u001b[0m\u001b[1;33m\u001b[0m\u001b[0m\n\u001b[0;32m   1526\u001b[0m \u001b[1;33m\u001b[0m\u001b[0m\n\u001b[1;32m-> 1527\u001b[1;33m         \u001b[1;32mfor\u001b[0m \u001b[0mline\u001b[0m \u001b[1;32min\u001b[0m \u001b[0mself\u001b[0m\u001b[1;33m.\u001b[0m\u001b[0m_get_lines\u001b[0m\u001b[1;33m(\u001b[0m\u001b[1;33m*\u001b[0m\u001b[0margs\u001b[0m\u001b[1;33m,\u001b[0m \u001b[1;33m**\u001b[0m\u001b[0mkwargs\u001b[0m\u001b[1;33m)\u001b[0m\u001b[1;33m:\u001b[0m\u001b[1;33m\u001b[0m\u001b[0m\n\u001b[0m\u001b[0;32m   1528\u001b[0m             \u001b[0mself\u001b[0m\u001b[1;33m.\u001b[0m\u001b[0madd_line\u001b[0m\u001b[1;33m(\u001b[0m\u001b[0mline\u001b[0m\u001b[1;33m)\u001b[0m\u001b[1;33m\u001b[0m\u001b[0m\n\u001b[0;32m   1529\u001b[0m             \u001b[0mlines\u001b[0m\u001b[1;33m.\u001b[0m\u001b[0mappend\u001b[0m\u001b[1;33m(\u001b[0m\u001b[0mline\u001b[0m\u001b[1;33m)\u001b[0m\u001b[1;33m\u001b[0m\u001b[0m\n",
      "\u001b[1;32m~\\Anaconda3\\lib\\site-packages\\matplotlib\\axes\\_base.py\u001b[0m in \u001b[0;36m_grab_next_args\u001b[1;34m(self, *args, **kwargs)\u001b[0m\n\u001b[0;32m    404\u001b[0m                 \u001b[0mthis\u001b[0m \u001b[1;33m+=\u001b[0m \u001b[0margs\u001b[0m\u001b[1;33m[\u001b[0m\u001b[1;36m0\u001b[0m\u001b[1;33m]\u001b[0m\u001b[1;33m,\u001b[0m\u001b[1;33m\u001b[0m\u001b[0m\n\u001b[0;32m    405\u001b[0m                 \u001b[0margs\u001b[0m \u001b[1;33m=\u001b[0m \u001b[0margs\u001b[0m\u001b[1;33m[\u001b[0m\u001b[1;36m1\u001b[0m\u001b[1;33m:\u001b[0m\u001b[1;33m]\u001b[0m\u001b[1;33m\u001b[0m\u001b[0m\n\u001b[1;32m--> 406\u001b[1;33m             \u001b[1;32mfor\u001b[0m \u001b[0mseg\u001b[0m \u001b[1;32min\u001b[0m \u001b[0mself\u001b[0m\u001b[1;33m.\u001b[0m\u001b[0m_plot_args\u001b[0m\u001b[1;33m(\u001b[0m\u001b[0mthis\u001b[0m\u001b[1;33m,\u001b[0m \u001b[0mkwargs\u001b[0m\u001b[1;33m)\u001b[0m\u001b[1;33m:\u001b[0m\u001b[1;33m\u001b[0m\u001b[0m\n\u001b[0m\u001b[0;32m    407\u001b[0m                 \u001b[1;32myield\u001b[0m \u001b[0mseg\u001b[0m\u001b[1;33m\u001b[0m\u001b[0m\n\u001b[0;32m    408\u001b[0m \u001b[1;33m\u001b[0m\u001b[0m\n",
      "\u001b[1;32m~\\Anaconda3\\lib\\site-packages\\matplotlib\\axes\\_base.py\u001b[0m in \u001b[0;36m_plot_args\u001b[1;34m(self, tup, kwargs)\u001b[0m\n\u001b[0;32m    394\u001b[0m                                   \"with non-matching shapes is deprecated.\")\n\u001b[0;32m    395\u001b[0m         \u001b[1;32mfor\u001b[0m \u001b[0mj\u001b[0m \u001b[1;32min\u001b[0m \u001b[0mxrange\u001b[0m\u001b[1;33m(\u001b[0m\u001b[0mmax\u001b[0m\u001b[1;33m(\u001b[0m\u001b[0mncx\u001b[0m\u001b[1;33m,\u001b[0m \u001b[0mncy\u001b[0m\u001b[1;33m)\u001b[0m\u001b[1;33m)\u001b[0m\u001b[1;33m:\u001b[0m\u001b[1;33m\u001b[0m\u001b[0m\n\u001b[1;32m--> 396\u001b[1;33m             \u001b[0mseg\u001b[0m \u001b[1;33m=\u001b[0m \u001b[0mfunc\u001b[0m\u001b[1;33m(\u001b[0m\u001b[0mx\u001b[0m\u001b[1;33m[\u001b[0m\u001b[1;33m:\u001b[0m\u001b[1;33m,\u001b[0m \u001b[0mj\u001b[0m \u001b[1;33m%\u001b[0m \u001b[0mncx\u001b[0m\u001b[1;33m]\u001b[0m\u001b[1;33m,\u001b[0m \u001b[0my\u001b[0m\u001b[1;33m[\u001b[0m\u001b[1;33m:\u001b[0m\u001b[1;33m,\u001b[0m \u001b[0mj\u001b[0m \u001b[1;33m%\u001b[0m \u001b[0mncy\u001b[0m\u001b[1;33m]\u001b[0m\u001b[1;33m,\u001b[0m \u001b[0mkw\u001b[0m\u001b[1;33m,\u001b[0m \u001b[0mkwargs\u001b[0m\u001b[1;33m)\u001b[0m\u001b[1;33m\u001b[0m\u001b[0m\n\u001b[0m\u001b[0;32m    397\u001b[0m             \u001b[0mret\u001b[0m\u001b[1;33m.\u001b[0m\u001b[0mappend\u001b[0m\u001b[1;33m(\u001b[0m\u001b[0mseg\u001b[0m\u001b[1;33m)\u001b[0m\u001b[1;33m\u001b[0m\u001b[0m\n\u001b[0;32m    398\u001b[0m         \u001b[1;32mreturn\u001b[0m \u001b[0mret\u001b[0m\u001b[1;33m\u001b[0m\u001b[0m\n",
      "\u001b[1;32m~\\Anaconda3\\lib\\site-packages\\matplotlib\\axes\\_base.py\u001b[0m in \u001b[0;36m_makeline\u001b[1;34m(self, x, y, kw, kwargs)\u001b[0m\n\u001b[0;32m    298\u001b[0m         \u001b[0mdefault_dict\u001b[0m \u001b[1;33m=\u001b[0m \u001b[0mself\u001b[0m\u001b[1;33m.\u001b[0m\u001b[0m_getdefaults\u001b[0m\u001b[1;33m(\u001b[0m\u001b[1;32mNone\u001b[0m\u001b[1;33m,\u001b[0m \u001b[0mkw\u001b[0m\u001b[1;33m)\u001b[0m\u001b[1;33m\u001b[0m\u001b[0m\n\u001b[0;32m    299\u001b[0m         \u001b[0mself\u001b[0m\u001b[1;33m.\u001b[0m\u001b[0m_setdefaults\u001b[0m\u001b[1;33m(\u001b[0m\u001b[0mdefault_dict\u001b[0m\u001b[1;33m,\u001b[0m \u001b[0mkw\u001b[0m\u001b[1;33m)\u001b[0m\u001b[1;33m\u001b[0m\u001b[0m\n\u001b[1;32m--> 300\u001b[1;33m         \u001b[0mseg\u001b[0m \u001b[1;33m=\u001b[0m \u001b[0mmlines\u001b[0m\u001b[1;33m.\u001b[0m\u001b[0mLine2D\u001b[0m\u001b[1;33m(\u001b[0m\u001b[0mx\u001b[0m\u001b[1;33m,\u001b[0m \u001b[0my\u001b[0m\u001b[1;33m,\u001b[0m \u001b[1;33m**\u001b[0m\u001b[0mkw\u001b[0m\u001b[1;33m)\u001b[0m\u001b[1;33m\u001b[0m\u001b[0m\n\u001b[0m\u001b[0;32m    301\u001b[0m         \u001b[1;32mreturn\u001b[0m \u001b[0mseg\u001b[0m\u001b[1;33m\u001b[0m\u001b[0m\n\u001b[0;32m    302\u001b[0m \u001b[1;33m\u001b[0m\u001b[0m\n",
      "\u001b[1;32m~\\Anaconda3\\lib\\site-packages\\matplotlib\\lines.py\u001b[0m in \u001b[0;36m__init__\u001b[1;34m(self, xdata, ydata, linewidth, linestyle, color, marker, markersize, markeredgewidth, markeredgecolor, markerfacecolor, markerfacecoloralt, fillstyle, antialiased, dash_capstyle, solid_capstyle, dash_joinstyle, solid_joinstyle, pickradius, drawstyle, markevery, **kwargs)\u001b[0m\n\u001b[0;32m    419\u001b[0m         \u001b[1;31m# update kwargs before updating data to give the caller a\u001b[0m\u001b[1;33m\u001b[0m\u001b[1;33m\u001b[0m\u001b[0m\n\u001b[0;32m    420\u001b[0m         \u001b[1;31m# chance to init axes (and hence unit support)\u001b[0m\u001b[1;33m\u001b[0m\u001b[1;33m\u001b[0m\u001b[0m\n\u001b[1;32m--> 421\u001b[1;33m         \u001b[0mself\u001b[0m\u001b[1;33m.\u001b[0m\u001b[0mupdate\u001b[0m\u001b[1;33m(\u001b[0m\u001b[0mkwargs\u001b[0m\u001b[1;33m)\u001b[0m\u001b[1;33m\u001b[0m\u001b[0m\n\u001b[0m\u001b[0;32m    422\u001b[0m         \u001b[0mself\u001b[0m\u001b[1;33m.\u001b[0m\u001b[0mpickradius\u001b[0m \u001b[1;33m=\u001b[0m \u001b[0mpickradius\u001b[0m\u001b[1;33m\u001b[0m\u001b[0m\n\u001b[0;32m    423\u001b[0m         \u001b[0mself\u001b[0m\u001b[1;33m.\u001b[0m\u001b[0mind_offset\u001b[0m \u001b[1;33m=\u001b[0m \u001b[1;36m0\u001b[0m\u001b[1;33m\u001b[0m\u001b[0m\n",
      "\u001b[1;32m~\\Anaconda3\\lib\\site-packages\\matplotlib\\artist.py\u001b[0m in \u001b[0;36mupdate\u001b[1;34m(self, props)\u001b[0m\n\u001b[0;32m    886\u001b[0m         \u001b[1;32mtry\u001b[0m\u001b[1;33m:\u001b[0m\u001b[1;33m\u001b[0m\u001b[0m\n\u001b[0;32m    887\u001b[0m             ret = [_update_property(self, k, v)\n\u001b[1;32m--> 888\u001b[1;33m                    for k, v in props.items()]\n\u001b[0m\u001b[0;32m    889\u001b[0m         \u001b[1;32mfinally\u001b[0m\u001b[1;33m:\u001b[0m\u001b[1;33m\u001b[0m\u001b[0m\n\u001b[0;32m    890\u001b[0m             \u001b[0mself\u001b[0m\u001b[1;33m.\u001b[0m\u001b[0meventson\u001b[0m \u001b[1;33m=\u001b[0m \u001b[0mstore\u001b[0m\u001b[1;33m\u001b[0m\u001b[0m\n",
      "\u001b[1;32m~\\Anaconda3\\lib\\site-packages\\matplotlib\\artist.py\u001b[0m in \u001b[0;36m<listcomp>\u001b[1;34m(.0)\u001b[0m\n\u001b[0;32m    886\u001b[0m         \u001b[1;32mtry\u001b[0m\u001b[1;33m:\u001b[0m\u001b[1;33m\u001b[0m\u001b[0m\n\u001b[0;32m    887\u001b[0m             ret = [_update_property(self, k, v)\n\u001b[1;32m--> 888\u001b[1;33m                    for k, v in props.items()]\n\u001b[0m\u001b[0;32m    889\u001b[0m         \u001b[1;32mfinally\u001b[0m\u001b[1;33m:\u001b[0m\u001b[1;33m\u001b[0m\u001b[0m\n\u001b[0;32m    890\u001b[0m             \u001b[0mself\u001b[0m\u001b[1;33m.\u001b[0m\u001b[0meventson\u001b[0m \u001b[1;33m=\u001b[0m \u001b[0mstore\u001b[0m\u001b[1;33m\u001b[0m\u001b[0m\n",
      "\u001b[1;32m~\\Anaconda3\\lib\\site-packages\\matplotlib\\artist.py\u001b[0m in \u001b[0;36m_update_property\u001b[1;34m(self, k, v)\u001b[0m\n\u001b[0;32m    879\u001b[0m                 \u001b[0mfunc\u001b[0m \u001b[1;33m=\u001b[0m \u001b[0mgetattr\u001b[0m\u001b[1;33m(\u001b[0m\u001b[0mself\u001b[0m\u001b[1;33m,\u001b[0m \u001b[1;34m'set_'\u001b[0m \u001b[1;33m+\u001b[0m \u001b[0mk\u001b[0m\u001b[1;33m,\u001b[0m \u001b[1;32mNone\u001b[0m\u001b[1;33m)\u001b[0m\u001b[1;33m\u001b[0m\u001b[0m\n\u001b[0;32m    880\u001b[0m                 \u001b[1;32mif\u001b[0m \u001b[1;32mnot\u001b[0m \u001b[0mcallable\u001b[0m\u001b[1;33m(\u001b[0m\u001b[0mfunc\u001b[0m\u001b[1;33m)\u001b[0m\u001b[1;33m:\u001b[0m\u001b[1;33m\u001b[0m\u001b[0m\n\u001b[1;32m--> 881\u001b[1;33m                     \u001b[1;32mraise\u001b[0m \u001b[0mAttributeError\u001b[0m\u001b[1;33m(\u001b[0m\u001b[1;34m'Unknown property %s'\u001b[0m \u001b[1;33m%\u001b[0m \u001b[0mk\u001b[0m\u001b[1;33m)\u001b[0m\u001b[1;33m\u001b[0m\u001b[0m\n\u001b[0m\u001b[0;32m    882\u001b[0m                 \u001b[1;32mreturn\u001b[0m \u001b[0mfunc\u001b[0m\u001b[1;33m(\u001b[0m\u001b[0mv\u001b[0m\u001b[1;33m)\u001b[0m\u001b[1;33m\u001b[0m\u001b[0m\n\u001b[0;32m    883\u001b[0m \u001b[1;33m\u001b[0m\u001b[0m\n",
      "\u001b[1;31mAttributeError\u001b[0m: Unknown property type"
     ]
    },
    {
     "data": {
      "image/png": "[encoded data removed]",
      "text/plain": [
       "<Figure size 432x288 with 1 Axes>"
      ]
     },
     "metadata": {},
     "output_type": "display_data"
    }
   ],
   "source": [
    "df.groupby(['I/E']).mean().plot(type='bar')"
   ]
  },
  {
   "cell_type": "code",
   "execution_count": 55,
   "metadata": {},
   "outputs": [
    {
     "ename": "SyntaxError",
     "evalue": "invalid syntax (<ipython-input-55-1da9353d41fe>, line 1)",
     "output_type": "error",
     "traceback": [
      "\u001b[1;36m  File \u001b[1;32m\"<ipython-input-55-1da9353d41fe>\"\u001b[1;36m, line \u001b[1;32m1\u001b[0m\n\u001b[1;33m    df.groupby(['I/E']).mean().plot(type='bar',x='I/E'|)\u001b[0m\n\u001b[1;37m                                                       ^\u001b[0m\n\u001b[1;31mSyntaxError\u001b[0m\u001b[1;31m:\u001b[0m invalid syntax\n"
     ]
    }
   ],
   "source": [
    "df.groupby(['I/E']).mean().plot(type='bar',x='I/E'|)"
   ]
  },
  {
   "cell_type": "code",
   "execution_count": 56,
   "metadata": {},
   "outputs": [
    {
     "ename": "KeyError",
     "evalue": "'I/E'",
     "output_type": "error",
     "traceback": [
      "\u001b[1;31m---------------------------------------------------------------------------\u001b[0m",
      "\u001b[1;31mKeyError\u001b[0m                                  Traceback (most recent call last)",
      "\u001b[1;32m~\\Anaconda3\\lib\\site-packages\\pandas\\core\\indexes\\base.py\u001b[0m in \u001b[0;36mget_loc\u001b[1;34m(self, key, method, tolerance)\u001b[0m\n\u001b[0;32m   3062\u001b[0m             \u001b[1;32mtry\u001b[0m\u001b[1;33m:\u001b[0m\u001b[1;33m\u001b[0m\u001b[0m\n\u001b[1;32m-> 3063\u001b[1;33m                 \u001b[1;32mreturn\u001b[0m \u001b[0mself\u001b[0m\u001b[1;33m.\u001b[0m\u001b[0m_engine\u001b[0m\u001b[1;33m.\u001b[0m\u001b[0mget_loc\u001b[0m\u001b[1;33m(\u001b[0m\u001b[0mkey\u001b[0m\u001b[1;33m)\u001b[0m\u001b[1;33m\u001b[0m\u001b[0m\n\u001b[0m\u001b[0;32m   3064\u001b[0m             \u001b[1;32mexcept\u001b[0m \u001b[0mKeyError\u001b[0m\u001b[1;33m:\u001b[0m\u001b[1;33m\u001b[0m\u001b[0m\n",
      "\u001b[1;32mpandas\\_libs\\index.pyx\u001b[0m in \u001b[0;36mpandas._libs.index.IndexEngine.get_loc\u001b[1;34m()\u001b[0m\n",
      "\u001b[1;32mpandas\\_libs\\index.pyx\u001b[0m in \u001b[0;36mpandas._libs.index.IndexEngine.get_loc\u001b[1;34m()\u001b[0m\n",
      "\u001b[1;32mpandas\\_libs\\hashtable_class_helper.pxi\u001b[0m in \u001b[0;36mpandas._libs.hashtable.PyObjectHashTable.get_item\u001b[1;34m()\u001b[0m\n",
      "\u001b[1;32mpandas\\_libs\\hashtable_class_helper.pxi\u001b[0m in \u001b[0;36mpandas._libs.hashtable.PyObjectHashTable.get_item\u001b[1;34m()\u001b[0m\n",
      "\u001b[1;31mKeyError\u001b[0m: 'I/E'",
      "\nDuring handling of the above exception, another exception occurred:\n",
      "\u001b[1;31mKeyError\u001b[0m                                  Traceback (most recent call last)",
      "\u001b[1;32m<ipython-input-56-dd94e37cccaa>\u001b[0m in \u001b[0;36m<module>\u001b[1;34m()\u001b[0m\n\u001b[1;32m----> 1\u001b[1;33m \u001b[0mdf\u001b[0m\u001b[1;33m.\u001b[0m\u001b[0mgroupby\u001b[0m\u001b[1;33m(\u001b[0m\u001b[1;33m[\u001b[0m\u001b[1;34m'I/E'\u001b[0m\u001b[1;33m]\u001b[0m\u001b[1;33m)\u001b[0m\u001b[1;33m.\u001b[0m\u001b[0mmean\u001b[0m\u001b[1;33m(\u001b[0m\u001b[1;33m)\u001b[0m\u001b[1;33m.\u001b[0m\u001b[0mplot\u001b[0m\u001b[1;33m(\u001b[0m\u001b[0mtype\u001b[0m\u001b[1;33m=\u001b[0m\u001b[1;34m'bar'\u001b[0m\u001b[1;33m,\u001b[0m\u001b[0mx\u001b[0m\u001b[1;33m=\u001b[0m\u001b[1;34m'I/E'\u001b[0m\u001b[1;33m)\u001b[0m\u001b[1;33m\u001b[0m\u001b[0m\n\u001b[0m",
      "\u001b[1;32m~\\Anaconda3\\lib\\site-packages\\pandas\\plotting\\_core.py\u001b[0m in \u001b[0;36m__call__\u001b[1;34m(self, x, y, kind, ax, subplots, sharex, sharey, layout, figsize, use_index, title, grid, legend, style, logx, logy, loglog, xticks, yticks, xlim, ylim, rot, fontsize, colormap, table, yerr, xerr, secondary_y, sort_columns, **kwds)\u001b[0m\n\u001b[0;32m   2939\u001b[0m                           \u001b[0mfontsize\u001b[0m\u001b[1;33m=\u001b[0m\u001b[0mfontsize\u001b[0m\u001b[1;33m,\u001b[0m \u001b[0mcolormap\u001b[0m\u001b[1;33m=\u001b[0m\u001b[0mcolormap\u001b[0m\u001b[1;33m,\u001b[0m \u001b[0mtable\u001b[0m\u001b[1;33m=\u001b[0m\u001b[0mtable\u001b[0m\u001b[1;33m,\u001b[0m\u001b[1;33m\u001b[0m\u001b[0m\n\u001b[0;32m   2940\u001b[0m                           \u001b[0myerr\u001b[0m\u001b[1;33m=\u001b[0m\u001b[0myerr\u001b[0m\u001b[1;33m,\u001b[0m \u001b[0mxerr\u001b[0m\u001b[1;33m=\u001b[0m\u001b[0mxerr\u001b[0m\u001b[1;33m,\u001b[0m \u001b[0msecondary_y\u001b[0m\u001b[1;33m=\u001b[0m\u001b[0msecondary_y\u001b[0m\u001b[1;33m,\u001b[0m\u001b[1;33m\u001b[0m\u001b[0m\n\u001b[1;32m-> 2941\u001b[1;33m                           sort_columns=sort_columns, **kwds)\n\u001b[0m\u001b[0;32m   2942\u001b[0m     \u001b[0m__call__\u001b[0m\u001b[1;33m.\u001b[0m\u001b[0m__doc__\u001b[0m \u001b[1;33m=\u001b[0m \u001b[0mplot_frame\u001b[0m\u001b[1;33m.\u001b[0m\u001b[0m__doc__\u001b[0m\u001b[1;33m\u001b[0m\u001b[0m\n\u001b[0;32m   2943\u001b[0m \u001b[1;33m\u001b[0m\u001b[0m\n",
      "\u001b[1;32m~\\Anaconda3\\lib\\site-packages\\pandas\\plotting\\_core.py\u001b[0m in \u001b[0;36mplot_frame\u001b[1;34m(data, x, y, kind, ax, subplots, sharex, sharey, layout, figsize, use_index, title, grid, legend, style, logx, logy, loglog, xticks, yticks, xlim, ylim, rot, fontsize, colormap, table, yerr, xerr, secondary_y, sort_columns, **kwds)\u001b[0m\n\u001b[0;32m   1975\u001b[0m                  \u001b[0myerr\u001b[0m\u001b[1;33m=\u001b[0m\u001b[0myerr\u001b[0m\u001b[1;33m,\u001b[0m \u001b[0mxerr\u001b[0m\u001b[1;33m=\u001b[0m\u001b[0mxerr\u001b[0m\u001b[1;33m,\u001b[0m\u001b[1;33m\u001b[0m\u001b[0m\n\u001b[0;32m   1976\u001b[0m                  \u001b[0msecondary_y\u001b[0m\u001b[1;33m=\u001b[0m\u001b[0msecondary_y\u001b[0m\u001b[1;33m,\u001b[0m \u001b[0msort_columns\u001b[0m\u001b[1;33m=\u001b[0m\u001b[0msort_columns\u001b[0m\u001b[1;33m,\u001b[0m\u001b[1;33m\u001b[0m\u001b[0m\n\u001b[1;32m-> 1977\u001b[1;33m                  **kwds)\n\u001b[0m\u001b[0;32m   1978\u001b[0m \u001b[1;33m\u001b[0m\u001b[0m\n\u001b[0;32m   1979\u001b[0m \u001b[1;33m\u001b[0m\u001b[0m\n",
      "\u001b[1;32m~\\Anaconda3\\lib\\site-packages\\pandas\\plotting\\_core.py\u001b[0m in \u001b[0;36m_plot\u001b[1;34m(data, x, y, subplots, ax, kind, **kwds)\u001b[0m\n\u001b[0;32m   1764\u001b[0m                 \u001b[1;32mif\u001b[0m \u001b[0mis_integer\u001b[0m\u001b[1;33m(\u001b[0m\u001b[0mx\u001b[0m\u001b[1;33m)\u001b[0m \u001b[1;32mand\u001b[0m \u001b[1;32mnot\u001b[0m \u001b[0mdata\u001b[0m\u001b[1;33m.\u001b[0m\u001b[0mcolumns\u001b[0m\u001b[1;33m.\u001b[0m\u001b[0mholds_integer\u001b[0m\u001b[1;33m(\u001b[0m\u001b[1;33m)\u001b[0m\u001b[1;33m:\u001b[0m\u001b[1;33m\u001b[0m\u001b[0m\n\u001b[0;32m   1765\u001b[0m                     \u001b[0mx\u001b[0m \u001b[1;33m=\u001b[0m \u001b[0mdata_cols\u001b[0m\u001b[1;33m[\u001b[0m\u001b[0mx\u001b[0m\u001b[1;33m]\u001b[0m\u001b[1;33m\u001b[0m\u001b[0m\n\u001b[1;32m-> 1766\u001b[1;33m                 \u001b[1;32melif\u001b[0m \u001b[1;32mnot\u001b[0m \u001b[0misinstance\u001b[0m\u001b[1;33m(\u001b[0m\u001b[0mdata\u001b[0m\u001b[1;33m[\u001b[0m\u001b[0mx\u001b[0m\u001b[1;33m]\u001b[0m\u001b[1;33m,\u001b[0m \u001b[0mABCSeries\u001b[0m\u001b[1;33m)\u001b[0m\u001b[1;33m:\u001b[0m\u001b[1;33m\u001b[0m\u001b[0m\n\u001b[0m\u001b[0;32m   1767\u001b[0m                     \u001b[1;32mraise\u001b[0m \u001b[0mValueError\u001b[0m\u001b[1;33m(\u001b[0m\u001b[1;34m\"x must be a label or position\"\u001b[0m\u001b[1;33m)\u001b[0m\u001b[1;33m\u001b[0m\u001b[0m\n\u001b[0;32m   1768\u001b[0m                 \u001b[0mdata\u001b[0m \u001b[1;33m=\u001b[0m \u001b[0mdata\u001b[0m\u001b[1;33m.\u001b[0m\u001b[0mset_index\u001b[0m\u001b[1;33m(\u001b[0m\u001b[0mx\u001b[0m\u001b[1;33m)\u001b[0m\u001b[1;33m\u001b[0m\u001b[0m\n",
      "\u001b[1;32m~\\Anaconda3\\lib\\site-packages\\pandas\\core\\frame.py\u001b[0m in \u001b[0;36m__getitem__\u001b[1;34m(self, key)\u001b[0m\n\u001b[0;32m   2683\u001b[0m             \u001b[1;32mreturn\u001b[0m \u001b[0mself\u001b[0m\u001b[1;33m.\u001b[0m\u001b[0m_getitem_multilevel\u001b[0m\u001b[1;33m(\u001b[0m\u001b[0mkey\u001b[0m\u001b[1;33m)\u001b[0m\u001b[1;33m\u001b[0m\u001b[0m\n\u001b[0;32m   2684\u001b[0m         \u001b[1;32melse\u001b[0m\u001b[1;33m:\u001b[0m\u001b[1;33m\u001b[0m\u001b[0m\n\u001b[1;32m-> 2685\u001b[1;33m             \u001b[1;32mreturn\u001b[0m \u001b[0mself\u001b[0m\u001b[1;33m.\u001b[0m\u001b[0m_getitem_column\u001b[0m\u001b[1;33m(\u001b[0m\u001b[0mkey\u001b[0m\u001b[1;33m)\u001b[0m\u001b[1;33m\u001b[0m\u001b[0m\n\u001b[0m\u001b[0;32m   2686\u001b[0m \u001b[1;33m\u001b[0m\u001b[0m\n\u001b[0;32m   2687\u001b[0m     \u001b[1;32mdef\u001b[0m \u001b[0m_getitem_column\u001b[0m\u001b[1;33m(\u001b[0m\u001b[0mself\u001b[0m\u001b[1;33m,\u001b[0m \u001b[0mkey\u001b[0m\u001b[1;33m)\u001b[0m\u001b[1;33m:\u001b[0m\u001b[1;33m\u001b[0m\u001b[0m\n",
      "\u001b[1;32m~\\Anaconda3\\lib\\site-packages\\pandas\\core\\frame.py\u001b[0m in \u001b[0;36m_getitem_column\u001b[1;34m(self, key)\u001b[0m\n\u001b[0;32m   2690\u001b[0m         \u001b[1;31m# get column\u001b[0m\u001b[1;33m\u001b[0m\u001b[1;33m\u001b[0m\u001b[0m\n\u001b[0;32m   2691\u001b[0m         \u001b[1;32mif\u001b[0m \u001b[0mself\u001b[0m\u001b[1;33m.\u001b[0m\u001b[0mcolumns\u001b[0m\u001b[1;33m.\u001b[0m\u001b[0mis_unique\u001b[0m\u001b[1;33m:\u001b[0m\u001b[1;33m\u001b[0m\u001b[0m\n\u001b[1;32m-> 2692\u001b[1;33m             \u001b[1;32mreturn\u001b[0m \u001b[0mself\u001b[0m\u001b[1;33m.\u001b[0m\u001b[0m_get_item_cache\u001b[0m\u001b[1;33m(\u001b[0m\u001b[0mkey\u001b[0m\u001b[1;33m)\u001b[0m\u001b[1;33m\u001b[0m\u001b[0m\n\u001b[0m\u001b[0;32m   2693\u001b[0m \u001b[1;33m\u001b[0m\u001b[0m\n\u001b[0;32m   2694\u001b[0m         \u001b[1;31m# duplicate columns & possible reduce dimensionality\u001b[0m\u001b[1;33m\u001b[0m\u001b[1;33m\u001b[0m\u001b[0m\n",
      "\u001b[1;32m~\\Anaconda3\\lib\\site-packages\\pandas\\core\\generic.py\u001b[0m in \u001b[0;36m_get_item_cache\u001b[1;34m(self, item)\u001b[0m\n\u001b[0;32m   2484\u001b[0m         \u001b[0mres\u001b[0m \u001b[1;33m=\u001b[0m \u001b[0mcache\u001b[0m\u001b[1;33m.\u001b[0m\u001b[0mget\u001b[0m\u001b[1;33m(\u001b[0m\u001b[0mitem\u001b[0m\u001b[1;33m)\u001b[0m\u001b[1;33m\u001b[0m\u001b[0m\n\u001b[0;32m   2485\u001b[0m         \u001b[1;32mif\u001b[0m \u001b[0mres\u001b[0m \u001b[1;32mis\u001b[0m \u001b[1;32mNone\u001b[0m\u001b[1;33m:\u001b[0m\u001b[1;33m\u001b[0m\u001b[0m\n\u001b[1;32m-> 2486\u001b[1;33m             \u001b[0mvalues\u001b[0m \u001b[1;33m=\u001b[0m \u001b[0mself\u001b[0m\u001b[1;33m.\u001b[0m\u001b[0m_data\u001b[0m\u001b[1;33m.\u001b[0m\u001b[0mget\u001b[0m\u001b[1;33m(\u001b[0m\u001b[0mitem\u001b[0m\u001b[1;33m)\u001b[0m\u001b[1;33m\u001b[0m\u001b[0m\n\u001b[0m\u001b[0;32m   2487\u001b[0m             \u001b[0mres\u001b[0m \u001b[1;33m=\u001b[0m \u001b[0mself\u001b[0m\u001b[1;33m.\u001b[0m\u001b[0m_box_item_values\u001b[0m\u001b[1;33m(\u001b[0m\u001b[0mitem\u001b[0m\u001b[1;33m,\u001b[0m \u001b[0mvalues\u001b[0m\u001b[1;33m)\u001b[0m\u001b[1;33m\u001b[0m\u001b[0m\n\u001b[0;32m   2488\u001b[0m             \u001b[0mcache\u001b[0m\u001b[1;33m[\u001b[0m\u001b[0mitem\u001b[0m\u001b[1;33m]\u001b[0m \u001b[1;33m=\u001b[0m \u001b[0mres\u001b[0m\u001b[1;33m\u001b[0m\u001b[0m\n",
      "\u001b[1;32m~\\Anaconda3\\lib\\site-packages\\pandas\\core\\internals.py\u001b[0m in \u001b[0;36mget\u001b[1;34m(self, item, fastpath)\u001b[0m\n\u001b[0;32m   4113\u001b[0m \u001b[1;33m\u001b[0m\u001b[0m\n\u001b[0;32m   4114\u001b[0m             \u001b[1;32mif\u001b[0m \u001b[1;32mnot\u001b[0m \u001b[0misna\u001b[0m\u001b[1;33m(\u001b[0m\u001b[0mitem\u001b[0m\u001b[1;33m)\u001b[0m\u001b[1;33m:\u001b[0m\u001b[1;33m\u001b[0m\u001b[0m\n\u001b[1;32m-> 4115\u001b[1;33m                 \u001b[0mloc\u001b[0m \u001b[1;33m=\u001b[0m \u001b[0mself\u001b[0m\u001b[1;33m.\u001b[0m\u001b[0mitems\u001b[0m\u001b[1;33m.\u001b[0m\u001b[0mget_loc\u001b[0m\u001b[1;33m(\u001b[0m\u001b[0mitem\u001b[0m\u001b[1;33m)\u001b[0m\u001b[1;33m\u001b[0m\u001b[0m\n\u001b[0m\u001b[0;32m   4116\u001b[0m             \u001b[1;32melse\u001b[0m\u001b[1;33m:\u001b[0m\u001b[1;33m\u001b[0m\u001b[0m\n\u001b[0;32m   4117\u001b[0m                 \u001b[0mindexer\u001b[0m \u001b[1;33m=\u001b[0m \u001b[0mnp\u001b[0m\u001b[1;33m.\u001b[0m\u001b[0marange\u001b[0m\u001b[1;33m(\u001b[0m\u001b[0mlen\u001b[0m\u001b[1;33m(\u001b[0m\u001b[0mself\u001b[0m\u001b[1;33m.\u001b[0m\u001b[0mitems\u001b[0m\u001b[1;33m)\u001b[0m\u001b[1;33m)\u001b[0m\u001b[1;33m[\u001b[0m\u001b[0misna\u001b[0m\u001b[1;33m(\u001b[0m\u001b[0mself\u001b[0m\u001b[1;33m.\u001b[0m\u001b[0mitems\u001b[0m\u001b[1;33m)\u001b[0m\u001b[1;33m]\u001b[0m\u001b[1;33m\u001b[0m\u001b[0m\n",
      "\u001b[1;32m~\\Anaconda3\\lib\\site-packages\\pandas\\core\\indexes\\base.py\u001b[0m in \u001b[0;36mget_loc\u001b[1;34m(self, key, method, tolerance)\u001b[0m\n\u001b[0;32m   3063\u001b[0m                 \u001b[1;32mreturn\u001b[0m \u001b[0mself\u001b[0m\u001b[1;33m.\u001b[0m\u001b[0m_engine\u001b[0m\u001b[1;33m.\u001b[0m\u001b[0mget_loc\u001b[0m\u001b[1;33m(\u001b[0m\u001b[0mkey\u001b[0m\u001b[1;33m)\u001b[0m\u001b[1;33m\u001b[0m\u001b[0m\n\u001b[0;32m   3064\u001b[0m             \u001b[1;32mexcept\u001b[0m \u001b[0mKeyError\u001b[0m\u001b[1;33m:\u001b[0m\u001b[1;33m\u001b[0m\u001b[0m\n\u001b[1;32m-> 3065\u001b[1;33m                 \u001b[1;32mreturn\u001b[0m \u001b[0mself\u001b[0m\u001b[1;33m.\u001b[0m\u001b[0m_engine\u001b[0m\u001b[1;33m.\u001b[0m\u001b[0mget_loc\u001b[0m\u001b[1;33m(\u001b[0m\u001b[0mself\u001b[0m\u001b[1;33m.\u001b[0m\u001b[0m_maybe_cast_indexer\u001b[0m\u001b[1;33m(\u001b[0m\u001b[0mkey\u001b[0m\u001b[1;33m)\u001b[0m\u001b[1;33m)\u001b[0m\u001b[1;33m\u001b[0m\u001b[0m\n\u001b[0m\u001b[0;32m   3066\u001b[0m \u001b[1;33m\u001b[0m\u001b[0m\n\u001b[0;32m   3067\u001b[0m         \u001b[0mindexer\u001b[0m \u001b[1;33m=\u001b[0m \u001b[0mself\u001b[0m\u001b[1;33m.\u001b[0m\u001b[0mget_indexer\u001b[0m\u001b[1;33m(\u001b[0m\u001b[1;33m[\u001b[0m\u001b[0mkey\u001b[0m\u001b[1;33m]\u001b[0m\u001b[1;33m,\u001b[0m \u001b[0mmethod\u001b[0m\u001b[1;33m=\u001b[0m\u001b[0mmethod\u001b[0m\u001b[1;33m,\u001b[0m \u001b[0mtolerance\u001b[0m\u001b[1;33m=\u001b[0m\u001b[0mtolerance\u001b[0m\u001b[1;33m)\u001b[0m\u001b[1;33m\u001b[0m\u001b[0m\n",
      "\u001b[1;32mpandas\\_libs\\index.pyx\u001b[0m in \u001b[0;36mpandas._libs.index.IndexEngine.get_loc\u001b[1;34m()\u001b[0m\n",
      "\u001b[1;32mpandas\\_libs\\index.pyx\u001b[0m in \u001b[0;36mpandas._libs.index.IndexEngine.get_loc\u001b[1;34m()\u001b[0m\n",
      "\u001b[1;32mpandas\\_libs\\hashtable_class_helper.pxi\u001b[0m in \u001b[0;36mpandas._libs.hashtable.PyObjectHashTable.get_item\u001b[1;34m()\u001b[0m\n",
      "\u001b[1;32mpandas\\_libs\\hashtable_class_helper.pxi\u001b[0m in \u001b[0;36mpandas._libs.hashtable.PyObjectHashTable.get_item\u001b[1;34m()\u001b[0m\n",
      "\u001b[1;31mKeyError\u001b[0m: 'I/E'"
     ]
    }
   ],
   "source": [
    "df.groupby(['I/E']).mean().plot(type='bar')"
   ]
  },
  {
   "cell_type": "code",
   "execution_count": 57,
   "metadata": {},
   "outputs": [],
   "source": [
    "df['music_per_comment'] = df['posts'].apply(lambda x: x.count('music')/50)"
   ]
  },
  {
   "cell_type": "code",
   "execution_count": 58,
   "metadata": {},
   "outputs": [
    {
     "data": {
      "text/html": [
       "<div>\n",
       "<style scoped>\n",
       "    .dataframe tbody tr th:only-of-type {\n",
       "        vertical-align: middle;\n",
       "    }\n",
       "\n",
       "    .dataframe tbody tr th {\n",
       "        vertical-align: top;\n",
       "    }\n",
       "\n",
       "    .dataframe thead th {\n",
       "        text-align: right;\n",
       "    }\n",
       "</style>\n",
       "<table border=\"1\" class=\"dataframe\">\n",
       "  <thead>\n",
       "    <tr style=\"text-align: right;\">\n",
       "      <th></th>\n",
       "      <th>words_per_comment</th>\n",
       "      <th>question_per_comment</th>\n",
       "      <th>ellipsis_per_comment</th>\n",
       "      <th>excl_per_comment</th>\n",
       "      <th>music_per_comment</th>\n",
       "    </tr>\n",
       "    <tr>\n",
       "      <th>I/E</th>\n",
       "      <th></th>\n",
       "      <th></th>\n",
       "      <th></th>\n",
       "      <th></th>\n",
       "      <th></th>\n",
       "    </tr>\n",
       "  </thead>\n",
       "  <tbody>\n",
       "    <tr>\n",
       "      <th>E</th>\n",
       "      <td>24.588704</td>\n",
       "      <td>0.224872</td>\n",
       "      <td>0.667704</td>\n",
       "      <td>0.229105</td>\n",
       "      <td>0.010075</td>\n",
       "    </tr>\n",
       "    <tr>\n",
       "      <th>I</th>\n",
       "      <td>24.505704</td>\n",
       "      <td>0.211549</td>\n",
       "      <td>0.660923</td>\n",
       "      <td>0.151114</td>\n",
       "      <td>0.013041</td>\n",
       "    </tr>\n",
       "  </tbody>\n",
       "</table>\n",
       "</div>"
      ],
      "text/plain": [
       "     words_per_comment  question_per_comment  ellipsis_per_comment  \\\n",
       "I/E                                                                  \n",
       "E            24.588704              0.224872              0.667704   \n",
       "I            24.505704              0.211549              0.660923   \n",
       "\n",
       "     excl_per_comment  music_per_comment  \n",
       "I/E                                       \n",
       "E            0.229105           0.010075  \n",
       "I            0.151114           0.013041  "
      ]
     },
     "execution_count": 58,
     "metadata": {},
     "output_type": "execute_result"
    }
   ],
   "source": [
    "df.groupby(['I/E']).mean()"
   ]
  },
  {
   "cell_type": "code",
   "execution_count": 59,
   "metadata": {},
   "outputs": [
    {
     "data": {
      "text/html": [
       "<div>\n",
       "<style scoped>\n",
       "    .dataframe tbody tr th:only-of-type {\n",
       "        vertical-align: middle;\n",
       "    }\n",
       "\n",
       "    .dataframe tbody tr th {\n",
       "        vertical-align: top;\n",
       "    }\n",
       "\n",
       "    .dataframe thead th {\n",
       "        text-align: right;\n",
       "    }\n",
       "</style>\n",
       "<table border=\"1\" class=\"dataframe\">\n",
       "  <thead>\n",
       "    <tr style=\"text-align: right;\">\n",
       "      <th></th>\n",
       "      <th>words_per_comment</th>\n",
       "      <th>question_per_comment</th>\n",
       "      <th>ellipsis_per_comment</th>\n",
       "      <th>excl_per_comment</th>\n",
       "      <th>music_per_comment</th>\n",
       "    </tr>\n",
       "    <tr>\n",
       "      <th>I/E</th>\n",
       "      <th></th>\n",
       "      <th></th>\n",
       "      <th></th>\n",
       "      <th></th>\n",
       "      <th></th>\n",
       "    </tr>\n",
       "  </thead>\n",
       "  <tbody>\n",
       "    <tr>\n",
       "      <th>E</th>\n",
       "      <td>24.588704</td>\n",
       "      <td>0.224872</td>\n",
       "      <td>0.667704</td>\n",
       "      <td>0.229105</td>\n",
       "      <td>0.010075</td>\n",
       "    </tr>\n",
       "    <tr>\n",
       "      <th>I</th>\n",
       "      <td>24.505704</td>\n",
       "      <td>0.211549</td>\n",
       "      <td>0.660923</td>\n",
       "      <td>0.151114</td>\n",
       "      <td>0.013041</td>\n",
       "    </tr>\n",
       "  </tbody>\n",
       "</table>\n",
       "</div>"
      ],
      "text/plain": [
       "     words_per_comment  question_per_comment  ellipsis_per_comment  \\\n",
       "I/E                                                                  \n",
       "E            24.588704              0.224872              0.667704   \n",
       "I            24.505704              0.211549              0.660923   \n",
       "\n",
       "     excl_per_comment  music_per_comment  \n",
       "I/E                                       \n",
       "E            0.229105           0.010075  \n",
       "I            0.151114           0.013041  "
      ]
     },
     "execution_count": 59,
     "metadata": {},
     "output_type": "execute_result"
    }
   ],
   "source": [
    "df['music_per_comment'] = df['posts'].apply(lambda x: x.count('music')/50)\n",
    "df.groupby(['I/E']).mean()"
   ]
  },
  {
   "cell_type": "code",
   "execution_count": 60,
   "metadata": {},
   "outputs": [
    {
     "data": {
      "text/html": [
       "<div>\n",
       "<style scoped>\n",
       "    .dataframe tbody tr th:only-of-type {\n",
       "        vertical-align: middle;\n",
       "    }\n",
       "\n",
       "    .dataframe tbody tr th {\n",
       "        vertical-align: top;\n",
       "    }\n",
       "\n",
       "    .dataframe thead th {\n",
       "        text-align: right;\n",
       "    }\n",
       "</style>\n",
       "<table border=\"1\" class=\"dataframe\">\n",
       "  <thead>\n",
       "    <tr style=\"text-align: right;\">\n",
       "      <th></th>\n",
       "      <th>words_per_comment</th>\n",
       "      <th>question_per_comment</th>\n",
       "      <th>ellipsis_per_comment</th>\n",
       "      <th>excl_per_comment</th>\n",
       "      <th>music_per_comment</th>\n",
       "      <th>http_per_comment</th>\n",
       "    </tr>\n",
       "    <tr>\n",
       "      <th>I/E</th>\n",
       "      <th></th>\n",
       "      <th></th>\n",
       "      <th></th>\n",
       "      <th></th>\n",
       "      <th></th>\n",
       "      <th></th>\n",
       "    </tr>\n",
       "  </thead>\n",
       "  <tbody>\n",
       "    <tr>\n",
       "      <th>E</th>\n",
       "      <td>24.588704</td>\n",
       "      <td>0.224872</td>\n",
       "      <td>0.667704</td>\n",
       "      <td>0.229105</td>\n",
       "      <td>0.010075</td>\n",
       "      <td>0.050595</td>\n",
       "    </tr>\n",
       "    <tr>\n",
       "      <th>I</th>\n",
       "      <td>24.505704</td>\n",
       "      <td>0.211549</td>\n",
       "      <td>0.660923</td>\n",
       "      <td>0.151114</td>\n",
       "      <td>0.013041</td>\n",
       "      <td>0.070728</td>\n",
       "    </tr>\n",
       "  </tbody>\n",
       "</table>\n",
       "</div>"
      ],
      "text/plain": [
       "     words_per_comment  question_per_comment  ellipsis_per_comment  \\\n",
       "I/E                                                                  \n",
       "E            24.588704              0.224872              0.667704   \n",
       "I            24.505704              0.211549              0.660923   \n",
       "\n",
       "     excl_per_comment  music_per_comment  http_per_comment  \n",
       "I/E                                                         \n",
       "E            0.229105           0.010075          0.050595  \n",
       "I            0.151114           0.013041          0.070728  "
      ]
     },
     "execution_count": 60,
     "metadata": {},
     "output_type": "execute_result"
    }
   ],
   "source": [
    "df['http_per_comment'] = df['posts'].apply(lambda x: x.count('http')/50)\n",
    "df.groupby(['I/E']).mean()"
   ]
  },
  {
   "cell_type": "code",
   "execution_count": 61,
   "metadata": {},
   "outputs": [],
   "source": [
    "df['N/S'] = df['type'].str[1]"
   ]
  },
  {
   "cell_type": "code",
   "execution_count": 62,
   "metadata": {},
   "outputs": [
    {
     "name": "stdout",
     "output_type": "stream",
     "text": [
      "<class 'pandas.core.frame.DataFrame'>\n",
      "RangeIndex: 8675 entries, 0 to 8674\n",
      "Data columns (total 10 columns):\n",
      "type                    8675 non-null object\n",
      "posts                   8675 non-null object\n",
      "I/E                     8675 non-null object\n",
      "words_per_comment       8675 non-null float64\n",
      "question_per_comment    8675 non-null float64\n",
      "ellipsis_per_comment    8675 non-null float64\n",
      "excl_per_comment        8675 non-null float64\n",
      "music_per_comment       8675 non-null float64\n",
      "http_per_comment        8675 non-null float64\n",
      "N/S                     8675 non-null object\n",
      "dtypes: float64(6), object(4)\n",
      "memory usage: 677.8+ KB\n"
     ]
    }
   ],
   "source": [
    "df.info()"
   ]
  },
  {
   "cell_type": "code",
   "execution_count": 63,
   "metadata": {},
   "outputs": [
    {
     "name": "stdout",
     "output_type": "stream",
     "text": [
      "   type                                              posts I/E  \\\n",
      "0  INFJ  'http://www.youtube.com/watch?v=qsXHcwe3krw|||...   I   \n",
      "1  ENTP  'I'm finding the lack of me in these posts ver...   E   \n",
      "2  INTP  'Good one  _____   https://www.youtube.com/wat...   I   \n",
      "3  INTJ  'Dear INTP,   I enjoyed our conversation the o...   I   \n",
      "4  ENTJ  'You're fired.|||That's another silly misconce...   E   \n",
      "\n",
      "   words_per_comment  question_per_comment  ellipsis_per_comment  \\\n",
      "0              11.12                  0.36                  0.30   \n",
      "1              23.40                  0.10                  0.38   \n",
      "2              16.72                  0.24                  0.26   \n",
      "3              21.28                  0.22                  0.52   \n",
      "4              19.34                  0.20                  0.42   \n",
      "\n",
      "   excl_per_comment  music_per_comment  http_per_comment N/S  \n",
      "0              0.06               0.02              0.48   N  \n",
      "1              0.00               0.00              0.20   N  \n",
      "2              0.08               0.00              0.10   N  \n",
      "3              0.06               0.02              0.04   N  \n",
      "4              0.02               0.02              0.12   N  \n"
     ]
    }
   ],
   "source": [
    "print(df.head())"
   ]
  },
  {
   "cell_type": "code",
   "execution_count": 64,
   "metadata": {},
   "outputs": [],
   "source": [
    "df['F/T'] = df['type'].str[2]"
   ]
  },
  {
   "cell_type": "code",
   "execution_count": 65,
   "metadata": {},
   "outputs": [
    {
     "name": "stdout",
     "output_type": "stream",
     "text": [
      "   type                                              posts I/E  \\\n",
      "0  INFJ  'http://www.youtube.com/watch?v=qsXHcwe3krw|||...   I   \n",
      "1  ENTP  'I'm finding the lack of me in these posts ver...   E   \n",
      "2  INTP  'Good one  _____   https://www.youtube.com/wat...   I   \n",
      "3  INTJ  'Dear INTP,   I enjoyed our conversation the o...   I   \n",
      "4  ENTJ  'You're fired.|||That's another silly misconce...   E   \n",
      "\n",
      "   words_per_comment  question_per_comment  ellipsis_per_comment  \\\n",
      "0              11.12                  0.36                  0.30   \n",
      "1              23.40                  0.10                  0.38   \n",
      "2              16.72                  0.24                  0.26   \n",
      "3              21.28                  0.22                  0.52   \n",
      "4              19.34                  0.20                  0.42   \n",
      "\n",
      "   excl_per_comment  music_per_comment  http_per_comment N/S F/T  \n",
      "0              0.06               0.02              0.48   N   F  \n",
      "1              0.00               0.00              0.20   N   T  \n",
      "2              0.08               0.00              0.10   N   T  \n",
      "3              0.06               0.02              0.04   N   T  \n",
      "4              0.02               0.02              0.12   N   T  \n"
     ]
    }
   ],
   "source": [
    "print(df.head())"
   ]
  },
  {
   "cell_type": "code",
   "execution_count": 66,
   "metadata": {},
   "outputs": [],
   "source": [
    "df['J/P'] = df['type'].str[3]"
   ]
  },
  {
   "cell_type": "code",
   "execution_count": 67,
   "metadata": {},
   "outputs": [
    {
     "name": "stdout",
     "output_type": "stream",
     "text": [
      "   type                                              posts I/E  \\\n",
      "0  INFJ  'http://www.youtube.com/watch?v=qsXHcwe3krw|||...   I   \n",
      "1  ENTP  'I'm finding the lack of me in these posts ver...   E   \n",
      "2  INTP  'Good one  _____   https://www.youtube.com/wat...   I   \n",
      "3  INTJ  'Dear INTP,   I enjoyed our conversation the o...   I   \n",
      "4  ENTJ  'You're fired.|||That's another silly misconce...   E   \n",
      "\n",
      "   words_per_comment  question_per_comment  ellipsis_per_comment  \\\n",
      "0              11.12                  0.36                  0.30   \n",
      "1              23.40                  0.10                  0.38   \n",
      "2              16.72                  0.24                  0.26   \n",
      "3              21.28                  0.22                  0.52   \n",
      "4              19.34                  0.20                  0.42   \n",
      "\n",
      "   excl_per_comment  music_per_comment  http_per_comment N/S F/T J/P  \n",
      "0              0.06               0.02              0.48   N   F   J  \n",
      "1              0.00               0.00              0.20   N   T   P  \n",
      "2              0.08               0.00              0.10   N   T   P  \n",
      "3              0.06               0.02              0.04   N   T   J  \n",
      "4              0.02               0.02              0.12   N   T   J  \n"
     ]
    }
   ],
   "source": [
    "print(df.head())"
   ]
  },
  {
   "cell_type": "code",
   "execution_count": 68,
   "metadata": {},
   "outputs": [
    {
     "ename": "NameError",
     "evalue": "name 'XX_train' is not defined",
     "output_type": "error",
     "traceback": [
      "\u001b[1;31m---------------------------------------------------------------------------\u001b[0m",
      "\u001b[1;31mNameError\u001b[0m                                 Traceback (most recent call last)",
      "\u001b[1;32m<ipython-input-68-6086eaae0df5>\u001b[0m in \u001b[0;36m<module>\u001b[1;34m()\u001b[0m\n\u001b[0;32m      1\u001b[0m \u001b[0mlogregg\u001b[0m \u001b[1;33m=\u001b[0m \u001b[0mLogisticRegression\u001b[0m\u001b[1;33m(\u001b[0m\u001b[1;33m)\u001b[0m\u001b[1;33m\u001b[0m\u001b[0m\n\u001b[1;32m----> 2\u001b[1;33m \u001b[0mlogregg\u001b[0m\u001b[1;33m.\u001b[0m\u001b[0mfit\u001b[0m\u001b[1;33m(\u001b[0m\u001b[0mXX_train\u001b[0m\u001b[1;33m,\u001b[0m \u001b[0myy_train\u001b[0m\u001b[1;33m)\u001b[0m\u001b[1;33m\u001b[0m\u001b[0m\n\u001b[0m\u001b[0;32m      3\u001b[0m \u001b[1;33m\u001b[0m\u001b[0m\n\u001b[0;32m      4\u001b[0m \u001b[0mY_predd\u001b[0m \u001b[1;33m=\u001b[0m \u001b[0mlogregg\u001b[0m\u001b[1;33m.\u001b[0m\u001b[0mpredict\u001b[0m\u001b[1;33m(\u001b[0m\u001b[0mXX_test\u001b[0m\u001b[1;33m)\u001b[0m\u001b[1;33m\u001b[0m\u001b[0m\n\u001b[0;32m      5\u001b[0m \u001b[1;33m\u001b[0m\u001b[0m\n",
      "\u001b[1;31mNameError\u001b[0m: name 'XX_train' is not defined"
     ]
    }
   ],
   "source": [
    "logregg = LogisticRegression()\n",
    "logregg.fit(XX_train, yy_train)\n",
    "\n",
    "Y_predd = logregg.predict(XX_test)\n",
    "\n",
    "acc_logg = round(logregg.score(XX_train, yy_train) * 100, 2)\n",
    "print(round(acc_logg,2,), \"%\")"
   ]
  },
  {
   "cell_type": "code",
   "execution_count": 69,
   "metadata": {},
   "outputs": [
    {
     "ename": "KeyError",
     "evalue": "\"labels ['E/I'] not contained in axis\"",
     "output_type": "error",
     "traceback": [
      "\u001b[1;31m---------------------------------------------------------------------------\u001b[0m",
      "\u001b[1;31mKeyError\u001b[0m                                  Traceback (most recent call last)",
      "\u001b[1;32m<ipython-input-69-f7dd896ef3b3>\u001b[0m in \u001b[0;36m<module>\u001b[1;34m()\u001b[0m\n\u001b[1;32m----> 1\u001b[1;33m \u001b[0mXX\u001b[0m \u001b[1;33m=\u001b[0m \u001b[0mdf\u001b[0m\u001b[1;33m.\u001b[0m\u001b[0mdrop\u001b[0m\u001b[1;33m(\u001b[0m\u001b[1;33m[\u001b[0m\u001b[1;34m'type'\u001b[0m\u001b[1;33m,\u001b[0m\u001b[1;34m'posts'\u001b[0m\u001b[1;33m,\u001b[0m\u001b[1;34m'E/I'\u001b[0m\u001b[1;33m]\u001b[0m\u001b[1;33m,\u001b[0m \u001b[0maxis\u001b[0m\u001b[1;33m=\u001b[0m\u001b[1;36m1\u001b[0m\u001b[1;33m)\u001b[0m\u001b[1;33m.\u001b[0m\u001b[0mvalues\u001b[0m\u001b[1;33m\u001b[0m\u001b[0m\n\u001b[0m\u001b[0;32m      2\u001b[0m \u001b[0myy\u001b[0m \u001b[1;33m=\u001b[0m \u001b[0mdf\u001b[0m\u001b[1;33m[\u001b[0m\u001b[1;34m'E/I'\u001b[0m\u001b[1;33m]\u001b[0m\u001b[1;33m.\u001b[0m\u001b[0mvalues\u001b[0m\u001b[1;33m\u001b[0m\u001b[0m\n\u001b[0;32m      3\u001b[0m \u001b[1;33m\u001b[0m\u001b[0m\n\u001b[0;32m      4\u001b[0m \u001b[0mprint\u001b[0m\u001b[1;33m(\u001b[0m\u001b[0myy\u001b[0m\u001b[1;33m.\u001b[0m\u001b[0mshape\u001b[0m\u001b[1;33m)\u001b[0m\u001b[1;33m\u001b[0m\u001b[0m\n\u001b[0;32m      5\u001b[0m \u001b[0mprint\u001b[0m\u001b[1;33m(\u001b[0m\u001b[0mXX\u001b[0m\u001b[1;33m.\u001b[0m\u001b[0mshape\u001b[0m\u001b[1;33m)\u001b[0m\u001b[1;33m\u001b[0m\u001b[0m\n",
      "\u001b[1;32m~\\Anaconda3\\lib\\site-packages\\pandas\\core\\frame.py\u001b[0m in \u001b[0;36mdrop\u001b[1;34m(self, labels, axis, index, columns, level, inplace, errors)\u001b[0m\n\u001b[0;32m   3692\u001b[0m                                            \u001b[0mindex\u001b[0m\u001b[1;33m=\u001b[0m\u001b[0mindex\u001b[0m\u001b[1;33m,\u001b[0m \u001b[0mcolumns\u001b[0m\u001b[1;33m=\u001b[0m\u001b[0mcolumns\u001b[0m\u001b[1;33m,\u001b[0m\u001b[1;33m\u001b[0m\u001b[0m\n\u001b[0;32m   3693\u001b[0m                                            \u001b[0mlevel\u001b[0m\u001b[1;33m=\u001b[0m\u001b[0mlevel\u001b[0m\u001b[1;33m,\u001b[0m \u001b[0minplace\u001b[0m\u001b[1;33m=\u001b[0m\u001b[0minplace\u001b[0m\u001b[1;33m,\u001b[0m\u001b[1;33m\u001b[0m\u001b[0m\n\u001b[1;32m-> 3694\u001b[1;33m                                            errors=errors)\n\u001b[0m\u001b[0;32m   3695\u001b[0m \u001b[1;33m\u001b[0m\u001b[0m\n\u001b[0;32m   3696\u001b[0m     @rewrite_axis_style_signature('mapper', [('copy', True),\n",
      "\u001b[1;32m~\\Anaconda3\\lib\\site-packages\\pandas\\core\\generic.py\u001b[0m in \u001b[0;36mdrop\u001b[1;34m(self, labels, axis, index, columns, level, inplace, errors)\u001b[0m\n\u001b[0;32m   3106\u001b[0m         \u001b[1;32mfor\u001b[0m \u001b[0maxis\u001b[0m\u001b[1;33m,\u001b[0m \u001b[0mlabels\u001b[0m \u001b[1;32min\u001b[0m \u001b[0maxes\u001b[0m\u001b[1;33m.\u001b[0m\u001b[0mitems\u001b[0m\u001b[1;33m(\u001b[0m\u001b[1;33m)\u001b[0m\u001b[1;33m:\u001b[0m\u001b[1;33m\u001b[0m\u001b[0m\n\u001b[0;32m   3107\u001b[0m             \u001b[1;32mif\u001b[0m \u001b[0mlabels\u001b[0m \u001b[1;32mis\u001b[0m \u001b[1;32mnot\u001b[0m \u001b[1;32mNone\u001b[0m\u001b[1;33m:\u001b[0m\u001b[1;33m\u001b[0m\u001b[0m\n\u001b[1;32m-> 3108\u001b[1;33m                 \u001b[0mobj\u001b[0m \u001b[1;33m=\u001b[0m \u001b[0mobj\u001b[0m\u001b[1;33m.\u001b[0m\u001b[0m_drop_axis\u001b[0m\u001b[1;33m(\u001b[0m\u001b[0mlabels\u001b[0m\u001b[1;33m,\u001b[0m \u001b[0maxis\u001b[0m\u001b[1;33m,\u001b[0m \u001b[0mlevel\u001b[0m\u001b[1;33m=\u001b[0m\u001b[0mlevel\u001b[0m\u001b[1;33m,\u001b[0m \u001b[0merrors\u001b[0m\u001b[1;33m=\u001b[0m\u001b[0merrors\u001b[0m\u001b[1;33m)\u001b[0m\u001b[1;33m\u001b[0m\u001b[0m\n\u001b[0m\u001b[0;32m   3109\u001b[0m \u001b[1;33m\u001b[0m\u001b[0m\n\u001b[0;32m   3110\u001b[0m         \u001b[1;32mif\u001b[0m \u001b[0minplace\u001b[0m\u001b[1;33m:\u001b[0m\u001b[1;33m\u001b[0m\u001b[0m\n",
      "\u001b[1;32m~\\Anaconda3\\lib\\site-packages\\pandas\\core\\generic.py\u001b[0m in \u001b[0;36m_drop_axis\u001b[1;34m(self, labels, axis, level, errors)\u001b[0m\n\u001b[0;32m   3138\u001b[0m                 \u001b[0mnew_axis\u001b[0m \u001b[1;33m=\u001b[0m \u001b[0maxis\u001b[0m\u001b[1;33m.\u001b[0m\u001b[0mdrop\u001b[0m\u001b[1;33m(\u001b[0m\u001b[0mlabels\u001b[0m\u001b[1;33m,\u001b[0m \u001b[0mlevel\u001b[0m\u001b[1;33m=\u001b[0m\u001b[0mlevel\u001b[0m\u001b[1;33m,\u001b[0m \u001b[0merrors\u001b[0m\u001b[1;33m=\u001b[0m\u001b[0merrors\u001b[0m\u001b[1;33m)\u001b[0m\u001b[1;33m\u001b[0m\u001b[0m\n\u001b[0;32m   3139\u001b[0m             \u001b[1;32melse\u001b[0m\u001b[1;33m:\u001b[0m\u001b[1;33m\u001b[0m\u001b[0m\n\u001b[1;32m-> 3140\u001b[1;33m                 \u001b[0mnew_axis\u001b[0m \u001b[1;33m=\u001b[0m \u001b[0maxis\u001b[0m\u001b[1;33m.\u001b[0m\u001b[0mdrop\u001b[0m\u001b[1;33m(\u001b[0m\u001b[0mlabels\u001b[0m\u001b[1;33m,\u001b[0m \u001b[0merrors\u001b[0m\u001b[1;33m=\u001b[0m\u001b[0merrors\u001b[0m\u001b[1;33m)\u001b[0m\u001b[1;33m\u001b[0m\u001b[0m\n\u001b[0m\u001b[0;32m   3141\u001b[0m             \u001b[0mdropped\u001b[0m \u001b[1;33m=\u001b[0m \u001b[0mself\u001b[0m\u001b[1;33m.\u001b[0m\u001b[0mreindex\u001b[0m\u001b[1;33m(\u001b[0m\u001b[1;33m**\u001b[0m\u001b[1;33m{\u001b[0m\u001b[0maxis_name\u001b[0m\u001b[1;33m:\u001b[0m \u001b[0mnew_axis\u001b[0m\u001b[1;33m}\u001b[0m\u001b[1;33m)\u001b[0m\u001b[1;33m\u001b[0m\u001b[0m\n\u001b[0;32m   3142\u001b[0m             \u001b[1;32mtry\u001b[0m\u001b[1;33m:\u001b[0m\u001b[1;33m\u001b[0m\u001b[0m\n",
      "\u001b[1;32m~\\Anaconda3\\lib\\site-packages\\pandas\\core\\indexes\\base.py\u001b[0m in \u001b[0;36mdrop\u001b[1;34m(self, labels, errors)\u001b[0m\n\u001b[0;32m   4385\u001b[0m             \u001b[1;32mif\u001b[0m \u001b[0merrors\u001b[0m \u001b[1;33m!=\u001b[0m \u001b[1;34m'ignore'\u001b[0m\u001b[1;33m:\u001b[0m\u001b[1;33m\u001b[0m\u001b[0m\n\u001b[0;32m   4386\u001b[0m                 raise KeyError(\n\u001b[1;32m-> 4387\u001b[1;33m                     'labels %s not contained in axis' % labels[mask])\n\u001b[0m\u001b[0;32m   4388\u001b[0m             \u001b[0mindexer\u001b[0m \u001b[1;33m=\u001b[0m \u001b[0mindexer\u001b[0m\u001b[1;33m[\u001b[0m\u001b[1;33m~\u001b[0m\u001b[0mmask\u001b[0m\u001b[1;33m]\u001b[0m\u001b[1;33m\u001b[0m\u001b[0m\n\u001b[0;32m   4389\u001b[0m         \u001b[1;32mreturn\u001b[0m \u001b[0mself\u001b[0m\u001b[1;33m.\u001b[0m\u001b[0mdelete\u001b[0m\u001b[1;33m(\u001b[0m\u001b[0mindexer\u001b[0m\u001b[1;33m)\u001b[0m\u001b[1;33m\u001b[0m\u001b[0m\n",
      "\u001b[1;31mKeyError\u001b[0m: \"labels ['E/I'] not contained in axis\""
     ]
    }
   ],
   "source": [
    "XX = df.drop(['type','posts','E/I'], axis=1).values\n",
    "yy = df['E/I'].values\n",
    "\n",
    "print(yy.shape)\n",
    "print(XX.shape)\n",
    "\n",
    "XX_train,XX_test,yy_train,yy_test=train_test_split(XX,yy,test_size = 0.1, random_state=5)\n",
    "\n",
    "logregg = LogisticRegression()\n",
    "logregg.fit(XX_train, yy_train)\n",
    "\n",
    "Y_predd = logregg.predict(XX_test)\n",
    "\n",
    "acc_logg = round(logregg.score(XX_train, yy_train) * 100, 2)\n",
    "print(round(acc_logg,2,), \"%\")"
   ]
  },
  {
   "cell_type": "code",
   "execution_count": 70,
   "metadata": {},
   "outputs": [
    {
     "name": "stdout",
     "output_type": "stream",
     "text": [
      "(8675,)\n",
      "(8675, 9)\n"
     ]
    },
    {
     "ename": "ValueError",
     "evalue": "could not convert string to float: 'P'",
     "output_type": "error",
     "traceback": [
      "\u001b[1;31m---------------------------------------------------------------------------\u001b[0m",
      "\u001b[1;31mValueError\u001b[0m                                Traceback (most recent call last)",
      "\u001b[1;32m<ipython-input-70-26a0c98dae79>\u001b[0m in \u001b[0;36m<module>\u001b[1;34m()\u001b[0m\n\u001b[0;32m      8\u001b[0m \u001b[1;33m\u001b[0m\u001b[0m\n\u001b[0;32m      9\u001b[0m \u001b[0mlogregg\u001b[0m \u001b[1;33m=\u001b[0m \u001b[0mLogisticRegression\u001b[0m\u001b[1;33m(\u001b[0m\u001b[1;33m)\u001b[0m\u001b[1;33m\u001b[0m\u001b[0m\n\u001b[1;32m---> 10\u001b[1;33m \u001b[0mlogregg\u001b[0m\u001b[1;33m.\u001b[0m\u001b[0mfit\u001b[0m\u001b[1;33m(\u001b[0m\u001b[0mXX_train\u001b[0m\u001b[1;33m,\u001b[0m \u001b[0myy_train\u001b[0m\u001b[1;33m)\u001b[0m\u001b[1;33m\u001b[0m\u001b[0m\n\u001b[0m\u001b[0;32m     11\u001b[0m \u001b[1;33m\u001b[0m\u001b[0m\n\u001b[0;32m     12\u001b[0m \u001b[0mY_predd\u001b[0m \u001b[1;33m=\u001b[0m \u001b[0mlogregg\u001b[0m\u001b[1;33m.\u001b[0m\u001b[0mpredict\u001b[0m\u001b[1;33m(\u001b[0m\u001b[0mXX_test\u001b[0m\u001b[1;33m)\u001b[0m\u001b[1;33m\u001b[0m\u001b[0m\n",
      "\u001b[1;32m~\\Anaconda3\\lib\\site-packages\\sklearn\\linear_model\\logistic.py\u001b[0m in \u001b[0;36mfit\u001b[1;34m(self, X, y, sample_weight)\u001b[0m\n\u001b[0;32m   1214\u001b[0m \u001b[1;33m\u001b[0m\u001b[0m\n\u001b[0;32m   1215\u001b[0m         X, y = check_X_y(X, y, accept_sparse='csr', dtype=_dtype,\n\u001b[1;32m-> 1216\u001b[1;33m                          order=\"C\")\n\u001b[0m\u001b[0;32m   1217\u001b[0m         \u001b[0mcheck_classification_targets\u001b[0m\u001b[1;33m(\u001b[0m\u001b[0my\u001b[0m\u001b[1;33m)\u001b[0m\u001b[1;33m\u001b[0m\u001b[0m\n\u001b[0;32m   1218\u001b[0m         \u001b[0mself\u001b[0m\u001b[1;33m.\u001b[0m\u001b[0mclasses_\u001b[0m \u001b[1;33m=\u001b[0m \u001b[0mnp\u001b[0m\u001b[1;33m.\u001b[0m\u001b[0munique\u001b[0m\u001b[1;33m(\u001b[0m\u001b[0my\u001b[0m\u001b[1;33m)\u001b[0m\u001b[1;33m\u001b[0m\u001b[0m\n",
      "\u001b[1;32m~\\Anaconda3\\lib\\site-packages\\sklearn\\utils\\validation.py\u001b[0m in \u001b[0;36mcheck_X_y\u001b[1;34m(X, y, accept_sparse, dtype, order, copy, force_all_finite, ensure_2d, allow_nd, multi_output, ensure_min_samples, ensure_min_features, y_numeric, warn_on_dtype, estimator)\u001b[0m\n\u001b[0;32m    571\u001b[0m     X = check_array(X, accept_sparse, dtype, order, copy, force_all_finite,\n\u001b[0;32m    572\u001b[0m                     \u001b[0mensure_2d\u001b[0m\u001b[1;33m,\u001b[0m \u001b[0mallow_nd\u001b[0m\u001b[1;33m,\u001b[0m \u001b[0mensure_min_samples\u001b[0m\u001b[1;33m,\u001b[0m\u001b[1;33m\u001b[0m\u001b[0m\n\u001b[1;32m--> 573\u001b[1;33m                     ensure_min_features, warn_on_dtype, estimator)\n\u001b[0m\u001b[0;32m    574\u001b[0m     \u001b[1;32mif\u001b[0m \u001b[0mmulti_output\u001b[0m\u001b[1;33m:\u001b[0m\u001b[1;33m\u001b[0m\u001b[0m\n\u001b[0;32m    575\u001b[0m         y = check_array(y, 'csr', force_all_finite=True, ensure_2d=False,\n",
      "\u001b[1;32m~\\Anaconda3\\lib\\site-packages\\sklearn\\utils\\validation.py\u001b[0m in \u001b[0;36mcheck_array\u001b[1;34m(array, accept_sparse, dtype, order, copy, force_all_finite, ensure_2d, allow_nd, ensure_min_samples, ensure_min_features, warn_on_dtype, estimator)\u001b[0m\n\u001b[0;32m    431\u001b[0m                                       force_all_finite)\n\u001b[0;32m    432\u001b[0m     \u001b[1;32melse\u001b[0m\u001b[1;33m:\u001b[0m\u001b[1;33m\u001b[0m\u001b[0m\n\u001b[1;32m--> 433\u001b[1;33m         \u001b[0marray\u001b[0m \u001b[1;33m=\u001b[0m \u001b[0mnp\u001b[0m\u001b[1;33m.\u001b[0m\u001b[0marray\u001b[0m\u001b[1;33m(\u001b[0m\u001b[0marray\u001b[0m\u001b[1;33m,\u001b[0m \u001b[0mdtype\u001b[0m\u001b[1;33m=\u001b[0m\u001b[0mdtype\u001b[0m\u001b[1;33m,\u001b[0m \u001b[0morder\u001b[0m\u001b[1;33m=\u001b[0m\u001b[0morder\u001b[0m\u001b[1;33m,\u001b[0m \u001b[0mcopy\u001b[0m\u001b[1;33m=\u001b[0m\u001b[0mcopy\u001b[0m\u001b[1;33m)\u001b[0m\u001b[1;33m\u001b[0m\u001b[0m\n\u001b[0m\u001b[0;32m    434\u001b[0m \u001b[1;33m\u001b[0m\u001b[0m\n\u001b[0;32m    435\u001b[0m         \u001b[1;32mif\u001b[0m \u001b[0mensure_2d\u001b[0m\u001b[1;33m:\u001b[0m\u001b[1;33m\u001b[0m\u001b[0m\n",
      "\u001b[1;31mValueError\u001b[0m: could not convert string to float: 'P'"
     ]
    }
   ],
   "source": [
    "XX = df.drop(['type','posts','I/E'], axis=1).values\n",
    "yy = df['I/E'].values\n",
    "\n",
    "print(yy.shape)\n",
    "print(XX.shape)\n",
    "\n",
    "XX_train,XX_test,yy_train,yy_test=train_test_split(XX,yy,test_size = 0.1, random_state=5)\n",
    "\n",
    "logregg = LogisticRegression()\n",
    "logregg.fit(XX_train, yy_train)\n",
    "\n",
    "Y_predd = logregg.predict(XX_test)\n",
    "\n",
    "acc_logg = round(logregg.score(XX_train, yy_train) * 100, 2)\n",
    "print(round(acc_logg,2,), \"%\")"
   ]
  },
  {
   "cell_type": "code",
   "execution_count": 71,
   "metadata": {},
   "outputs": [
    {
     "name": "stdout",
     "output_type": "stream",
     "text": [
      "   type                                              posts I/E  \\\n",
      "0  INFJ  'http://www.youtube.com/watch?v=qsXHcwe3krw|||...   I   \n",
      "1  ENTP  'I'm finding the lack of me in these posts ver...   E   \n",
      "2  INTP  'Good one  _____   https://www.youtube.com/wat...   I   \n",
      "3  INTJ  'Dear INTP,   I enjoyed our conversation the o...   I   \n",
      "4  ENTJ  'You're fired.|||That's another silly misconce...   E   \n",
      "\n",
      "   words_per_comment  question_per_comment  ellipsis_per_comment  \\\n",
      "0              11.12                  0.36                  0.30   \n",
      "1              23.40                  0.10                  0.38   \n",
      "2              16.72                  0.24                  0.26   \n",
      "3              21.28                  0.22                  0.52   \n",
      "4              19.34                  0.20                  0.42   \n",
      "\n",
      "   excl_per_comment  music_per_comment  http_per_comment N/S F/T J/P  \n",
      "0              0.06               0.02              0.48   N   F   J  \n",
      "1              0.00               0.00              0.20   N   T   P  \n",
      "2              0.08               0.00              0.10   N   T   P  \n",
      "3              0.06               0.02              0.04   N   T   J  \n",
      "4              0.02               0.02              0.12   N   T   J  \n"
     ]
    }
   ],
   "source": [
    "print(df.head())"
   ]
  },
  {
   "cell_type": "code",
   "execution_count": 72,
   "metadata": {},
   "outputs": [],
   "source": [
    "del df['I/E']\n",
    "del df['N/S']\n",
    "del df['F/T']\n",
    "del df['J/P']"
   ]
  },
  {
   "cell_type": "code",
   "execution_count": 73,
   "metadata": {},
   "outputs": [
    {
     "name": "stdout",
     "output_type": "stream",
     "text": [
      "   type                                              posts  words_per_comment  \\\n",
      "0  INFJ  'http://www.youtube.com/watch?v=qsXHcwe3krw|||...              11.12   \n",
      "1  ENTP  'I'm finding the lack of me in these posts ver...              23.40   \n",
      "2  INTP  'Good one  _____   https://www.youtube.com/wat...              16.72   \n",
      "3  INTJ  'Dear INTP,   I enjoyed our conversation the o...              21.28   \n",
      "4  ENTJ  'You're fired.|||That's another silly misconce...              19.34   \n",
      "\n",
      "   question_per_comment  ellipsis_per_comment  excl_per_comment  \\\n",
      "0                  0.36                  0.30              0.06   \n",
      "1                  0.10                  0.38              0.00   \n",
      "2                  0.24                  0.26              0.08   \n",
      "3                  0.22                  0.52              0.06   \n",
      "4                  0.20                  0.42              0.02   \n",
      "\n",
      "   music_per_comment  http_per_comment  \n",
      "0               0.02              0.48  \n",
      "1               0.00              0.20  \n",
      "2               0.00              0.10  \n",
      "3               0.02              0.04  \n",
      "4               0.02              0.12  \n"
     ]
    }
   ],
   "source": [
    "print(df.head())"
   ]
  },
  {
   "cell_type": "code",
   "execution_count": 74,
   "metadata": {},
   "outputs": [],
   "source": [
    "df['F/T'] = df['type'].str[2]"
   ]
  },
  {
   "cell_type": "code",
   "execution_count": 75,
   "metadata": {},
   "outputs": [],
   "source": [
    "del df['F/T']\n"
   ]
  },
  {
   "cell_type": "code",
   "execution_count": 76,
   "metadata": {},
   "outputs": [
    {
     "name": "stdout",
     "output_type": "stream",
     "text": [
      "   type                                              posts  words_per_comment  \\\n",
      "0  INFJ  'http://www.youtube.com/watch?v=qsXHcwe3krw|||...              11.12   \n",
      "1  ENTP  'I'm finding the lack of me in these posts ver...              23.40   \n",
      "2  INTP  'Good one  _____   https://www.youtube.com/wat...              16.72   \n",
      "3  INTJ  'Dear INTP,   I enjoyed our conversation the o...              21.28   \n",
      "4  ENTJ  'You're fired.|||That's another silly misconce...              19.34   \n",
      "\n",
      "   question_per_comment  ellipsis_per_comment  excl_per_comment  \\\n",
      "0                  0.36                  0.30              0.06   \n",
      "1                  0.10                  0.38              0.00   \n",
      "2                  0.24                  0.26              0.08   \n",
      "3                  0.22                  0.52              0.06   \n",
      "4                  0.20                  0.42              0.02   \n",
      "\n",
      "   music_per_comment  http_per_comment  I/E  N/S  T/F  J/P  \n",
      "0               0.02              0.48    0    0    1    0  \n",
      "1               0.00              0.20    1    0    0    1  \n",
      "2               0.00              0.10    0    0    0    1  \n",
      "3               0.02              0.04    0    0    0    0  \n",
      "4               0.02              0.12    1    0    0    0  \n"
     ]
    }
   ],
   "source": [
    "map1 = {\"I\": 0, \"E\": 1}\n",
    "map2 = {\"N\": 0, \"S\": 1}\n",
    "map3 = {\"T\": 0, \"F\": 1}\n",
    "map4 = {\"J\": 0, \"P\": 1}\n",
    "df['I/E'] = df['type'].astype(str).str[0]\n",
    "df['I/E'] = df['I/E'].map(map1)\n",
    "df['N/S'] = df['type'].astype(str).str[1]\n",
    "df['N/S'] = df['N/S'].map(map2)\n",
    "df['T/F'] = df['type'].astype(str).str[2]\n",
    "df['T/F'] = df['T/F'].map(map3)\n",
    "df['J/P'] = df['type'].astype(str).str[3]\n",
    "df['J/P'] = df['J/P'].map(map4)\n",
    "print(df.head())"
   ]
  },
  {
   "cell_type": "code",
   "execution_count": 86,
   "metadata": {},
   "outputs": [
    {
     "name": "stdout",
     "output_type": "stream",
     "text": [
      "(8675,)\n",
      "(8675, 9)\n",
      "77.1 %\n"
     ]
    }
   ],
   "source": [
    "XX = df.drop(['type','posts','I/E'], axis=1).values\n",
    "yy = df['I/E'].values\n",
    "\n",
    "print(yy.shape)\n",
    "print(XX.shape)\n",
    "\n",
    "XX_train,XX_test,yy_train,yy_test=train_test_split(XX,yy,test_size = 0.1, random_state=5)\n",
    "\n",
    "logregg = LogisticRegression()\n",
    "logregg.fit(XX_train, yy_train)\n",
    "\n",
    "Y_predd = logregg.predict(XX_test)\n",
    "\n",
    "acc_logg = round(logregg.score(XX_train, yy_train) * 100, 2)\n",
    "print(round(acc_logg,2,), \"%\")"
   ]
  },
  {
   "cell_type": "code",
   "execution_count": 78,
   "metadata": {},
   "outputs": [
    {
     "name": "stdout",
     "output_type": "stream",
     "text": [
      "(8675,)\n",
      "(8675, 9)\n",
      "[0 0 0 1 0 0 0 1 0 0 0 0 0 0 0 0 1 0 0 0 0 0 0 0 0 0 0 0 1 0 0 0 0 0 0 0 0\n",
      " 0 0 0 0 0 0 0 0 0 0 0 0 0 0 0 0 0 0 0 0 0 0 0 0 0 0 0 0 0 0 0 0 0 0 0 0 1\n",
      " 0 0 0 0 0 0 0 0 0 0 0 0 0 0 0 0 0 0 0 0 0 0 0 0 0 0 0 0 0 0 0 0 0 0 0 0 0\n",
      " 0 0 0 0 0 0 0 0 0 0 0 0 0 0 0 0 0 0 0 0 0 0 0 0 0 0 0 0 0 0 0 0 0 0 0 0 0\n",
      " 0 0 0 0 0 0 0 0 0 0 0 0 0 0 0 0 0 0 0 0 0 0 0 0 0 0 0 0 0 0 0 0 0 0 0 0 0\n",
      " 0 0 0 0 0 0 0 0 0 0 0 0 0 0 0 0 0 0 0 0 0 0 0 0 0 0 0 0 0 0 0 0 0 0 0 0 0\n",
      " 0 0 0 0 0 0 0 0 0 0 0 0 0 0 0 0 0 0 0 0 0 0 0 0 0 0 0 0 0 0 0 0 0 0 0 0 0\n",
      " 0 0 0 0 0 0 0 0 0 0 0 0 0 0 0 0 0 0 0 0 0 0 0 0 0 0 1 0 0 0 0 0 0 0 0 0 0\n",
      " 0 0 0 0 0 0 0 0 0 0 0 0 0 0 0 0 0 0 0 0 0 0 0 0 0 0 0 0 0 0 0 0 0 0 0 0 0\n",
      " 0 0 0 0 0 0 0 0 0 0 0 0 0 0 0 0 0 0 0 0 0 1 0 0 0 0 0 0 0 0 0 0 0 0 0 0 0\n",
      " 0 0 0 0 0 0 0 0 0 0 0 0 0 0 0 0 0 0 0 0 0 0 0 0 0 1 0 1 0 0 0 0 0 0 0 0 0\n",
      " 0 0 0 0 0 0 0 0 0 0 0 0 0 0 0 0 0 0 0 0 0 0 0 0 0 0 0 0 0 0 0 0 0 0 0 0 0\n",
      " 0 0 0 0 0 0 1 0 0 0 0 0 0 0 0 0 0 0 0 0 0 0 0 0 0 0 0 0 0 0 0 0 0 0 0 1 0\n",
      " 0 0 0 0 0 0 0 0 0 0 0 0 0 0 0 0 0 0 0 1 0 0 0 0 0 0 0 0 0 0 0 0 0 0 0 0 0\n",
      " 0 0 0 0 0 0 0 0 0 0 0 0 0 0 0 0 0 0 0 0 0 0 0 0 0 0 0 0 0 0 0 0 0 0 0 0 0\n",
      " 0 0 0 0 0 0 0 0 0 0 0 0 0 0 0 0 0 0 0 0 0 0 0 0 0 0 0 0 0 0 0 0 0 0 0 0 0\n",
      " 0 0 0 0 0 0 0 0 0 0 0 0 0 0 0 0 0 0 0 0 0 0 0 0 0 0 0 0 0 0 0 0 0 1 0 0 0\n",
      " 0 0 0 0 0 0 0 0 0 0 0 0 0 0 0 0 0 0 0 0 0 0 0 0 0 0 0 0 0 0 0 1 0 0 0 0 0\n",
      " 0 0 0 0 0 0 0 0 0 0 0 0 0 0 0 0 0 0 0 0 0 0 0 0 0 0 0 0 0 0 0 0 0 0 0 0 0\n",
      " 0 0 0 0 0 0 0 0 0 0 0 0 0 0 0 0 0 0 0 0 0 1 0 0 0 0 0 0 0 0 0 0 0 0 0 0 0\n",
      " 0 0 0 0 0 0 0 0 0 0 0 0 0 0 0 0 0 0 0 0 0 0 0 0 0 0 0 0 0 0 0 0 0 0 0 0 0\n",
      " 0 0 0 0 0 0 0 0 0 0 0 0 0 0 0 0 0 0 0 0 0 0 0 0 0 0 0 0 0 0 0 0 0 0 0 0 0\n",
      " 0 0 0 0 0 0 0 0 0 0 0 0 0 0 0 0 0 0 0 0 0 0 0 0 0 0 0 0 0 0 0 0 0 0 0 0 0\n",
      " 0 0 0 0 0 0 0 0 0 0 0 0 0 0 0 0 0]\n",
      "77.1 %\n"
     ]
    }
   ],
   "source": [
    "XX = df.drop(['type','posts','I/E'], axis=1).values\n",
    "yy = df['I/E'].values\n",
    "\n",
    "print(yy.shape)\n",
    "print(XX.shape)\n",
    "\n",
    "XX_train,XX_test,yy_train,yy_test=train_test_split(XX,yy,test_size = 0.1, random_state=5)\n",
    "\n",
    "logregg = LogisticRegression()\n",
    "logregg.fit(XX_train, yy_train)\n",
    "\n",
    "Y_predd = logregg.predict(XX_test)\n",
    "print(Y_predd)\n",
    "\n",
    "acc_logg = round(logregg.score(XX_train, yy_train) * 100, 2)\n",
    "print(round(acc_logg,2,), \"%\")"
   ]
  },
  {
   "cell_type": "code",
   "execution_count": 79,
   "metadata": {},
   "outputs": [
    {
     "name": "stdout",
     "output_type": "stream",
     "text": [
      "(8675,)\n",
      "(8675, 9)\n",
      "[[33.72  0.14  1.26 ...  0.    1.    1.  ]\n",
      " [25.38  0.12  0.48 ...  0.    0.    1.  ]\n",
      " [13.6   0.44  0.28 ...  0.    1.    1.  ]\n",
      " ...\n",
      " [21.2   0.48  0.5  ...  1.    0.    0.  ]\n",
      " [25.66  0.06  0.6  ...  0.    1.    0.  ]\n",
      " [16.62  0.38  0.38 ...  0.    0.    1.  ]]\n",
      "77.1 %\n"
     ]
    }
   ],
   "source": [
    "XX = df.drop(['type','posts','I/E'], axis=1).values\n",
    "yy = df['I/E'].values\n",
    "\n",
    "print(yy.shape)\n",
    "print(XX.shape)\n",
    "\n",
    "XX_train,XX_test,yy_train,yy_test=train_test_split(XX,yy,test_size = 0.1, random_state=5)\n",
    "\n",
    "logregg = LogisticRegression()\n",
    "logregg.fit(XX_train, yy_train)\n",
    "\n",
    "Y_predd = logregg.predict(XX_test)\n",
    "print(XX_test)\n",
    "\n",
    "acc_logg = round(logregg.score(XX_train, yy_train) * 100, 2)\n",
    "print(round(acc_logg,2,), \"%\")"
   ]
  },
  {
   "cell_type": "code",
   "execution_count": 80,
   "metadata": {},
   "outputs": [
    {
     "name": "stdout",
     "output_type": "stream",
     "text": [
      "(8675,)\n",
      "(8675, 9)\n",
      "[[33.72  0.14  1.26 ...  0.    1.    1.  ]\n",
      " [25.38  0.12  0.48 ...  0.    0.    1.  ]\n",
      " [13.6   0.44  0.28 ...  0.    1.    1.  ]\n",
      " ...\n",
      " [21.2   0.48  0.5  ...  1.    0.    0.  ]\n",
      " [25.66  0.06  0.6  ...  0.    1.    0.  ]\n",
      " [16.62  0.38  0.38 ...  0.    0.    1.  ]]\n",
      "77.1 %\n",
      "77.1\n"
     ]
    }
   ],
   "source": [
    "XX = df.drop(['type','posts','I/E'], axis=1).values\n",
    "yy = df['I/E'].values\n",
    "\n",
    "print(yy.shape)\n",
    "print(XX.shape)\n",
    "\n",
    "XX_train,XX_test,yy_train,yy_test=train_test_split(XX,yy,test_size = 0.1, random_state=5)\n",
    "\n",
    "logregg = LogisticRegression()\n",
    "logregg.fit(XX_train, yy_train)\n",
    "\n",
    "Y_predd = logregg.predict(XX_test)\n",
    "print(XX_test)\n",
    "\n",
    "acc_logg = round(logregg.score(XX_train, yy_train) * 100, 2)\n",
    "print(round(acc_logg,2,), \"%\")\n",
    "print(acc_logg)"
   ]
  },
  {
   "cell_type": "code",
   "execution_count": 85,
   "metadata": {},
   "outputs": [
    {
     "name": "stdout",
     "output_type": "stream",
     "text": [
      "[[11.12  0.36  0.3  ...  0.    1.    0.  ]\n",
      " [23.4   0.1   0.38 ...  0.    0.    1.  ]\n",
      " [16.72  0.24  0.26 ...  0.    0.    1.  ]\n",
      " ...\n",
      " [18.96  0.18  0.38 ...  0.    0.    1.  ]\n",
      " [34.1   0.18  0.94 ...  0.    1.    1.  ]\n",
      " [27.22  0.12  0.48 ...  0.    1.    1.  ]]\n",
      "[0 1 0 ... 0 0 0]\n",
      "(8675,)\n",
      "(8675, 9)\n",
      "[[33.72  0.14  1.26 ...  0.    1.    1.  ]\n",
      " [25.38  0.12  0.48 ...  0.    0.    1.  ]\n",
      " [13.6   0.44  0.28 ...  0.    1.    1.  ]\n",
      " ...\n",
      " [21.2   0.48  0.5  ...  1.    0.    0.  ]\n",
      " [25.66  0.06  0.6  ...  0.    1.    0.  ]\n",
      " [16.62  0.38  0.38 ...  0.    0.    1.  ]]\n",
      "[0 0 0 1 0 0 0 1 0 0 0 0 0 0 0 0 1 0 0 0 0 0 0 0 0 0 0 0 1 0 0 0 0 0 0 0 0\n",
      " 0 0 0 0 0 0 0 0 0 0 0 0 0 0 0 0 0 0 0 0 0 0 0 0 0 0 0 0 0 0 0 0 0 0 0 0 1\n",
      " 0 0 0 0 0 0 0 0 0 0 0 0 0 0 0 0 0 0 0 0 0 0 0 0 0 0 0 0 0 0 0 0 0 0 0 0 0\n",
      " 0 0 0 0 0 0 0 0 0 0 0 0 0 0 0 0 0 0 0 0 0 0 0 0 0 0 0 0 0 0 0 0 0 0 0 0 0\n",
      " 0 0 0 0 0 0 0 0 0 0 0 0 0 0 0 0 0 0 0 0 0 0 0 0 0 0 0 0 0 0 0 0 0 0 0 0 0\n",
      " 0 0 0 0 0 0 0 0 0 0 0 0 0 0 0 0 0 0 0 0 0 0 0 0 0 0 0 0 0 0 0 0 0 0 0 0 0\n",
      " 0 0 0 0 0 0 0 0 0 0 0 0 0 0 0 0 0 0 0 0 0 0 0 0 0 0 0 0 0 0 0 0 0 0 0 0 0\n",
      " 0 0 0 0 0 0 0 0 0 0 0 0 0 0 0 0 0 0 0 0 0 0 0 0 0 0 1 0 0 0 0 0 0 0 0 0 0\n",
      " 0 0 0 0 0 0 0 0 0 0 0 0 0 0 0 0 0 0 0 0 0 0 0 0 0 0 0 0 0 0 0 0 0 0 0 0 0\n",
      " 0 0 0 0 0 0 0 0 0 0 0 0 0 0 0 0 0 0 0 0 0 1 0 0 0 0 0 0 0 0 0 0 0 0 0 0 0\n",
      " 0 0 0 0 0 0 0 0 0 0 0 0 0 0 0 0 0 0 0 0 0 0 0 0 0 1 0 1 0 0 0 0 0 0 0 0 0\n",
      " 0 0 0 0 0 0 0 0 0 0 0 0 0 0 0 0 0 0 0 0 0 0 0 0 0 0 0 0 0 0 0 0 0 0 0 0 0\n",
      " 0 0 0 0 0 0 1 0 0 0 0 0 0 0 0 0 0 0 0 0 0 0 0 0 0 0 0 0 0 0 0 0 0 0 0 1 0\n",
      " 0 0 0 0 0 0 0 0 0 0 0 0 0 0 0 0 0 0 0 1 0 0 0 0 0 0 0 0 0 0 0 0 0 0 0 0 0\n",
      " 0 0 0 0 0 0 0 0 0 0 0 0 0 0 0 0 0 0 0 0 0 0 0 0 0 0 0 0 0 0 0 0 0 0 0 0 0\n",
      " 0 0 0 0 0 0 0 0 0 0 0 0 0 0 0 0 0 0 0 0 0 0 0 0 0 0 0 0 0 0 0 0 0 0 0 0 0\n",
      " 0 0 0 0 0 0 0 0 0 0 0 0 0 0 0 0 0 0 0 0 0 0 0 0 0 0 0 0 0 0 0 0 0 1 0 0 0\n",
      " 0 0 0 0 0 0 0 0 0 0 0 0 0 0 0 0 0 0 0 0 0 0 0 0 0 0 0 0 0 0 0 1 0 0 0 0 0\n",
      " 0 0 0 0 0 0 0 0 0 0 0 0 0 0 0 0 0 0 0 0 0 0 0 0 0 0 0 0 0 0 0 0 0 0 0 0 0\n",
      " 0 0 0 0 0 0 0 0 0 0 0 0 0 0 0 0 0 0 0 0 0 1 0 0 0 0 0 0 0 0 0 0 0 0 0 0 0\n",
      " 0 0 0 0 0 0 0 0 0 0 0 0 0 0 0 0 0 0 0 0 0 0 0 0 0 0 0 0 0 0 0 0 0 0 0 0 0\n",
      " 0 0 0 0 0 0 0 0 0 0 0 0 0 0 0 0 0 0 0 0 0 0 0 0 0 0 0 0 0 0 0 0 0 0 0 0 0\n",
      " 0 0 0 0 0 0 0 0 0 0 0 0 0 0 0 0 0 0 0 0 0 0 0 0 0 0 0 0 0 0 0 0 0 0 0 0 0\n",
      " 0 0 0 0 0 0 0 0 0 0 0 0 0 0 0 0 0]\n",
      "77.1\n",
      "77.1 %\n"
     ]
    }
   ],
   "source": [
    "XX = df.drop(['type','posts','I/E'], axis=1).values\n",
    "yy = df['I/E'].values\n",
    "print(XX)\n",
    "print(yy)\n",
    "\n",
    "print(yy.shape)\n",
    "print(XX.shape)\n",
    "\n",
    "XX_train,XX_test,yy_train,yy_test=train_test_split(XX,yy,test_size = 0.1, random_state=5)\n",
    "\n",
    "logregg = LogisticRegression()\n",
    "logregg.fit(XX_train, yy_train)\n",
    "\n",
    "Y_predd = logregg.predict(XX_test)\n",
    "print(XX_test)\n",
    "print(Y_predd)\n",
    "acc_logg = round(logregg.score(XX_train, yy_train) * 100, 2)\n",
    "print(acc_logg)\n",
    "print(round(acc_logg,2,), \"%\")"
   ]
  },
  {
   "cell_type": "code",
   "execution_count": 87,
   "metadata": {},
   "outputs": [
    {
     "name": "stdout",
     "output_type": "stream",
     "text": [
      "[[11.12  0.36  0.3  ...  0.    1.    0.  ]\n",
      " [23.4   0.1   0.38 ...  0.    0.    1.  ]\n",
      " [16.72  0.24  0.26 ...  0.    0.    1.  ]\n",
      " ...\n",
      " [18.96  0.18  0.38 ...  0.    0.    1.  ]\n",
      " [34.1   0.18  0.94 ...  0.    1.    1.  ]\n",
      " [27.22  0.12  0.48 ...  0.    1.    1.  ]]\n",
      "[0 1 0 ... 0 0 0]\n",
      "(8675,)\n",
      "(8675, 9)\n",
      "[[33.72  0.14  1.26 ...  0.    1.    1.  ]\n",
      " [25.38  0.12  0.48 ...  0.    0.    1.  ]\n",
      " [13.6   0.44  0.28 ...  0.    1.    1.  ]\n",
      " ...\n",
      " [21.2   0.48  0.5  ...  1.    0.    0.  ]\n",
      " [25.66  0.06  0.6  ...  0.    1.    0.  ]\n",
      " [16.62  0.38  0.38 ...  0.    0.    1.  ]]\n",
      "[0 0 0 1 0 0 0 1 0 0 0 0 0 0 0 0 1 0 0 0 0 0 0 0 0 0 0 0 1 0 0 0 0 0 0 0 0\n",
      " 0 0 0 0 0 0 0 0 0 0 0 0 0 0 0 0 0 0 0 0 0 0 0 0 0 0 0 0 0 0 0 0 0 0 0 0 1\n",
      " 0 0 0 0 0 0 0 0 0 0 0 0 0 0 0 0 0 0 0 0 0 0 0 0 0 0 0 0 0 0 0 0 0 0 0 0 0\n",
      " 0 0 0 0 0 0 0 0 0 0 0 0 0 0 0 0 0 0 0 0 0 0 0 0 0 0 0 0 0 0 0 0 0 0 0 0 0\n",
      " 0 0 0 0 0 0 0 0 0 0 0 0 0 0 0 0 0 0 0 0 0 0 0 0 0 0 0 0 0 0 0 0 0 0 0 0 0\n",
      " 0 0 0 0 0 0 0 0 0 0 0 0 0 0 0 0 0 0 0 0 0 0 0 0 0 0 0 0 0 0 0 0 0 0 0 0 0\n",
      " 0 0 0 0 0 0 0 0 0 0 0 0 0 0 0 0 0 0 0 0 0 0 0 0 0 0 0 0 0 0 0 0 0 0 0 0 0\n",
      " 0 0 0 0 0 0 0 0 0 0 0 0 0 0 0 0 0 0 0 0 0 0 0 0 0 0 1 0 0 0 0 0 0 0 0 0 0\n",
      " 0 0 0 0 0 0 0 0 0 0 0 0 0 0 0 0 0 0 0 0 0 0 0 0 0 0 0 0 0 0 0 0 0 0 0 0 0\n",
      " 0 0 0 0 0 0 0 0 0 0 0 0 0 0 0 0 0 0 0 0 0 1 0 0 0 0 0 0 0 0 0 0 0 0 0 0 0\n",
      " 0 0 0 0 0 0 0 0 0 0 0 0 0 0 0 0 0 0 0 0 0 0 0 0 0 1 0 1 0 0 0 0 0 0 0 0 0\n",
      " 0 0 0 0 0 0 0 0 0 0 0 0 0 0 0 0 0 0 0 0 0 0 0 0 0 0 0 0 0 0 0 0 0 0 0 0 0\n",
      " 0 0 0 0 0 0 1 0 0 0 0 0 0 0 0 0 0 0 0 0 0 0 0 0 0 0 0 0 0 0 0 0 0 0 0 1 0\n",
      " 0 0 0 0 0 0 0 0 0 0 0 0 0 0 0 0 0 0 0 1 0 0 0 0 0 0 0 0 0 0 0 0 0 0 0 0 0\n",
      " 0 0 0 0 0 0 0 0 0 0 0 0 0 0 0 0 0 0 0 0 0 0 0 0 0 0 0 0 0 0 0 0 0 0 0 0 0\n",
      " 0 0 0 0 0 0 0 0 0 0 0 0 0 0 0 0 0 0 0 0 0 0 0 0 0 0 0 0 0 0 0 0 0 0 0 0 0\n",
      " 0 0 0 0 0 0 0 0 0 0 0 0 0 0 0 0 0 0 0 0 0 0 0 0 0 0 0 0 0 0 0 0 0 1 0 0 0\n",
      " 0 0 0 0 0 0 0 0 0 0 0 0 0 0 0 0 0 0 0 0 0 0 0 0 0 0 0 0 0 0 0 1 0 0 0 0 0\n",
      " 0 0 0 0 0 0 0 0 0 0 0 0 0 0 0 0 0 0 0 0 0 0 0 0 0 0 0 0 0 0 0 0 0 0 0 0 0\n",
      " 0 0 0 0 0 0 0 0 0 0 0 0 0 0 0 0 0 0 0 0 0 1 0 0 0 0 0 0 0 0 0 0 0 0 0 0 0\n",
      " 0 0 0 0 0 0 0 0 0 0 0 0 0 0 0 0 0 0 0 0 0 0 0 0 0 0 0 0 0 0 0 0 0 0 0 0 0\n",
      " 0 0 0 0 0 0 0 0 0 0 0 0 0 0 0 0 0 0 0 0 0 0 0 0 0 0 0 0 0 0 0 0 0 0 0 0 0\n",
      " 0 0 0 0 0 0 0 0 0 0 0 0 0 0 0 0 0 0 0 0 0 0 0 0 0 0 0 0 0 0 0 0 0 0 0 0 0\n",
      " 0 0 0 0 0 0 0 0 0 0 0 0 0 0 0 0 0]\n",
      "77.1\n",
      "77.1 %\n"
     ]
    },
    {
     "ename": "ValueError",
     "evalue": "X has 1 features per sample; expecting 9",
     "output_type": "error",
     "traceback": [
      "\u001b[1;31m---------------------------------------------------------------------------\u001b[0m",
      "\u001b[1;31mValueError\u001b[0m                                Traceback (most recent call last)",
      "\u001b[1;32m<ipython-input-87-bd83b53a3bb0>\u001b[0m in \u001b[0;36m<module>\u001b[1;34m()\u001b[0m\n\u001b[0;32m     18\u001b[0m \u001b[0mprint\u001b[0m\u001b[1;33m(\u001b[0m\u001b[0macc_logg\u001b[0m\u001b[1;33m)\u001b[0m\u001b[1;33m\u001b[0m\u001b[0m\n\u001b[0;32m     19\u001b[0m \u001b[0mprint\u001b[0m\u001b[1;33m(\u001b[0m\u001b[0mround\u001b[0m\u001b[1;33m(\u001b[0m\u001b[0macc_logg\u001b[0m\u001b[1;33m,\u001b[0m\u001b[1;36m2\u001b[0m\u001b[1;33m,\u001b[0m\u001b[1;33m)\u001b[0m\u001b[1;33m,\u001b[0m \u001b[1;34m\"%\"\u001b[0m\u001b[1;33m)\u001b[0m\u001b[1;33m\u001b[0m\u001b[0m\n\u001b[1;32m---> 20\u001b[1;33m \u001b[0mpred\u001b[0m \u001b[1;33m=\u001b[0m \u001b[0mlogregg\u001b[0m\u001b[1;33m.\u001b[0m\u001b[0mpredict\u001b[0m\u001b[1;33m(\u001b[0m\u001b[1;34m\"helloooooooo\"\u001b[0m\u001b[1;33m)\u001b[0m\u001b[1;33m\u001b[0m\u001b[0m\n\u001b[0m",
      "\u001b[1;32m~\\Anaconda3\\lib\\site-packages\\sklearn\\linear_model\\base.py\u001b[0m in \u001b[0;36mpredict\u001b[1;34m(self, X)\u001b[0m\n\u001b[0;32m    322\u001b[0m             \u001b[0mPredicted\u001b[0m \u001b[1;32mclass\u001b[0m \u001b[0mlabel\u001b[0m \u001b[0mper\u001b[0m \u001b[0msample\u001b[0m\u001b[1;33m.\u001b[0m\u001b[1;33m\u001b[0m\u001b[0m\n\u001b[0;32m    323\u001b[0m         \"\"\"\n\u001b[1;32m--> 324\u001b[1;33m         \u001b[0mscores\u001b[0m \u001b[1;33m=\u001b[0m \u001b[0mself\u001b[0m\u001b[1;33m.\u001b[0m\u001b[0mdecision_function\u001b[0m\u001b[1;33m(\u001b[0m\u001b[0mX\u001b[0m\u001b[1;33m)\u001b[0m\u001b[1;33m\u001b[0m\u001b[0m\n\u001b[0m\u001b[0;32m    325\u001b[0m         \u001b[1;32mif\u001b[0m \u001b[0mlen\u001b[0m\u001b[1;33m(\u001b[0m\u001b[0mscores\u001b[0m\u001b[1;33m.\u001b[0m\u001b[0mshape\u001b[0m\u001b[1;33m)\u001b[0m \u001b[1;33m==\u001b[0m \u001b[1;36m1\u001b[0m\u001b[1;33m:\u001b[0m\u001b[1;33m\u001b[0m\u001b[0m\n\u001b[0;32m    326\u001b[0m             \u001b[0mindices\u001b[0m \u001b[1;33m=\u001b[0m \u001b[1;33m(\u001b[0m\u001b[0mscores\u001b[0m \u001b[1;33m>\u001b[0m \u001b[1;36m0\u001b[0m\u001b[1;33m)\u001b[0m\u001b[1;33m.\u001b[0m\u001b[0mastype\u001b[0m\u001b[1;33m(\u001b[0m\u001b[0mnp\u001b[0m\u001b[1;33m.\u001b[0m\u001b[0mint\u001b[0m\u001b[1;33m)\u001b[0m\u001b[1;33m\u001b[0m\u001b[0m\n",
      "\u001b[1;32m~\\Anaconda3\\lib\\site-packages\\sklearn\\linear_model\\base.py\u001b[0m in \u001b[0;36mdecision_function\u001b[1;34m(self, X)\u001b[0m\n\u001b[0;32m    303\u001b[0m         \u001b[1;32mif\u001b[0m \u001b[0mX\u001b[0m\u001b[1;33m.\u001b[0m\u001b[0mshape\u001b[0m\u001b[1;33m[\u001b[0m\u001b[1;36m1\u001b[0m\u001b[1;33m]\u001b[0m \u001b[1;33m!=\u001b[0m \u001b[0mn_features\u001b[0m\u001b[1;33m:\u001b[0m\u001b[1;33m\u001b[0m\u001b[0m\n\u001b[0;32m    304\u001b[0m             raise ValueError(\"X has %d features per sample; expecting %d\"\n\u001b[1;32m--> 305\u001b[1;33m                              % (X.shape[1], n_features))\n\u001b[0m\u001b[0;32m    306\u001b[0m \u001b[1;33m\u001b[0m\u001b[0m\n\u001b[0;32m    307\u001b[0m         scores = safe_sparse_dot(X, self.coef_.T,\n",
      "\u001b[1;31mValueError\u001b[0m: X has 1 features per sample; expecting 9"
     ]
    }
   ],
   "source": [
    "XX = df.drop(['type','posts','I/E'], axis=1).values\n",
    "yy = df['I/E'].values\n",
    "print(XX)\n",
    "print(yy)\n",
    "\n",
    "print(yy.shape)\n",
    "print(XX.shape)\n",
    "\n",
    "XX_train,XX_test,yy_train,yy_test=train_test_split(XX,yy,test_size = 0.1, random_state=5)\n",
    "\n",
    "logregg = LogisticRegression()\n",
    "logregg.fit(XX_train, yy_train)\n",
    "\n",
    "Y_predd = logregg.predict(XX_test)\n",
    "print(XX_test)\n",
    "print(Y_predd)\n",
    "acc_logg = round(logregg.score(XX_train, yy_train) * 100, 2)\n",
    "print(acc_logg)\n",
    "print(round(acc_logg,2,), \"%\")\n",
    "pred = logregg.predict(\"helloooooooo\")"
   ]
  },
  {
   "cell_type": "code",
   "execution_count": 89,
   "metadata": {},
   "outputs": [
    {
     "name": "stdout",
     "output_type": "stream",
     "text": [
      "[[11.12  0.36  0.3  ...  0.    1.    0.  ]\n",
      " [23.4   0.1   0.38 ...  0.    0.    1.  ]\n",
      " [16.72  0.24  0.26 ...  0.    0.    1.  ]\n",
      " ...\n",
      " [18.96  0.18  0.38 ...  0.    0.    1.  ]\n",
      " [34.1   0.18  0.94 ...  0.    1.    1.  ]\n",
      " [27.22  0.12  0.48 ...  0.    1.    1.  ]]\n",
      "[0 1 0 ... 0 0 0]\n",
      "(8675,)\n",
      "(8675, 9)\n",
      "77.1 %\n"
     ]
    }
   ],
   "source": [
    "XX = df.drop(['type','posts','I/E'], axis=1).values\n",
    "yy = df['I/E'].values\n",
    "print(XX)\n",
    "print(yy)\n",
    "\n",
    "print(yy.shape)\n",
    "print(XX.shape)\n",
    "\n",
    "XX_train,XX_test,yy_train,yy_test=train_test_split(XX,yy,test_size = 0.1, random_state=5)\n",
    "\n",
    "logregg = LogisticRegression()\n",
    "logregg.fit(XX_train, yy_train)\n",
    "\n",
    "Y_predd = logregg.predict(XX_test)\n",
    "\n",
    "acc_logg = round(logregg.score(XX_train, yy_train) * 100, 2)\n",
    "print(round(acc_logg,2,), \"%\")\n"
   ]
  },
  {
   "cell_type": "code",
   "execution_count": 90,
   "metadata": {},
   "outputs": [
    {
     "name": "stdout",
     "output_type": "stream",
     "text": [
      "   type                                              posts  words_per_comment  \\\n",
      "0  INFJ  'http://www.youtube.com/watch?v=qsXHcwe3krw|||...              11.12   \n",
      "1  ENTP  'I'm finding the lack of me in these posts ver...              23.40   \n",
      "2  INTP  'Good one  _____   https://www.youtube.com/wat...              16.72   \n",
      "3  INTJ  'Dear INTP,   I enjoyed our conversation the o...              21.28   \n",
      "4  ENTJ  'You're fired.|||That's another silly misconce...              19.34   \n",
      "5  INTJ  '18/37 @.@|||Science  is not perfect. No scien...              29.82   \n",
      "6  INFJ  'No, I can't draw on my own nails (haha). Thos...              26.58   \n",
      "7  INTJ  'I tend to build up a collection of things on ...              24.46   \n",
      "8  INFJ  I'm not sure, that's a good question. The dist...              14.76   \n",
      "9  INTP  'https://www.youtube.com/watch?v=w8-egj0y8Qs||...              24.66   \n",
      "\n",
      "   question_per_comment  ellipsis_per_comment  excl_per_comment  \\\n",
      "0                  0.36                  0.30              0.06   \n",
      "1                  0.10                  0.38              0.00   \n",
      "2                  0.24                  0.26              0.08   \n",
      "3                  0.22                  0.52              0.06   \n",
      "4                  0.20                  0.42              0.02   \n",
      "5                  0.20                  0.78              0.00   \n",
      "6                  0.26                  0.74              0.06   \n",
      "7                  0.70                  0.56              0.00   \n",
      "8                  0.44                  0.34              0.02   \n",
      "9                  0.26                  0.48              0.06   \n",
      "\n",
      "   music_per_comment  http_per_comment  I/E  N/S  T/F  J/P  \n",
      "0               0.02              0.48    0    0    1    0  \n",
      "1               0.00              0.20    1    0    0    1  \n",
      "2               0.00              0.10    0    0    0    1  \n",
      "3               0.02              0.04    0    0    0    0  \n",
      "4               0.02              0.12    1    0    0    0  \n",
      "5               0.00              0.02    0    0    0    0  \n",
      "6               0.02              0.04    0    0    1    0  \n",
      "7               0.04              0.02    0    0    0    0  \n",
      "8               0.02              0.46    0    0    1    0  \n",
      "9               0.02              0.14    0    0    0    1  \n"
     ]
    }
   ],
   "source": [
    "print(df.head(10))"
   ]
  },
  {
   "cell_type": "code",
   "execution_count": 91,
   "metadata": {},
   "outputs": [
    {
     "name": "stdout",
     "output_type": "stream",
     "text": [
      "   type                                              posts  words_per_comment  \\\n",
      "0  INFJ  'http://www.youtube.com/watch?v=qsXHcwe3krw|||...              11.12   \n",
      "1  ENTP  'I'm finding the lack of me in these posts ver...              23.40   \n",
      "2  INTP  'Good one  _____   https://www.youtube.com/wat...              16.72   \n",
      "3  INTJ  'Dear INTP,   I enjoyed our conversation the o...              21.28   \n",
      "4  ENTJ  'You're fired.|||That's another silly misconce...              19.34   \n",
      "5  INTJ  '18/37 @.@|||Science  is not perfect. No scien...              29.82   \n",
      "6  INFJ  'No, I can't draw on my own nails (haha). Thos...              26.58   \n",
      "7  INTJ  'I tend to build up a collection of things on ...              24.46   \n",
      "8  INFJ  I'm not sure, that's a good question. The dist...              14.76   \n",
      "9  INTP  'https://www.youtube.com/watch?v=w8-egj0y8Qs||...              24.66   \n",
      "\n",
      "   question_per_comment  ellipsis_per_comment  excl_per_comment  \\\n",
      "0                  0.36                  0.30              0.06   \n",
      "1                  0.10                  0.38              0.00   \n",
      "2                  0.24                  0.26              0.08   \n",
      "3                  0.22                  0.52              0.06   \n",
      "4                  0.20                  0.42              0.02   \n",
      "5                  0.20                  0.78              0.00   \n",
      "6                  0.26                  0.74              0.06   \n",
      "7                  0.70                  0.56              0.00   \n",
      "8                  0.44                  0.34              0.02   \n",
      "9                  0.26                  0.48              0.06   \n",
      "\n",
      "   music_per_comment  http_per_comment  I/E  N/S  T/F  J/P  img_per_comment  \n",
      "0               0.02              0.48    0    0    1    0             0.12  \n",
      "1               0.00              0.20    1    0    0    1             0.02  \n",
      "2               0.00              0.10    0    0    0    1             0.00  \n",
      "3               0.02              0.04    0    0    0    0             0.00  \n",
      "4               0.02              0.12    1    0    0    0             0.04  \n",
      "5               0.00              0.02    0    0    0    0             0.00  \n",
      "6               0.02              0.04    0    0    1    0             0.00  \n",
      "7               0.04              0.02    0    0    0    0             0.00  \n",
      "8               0.02              0.46    0    0    1    0             0.02  \n",
      "9               0.02              0.14    0    0    0    1             0.00  \n"
     ]
    }
   ],
   "source": [
    "df['img_per_comment'] = df['posts'].apply(lambda x: x.count('jpg')/50)\n",
    "print(df.head(10))"
   ]
  },
  {
   "cell_type": "code",
   "execution_count": 92,
   "metadata": {},
   "outputs": [
    {
     "name": "stdout",
     "output_type": "stream",
     "text": [
      "[[1.112e+01 3.600e-01 3.000e-01 ... 1.000e+00 0.000e+00 1.200e-01]\n",
      " [2.340e+01 1.000e-01 3.800e-01 ... 0.000e+00 1.000e+00 2.000e-02]\n",
      " [1.672e+01 2.400e-01 2.600e-01 ... 0.000e+00 1.000e+00 0.000e+00]\n",
      " ...\n",
      " [1.896e+01 1.800e-01 3.800e-01 ... 0.000e+00 1.000e+00 0.000e+00]\n",
      " [3.410e+01 1.800e-01 9.400e-01 ... 1.000e+00 1.000e+00 0.000e+00]\n",
      " [2.722e+01 1.200e-01 4.800e-01 ... 1.000e+00 1.000e+00 0.000e+00]]\n",
      "[0 1 0 ... 0 0 0]\n",
      "(8675,)\n",
      "(8675, 10)\n",
      "77.1 %\n"
     ]
    }
   ],
   "source": [
    "XX = df.drop(['type','posts','I/E'], axis=1).values\n",
    "yy = df['I/E'].values\n",
    "print(XX)\n",
    "print(yy)\n",
    "\n",
    "print(yy.shape)\n",
    "print(XX.shape)\n",
    "\n",
    "XX_train,XX_test,yy_train,yy_test=train_test_split(XX,yy,test_size = 0.1, random_state=5)\n",
    "\n",
    "logregg = LogisticRegression()\n",
    "logregg.fit(XX_train, yy_train)\n",
    "\n",
    "Y_predd = logregg.predict(XX_test)\n",
    "\n",
    "acc_logg = round(logregg.score(XX_train, yy_train) * 100, 2)\n",
    "print(round(acc_logg,2,), \"%\")\n"
   ]
  },
  {
   "cell_type": "code",
   "execution_count": 93,
   "metadata": {},
   "outputs": [
    {
     "name": "stdout",
     "output_type": "stream",
     "text": [
      "[[1.112e+01 3.600e-01 3.000e-01 ... 1.000e+00 0.000e+00 1.200e-01]\n",
      " [2.340e+01 1.000e-01 3.800e-01 ... 0.000e+00 1.000e+00 2.000e-02]\n",
      " [1.672e+01 2.400e-01 2.600e-01 ... 0.000e+00 1.000e+00 0.000e+00]\n",
      " ...\n",
      " [1.896e+01 1.800e-01 3.800e-01 ... 0.000e+00 1.000e+00 0.000e+00]\n",
      " [3.410e+01 1.800e-01 9.400e-01 ... 1.000e+00 1.000e+00 0.000e+00]\n",
      " [2.722e+01 1.200e-01 4.800e-01 ... 1.000e+00 1.000e+00 0.000e+00]]\n",
      "[0 1 0 ... 0 0 0]\n",
      "(8675,)\n",
      "(8675, 10)\n",
      "(868, 10)\n",
      "77.1 %\n"
     ]
    }
   ],
   "source": [
    "XX = df.drop(['type','posts','I/E'], axis=1).values\n",
    "yy = df['I/E'].values\n",
    "print(XX)\n",
    "print(yy)\n",
    "\n",
    "print(yy.shape)\n",
    "print(XX.shape)\n",
    "\n",
    "XX_train,XX_test,yy_train,yy_test=train_test_split(XX,yy,test_size = 0.1, random_state=5)\n",
    "\n",
    "logregg = LogisticRegression()\n",
    "logregg.fit(XX_train, yy_train)\n",
    "\n",
    "Y_predd = logregg.predict(XX_test)\n",
    "print(XX_test.shape)\n",
    "\n",
    "acc_logg = round(logregg.score(XX_train, yy_train) * 100, 2)\n",
    "print(round(acc_logg,2,), \"%\")"
   ]
  },
  {
   "cell_type": "code",
   "execution_count": 94,
   "metadata": {},
   "outputs": [
    {
     "ename": "SyntaxError",
     "evalue": "can't assign to literal (<ipython-input-94-e348ff28f454>, line 2)",
     "output_type": "error",
     "traceback": [
      "\u001b[1;36m  File \u001b[1;32m\"<ipython-input-94-e348ff28f454>\"\u001b[1;36m, line \u001b[1;32m2\u001b[0m\n\u001b[1;33m    data_frame = ['http_per_comment'] = text.apply(lambda x: x.count('http')/50)\u001b[0m\n\u001b[1;37m                ^\u001b[0m\n\u001b[1;31mSyntaxError\u001b[0m\u001b[1;31m:\u001b[0m can't assign to literal\n"
     ]
    }
   ],
   "source": [
    "text = \"Management Engineering student with experience in software development, project management, data analytics and process improvement demonstrated through work, leadership and personal experience in fintech, insurance and healthcare. A leader, collaborator, quick learner and independent problem solver. Able to grasp business and technical aspects of the role and always looking for a challenge.\"\n",
    "data_frame = ['http_per_comment'] = text.apply(lambda x: x.count('http')/50)\n"
   ]
  },
  {
   "cell_type": "code",
   "execution_count": 96,
   "metadata": {},
   "outputs": [
    {
     "ename": "NameError",
     "evalue": "name 'data_frame' is not defined",
     "output_type": "error",
     "traceback": [
      "\u001b[1;31m---------------------------------------------------------------------------\u001b[0m",
      "\u001b[1;31mNameError\u001b[0m                                 Traceback (most recent call last)",
      "\u001b[1;32m<ipython-input-96-a66758f7406e>\u001b[0m in \u001b[0;36m<module>\u001b[1;34m()\u001b[0m\n\u001b[0;32m      1\u001b[0m \u001b[0mtext\u001b[0m \u001b[1;33m=\u001b[0m \u001b[1;34m\"Management Engineering student with experience in software development, project management, data analytics and process improvement demonstrated through work, leadership and personal experience in fintech, insurance and healthcare. A leader, collaborator, quick learner and independent problem solver. Able to grasp business and technical aspects of the role and always looking for a challenge.\"\u001b[0m\u001b[1;33m\u001b[0m\u001b[0m\n\u001b[1;32m----> 2\u001b[1;33m \u001b[0mdata_frame\u001b[0m\u001b[1;33m[\u001b[0m\u001b[1;34m'http_per_comment'\u001b[0m\u001b[1;33m]\u001b[0m \u001b[1;33m=\u001b[0m \u001b[0mtext\u001b[0m\u001b[1;33m.\u001b[0m\u001b[0mcount\u001b[0m\u001b[1;33m(\u001b[0m\u001b[1;34m'http'\u001b[0m\u001b[1;33m)\u001b[0m\u001b[1;33m/\u001b[0m\u001b[1;36m50\u001b[0m\u001b[1;33m\u001b[0m\u001b[0m\n\u001b[0m",
      "\u001b[1;31mNameError\u001b[0m: name 'data_frame' is not defined"
     ]
    }
   ],
   "source": [
    "text = \"Management Engineering student with experience in software development, project management, data analytics and process improvement demonstrated through work, leadership and personal experience in fintech, insurance and healthcare. A leader, collaborator, quick learner and independent problem solver. Able to grasp business and technical aspects of the role and always looking for a challenge.\"\n",
    "df = pd.DataFrame(data, columns = ['http_per_comment', 'words_per_comment','question_per_comment','ellipsis_per_comment','excl_per_comment','music_per_comment','http_per_comment','img_per_comment']) \n",
    "data_frame['http_per_comment'] = text.count('http')/50\n"
   ]
  },
  {
   "cell_type": "code",
   "execution_count": 97,
   "metadata": {},
   "outputs": [
    {
     "name": "stdout",
     "output_type": "stream",
     "text": [
      "[[1.112e+01 3.600e-01 3.000e-01 ... 2.000e-02 4.800e-01 1.200e-01]\n",
      " [2.340e+01 1.000e-01 3.800e-01 ... 0.000e+00 2.000e-01 2.000e-02]\n",
      " [1.672e+01 2.400e-01 2.600e-01 ... 0.000e+00 1.000e-01 0.000e+00]\n",
      " ...\n",
      " [1.896e+01 1.800e-01 3.800e-01 ... 0.000e+00 4.000e-02 0.000e+00]\n",
      " [3.410e+01 1.800e-01 9.400e-01 ... 0.000e+00 0.000e+00 0.000e+00]\n",
      " [2.722e+01 1.200e-01 4.800e-01 ... 0.000e+00 6.000e-02 0.000e+00]]\n",
      "[0 1 0 ... 0 0 0]\n",
      "(8675,)\n",
      "(8675, 7)\n",
      "(868, 7)\n",
      "77.01 %\n"
     ]
    }
   ],
   "source": [
    "XX = df.drop(['type','posts','I/E','N/S','T/F','J/P'], axis=1).values\n",
    "yy = df['I/E'].values\n",
    "print(XX)\n",
    "print(yy)\n",
    "\n",
    "print(yy.shape)\n",
    "print(XX.shape)\n",
    "\n",
    "XX_train,XX_test,yy_train,yy_test=train_test_split(XX,yy,test_size = 0.1, random_state=5)\n",
    "\n",
    "logregg = LogisticRegression()\n",
    "logregg.fit(XX_train, yy_train)\n",
    "\n",
    "Y_predd = logregg.predict(XX_test)\n",
    "print(XX_test.shape)\n",
    "\n",
    "acc_logg = round(logregg.score(XX_train, yy_train) * 100, 2)\n",
    "print(round(acc_logg,2,), \"%\")"
   ]
  },
  {
   "cell_type": "code",
   "execution_count": 99,
   "metadata": {
    "scrolled": true
   },
   "outputs": [
    {
     "name": "stdout",
     "output_type": "stream",
     "text": [
      "   words_per_comment  question_per_comment  ellipsis_per_comment  \\\n",
      "0               1.04                   0.0                   0.0   \n",
      "\n",
      "   excl_per_comment  music_per_comment  http_per_comment  img_per_comment  \n",
      "0               0.0                0.0               0.0              0.0  \n"
     ]
    }
   ],
   "source": [
    "text = \"Management Engineering student with experience in software development, project management, data analytics and process improvement demonstrated through work, leadership and personal experience in fintech, insurance and healthcare. A leader, collaborator, quick learner and independent problem solver. Able to grasp business and technical aspects of the role and always looking for a challenge.\"\n",
    "data= [[len(text.split())/50,text.count('?')/50,text.count('...')/50,text.count('!')/50,text.count('music')/50,text.count('http')/50,text.count('jpg')/50]]\n",
    "df = pd.DataFrame(data, columns = ['words_per_comment','question_per_comment','ellipsis_per_comment','excl_per_comment','music_per_comment','http_per_comment','img_per_comment']) \n",
    "print(df.head())\n"
   ]
  },
  {
   "cell_type": "code",
   "execution_count": 100,
   "metadata": {},
   "outputs": [],
   "source": [
    "text = \"When I was 21, I climbed Mount Everest. Not metaphorically—I literally climbed the highest mountain on Earth. While I was hiking, I thought about quitting approximately 5,000 times. (And that’s a lowball estimate.) But despite the high winds, low altitude, mental and physical fatigue, and trail mix overdose, I kept going. I’m that person. Once I say I’ll do something, it will happen. Now, I put that perseverance to work as a senior account manager for Polar. I don’t have to climb any mountains…but I do have to move them. I’m well-versed in negotiations, planning and development, relationship management, operations, and logistics coordination and scheduling. If you’re interested in grabbing coffee and talking shop (or to hear how I almost fell off the mountain at 27K feet), please send an email my way.\""
   ]
  },
  {
   "cell_type": "code",
   "execution_count": 101,
   "metadata": {},
   "outputs": [
    {
     "ename": "KeyError",
     "evalue": "\"labels ['type' 'posts' 'I/E' 'N/S' 'T/F' 'J/P'] not contained in axis\"",
     "output_type": "error",
     "traceback": [
      "\u001b[1;31m---------------------------------------------------------------------------\u001b[0m",
      "\u001b[1;31mKeyError\u001b[0m                                  Traceback (most recent call last)",
      "\u001b[1;32m<ipython-input-101-52d8d17ac100>\u001b[0m in \u001b[0;36m<module>\u001b[1;34m()\u001b[0m\n\u001b[1;32m----> 1\u001b[1;33m \u001b[0mXX\u001b[0m \u001b[1;33m=\u001b[0m \u001b[0mdf\u001b[0m\u001b[1;33m.\u001b[0m\u001b[0mdrop\u001b[0m\u001b[1;33m(\u001b[0m\u001b[1;33m[\u001b[0m\u001b[1;34m'type'\u001b[0m\u001b[1;33m,\u001b[0m\u001b[1;34m'posts'\u001b[0m\u001b[1;33m,\u001b[0m\u001b[1;34m'I/E'\u001b[0m\u001b[1;33m,\u001b[0m\u001b[1;34m'N/S'\u001b[0m\u001b[1;33m,\u001b[0m\u001b[1;34m'T/F'\u001b[0m\u001b[1;33m,\u001b[0m\u001b[1;34m'J/P'\u001b[0m\u001b[1;33m]\u001b[0m\u001b[1;33m,\u001b[0m \u001b[0maxis\u001b[0m\u001b[1;33m=\u001b[0m\u001b[1;36m1\u001b[0m\u001b[1;33m)\u001b[0m\u001b[1;33m.\u001b[0m\u001b[0mvalues\u001b[0m\u001b[1;33m\u001b[0m\u001b[0m\n\u001b[0m\u001b[0;32m      2\u001b[0m \u001b[0myy\u001b[0m \u001b[1;33m=\u001b[0m \u001b[0mdf\u001b[0m\u001b[1;33m[\u001b[0m\u001b[1;34m'I/E'\u001b[0m\u001b[1;33m]\u001b[0m\u001b[1;33m.\u001b[0m\u001b[0mvalues\u001b[0m\u001b[1;33m\u001b[0m\u001b[0m\n\u001b[0;32m      3\u001b[0m \u001b[0mprint\u001b[0m\u001b[1;33m(\u001b[0m\u001b[0mXX\u001b[0m\u001b[1;33m)\u001b[0m\u001b[1;33m\u001b[0m\u001b[0m\n\u001b[0;32m      4\u001b[0m \u001b[0mprint\u001b[0m\u001b[1;33m(\u001b[0m\u001b[0myy\u001b[0m\u001b[1;33m)\u001b[0m\u001b[1;33m\u001b[0m\u001b[0m\n\u001b[0;32m      5\u001b[0m \u001b[1;33m\u001b[0m\u001b[0m\n",
      "\u001b[1;32m~\\Anaconda3\\lib\\site-packages\\pandas\\core\\frame.py\u001b[0m in \u001b[0;36mdrop\u001b[1;34m(self, labels, axis, index, columns, level, inplace, errors)\u001b[0m\n\u001b[0;32m   3692\u001b[0m                                            \u001b[0mindex\u001b[0m\u001b[1;33m=\u001b[0m\u001b[0mindex\u001b[0m\u001b[1;33m,\u001b[0m \u001b[0mcolumns\u001b[0m\u001b[1;33m=\u001b[0m\u001b[0mcolumns\u001b[0m\u001b[1;33m,\u001b[0m\u001b[1;33m\u001b[0m\u001b[0m\n\u001b[0;32m   3693\u001b[0m                                            \u001b[0mlevel\u001b[0m\u001b[1;33m=\u001b[0m\u001b[0mlevel\u001b[0m\u001b[1;33m,\u001b[0m \u001b[0minplace\u001b[0m\u001b[1;33m=\u001b[0m\u001b[0minplace\u001b[0m\u001b[1;33m,\u001b[0m\u001b[1;33m\u001b[0m\u001b[0m\n\u001b[1;32m-> 3694\u001b[1;33m                                            errors=errors)\n\u001b[0m\u001b[0;32m   3695\u001b[0m \u001b[1;33m\u001b[0m\u001b[0m\n\u001b[0;32m   3696\u001b[0m     @rewrite_axis_style_signature('mapper', [('copy', True),\n",
      "\u001b[1;32m~\\Anaconda3\\lib\\site-packages\\pandas\\core\\generic.py\u001b[0m in \u001b[0;36mdrop\u001b[1;34m(self, labels, axis, index, columns, level, inplace, errors)\u001b[0m\n\u001b[0;32m   3106\u001b[0m         \u001b[1;32mfor\u001b[0m \u001b[0maxis\u001b[0m\u001b[1;33m,\u001b[0m \u001b[0mlabels\u001b[0m \u001b[1;32min\u001b[0m \u001b[0maxes\u001b[0m\u001b[1;33m.\u001b[0m\u001b[0mitems\u001b[0m\u001b[1;33m(\u001b[0m\u001b[1;33m)\u001b[0m\u001b[1;33m:\u001b[0m\u001b[1;33m\u001b[0m\u001b[0m\n\u001b[0;32m   3107\u001b[0m             \u001b[1;32mif\u001b[0m \u001b[0mlabels\u001b[0m \u001b[1;32mis\u001b[0m \u001b[1;32mnot\u001b[0m \u001b[1;32mNone\u001b[0m\u001b[1;33m:\u001b[0m\u001b[1;33m\u001b[0m\u001b[0m\n\u001b[1;32m-> 3108\u001b[1;33m                 \u001b[0mobj\u001b[0m \u001b[1;33m=\u001b[0m \u001b[0mobj\u001b[0m\u001b[1;33m.\u001b[0m\u001b[0m_drop_axis\u001b[0m\u001b[1;33m(\u001b[0m\u001b[0mlabels\u001b[0m\u001b[1;33m,\u001b[0m \u001b[0maxis\u001b[0m\u001b[1;33m,\u001b[0m \u001b[0mlevel\u001b[0m\u001b[1;33m=\u001b[0m\u001b[0mlevel\u001b[0m\u001b[1;33m,\u001b[0m \u001b[0merrors\u001b[0m\u001b[1;33m=\u001b[0m\u001b[0merrors\u001b[0m\u001b[1;33m)\u001b[0m\u001b[1;33m\u001b[0m\u001b[0m\n\u001b[0m\u001b[0;32m   3109\u001b[0m \u001b[1;33m\u001b[0m\u001b[0m\n\u001b[0;32m   3110\u001b[0m         \u001b[1;32mif\u001b[0m \u001b[0minplace\u001b[0m\u001b[1;33m:\u001b[0m\u001b[1;33m\u001b[0m\u001b[0m\n",
      "\u001b[1;32m~\\Anaconda3\\lib\\site-packages\\pandas\\core\\generic.py\u001b[0m in \u001b[0;36m_drop_axis\u001b[1;34m(self, labels, axis, level, errors)\u001b[0m\n\u001b[0;32m   3138\u001b[0m                 \u001b[0mnew_axis\u001b[0m \u001b[1;33m=\u001b[0m \u001b[0maxis\u001b[0m\u001b[1;33m.\u001b[0m\u001b[0mdrop\u001b[0m\u001b[1;33m(\u001b[0m\u001b[0mlabels\u001b[0m\u001b[1;33m,\u001b[0m \u001b[0mlevel\u001b[0m\u001b[1;33m=\u001b[0m\u001b[0mlevel\u001b[0m\u001b[1;33m,\u001b[0m \u001b[0merrors\u001b[0m\u001b[1;33m=\u001b[0m\u001b[0merrors\u001b[0m\u001b[1;33m)\u001b[0m\u001b[1;33m\u001b[0m\u001b[0m\n\u001b[0;32m   3139\u001b[0m             \u001b[1;32melse\u001b[0m\u001b[1;33m:\u001b[0m\u001b[1;33m\u001b[0m\u001b[0m\n\u001b[1;32m-> 3140\u001b[1;33m                 \u001b[0mnew_axis\u001b[0m \u001b[1;33m=\u001b[0m \u001b[0maxis\u001b[0m\u001b[1;33m.\u001b[0m\u001b[0mdrop\u001b[0m\u001b[1;33m(\u001b[0m\u001b[0mlabels\u001b[0m\u001b[1;33m,\u001b[0m \u001b[0merrors\u001b[0m\u001b[1;33m=\u001b[0m\u001b[0merrors\u001b[0m\u001b[1;33m)\u001b[0m\u001b[1;33m\u001b[0m\u001b[0m\n\u001b[0m\u001b[0;32m   3141\u001b[0m             \u001b[0mdropped\u001b[0m \u001b[1;33m=\u001b[0m \u001b[0mself\u001b[0m\u001b[1;33m.\u001b[0m\u001b[0mreindex\u001b[0m\u001b[1;33m(\u001b[0m\u001b[1;33m**\u001b[0m\u001b[1;33m{\u001b[0m\u001b[0maxis_name\u001b[0m\u001b[1;33m:\u001b[0m \u001b[0mnew_axis\u001b[0m\u001b[1;33m}\u001b[0m\u001b[1;33m)\u001b[0m\u001b[1;33m\u001b[0m\u001b[0m\n\u001b[0;32m   3142\u001b[0m             \u001b[1;32mtry\u001b[0m\u001b[1;33m:\u001b[0m\u001b[1;33m\u001b[0m\u001b[0m\n",
      "\u001b[1;32m~\\Anaconda3\\lib\\site-packages\\pandas\\core\\indexes\\base.py\u001b[0m in \u001b[0;36mdrop\u001b[1;34m(self, labels, errors)\u001b[0m\n\u001b[0;32m   4385\u001b[0m             \u001b[1;32mif\u001b[0m \u001b[0merrors\u001b[0m \u001b[1;33m!=\u001b[0m \u001b[1;34m'ignore'\u001b[0m\u001b[1;33m:\u001b[0m\u001b[1;33m\u001b[0m\u001b[0m\n\u001b[0;32m   4386\u001b[0m                 raise KeyError(\n\u001b[1;32m-> 4387\u001b[1;33m                     'labels %s not contained in axis' % labels[mask])\n\u001b[0m\u001b[0;32m   4388\u001b[0m             \u001b[0mindexer\u001b[0m \u001b[1;33m=\u001b[0m \u001b[0mindexer\u001b[0m\u001b[1;33m[\u001b[0m\u001b[1;33m~\u001b[0m\u001b[0mmask\u001b[0m\u001b[1;33m]\u001b[0m\u001b[1;33m\u001b[0m\u001b[0m\n\u001b[0;32m   4389\u001b[0m         \u001b[1;32mreturn\u001b[0m \u001b[0mself\u001b[0m\u001b[1;33m.\u001b[0m\u001b[0mdelete\u001b[0m\u001b[1;33m(\u001b[0m\u001b[0mindexer\u001b[0m\u001b[1;33m)\u001b[0m\u001b[1;33m\u001b[0m\u001b[0m\n",
      "\u001b[1;31mKeyError\u001b[0m: \"labels ['type' 'posts' 'I/E' 'N/S' 'T/F' 'J/P'] not contained in axis\""
     ]
    }
   ],
   "source": [
    "XX = df.drop(['type','posts','I/E','N/S','T/F','J/P'], axis=1).values\n",
    "yy = df['I/E'].values\n",
    "print(XX)\n",
    "print(yy)\n",
    "\n",
    "print(yy.shape)\n",
    "print(XX.shape)\n",
    "\n",
    "XX_train,XX_test,yy_train,yy_test=train_test_split(XX,yy,test_size = 0.1, random_state=5)\n",
    "\n",
    "logregg = LogisticRegression()\n",
    "logregg.fit(XX_train, yy_train)\n",
    "\n",
    "Y_predd = logregg.predict(XX_test)\n",
    "print(XX_test.shape)\n",
    "\n",
    "acc_logg = round(logregg.score(XX_train, yy_train) * 100, 2)\n",
    "print(round(acc_logg,2,), \"%\")\n",
    "\n",
    "text = \"When I was 21, I climbed Mount Everest. Not metaphorically—I literally climbed the highest mountain on Earth. While I was hiking, I thought about quitting approximately 5,000 times. (And that’s a lowball estimate.) But despite the high winds, low altitude, mental and physical fatigue, and trail mix overdose, I kept going. I’m that person. Once I say I’ll do something, it will happen. Now, I put that perseverance to work as a senior account manager for Polar. I don’t have to climb any mountains…but I do have to move them. I’m well-versed in negotiations, planning and development, relationship management, operations, and logistics coordination and scheduling. If you’re interested in grabbing coffee and talking shop (or to hear how I almost fell off the mountain at 27K feet), please send an email my way.\"\n",
    "data= [[len(text.split())/50,text.count('?')/50,text.count('...')/50,text.count('!')/50,text.count('music')/50,text.count('http')/50,text.count('jpg')/50]]\n",
    "data_frame = pd.DataFrame(data, columns = ['words_per_comment','question_per_comment','ellipsis_per_comment','excl_per_comment','music_per_comment','http_per_comment','img_per_comment']) \n",
    "Y_predd = logregg.predict(data_frame)\n",
    "print(Y_predd)"
   ]
  },
  {
   "cell_type": "code",
   "execution_count": 102,
   "metadata": {},
   "outputs": [
    {
     "name": "stdout",
     "output_type": "stream",
     "text": [
      "   words_per_comment  question_per_comment  ellipsis_per_comment  \\\n",
      "0               1.04                   0.0                   0.0   \n",
      "\n",
      "   excl_per_comment  music_per_comment  http_per_comment  img_per_comment  \n",
      "0               0.0                0.0               0.0              0.0  \n"
     ]
    }
   ],
   "source": [
    "print(df.head())"
   ]
  },
  {
   "cell_type": "code",
   "execution_count": 103,
   "metadata": {},
   "outputs": [
    {
     "name": "stdout",
     "output_type": "stream",
     "text": [
      "   type                                              posts  words_per_comment  \\\n",
      "0  INFJ  'http://www.youtube.com/watch?v=qsXHcwe3krw|||...              11.12   \n",
      "1  ENTP  'I'm finding the lack of me in these posts ver...              23.40   \n",
      "2  INTP  'Good one  _____   https://www.youtube.com/wat...              16.72   \n",
      "3  INTJ  'Dear INTP,   I enjoyed our conversation the o...              21.28   \n",
      "4  ENTJ  'You're fired.|||That's another silly misconce...              19.34   \n",
      "\n",
      "   http_per_comment  music_per_comment  question_per_comment  img_per_comment  \\\n",
      "0              0.48               0.02                  0.36             0.12   \n",
      "1              0.20               0.00                  0.10             0.02   \n",
      "2              0.10               0.00                  0.24             0.00   \n",
      "3              0.04               0.02                  0.22             0.00   \n",
      "4              0.12               0.02                  0.20             0.04   \n",
      "\n",
      "   excl_per_comment  ellipsis_per_comment  I-E  N-S  T-F  J-P  \n",
      "0              0.06                  0.30    0    0    1    0  \n",
      "1              0.00                  0.38    1    0    0    1  \n",
      "2              0.08                  0.26    0    0    0    1  \n",
      "3              0.06                  0.52    0    0    0    0  \n",
      "4              0.02                  0.42    1    0    0    0  \n"
     ]
    }
   ],
   "source": [
    "df = pd.read_csv('C:/Users/Daria Yampolsky/Documents/3A/DSS/FinalProject/mbti-type/mbti_1.csv')\n",
    "df['words_per_comment'] = df['posts'].apply(lambda x: len(x.split())/50)\n",
    "df['http_per_comment'] = df['posts'].apply(lambda x: x.count('http')/50)\n",
    "df['music_per_comment'] = df['posts'].apply(lambda x: x.count('music')/50)\n",
    "df['question_per_comment'] = df['posts'].apply(lambda x: x.count('?')/50)\n",
    "df['img_per_comment'] = df['posts'].apply(lambda x: x.count('jpg')/50)\n",
    "df['excl_per_comment'] = df['posts'].apply(lambda x: x.count('!')/50)\n",
    "df['ellipsis_per_comment'] = df['posts'].apply(lambda x: x.count('...')/50)\n",
    "map1 = {\"I\": 0, \"E\": 1}\n",
    "map2 = {\"N\": 0, \"S\": 1}\n",
    "map3 = {\"T\": 0, \"F\": 1}\n",
    "map4 = {\"J\": 0, \"P\": 1}\n",
    "df['I-E'] = df['type'].astype(str).str[0]\n",
    "df['I-E'] = df['I-E'].map(map1)\n",
    "df['N-S'] = df['type'].astype(str).str[1]\n",
    "df['N-S'] = df['N-S'].map(map2)\n",
    "df['T-F'] = df['type'].astype(str).str[2]\n",
    "df['T-F'] = df['T-F'].map(map3)\n",
    "df['J-P'] = df['type'].astype(str).str[3]\n",
    "df['J-P'] = df['J-P'].map(map4)\n",
    "print(df.head())"
   ]
  },
  {
   "cell_type": "code",
   "execution_count": 104,
   "metadata": {},
   "outputs": [
    {
     "ename": "KeyError",
     "evalue": "\"labels ['I/E' 'N/S' 'T/F' 'J/P'] not contained in axis\"",
     "output_type": "error",
     "traceback": [
      "\u001b[1;31m---------------------------------------------------------------------------\u001b[0m",
      "\u001b[1;31mKeyError\u001b[0m                                  Traceback (most recent call last)",
      "\u001b[1;32m<ipython-input-104-52d8d17ac100>\u001b[0m in \u001b[0;36m<module>\u001b[1;34m()\u001b[0m\n\u001b[1;32m----> 1\u001b[1;33m \u001b[0mXX\u001b[0m \u001b[1;33m=\u001b[0m \u001b[0mdf\u001b[0m\u001b[1;33m.\u001b[0m\u001b[0mdrop\u001b[0m\u001b[1;33m(\u001b[0m\u001b[1;33m[\u001b[0m\u001b[1;34m'type'\u001b[0m\u001b[1;33m,\u001b[0m\u001b[1;34m'posts'\u001b[0m\u001b[1;33m,\u001b[0m\u001b[1;34m'I/E'\u001b[0m\u001b[1;33m,\u001b[0m\u001b[1;34m'N/S'\u001b[0m\u001b[1;33m,\u001b[0m\u001b[1;34m'T/F'\u001b[0m\u001b[1;33m,\u001b[0m\u001b[1;34m'J/P'\u001b[0m\u001b[1;33m]\u001b[0m\u001b[1;33m,\u001b[0m \u001b[0maxis\u001b[0m\u001b[1;33m=\u001b[0m\u001b[1;36m1\u001b[0m\u001b[1;33m)\u001b[0m\u001b[1;33m.\u001b[0m\u001b[0mvalues\u001b[0m\u001b[1;33m\u001b[0m\u001b[0m\n\u001b[0m\u001b[0;32m      2\u001b[0m \u001b[0myy\u001b[0m \u001b[1;33m=\u001b[0m \u001b[0mdf\u001b[0m\u001b[1;33m[\u001b[0m\u001b[1;34m'I/E'\u001b[0m\u001b[1;33m]\u001b[0m\u001b[1;33m.\u001b[0m\u001b[0mvalues\u001b[0m\u001b[1;33m\u001b[0m\u001b[0m\n\u001b[0;32m      3\u001b[0m \u001b[0mprint\u001b[0m\u001b[1;33m(\u001b[0m\u001b[0mXX\u001b[0m\u001b[1;33m)\u001b[0m\u001b[1;33m\u001b[0m\u001b[0m\n\u001b[0;32m      4\u001b[0m \u001b[0mprint\u001b[0m\u001b[1;33m(\u001b[0m\u001b[0myy\u001b[0m\u001b[1;33m)\u001b[0m\u001b[1;33m\u001b[0m\u001b[0m\n\u001b[0;32m      5\u001b[0m \u001b[1;33m\u001b[0m\u001b[0m\n",
      "\u001b[1;32m~\\Anaconda3\\lib\\site-packages\\pandas\\core\\frame.py\u001b[0m in \u001b[0;36mdrop\u001b[1;34m(self, labels, axis, index, columns, level, inplace, errors)\u001b[0m\n\u001b[0;32m   3692\u001b[0m                                            \u001b[0mindex\u001b[0m\u001b[1;33m=\u001b[0m\u001b[0mindex\u001b[0m\u001b[1;33m,\u001b[0m \u001b[0mcolumns\u001b[0m\u001b[1;33m=\u001b[0m\u001b[0mcolumns\u001b[0m\u001b[1;33m,\u001b[0m\u001b[1;33m\u001b[0m\u001b[0m\n\u001b[0;32m   3693\u001b[0m                                            \u001b[0mlevel\u001b[0m\u001b[1;33m=\u001b[0m\u001b[0mlevel\u001b[0m\u001b[1;33m,\u001b[0m \u001b[0minplace\u001b[0m\u001b[1;33m=\u001b[0m\u001b[0minplace\u001b[0m\u001b[1;33m,\u001b[0m\u001b[1;33m\u001b[0m\u001b[0m\n\u001b[1;32m-> 3694\u001b[1;33m                                            errors=errors)\n\u001b[0m\u001b[0;32m   3695\u001b[0m \u001b[1;33m\u001b[0m\u001b[0m\n\u001b[0;32m   3696\u001b[0m     @rewrite_axis_style_signature('mapper', [('copy', True),\n",
      "\u001b[1;32m~\\Anaconda3\\lib\\site-packages\\pandas\\core\\generic.py\u001b[0m in \u001b[0;36mdrop\u001b[1;34m(self, labels, axis, index, columns, level, inplace, errors)\u001b[0m\n\u001b[0;32m   3106\u001b[0m         \u001b[1;32mfor\u001b[0m \u001b[0maxis\u001b[0m\u001b[1;33m,\u001b[0m \u001b[0mlabels\u001b[0m \u001b[1;32min\u001b[0m \u001b[0maxes\u001b[0m\u001b[1;33m.\u001b[0m\u001b[0mitems\u001b[0m\u001b[1;33m(\u001b[0m\u001b[1;33m)\u001b[0m\u001b[1;33m:\u001b[0m\u001b[1;33m\u001b[0m\u001b[0m\n\u001b[0;32m   3107\u001b[0m             \u001b[1;32mif\u001b[0m \u001b[0mlabels\u001b[0m \u001b[1;32mis\u001b[0m \u001b[1;32mnot\u001b[0m \u001b[1;32mNone\u001b[0m\u001b[1;33m:\u001b[0m\u001b[1;33m\u001b[0m\u001b[0m\n\u001b[1;32m-> 3108\u001b[1;33m                 \u001b[0mobj\u001b[0m \u001b[1;33m=\u001b[0m \u001b[0mobj\u001b[0m\u001b[1;33m.\u001b[0m\u001b[0m_drop_axis\u001b[0m\u001b[1;33m(\u001b[0m\u001b[0mlabels\u001b[0m\u001b[1;33m,\u001b[0m \u001b[0maxis\u001b[0m\u001b[1;33m,\u001b[0m \u001b[0mlevel\u001b[0m\u001b[1;33m=\u001b[0m\u001b[0mlevel\u001b[0m\u001b[1;33m,\u001b[0m \u001b[0merrors\u001b[0m\u001b[1;33m=\u001b[0m\u001b[0merrors\u001b[0m\u001b[1;33m)\u001b[0m\u001b[1;33m\u001b[0m\u001b[0m\n\u001b[0m\u001b[0;32m   3109\u001b[0m \u001b[1;33m\u001b[0m\u001b[0m\n\u001b[0;32m   3110\u001b[0m         \u001b[1;32mif\u001b[0m \u001b[0minplace\u001b[0m\u001b[1;33m:\u001b[0m\u001b[1;33m\u001b[0m\u001b[0m\n",
      "\u001b[1;32m~\\Anaconda3\\lib\\site-packages\\pandas\\core\\generic.py\u001b[0m in \u001b[0;36m_drop_axis\u001b[1;34m(self, labels, axis, level, errors)\u001b[0m\n\u001b[0;32m   3138\u001b[0m                 \u001b[0mnew_axis\u001b[0m \u001b[1;33m=\u001b[0m \u001b[0maxis\u001b[0m\u001b[1;33m.\u001b[0m\u001b[0mdrop\u001b[0m\u001b[1;33m(\u001b[0m\u001b[0mlabels\u001b[0m\u001b[1;33m,\u001b[0m \u001b[0mlevel\u001b[0m\u001b[1;33m=\u001b[0m\u001b[0mlevel\u001b[0m\u001b[1;33m,\u001b[0m \u001b[0merrors\u001b[0m\u001b[1;33m=\u001b[0m\u001b[0merrors\u001b[0m\u001b[1;33m)\u001b[0m\u001b[1;33m\u001b[0m\u001b[0m\n\u001b[0;32m   3139\u001b[0m             \u001b[1;32melse\u001b[0m\u001b[1;33m:\u001b[0m\u001b[1;33m\u001b[0m\u001b[0m\n\u001b[1;32m-> 3140\u001b[1;33m                 \u001b[0mnew_axis\u001b[0m \u001b[1;33m=\u001b[0m \u001b[0maxis\u001b[0m\u001b[1;33m.\u001b[0m\u001b[0mdrop\u001b[0m\u001b[1;33m(\u001b[0m\u001b[0mlabels\u001b[0m\u001b[1;33m,\u001b[0m \u001b[0merrors\u001b[0m\u001b[1;33m=\u001b[0m\u001b[0merrors\u001b[0m\u001b[1;33m)\u001b[0m\u001b[1;33m\u001b[0m\u001b[0m\n\u001b[0m\u001b[0;32m   3141\u001b[0m             \u001b[0mdropped\u001b[0m \u001b[1;33m=\u001b[0m \u001b[0mself\u001b[0m\u001b[1;33m.\u001b[0m\u001b[0mreindex\u001b[0m\u001b[1;33m(\u001b[0m\u001b[1;33m**\u001b[0m\u001b[1;33m{\u001b[0m\u001b[0maxis_name\u001b[0m\u001b[1;33m:\u001b[0m \u001b[0mnew_axis\u001b[0m\u001b[1;33m}\u001b[0m\u001b[1;33m)\u001b[0m\u001b[1;33m\u001b[0m\u001b[0m\n\u001b[0;32m   3142\u001b[0m             \u001b[1;32mtry\u001b[0m\u001b[1;33m:\u001b[0m\u001b[1;33m\u001b[0m\u001b[0m\n",
      "\u001b[1;32m~\\Anaconda3\\lib\\site-packages\\pandas\\core\\indexes\\base.py\u001b[0m in \u001b[0;36mdrop\u001b[1;34m(self, labels, errors)\u001b[0m\n\u001b[0;32m   4385\u001b[0m             \u001b[1;32mif\u001b[0m \u001b[0merrors\u001b[0m \u001b[1;33m!=\u001b[0m \u001b[1;34m'ignore'\u001b[0m\u001b[1;33m:\u001b[0m\u001b[1;33m\u001b[0m\u001b[0m\n\u001b[0;32m   4386\u001b[0m                 raise KeyError(\n\u001b[1;32m-> 4387\u001b[1;33m                     'labels %s not contained in axis' % labels[mask])\n\u001b[0m\u001b[0;32m   4388\u001b[0m             \u001b[0mindexer\u001b[0m \u001b[1;33m=\u001b[0m \u001b[0mindexer\u001b[0m\u001b[1;33m[\u001b[0m\u001b[1;33m~\u001b[0m\u001b[0mmask\u001b[0m\u001b[1;33m]\u001b[0m\u001b[1;33m\u001b[0m\u001b[0m\n\u001b[0;32m   4389\u001b[0m         \u001b[1;32mreturn\u001b[0m \u001b[0mself\u001b[0m\u001b[1;33m.\u001b[0m\u001b[0mdelete\u001b[0m\u001b[1;33m(\u001b[0m\u001b[0mindexer\u001b[0m\u001b[1;33m)\u001b[0m\u001b[1;33m\u001b[0m\u001b[0m\n",
      "\u001b[1;31mKeyError\u001b[0m: \"labels ['I/E' 'N/S' 'T/F' 'J/P'] not contained in axis\""
     ]
    }
   ],
   "source": [
    "XX = df.drop(['type','posts','I/E','N/S','T/F','J/P'], axis=1).values\n",
    "yy = df['I/E'].values\n",
    "print(XX)\n",
    "print(yy)\n",
    "\n",
    "print(yy.shape)\n",
    "print(XX.shape)\n",
    "\n",
    "XX_train,XX_test,yy_train,yy_test=train_test_split(XX,yy,test_size = 0.1, random_state=5)\n",
    "\n",
    "logregg = LogisticRegression()\n",
    "logregg.fit(XX_train, yy_train)\n",
    "\n",
    "Y_predd = logregg.predict(XX_test)\n",
    "print(XX_test.shape)\n",
    "\n",
    "acc_logg = round(logregg.score(XX_train, yy_train) * 100, 2)\n",
    "print(round(acc_logg,2,), \"%\")\n",
    "\n",
    "text = \"When I was 21, I climbed Mount Everest. Not metaphorically—I literally climbed the highest mountain on Earth. While I was hiking, I thought about quitting approximately 5,000 times. (And that’s a lowball estimate.) But despite the high winds, low altitude, mental and physical fatigue, and trail mix overdose, I kept going. I’m that person. Once I say I’ll do something, it will happen. Now, I put that perseverance to work as a senior account manager for Polar. I don’t have to climb any mountains…but I do have to move them. I’m well-versed in negotiations, planning and development, relationship management, operations, and logistics coordination and scheduling. If you’re interested in grabbing coffee and talking shop (or to hear how I almost fell off the mountain at 27K feet), please send an email my way.\"\n",
    "data= [[len(text.split())/50,text.count('?')/50,text.count('...')/50,text.count('!')/50,text.count('music')/50,text.count('http')/50,text.count('jpg')/50]]\n",
    "data_frame = pd.DataFrame(data, columns = ['words_per_comment','question_per_comment','ellipsis_per_comment','excl_per_comment','music_per_comment','http_per_comment','img_per_comment']) \n",
    "Y_predd = logregg.predict(data_frame)\n",
    "print(Y_predd)"
   ]
  },
  {
   "cell_type": "code",
   "execution_count": 106,
   "metadata": {},
   "outputs": [
    {
     "name": "stdout",
     "output_type": "stream",
     "text": [
      "[[1.112e+01 4.800e-01 2.000e-02 ... 1.200e-01 6.000e-02 3.000e-01]\n",
      " [2.340e+01 2.000e-01 0.000e+00 ... 2.000e-02 0.000e+00 3.800e-01]\n",
      " [1.672e+01 1.000e-01 0.000e+00 ... 0.000e+00 8.000e-02 2.600e-01]\n",
      " ...\n",
      " [1.896e+01 4.000e-02 0.000e+00 ... 0.000e+00 2.000e-02 3.800e-01]\n",
      " [3.410e+01 0.000e+00 0.000e+00 ... 0.000e+00 6.000e-02 9.400e-01]\n",
      " [2.722e+01 6.000e-02 0.000e+00 ... 0.000e+00 1.000e-01 4.800e-01]]\n",
      "[0 1 0 ... 0 0 0]\n",
      "(8675,)\n",
      "(8675, 7)\n",
      "(868, 7)\n",
      "77.01 %\n",
      "[0]\n"
     ]
    }
   ],
   "source": [
    "XX = df.drop(['type','posts','I-E','N-S','T-F','J-P'], axis=1).values\n",
    "yy = df['I-E'].values\n",
    "print(XX)\n",
    "print(yy)\n",
    "\n",
    "print(yy.shape)\n",
    "print(XX.shape)\n",
    "\n",
    "XX_train,XX_test,yy_train,yy_test=train_test_split(XX,yy,test_size = 0.1, random_state=5)\n",
    "\n",
    "logregg = LogisticRegression()\n",
    "logregg.fit(XX_train, yy_train)\n",
    "\n",
    "Y_predd = logregg.predict(XX_test)\n",
    "print(XX_test.shape)\n",
    "\n",
    "acc_logg = round(logregg.score(XX_train, yy_train) * 100, 2)\n",
    "print(round(acc_logg,2,), \"%\")\n",
    "\n",
    "text = \"When I was 21, I climbed Mount Everest. Not metaphorically—I literally climbed the highest mountain on Earth. While I was hiking, I thought about quitting approximately 5,000 times. (And that’s a lowball estimate.) But despite the high winds, low altitude, mental and physical fatigue, and trail mix overdose, I kept going. I’m that person. Once I say I’ll do something, it will happen. Now, I put that perseverance to work as a senior account manager for Polar. I don’t have to climb any mountains…but I do have to move them. I’m well-versed in negotiations, planning and development, relationship management, operations, and logistics coordination and scheduling. If you’re interested in grabbing coffee and talking shop (or to hear how I almost fell off the mountain at 27K feet), please send an email my way.\"\n",
    "data= [[len(text.split())/50,text.count('?')/50,text.count('...')/50,text.count('!')/50,text.count('music')/50,text.count('http')/50,text.count('jpg')/50]]\n",
    "data_frame = pd.DataFrame(data, columns = ['words_per_comment','question_per_comment','ellipsis_per_comment','excl_per_comment','music_per_comment','http_per_comment','img_per_comment']) \n",
    "Y_predd = logregg.predict(data_frame)\n",
    "print(Y_predd)"
   ]
  },
  {
   "cell_type": "code",
   "execution_count": 107,
   "metadata": {},
   "outputs": [
    {
     "name": "stdout",
     "output_type": "stream",
     "text": [
      "[[1.112e+01 4.800e-01 2.000e-02 ... 1.200e-01 6.000e-02 3.000e-01]\n",
      " [2.340e+01 2.000e-01 0.000e+00 ... 2.000e-02 0.000e+00 3.800e-01]\n",
      " [1.672e+01 1.000e-01 0.000e+00 ... 0.000e+00 8.000e-02 2.600e-01]\n",
      " ...\n",
      " [1.896e+01 4.000e-02 0.000e+00 ... 0.000e+00 2.000e-02 3.800e-01]\n",
      " [3.410e+01 0.000e+00 0.000e+00 ... 0.000e+00 6.000e-02 9.400e-01]\n",
      " [2.722e+01 6.000e-02 0.000e+00 ... 0.000e+00 1.000e-01 4.800e-01]]\n",
      "[0 0 0 ... 0 0 0]\n",
      "(8675,)\n",
      "(8675, 7)\n",
      "(868, 7)\n",
      "86.03 %\n",
      "[0]\n"
     ]
    }
   ],
   "source": [
    "XX = df.drop(['type','posts','I-E','N-S','T-F','J-P'], axis=1).values\n",
    "yy = df['N-S'].values\n",
    "print(XX)\n",
    "print(yy)\n",
    "\n",
    "print(yy.shape)\n",
    "print(XX.shape)\n",
    "\n",
    "XX_train,XX_test,yy_train,yy_test=train_test_split(XX,yy,test_size = 0.1, random_state=5)\n",
    "\n",
    "logregg = LogisticRegression()\n",
    "logregg.fit(XX_train, yy_train)\n",
    "\n",
    "Y_predd = logregg.predict(XX_test)\n",
    "print(XX_test.shape)\n",
    "\n",
    "acc_logg = round(logregg.score(XX_train, yy_train) * 100, 2)\n",
    "print(round(acc_logg,2,), \"%\")\n",
    "\n",
    "text = \"When I was 21, I climbed Mount Everest. Not metaphorically—I literally climbed the highest mountain on Earth. While I was hiking, I thought about quitting approximately 5,000 times. (And that’s a lowball estimate.) But despite the high winds, low altitude, mental and physical fatigue, and trail mix overdose, I kept going. I’m that person. Once I say I’ll do something, it will happen. Now, I put that perseverance to work as a senior account manager for Polar. I don’t have to climb any mountains…but I do have to move them. I’m well-versed in negotiations, planning and development, relationship management, operations, and logistics coordination and scheduling. If you’re interested in grabbing coffee and talking shop (or to hear how I almost fell off the mountain at 27K feet), please send an email my way.\"\n",
    "data= [[len(text.split())/50,text.count('?')/50,text.count('...')/50,text.count('!')/50,text.count('music')/50,text.count('http')/50,text.count('jpg')/50]]\n",
    "data_frame = pd.DataFrame(data, columns = ['words_per_comment','question_per_comment','ellipsis_per_comment','excl_per_comment','music_per_comment','http_per_comment','img_per_comment']) \n",
    "Y_predd = logregg.predict(data_frame)\n",
    "print(Y_predd)"
   ]
  },
  {
   "cell_type": "code",
   "execution_count": 108,
   "metadata": {},
   "outputs": [
    {
     "name": "stdout",
     "output_type": "stream",
     "text": [
      "[[1.112e+01 4.800e-01 2.000e-02 ... 1.200e-01 6.000e-02 3.000e-01]\n",
      " [2.340e+01 2.000e-01 0.000e+00 ... 2.000e-02 0.000e+00 3.800e-01]\n",
      " [1.672e+01 1.000e-01 0.000e+00 ... 0.000e+00 8.000e-02 2.600e-01]\n",
      " ...\n",
      " [1.896e+01 4.000e-02 0.000e+00 ... 0.000e+00 2.000e-02 3.800e-01]\n",
      " [3.410e+01 0.000e+00 0.000e+00 ... 0.000e+00 6.000e-02 9.400e-01]\n",
      " [2.722e+01 6.000e-02 0.000e+00 ... 0.000e+00 1.000e-01 4.800e-01]]\n",
      "[1 0 0 ... 0 1 1]\n",
      "(8675,)\n",
      "(8675, 7)\n",
      "(868, 7)\n",
      "62.84 %\n",
      "[0]\n"
     ]
    }
   ],
   "source": [
    "XX = df.drop(['type','posts','I-E','N-S','T-F','J-P'], axis=1).values\n",
    "yy = df['T-F'].values\n",
    "print(XX)\n",
    "print(yy)\n",
    "\n",
    "print(yy.shape)\n",
    "print(XX.shape)\n",
    "\n",
    "XX_train,XX_test,yy_train,yy_test=train_test_split(XX,yy,test_size = 0.1, random_state=5)\n",
    "\n",
    "logregg = LogisticRegression()\n",
    "logregg.fit(XX_train, yy_train)\n",
    "\n",
    "Y_predd = logregg.predict(XX_test)\n",
    "print(XX_test.shape)\n",
    "\n",
    "acc_logg = round(logregg.score(XX_train, yy_train) * 100, 2)\n",
    "print(round(acc_logg,2,), \"%\")\n",
    "\n",
    "text = \"When I was 21, I climbed Mount Everest. Not metaphorically—I literally climbed the highest mountain on Earth. While I was hiking, I thought about quitting approximately 5,000 times. (And that’s a lowball estimate.) But despite the high winds, low altitude, mental and physical fatigue, and trail mix overdose, I kept going. I’m that person. Once I say I’ll do something, it will happen. Now, I put that perseverance to work as a senior account manager for Polar. I don’t have to climb any mountains…but I do have to move them. I’m well-versed in negotiations, planning and development, relationship management, operations, and logistics coordination and scheduling. If you’re interested in grabbing coffee and talking shop (or to hear how I almost fell off the mountain at 27K feet), please send an email my way.\"\n",
    "data= [[len(text.split())/50,text.count('?')/50,text.count('...')/50,text.count('!')/50,text.count('music')/50,text.count('http')/50,text.count('jpg')/50]]\n",
    "data_frame = pd.DataFrame(data, columns = ['words_per_comment','question_per_comment','ellipsis_per_comment','excl_per_comment','music_per_comment','http_per_comment','img_per_comment']) \n",
    "Y_predd = logregg.predict(data_frame)\n",
    "print(Y_predd)"
   ]
  },
  {
   "cell_type": "code",
   "execution_count": 109,
   "metadata": {},
   "outputs": [
    {
     "name": "stdout",
     "output_type": "stream",
     "text": [
      "[[1.112e+01 4.800e-01 2.000e-02 ... 1.200e-01 6.000e-02 3.000e-01]\n",
      " [2.340e+01 2.000e-01 0.000e+00 ... 2.000e-02 0.000e+00 3.800e-01]\n",
      " [1.672e+01 1.000e-01 0.000e+00 ... 0.000e+00 8.000e-02 2.600e-01]\n",
      " ...\n",
      " [1.896e+01 4.000e-02 0.000e+00 ... 0.000e+00 2.000e-02 3.800e-01]\n",
      " [3.410e+01 0.000e+00 0.000e+00 ... 0.000e+00 6.000e-02 9.400e-01]\n",
      " [2.722e+01 6.000e-02 0.000e+00 ... 0.000e+00 1.000e-01 4.800e-01]]\n",
      "[0 1 1 ... 1 1 1]\n",
      "(8675,)\n",
      "(8675, 7)\n",
      "(868, 7)\n",
      "60.27 %\n",
      "[1]\n"
     ]
    }
   ],
   "source": [
    "XX = df.drop(['type','posts','I-E','N-S','T-F','J-P'], axis=1).values\n",
    "yy = df['J-P'].values\n",
    "print(XX)\n",
    "print(yy)\n",
    "\n",
    "print(yy.shape)\n",
    "print(XX.shape)\n",
    "\n",
    "XX_train,XX_test,yy_train,yy_test=train_test_split(XX,yy,test_size = 0.1, random_state=5)\n",
    "\n",
    "logregg = LogisticRegression()\n",
    "logregg.fit(XX_train, yy_train)\n",
    "\n",
    "Y_predd = logregg.predict(XX_test)\n",
    "print(XX_test.shape)\n",
    "\n",
    "acc_logg = round(logregg.score(XX_train, yy_train) * 100, 2)\n",
    "print(round(acc_logg,2,), \"%\")\n",
    "\n",
    "text = \"When I was 21, I climbed Mount Everest. Not metaphorically—I literally climbed the highest mountain on Earth. While I was hiking, I thought about quitting approximately 5,000 times. (And that’s a lowball estimate.) But despite the high winds, low altitude, mental and physical fatigue, and trail mix overdose, I kept going. I’m that person. Once I say I’ll do something, it will happen. Now, I put that perseverance to work as a senior account manager for Polar. I don’t have to climb any mountains…but I do have to move them. I’m well-versed in negotiations, planning and development, relationship management, operations, and logistics coordination and scheduling. If you’re interested in grabbing coffee and talking shop (or to hear how I almost fell off the mountain at 27K feet), please send an email my way.\"\n",
    "data= [[len(text.split())/50,text.count('?')/50,text.count('...')/50,text.count('!')/50,text.count('music')/50,text.count('http')/50,text.count('jpg')/50]]\n",
    "data_frame = pd.DataFrame(data, columns = ['words_per_comment','question_per_comment','ellipsis_per_comment','excl_per_comment','music_per_comment','http_per_comment','img_per_comment']) \n",
    "Y_predd = logregg.predict(data_frame)\n",
    "print(Y_predd)"
   ]
  },
  {
   "cell_type": "code",
   "execution_count": 110,
   "metadata": {},
   "outputs": [
    {
     "name": "stdout",
     "output_type": "stream",
     "text": [
      "[[1.112e+01 4.800e-01 2.000e-02 ... 1.200e-01 6.000e-02 3.000e-01]\n",
      " [2.340e+01 2.000e-01 0.000e+00 ... 2.000e-02 0.000e+00 3.800e-01]\n",
      " [1.672e+01 1.000e-01 0.000e+00 ... 0.000e+00 8.000e-02 2.600e-01]\n",
      " ...\n",
      " [1.896e+01 4.000e-02 0.000e+00 ... 0.000e+00 2.000e-02 3.800e-01]\n",
      " [3.410e+01 0.000e+00 0.000e+00 ... 0.000e+00 6.000e-02 9.400e-01]\n",
      " [2.722e+01 6.000e-02 0.000e+00 ... 0.000e+00 1.000e-01 4.800e-01]]\n",
      "[0 1 0 ... 0 0 0]\n",
      "(8675,)\n",
      "(8675, 7)\n",
      "(868, 7)\n",
      "77.01 %\n",
      "[0]\n"
     ]
    }
   ],
   "source": [
    "XX = df.drop(['type','posts','I-E','N-S','T-F','J-P'], axis=1).values\n",
    "yy = df['I-E'].values\n",
    "print(XX)\n",
    "print(yy)\n",
    "\n",
    "print(yy.shape)\n",
    "print(XX.shape)\n",
    "\n",
    "XX_train,XX_test,yy_train,yy_test=train_test_split(XX,yy,test_size = 0.1, random_state=5)\n",
    "\n",
    "logregg = LogisticRegression()\n",
    "logregg.fit(XX_train, yy_train)\n",
    "\n",
    "Y_predd = logregg.predict(XX_test)\n",
    "print(XX_test.shape)\n",
    "\n",
    "acc_logg = round(logregg.score(XX_train, yy_train) * 100, 2)\n",
    "print(round(acc_logg,2,), \"%\")\n",
    "\n",
    "text = \"Hi Guys! My name is Daria Yampolsky, I’m from Thornhill Ontario and am in the Management Engineering class of 2022. I love Waterloo engineering and the exceptional community here! The opportunities to get involved and meet people with the same interests are never ending. Feel free to contact me if you have any questions!\"\n",
    "data= [[len(text.split())/50,text.count('?')/50,text.count('...')/50,text.count('!')/50,text.count('music')/50,text.count('http')/50,text.count('jpg')/50]]\n",
    "data_frame = pd.DataFrame(data, columns = ['words_per_comment','question_per_comment','ellipsis_per_comment','excl_per_comment','music_per_comment','http_per_comment','img_per_comment']) \n",
    "Y_predd = logregg.predict(data_frame)\n",
    "print(Y_predd)"
   ]
  },
  {
   "cell_type": "code",
   "execution_count": 111,
   "metadata": {},
   "outputs": [
    {
     "name": "stdout",
     "output_type": "stream",
     "text": [
      "[[1.112e+01 4.800e-01 2.000e-02 ... 1.200e-01 6.000e-02 3.000e-01]\n",
      " [2.340e+01 2.000e-01 0.000e+00 ... 2.000e-02 0.000e+00 3.800e-01]\n",
      " [1.672e+01 1.000e-01 0.000e+00 ... 0.000e+00 8.000e-02 2.600e-01]\n",
      " ...\n",
      " [1.896e+01 4.000e-02 0.000e+00 ... 0.000e+00 2.000e-02 3.800e-01]\n",
      " [3.410e+01 0.000e+00 0.000e+00 ... 0.000e+00 6.000e-02 9.400e-01]\n",
      " [2.722e+01 6.000e-02 0.000e+00 ... 0.000e+00 1.000e-01 4.800e-01]]\n",
      "[0 0 0 ... 0 0 0]\n",
      "(8675,)\n",
      "(8675, 7)\n",
      "(868, 7)\n",
      "86.03 %\n",
      "[0]\n"
     ]
    }
   ],
   "source": [
    "XX = df.drop(['type','posts','I-E','N-S','T-F','J-P'], axis=1).values\n",
    "yy = df['N-S'].values\n",
    "print(XX)\n",
    "print(yy)\n",
    "\n",
    "print(yy.shape)\n",
    "print(XX.shape)\n",
    "\n",
    "XX_train,XX_test,yy_train,yy_test=train_test_split(XX,yy,test_size = 0.1, random_state=5)\n",
    "\n",
    "logregg = LogisticRegression()\n",
    "logregg.fit(XX_train, yy_train)\n",
    "\n",
    "Y_predd = logregg.predict(XX_test)\n",
    "print(XX_test.shape)\n",
    "\n",
    "acc_logg = round(logregg.score(XX_train, yy_train) * 100, 2)\n",
    "print(round(acc_logg,2,), \"%\")\n",
    "\n",
    "text = \"Hi Guys! My name is Daria Yampolsky, I’m from Thornhill Ontario and am in the Management Engineering class of 2022. I love Waterloo engineering and the exceptional community here! The opportunities to get involved and meet people with the same interests are never ending. Feel free to contact me if you have any questions!\"\n",
    "data= [[len(text.split())/50,text.count('?')/50,text.count('...')/50,text.count('!')/50,text.count('music')/50,text.count('http')/50,text.count('jpg')/50]]\n",
    "data_frame = pd.DataFrame(data, columns = ['words_per_comment','question_per_comment','ellipsis_per_comment','excl_per_comment','music_per_comment','http_per_comment','img_per_comment']) \n",
    "Y_predd = logregg.predict(data_frame)\n",
    "print(Y_predd)"
   ]
  },
  {
   "cell_type": "code",
   "execution_count": 112,
   "metadata": {},
   "outputs": [
    {
     "name": "stdout",
     "output_type": "stream",
     "text": [
      "[[1.112e+01 4.800e-01 2.000e-02 ... 1.200e-01 6.000e-02 3.000e-01]\n",
      " [2.340e+01 2.000e-01 0.000e+00 ... 2.000e-02 0.000e+00 3.800e-01]\n",
      " [1.672e+01 1.000e-01 0.000e+00 ... 0.000e+00 8.000e-02 2.600e-01]\n",
      " ...\n",
      " [1.896e+01 4.000e-02 0.000e+00 ... 0.000e+00 2.000e-02 3.800e-01]\n",
      " [3.410e+01 0.000e+00 0.000e+00 ... 0.000e+00 6.000e-02 9.400e-01]\n",
      " [2.722e+01 6.000e-02 0.000e+00 ... 0.000e+00 1.000e-01 4.800e-01]]\n",
      "[1 0 0 ... 0 1 1]\n",
      "(8675,)\n",
      "(8675, 7)\n",
      "(868, 7)\n",
      "62.84 %\n",
      "[0]\n"
     ]
    }
   ],
   "source": [
    "XX = df.drop(['type','posts','I-E','N-S','T-F','J-P'], axis=1).values\n",
    "yy = df['T-F'].values\n",
    "print(XX)\n",
    "print(yy)\n",
    "\n",
    "print(yy.shape)\n",
    "print(XX.shape)\n",
    "\n",
    "XX_train,XX_test,yy_train,yy_test=train_test_split(XX,yy,test_size = 0.1, random_state=5)\n",
    "\n",
    "logregg = LogisticRegression()\n",
    "logregg.fit(XX_train, yy_train)\n",
    "\n",
    "Y_predd = logregg.predict(XX_test)\n",
    "print(XX_test.shape)\n",
    "\n",
    "acc_logg = round(logregg.score(XX_train, yy_train) * 100, 2)\n",
    "print(round(acc_logg,2,), \"%\")\n",
    "\n",
    "text = \"Hi Guys! My name is Daria Yampolsky, I’m from Thornhill Ontario and am in the Management Engineering class of 2022. I love Waterloo engineering and the exceptional community here! The opportunities to get involved and meet people with the same interests are never ending. Feel free to contact me if you have any questions!\"\n",
    "data= [[len(text.split())/50,text.count('?')/50,text.count('...')/50,text.count('!')/50,text.count('music')/50,text.count('http')/50,text.count('jpg')/50]]\n",
    "data_frame = pd.DataFrame(data, columns = ['words_per_comment','question_per_comment','ellipsis_per_comment','excl_per_comment','music_per_comment','http_per_comment','img_per_comment']) \n",
    "Y_predd = logregg.predict(data_frame)\n",
    "print(Y_predd)"
   ]
  },
  {
   "cell_type": "code",
   "execution_count": 113,
   "metadata": {},
   "outputs": [
    {
     "name": "stdout",
     "output_type": "stream",
     "text": [
      "[[1.112e+01 4.800e-01 2.000e-02 ... 1.200e-01 6.000e-02 3.000e-01]\n",
      " [2.340e+01 2.000e-01 0.000e+00 ... 2.000e-02 0.000e+00 3.800e-01]\n",
      " [1.672e+01 1.000e-01 0.000e+00 ... 0.000e+00 8.000e-02 2.600e-01]\n",
      " ...\n",
      " [1.896e+01 4.000e-02 0.000e+00 ... 0.000e+00 2.000e-02 3.800e-01]\n",
      " [3.410e+01 0.000e+00 0.000e+00 ... 0.000e+00 6.000e-02 9.400e-01]\n",
      " [2.722e+01 6.000e-02 0.000e+00 ... 0.000e+00 1.000e-01 4.800e-01]]\n",
      "[0 1 1 ... 1 1 1]\n",
      "(8675,)\n",
      "(8675, 7)\n",
      "(868, 7)\n",
      "60.27 %\n",
      "[1]\n"
     ]
    }
   ],
   "source": [
    "XX = df.drop(['type','posts','I-E','N-S','T-F','J-P'], axis=1).values\n",
    "yy = df['J-P'].values\n",
    "print(XX)\n",
    "print(yy)\n",
    "\n",
    "print(yy.shape)\n",
    "print(XX.shape)\n",
    "\n",
    "XX_train,XX_test,yy_train,yy_test=train_test_split(XX,yy,test_size = 0.1, random_state=5)\n",
    "\n",
    "logregg = LogisticRegression()\n",
    "logregg.fit(XX_train, yy_train)\n",
    "\n",
    "Y_predd = logregg.predict(XX_test)\n",
    "print(XX_test.shape)\n",
    "\n",
    "acc_logg = round(logregg.score(XX_train, yy_train) * 100, 2)\n",
    "print(round(acc_logg,2,), \"%\")\n",
    "\n",
    "text = \"Hi Guys! My name is Daria Yampolsky, I’m from Thornhill Ontario and am in the Management Engineering class of 2022. I love Waterloo engineering and the exceptional community here! The opportunities to get involved and meet people with the same interests are never ending. Feel free to contact me if you have any questions!\"\n",
    "data= [[len(text.split())/50,text.count('?')/50,text.count('...')/50,text.count('!')/50,text.count('music')/50,text.count('http')/50,text.count('jpg')/50]]\n",
    "data_frame = pd.DataFrame(data, columns = ['words_per_comment','question_per_comment','ellipsis_per_comment','excl_per_comment','music_per_comment','http_per_comment','img_per_comment']) \n",
    "Y_predd = logregg.predict(data_frame)\n",
    "print(Y_predd)"
   ]
  },
  {
   "cell_type": "code",
   "execution_count": 114,
   "metadata": {},
   "outputs": [
    {
     "name": "stdout",
     "output_type": "stream",
     "text": [
      "[[1.112e+01 4.800e-01 2.000e-02 ... 1.200e-01 6.000e-02 3.000e-01]\n",
      " [2.340e+01 2.000e-01 0.000e+00 ... 2.000e-02 0.000e+00 3.800e-01]\n",
      " [1.672e+01 1.000e-01 0.000e+00 ... 0.000e+00 8.000e-02 2.600e-01]\n",
      " ...\n",
      " [1.896e+01 4.000e-02 0.000e+00 ... 0.000e+00 2.000e-02 3.800e-01]\n",
      " [3.410e+01 0.000e+00 0.000e+00 ... 0.000e+00 6.000e-02 9.400e-01]\n",
      " [2.722e+01 6.000e-02 0.000e+00 ... 0.000e+00 1.000e-01 4.800e-01]]\n",
      "[0 1 0 ... 0 0 0]\n",
      "(8675,)\n",
      "(8675, 7)\n",
      "(868, 7)\n",
      "77.01 %\n",
      "[0]\n"
     ]
    }
   ],
   "source": [
    "XX = df.drop(['type','posts','I-E','N-S','T-F','J-P'], axis=1).values\n",
    "yy = df['I-E'].values\n",
    "print(XX)\n",
    "print(yy)\n",
    "\n",
    "print(yy.shape)\n",
    "print(XX.shape)\n",
    "\n",
    "XX_train,XX_test,yy_train,yy_test=train_test_split(XX,yy,test_size = 0.1, random_state=5)\n",
    "\n",
    "logregg = LogisticRegression()\n",
    "logregg.fit(XX_train, yy_train)\n",
    "\n",
    "Y_predd = logregg.predict(XX_test)\n",
    "print(XX_test.shape)\n",
    "\n",
    "acc_logg = round(logregg.score(XX_train, yy_train) * 100, 2)\n",
    "print(round(acc_logg,2,), \"%\")\n",
    "\n",
    "text = \"Third year Management Engineering undergraduate student at the University of Waterloo with an interest for the intersection of technology and entrepreneurship, startup investment and data analysis. By being involved in the entrepreneurship and investment scene in Toronto, I have noticed that connecting with new people, supporting young entrepreneurs as well as learning more about the challenges that founders face excites me the most. I truly enjoy putting myself outside of my comfort zone, and completing the tasks that I was afraid to commence. I aim to remain uncomfortable, expand my network and extend my knowledge!\"\n",
    "data= [[len(text.split())/50,text.count('?')/50,text.count('...')/50,text.count('!')/50,text.count('music')/50,text.count('http')/50,text.count('jpg')/50]]\n",
    "data_frame = pd.DataFrame(data, columns = ['words_per_comment','question_per_comment','ellipsis_per_comment','excl_per_comment','music_per_comment','http_per_comment','img_per_comment']) \n",
    "Y_predd = logregg.predict(data_frame)\n",
    "print(Y_predd)"
   ]
  },
  {
   "cell_type": "code",
   "execution_count": 115,
   "metadata": {},
   "outputs": [
    {
     "name": "stdout",
     "output_type": "stream",
     "text": [
      "[[1.112e+01 4.800e-01 2.000e-02 ... 1.200e-01 6.000e-02 3.000e-01]\n",
      " [2.340e+01 2.000e-01 0.000e+00 ... 2.000e-02 0.000e+00 3.800e-01]\n",
      " [1.672e+01 1.000e-01 0.000e+00 ... 0.000e+00 8.000e-02 2.600e-01]\n",
      " ...\n",
      " [1.896e+01 4.000e-02 0.000e+00 ... 0.000e+00 2.000e-02 3.800e-01]\n",
      " [3.410e+01 0.000e+00 0.000e+00 ... 0.000e+00 6.000e-02 9.400e-01]\n",
      " [2.722e+01 6.000e-02 0.000e+00 ... 0.000e+00 1.000e-01 4.800e-01]]\n",
      "[0 0 0 ... 0 0 0]\n",
      "(8675,)\n",
      "(8675, 7)\n",
      "(868, 7)\n",
      "86.03 %\n",
      "[0]\n"
     ]
    }
   ],
   "source": [
    "XX = df.drop(['type','posts','I-E','N-S','T-F','J-P'], axis=1).values\n",
    "yy = df['N-S'].values\n",
    "print(XX)\n",
    "print(yy)\n",
    "\n",
    "print(yy.shape)\n",
    "print(XX.shape)\n",
    "\n",
    "XX_train,XX_test,yy_train,yy_test=train_test_split(XX,yy,test_size = 0.1, random_state=5)\n",
    "\n",
    "logregg = LogisticRegression()\n",
    "logregg.fit(XX_train, yy_train)\n",
    "\n",
    "Y_predd = logregg.predict(XX_test)\n",
    "print(XX_test.shape)\n",
    "\n",
    "acc_logg = round(logregg.score(XX_train, yy_train) * 100, 2)\n",
    "print(round(acc_logg,2,), \"%\")\n",
    "\n",
    "text = \"Third year Management Engineering undergraduate student at the University of Waterloo with an interest for the intersection of technology and entrepreneurship, startup investment and data analysis. By being involved in the entrepreneurship and investment scene in Toronto, I have noticed that connecting with new people, supporting young entrepreneurs as well as learning more about the challenges that founders face excites me the most. I truly enjoy putting myself outside of my comfort zone, and completing the tasks that I was afraid to commence. I aim to remain uncomfortable, expand my network and extend my knowledge!\"\n",
    "data= [[len(text.split())/50,text.count('?')/50,text.count('...')/50,text.count('!')/50,text.count('music')/50,text.count('http')/50,text.count('jpg')/50]]\n",
    "data_frame = pd.DataFrame(data, columns = ['words_per_comment','question_per_comment','ellipsis_per_comment','excl_per_comment','music_per_comment','http_per_comment','img_per_comment']) \n",
    "Y_predd = logregg.predict(data_frame)\n",
    "print(Y_predd)"
   ]
  },
  {
   "cell_type": "code",
   "execution_count": 116,
   "metadata": {},
   "outputs": [
    {
     "name": "stdout",
     "output_type": "stream",
     "text": [
      "[[1.112e+01 4.800e-01 2.000e-02 ... 1.200e-01 6.000e-02 3.000e-01]\n",
      " [2.340e+01 2.000e-01 0.000e+00 ... 2.000e-02 0.000e+00 3.800e-01]\n",
      " [1.672e+01 1.000e-01 0.000e+00 ... 0.000e+00 8.000e-02 2.600e-01]\n",
      " ...\n",
      " [1.896e+01 4.000e-02 0.000e+00 ... 0.000e+00 2.000e-02 3.800e-01]\n",
      " [3.410e+01 0.000e+00 0.000e+00 ... 0.000e+00 6.000e-02 9.400e-01]\n",
      " [2.722e+01 6.000e-02 0.000e+00 ... 0.000e+00 1.000e-01 4.800e-01]]\n",
      "[1 0 0 ... 0 1 1]\n",
      "(8675,)\n",
      "(8675, 7)\n",
      "(868, 7)\n",
      "62.84 %\n",
      "[0]\n"
     ]
    }
   ],
   "source": [
    "XX = df.drop(['type','posts','I-E','N-S','T-F','J-P'], axis=1).values\n",
    "yy = df['T-F'].values\n",
    "print(XX)\n",
    "print(yy)\n",
    "\n",
    "print(yy.shape)\n",
    "print(XX.shape)\n",
    "\n",
    "XX_train,XX_test,yy_train,yy_test=train_test_split(XX,yy,test_size = 0.1, random_state=5)\n",
    "\n",
    "logregg = LogisticRegression()\n",
    "logregg.fit(XX_train, yy_train)\n",
    "\n",
    "Y_predd = logregg.predict(XX_test)\n",
    "print(XX_test.shape)\n",
    "\n",
    "acc_logg = round(logregg.score(XX_train, yy_train) * 100, 2)\n",
    "print(round(acc_logg,2,), \"%\")\n",
    "\n",
    "text = \"Third year Management Engineering undergraduate student at the University of Waterloo with an interest for the intersection of technology and entrepreneurship, startup investment and data analysis. By being involved in the entrepreneurship and investment scene in Toronto, I have noticed that connecting with new people, supporting young entrepreneurs as well as learning more about the challenges that founders face excites me the most. I truly enjoy putting myself outside of my comfort zone, and completing the tasks that I was afraid to commence. I aim to remain uncomfortable, expand my network and extend my knowledge!\"\n",
    "data= [[len(text.split())/50,text.count('?')/50,text.count('...')/50,text.count('!')/50,text.count('music')/50,text.count('http')/50,text.count('jpg')/50]]\n",
    "data_frame = pd.DataFrame(data, columns = ['words_per_comment','question_per_comment','ellipsis_per_comment','excl_per_comment','music_per_comment','http_per_comment','img_per_comment']) \n",
    "Y_predd = logregg.predict(data_frame)\n",
    "print(Y_predd)"
   ]
  },
  {
   "cell_type": "code",
   "execution_count": 117,
   "metadata": {},
   "outputs": [
    {
     "name": "stdout",
     "output_type": "stream",
     "text": [
      "[[1.112e+01 4.800e-01 2.000e-02 ... 1.200e-01 6.000e-02 3.000e-01]\n",
      " [2.340e+01 2.000e-01 0.000e+00 ... 2.000e-02 0.000e+00 3.800e-01]\n",
      " [1.672e+01 1.000e-01 0.000e+00 ... 0.000e+00 8.000e-02 2.600e-01]\n",
      " ...\n",
      " [1.896e+01 4.000e-02 0.000e+00 ... 0.000e+00 2.000e-02 3.800e-01]\n",
      " [3.410e+01 0.000e+00 0.000e+00 ... 0.000e+00 6.000e-02 9.400e-01]\n",
      " [2.722e+01 6.000e-02 0.000e+00 ... 0.000e+00 1.000e-01 4.800e-01]]\n",
      "[0 1 1 ... 1 1 1]\n",
      "(8675,)\n",
      "(8675, 7)\n",
      "(868, 7)\n",
      "60.27 %\n",
      "[1]\n"
     ]
    }
   ],
   "source": [
    "XX = df.drop(['type','posts','I-E','N-S','T-F','J-P'], axis=1).values\n",
    "yy = df['J-P'].values\n",
    "print(XX)\n",
    "print(yy)\n",
    "\n",
    "print(yy.shape)\n",
    "print(XX.shape)\n",
    "\n",
    "XX_train,XX_test,yy_train,yy_test=train_test_split(XX,yy,test_size = 0.1, random_state=5)\n",
    "\n",
    "logregg = LogisticRegression()\n",
    "logregg.fit(XX_train, yy_train)\n",
    "\n",
    "Y_predd = logregg.predict(XX_test)\n",
    "print(XX_test.shape)\n",
    "\n",
    "acc_logg = round(logregg.score(XX_train, yy_train) * 100, 2)\n",
    "print(round(acc_logg,2,), \"%\")\n",
    "\n",
    "text = \"Third year Management Engineering undergraduate student at the University of Waterloo with an interest for the intersection of technology and entrepreneurship, startup investment and data analysis. By being involved in the entrepreneurship and investment scene in Toronto, I have noticed that connecting with new people, supporting young entrepreneurs as well as learning more about the challenges that founders face excites me the most. I truly enjoy putting myself outside of my comfort zone, and completing the tasks that I was afraid to commence. I aim to remain uncomfortable, expand my network and extend my knowledge!\"\n",
    "data= [[len(text.split())/50,text.count('?')/50,text.count('...')/50,text.count('!')/50,text.count('music')/50,text.count('http')/50,text.count('jpg')/50]]\n",
    "data_frame = pd.DataFrame(data, columns = ['words_per_comment','question_per_comment','ellipsis_per_comment','excl_per_comment','music_per_comment','http_per_comment','img_per_comment']) \n",
    "Y_predd = logregg.predict(data_frame)\n",
    "print(Y_predd)"
   ]
  },
  {
   "cell_type": "code",
   "execution_count": 119,
   "metadata": {},
   "outputs": [
    {
     "data": {
      "text/html": [
       "<div>\n",
       "<style scoped>\n",
       "    .dataframe tbody tr th:only-of-type {\n",
       "        vertical-align: middle;\n",
       "    }\n",
       "\n",
       "    .dataframe tbody tr th {\n",
       "        vertical-align: top;\n",
       "    }\n",
       "\n",
       "    .dataframe thead th {\n",
       "        text-align: right;\n",
       "    }\n",
       "</style>\n",
       "<table border=\"1\" class=\"dataframe\">\n",
       "  <thead>\n",
       "    <tr style=\"text-align: right;\">\n",
       "      <th></th>\n",
       "      <th>words_per_comment</th>\n",
       "      <th>http_per_comment</th>\n",
       "      <th>music_per_comment</th>\n",
       "      <th>question_per_comment</th>\n",
       "      <th>img_per_comment</th>\n",
       "      <th>excl_per_comment</th>\n",
       "      <th>ellipsis_per_comment</th>\n",
       "      <th>N-S</th>\n",
       "      <th>T-F</th>\n",
       "      <th>J-P</th>\n",
       "    </tr>\n",
       "    <tr>\n",
       "      <th>I-E</th>\n",
       "      <th></th>\n",
       "      <th></th>\n",
       "      <th></th>\n",
       "      <th></th>\n",
       "      <th></th>\n",
       "      <th></th>\n",
       "      <th></th>\n",
       "      <th></th>\n",
       "      <th></th>\n",
       "      <th></th>\n",
       "    </tr>\n",
       "  </thead>\n",
       "  <tbody>\n",
       "    <tr>\n",
       "      <th>0</th>\n",
       "      <td>24.505704</td>\n",
       "      <td>0.070728</td>\n",
       "      <td>0.013041</td>\n",
       "      <td>0.211549</td>\n",
       "      <td>0.014563</td>\n",
       "      <td>0.151114</td>\n",
       "      <td>0.660923</td>\n",
       "      <td>0.146645</td>\n",
       "      <td>0.560066</td>\n",
       "      <td>0.560815</td>\n",
       "    </tr>\n",
       "    <tr>\n",
       "      <th>1</th>\n",
       "      <td>24.588704</td>\n",
       "      <td>0.050595</td>\n",
       "      <td>0.010075</td>\n",
       "      <td>0.224872</td>\n",
       "      <td>0.011986</td>\n",
       "      <td>0.229105</td>\n",
       "      <td>0.667704</td>\n",
       "      <td>0.109055</td>\n",
       "      <td>0.477739</td>\n",
       "      <td>0.748874</td>\n",
       "    </tr>\n",
       "  </tbody>\n",
       "</table>\n",
       "</div>"
      ],
      "text/plain": [
       "     words_per_comment  http_per_comment  music_per_comment  \\\n",
       "I-E                                                           \n",
       "0            24.505704          0.070728           0.013041   \n",
       "1            24.588704          0.050595           0.010075   \n",
       "\n",
       "     question_per_comment  img_per_comment  excl_per_comment  \\\n",
       "I-E                                                            \n",
       "0                0.211549         0.014563          0.151114   \n",
       "1                0.224872         0.011986          0.229105   \n",
       "\n",
       "     ellipsis_per_comment       N-S       T-F       J-P  \n",
       "I-E                                                      \n",
       "0                0.660923  0.146645  0.560066  0.560815  \n",
       "1                0.667704  0.109055  0.477739  0.748874  "
      ]
     },
     "execution_count": 119,
     "metadata": {},
     "output_type": "execute_result"
    }
   ],
   "source": [
    "df.groupby(['I-E']).mean()\n"
   ]
  },
  {
   "cell_type": "code",
   "execution_count": 120,
   "metadata": {},
   "outputs": [
    {
     "data": {
      "text/html": [
       "<div>\n",
       "<style scoped>\n",
       "    .dataframe tbody tr th:only-of-type {\n",
       "        vertical-align: middle;\n",
       "    }\n",
       "\n",
       "    .dataframe tbody tr th {\n",
       "        vertical-align: top;\n",
       "    }\n",
       "\n",
       "    .dataframe thead th {\n",
       "        text-align: right;\n",
       "    }\n",
       "</style>\n",
       "<table border=\"1\" class=\"dataframe\">\n",
       "  <thead>\n",
       "    <tr style=\"text-align: right;\">\n",
       "      <th></th>\n",
       "      <th>words_per_comment</th>\n",
       "      <th>http_per_comment</th>\n",
       "      <th>music_per_comment</th>\n",
       "      <th>question_per_comment</th>\n",
       "      <th>img_per_comment</th>\n",
       "      <th>excl_per_comment</th>\n",
       "      <th>ellipsis_per_comment</th>\n",
       "      <th>I-E</th>\n",
       "      <th>T-F</th>\n",
       "      <th>J-P</th>\n",
       "    </tr>\n",
       "    <tr>\n",
       "      <th>N-S</th>\n",
       "      <th></th>\n",
       "      <th></th>\n",
       "      <th></th>\n",
       "      <th></th>\n",
       "      <th></th>\n",
       "      <th></th>\n",
       "      <th></th>\n",
       "      <th></th>\n",
       "      <th></th>\n",
       "      <th></th>\n",
       "    </tr>\n",
       "  </thead>\n",
       "  <tbody>\n",
       "    <tr>\n",
       "      <th>0</th>\n",
       "      <td>24.678895</td>\n",
       "      <td>0.065017</td>\n",
       "      <td>0.012378</td>\n",
       "      <td>0.214260</td>\n",
       "      <td>0.013977</td>\n",
       "      <td>0.169955</td>\n",
       "      <td>0.671115</td>\n",
       "      <td>0.238165</td>\n",
       "      <td>0.557235</td>\n",
       "      <td>0.601230</td>\n",
       "    </tr>\n",
       "    <tr>\n",
       "      <th>1</th>\n",
       "      <td>23.562339</td>\n",
       "      <td>0.072782</td>\n",
       "      <td>0.012231</td>\n",
       "      <td>0.216859</td>\n",
       "      <td>0.013918</td>\n",
       "      <td>0.163659</td>\n",
       "      <td>0.608571</td>\n",
       "      <td>0.182122</td>\n",
       "      <td>0.440267</td>\n",
       "      <td>0.622389</td>\n",
       "    </tr>\n",
       "  </tbody>\n",
       "</table>\n",
       "</div>"
      ],
      "text/plain": [
       "     words_per_comment  http_per_comment  music_per_comment  \\\n",
       "N-S                                                           \n",
       "0            24.678895          0.065017           0.012378   \n",
       "1            23.562339          0.072782           0.012231   \n",
       "\n",
       "     question_per_comment  img_per_comment  excl_per_comment  \\\n",
       "N-S                                                            \n",
       "0                0.214260         0.013977          0.169955   \n",
       "1                0.216859         0.013918          0.163659   \n",
       "\n",
       "     ellipsis_per_comment       I-E       T-F       J-P  \n",
       "N-S                                                      \n",
       "0                0.671115  0.238165  0.557235  0.601230  \n",
       "1                0.608571  0.182122  0.440267  0.622389  "
      ]
     },
     "execution_count": 120,
     "metadata": {},
     "output_type": "execute_result"
    }
   ],
   "source": [
    "df.groupby(['N-S']).mean()"
   ]
  },
  {
   "cell_type": "code",
   "execution_count": 121,
   "metadata": {},
   "outputs": [
    {
     "data": {
      "text/html": [
       "<div>\n",
       "<style scoped>\n",
       "    .dataframe tbody tr th:only-of-type {\n",
       "        vertical-align: middle;\n",
       "    }\n",
       "\n",
       "    .dataframe tbody tr th {\n",
       "        vertical-align: top;\n",
       "    }\n",
       "\n",
       "    .dataframe thead th {\n",
       "        text-align: right;\n",
       "    }\n",
       "</style>\n",
       "<table border=\"1\" class=\"dataframe\">\n",
       "  <thead>\n",
       "    <tr style=\"text-align: right;\">\n",
       "      <th></th>\n",
       "      <th>words_per_comment</th>\n",
       "      <th>http_per_comment</th>\n",
       "      <th>music_per_comment</th>\n",
       "      <th>question_per_comment</th>\n",
       "      <th>img_per_comment</th>\n",
       "      <th>excl_per_comment</th>\n",
       "      <th>ellipsis_per_comment</th>\n",
       "      <th>I-E</th>\n",
       "      <th>N-S</th>\n",
       "      <th>J-P</th>\n",
       "    </tr>\n",
       "    <tr>\n",
       "      <th>T-F</th>\n",
       "      <th></th>\n",
       "      <th></th>\n",
       "      <th></th>\n",
       "      <th></th>\n",
       "      <th></th>\n",
       "      <th></th>\n",
       "      <th></th>\n",
       "      <th></th>\n",
       "      <th></th>\n",
       "      <th></th>\n",
       "    </tr>\n",
       "  </thead>\n",
       "  <tbody>\n",
       "    <tr>\n",
       "      <th>0</th>\n",
       "      <td>23.941628</td>\n",
       "      <td>0.063969</td>\n",
       "      <td>0.010158</td>\n",
       "      <td>0.220784</td>\n",
       "      <td>0.014509</td>\n",
       "      <td>0.117036</td>\n",
       "      <td>0.627626</td>\n",
       "      <td>0.262246</td>\n",
       "      <td>0.168299</td>\n",
       "      <td>0.606631</td>\n",
       "    </tr>\n",
       "    <tr>\n",
       "      <th>1</th>\n",
       "      <td>25.019446</td>\n",
       "      <td>0.067887</td>\n",
       "      <td>0.014222</td>\n",
       "      <td>0.209391</td>\n",
       "      <td>0.013511</td>\n",
       "      <td>0.213230</td>\n",
       "      <td>0.692049</td>\n",
       "      <td>0.203451</td>\n",
       "      <td>0.112271</td>\n",
       "      <td>0.602045</td>\n",
       "    </tr>\n",
       "  </tbody>\n",
       "</table>\n",
       "</div>"
      ],
      "text/plain": [
       "     words_per_comment  http_per_comment  music_per_comment  \\\n",
       "T-F                                                           \n",
       "0            23.941628          0.063969           0.010158   \n",
       "1            25.019446          0.067887           0.014222   \n",
       "\n",
       "     question_per_comment  img_per_comment  excl_per_comment  \\\n",
       "T-F                                                            \n",
       "0                0.220784         0.014509          0.117036   \n",
       "1                0.209391         0.013511          0.213230   \n",
       "\n",
       "     ellipsis_per_comment       I-E       N-S       J-P  \n",
       "T-F                                                      \n",
       "0                0.627626  0.262246  0.168299  0.606631  \n",
       "1                0.692049  0.203451  0.112271  0.602045  "
      ]
     },
     "execution_count": 121,
     "metadata": {},
     "output_type": "execute_result"
    }
   ],
   "source": [
    "df.groupby(['T-F']).mean()"
   ]
  },
  {
   "cell_type": "code",
   "execution_count": 122,
   "metadata": {},
   "outputs": [
    {
     "data": {
      "text/html": [
       "<div>\n",
       "<style scoped>\n",
       "    .dataframe tbody tr th:only-of-type {\n",
       "        vertical-align: middle;\n",
       "    }\n",
       "\n",
       "    .dataframe tbody tr th {\n",
       "        vertical-align: top;\n",
       "    }\n",
       "\n",
       "    .dataframe thead th {\n",
       "        text-align: right;\n",
       "    }\n",
       "</style>\n",
       "<table border=\"1\" class=\"dataframe\">\n",
       "  <thead>\n",
       "    <tr style=\"text-align: right;\">\n",
       "      <th></th>\n",
       "      <th>words_per_comment</th>\n",
       "      <th>http_per_comment</th>\n",
       "      <th>music_per_comment</th>\n",
       "      <th>question_per_comment</th>\n",
       "      <th>img_per_comment</th>\n",
       "      <th>excl_per_comment</th>\n",
       "      <th>ellipsis_per_comment</th>\n",
       "      <th>I-E</th>\n",
       "      <th>N-S</th>\n",
       "      <th>T-F</th>\n",
       "    </tr>\n",
       "    <tr>\n",
       "      <th>J-P</th>\n",
       "      <th></th>\n",
       "      <th></th>\n",
       "      <th></th>\n",
       "      <th></th>\n",
       "      <th></th>\n",
       "      <th></th>\n",
       "      <th></th>\n",
       "      <th></th>\n",
       "      <th></th>\n",
       "      <th></th>\n",
       "    </tr>\n",
       "  </thead>\n",
       "  <tbody>\n",
       "    <tr>\n",
       "      <th>0</th>\n",
       "      <td>24.841736</td>\n",
       "      <td>0.062924</td>\n",
       "      <td>0.010303</td>\n",
       "      <td>0.212726</td>\n",
       "      <td>0.013262</td>\n",
       "      <td>0.161928</td>\n",
       "      <td>0.678893</td>\n",
       "      <td>0.146185</td>\n",
       "      <td>0.131625</td>\n",
       "      <td>0.543972</td>\n",
       "    </tr>\n",
       "    <tr>\n",
       "      <th>1</th>\n",
       "      <td>24.317188</td>\n",
       "      <td>0.068163</td>\n",
       "      <td>0.013703</td>\n",
       "      <td>0.215860</td>\n",
       "      <td>0.014432</td>\n",
       "      <td>0.173776</td>\n",
       "      <td>0.651734</td>\n",
       "      <td>0.285633</td>\n",
       "      <td>0.142148</td>\n",
       "      <td>0.539210</td>\n",
       "    </tr>\n",
       "  </tbody>\n",
       "</table>\n",
       "</div>"
      ],
      "text/plain": [
       "     words_per_comment  http_per_comment  music_per_comment  \\\n",
       "J-P                                                           \n",
       "0            24.841736          0.062924           0.010303   \n",
       "1            24.317188          0.068163           0.013703   \n",
       "\n",
       "     question_per_comment  img_per_comment  excl_per_comment  \\\n",
       "J-P                                                            \n",
       "0                0.212726         0.013262          0.161928   \n",
       "1                0.215860         0.014432          0.173776   \n",
       "\n",
       "     ellipsis_per_comment       I-E       N-S       T-F  \n",
       "J-P                                                      \n",
       "0                0.678893  0.146185  0.131625  0.543972  \n",
       "1                0.651734  0.285633  0.142148  0.539210  "
      ]
     },
     "execution_count": 122,
     "metadata": {},
     "output_type": "execute_result"
    }
   ],
   "source": [
    "df.groupby(['J-P']).mean()"
   ]
  },
  {
   "cell_type": "code",
   "execution_count": 123,
   "metadata": {},
   "outputs": [
    {
     "name": "stdout",
     "output_type": "stream",
     "text": [
      "[[1.112e+01 4.800e-01 2.000e-02 ... 1.200e-01 6.000e-02 3.000e-01]\n",
      " [2.340e+01 2.000e-01 0.000e+00 ... 2.000e-02 0.000e+00 3.800e-01]\n",
      " [1.672e+01 1.000e-01 0.000e+00 ... 0.000e+00 8.000e-02 2.600e-01]\n",
      " ...\n",
      " [1.896e+01 4.000e-02 0.000e+00 ... 0.000e+00 2.000e-02 3.800e-01]\n",
      " [3.410e+01 0.000e+00 0.000e+00 ... 0.000e+00 6.000e-02 9.400e-01]\n",
      " [2.722e+01 6.000e-02 0.000e+00 ... 0.000e+00 1.000e-01 4.800e-01]]\n",
      "[1 0 0 ... 0 1 1]\n",
      "(8675,)\n",
      "(8675, 7)\n",
      "(868, 7)\n",
      "62.84 %\n",
      "[0]\n"
     ]
    }
   ],
   "source": [
    "XX = df.drop(['type','posts','I-E','N-S','T-F','J-P'], axis=1).values\n",
    "yy = df['T-F'].values\n",
    "print(XX)\n",
    "print(yy)\n",
    "\n",
    "print(yy.shape)\n",
    "print(XX.shape)\n",
    "\n",
    "XX_train,XX_test,yy_train,yy_test=train_test_split(XX,yy,test_size = 0.1, random_state=5)\n",
    "\n",
    "logregg = LogisticRegression()\n",
    "logregg.fit(XX_train, yy_train)\n",
    "\n",
    "Y_predd = logregg.predict(XX_test)\n",
    "print(XX_test.shape)\n",
    "\n",
    "acc_logg = round(logregg.score(XX_train, yy_train) * 100, 2)\n",
    "print(round(acc_logg,2,), \"%\")\n",
    "\n",
    "text = \"Serial entrepreneur passionate about building technology companies. Driven with enormous energy to lead and grow successful ventures. Public Board Director. Angel Investor. Speaker on disruption and innovation.\"\n",
    "data= [[len(text.split())/50,text.count('?')/50,text.count('...')/50,text.count('!')/50,text.count('music')/50,text.count('http')/50,text.count('jpg')/50]]\n",
    "data_frame = pd.DataFrame(data, columns = ['words_per_comment','question_per_comment','ellipsis_per_comment','excl_per_comment','music_per_comment','http_per_comment','img_per_comment']) \n",
    "Y_predd = logregg.predict(data_frame)\n",
    "print(Y_predd)"
   ]
  },
  {
   "cell_type": "code",
   "execution_count": 124,
   "metadata": {},
   "outputs": [
    {
     "name": "stdout",
     "output_type": "stream",
     "text": [
      "[[1.112e+01 4.800e-01 2.000e-02 ... 1.200e-01 6.000e-02 3.000e-01]\n",
      " [2.340e+01 2.000e-01 0.000e+00 ... 2.000e-02 0.000e+00 3.800e-01]\n",
      " [1.672e+01 1.000e-01 0.000e+00 ... 0.000e+00 8.000e-02 2.600e-01]\n",
      " ...\n",
      " [1.896e+01 4.000e-02 0.000e+00 ... 0.000e+00 2.000e-02 3.800e-01]\n",
      " [3.410e+01 0.000e+00 0.000e+00 ... 0.000e+00 6.000e-02 9.400e-01]\n",
      " [2.722e+01 6.000e-02 0.000e+00 ... 0.000e+00 1.000e-01 4.800e-01]]\n",
      "[0 0 0 ... 0 0 0]\n",
      "(8675,)\n",
      "(8675, 7)\n",
      "(868, 7)\n",
      "86.03 %\n",
      "[0]\n"
     ]
    }
   ],
   "source": [
    "XX = df.drop(['type','posts','I-E','N-S','T-F','J-P'], axis=1).values\n",
    "yy = df['N-S'].values\n",
    "print(XX)\n",
    "print(yy)\n",
    "\n",
    "print(yy.shape)\n",
    "print(XX.shape)\n",
    "\n",
    "XX_train,XX_test,yy_train,yy_test=train_test_split(XX,yy,test_size = 0.1, random_state=5)\n",
    "\n",
    "logregg = LogisticRegression()\n",
    "logregg.fit(XX_train, yy_train)\n",
    "\n",
    "Y_predd = logregg.predict(XX_test)\n",
    "print(XX_test.shape)\n",
    "\n",
    "acc_logg = round(logregg.score(XX_train, yy_train) * 100, 2)\n",
    "print(round(acc_logg,2,), \"%\")\n",
    "\n",
    "text = \"Serial entrepreneur passionate about building technology companies. Driven with enormous energy to lead and grow successful ventures. Public Board Director. Angel Investor. Speaker on disruption and innovation.\"\n",
    "data= [[len(text.split())/50,text.count('?')/50,text.count('...')/50,text.count('!')/50,text.count('music')/50,text.count('http')/50,text.count('jpg')/50]]\n",
    "data_frame = pd.DataFrame(data, columns = ['words_per_comment','question_per_comment','ellipsis_per_comment','excl_per_comment','music_per_comment','http_per_comment','img_per_comment']) \n",
    "Y_predd = logregg.predict(data_frame)\n",
    "print(Y_predd)"
   ]
  },
  {
   "cell_type": "code",
   "execution_count": 125,
   "metadata": {},
   "outputs": [
    {
     "name": "stdout",
     "output_type": "stream",
     "text": [
      "[[1.112e+01 4.800e-01 2.000e-02 ... 1.200e-01 6.000e-02 3.000e-01]\n",
      " [2.340e+01 2.000e-01 0.000e+00 ... 2.000e-02 0.000e+00 3.800e-01]\n",
      " [1.672e+01 1.000e-01 0.000e+00 ... 0.000e+00 8.000e-02 2.600e-01]\n",
      " ...\n",
      " [1.896e+01 4.000e-02 0.000e+00 ... 0.000e+00 2.000e-02 3.800e-01]\n",
      " [3.410e+01 0.000e+00 0.000e+00 ... 0.000e+00 6.000e-02 9.400e-01]\n",
      " [2.722e+01 6.000e-02 0.000e+00 ... 0.000e+00 1.000e-01 4.800e-01]]\n",
      "[1 0 0 ... 0 1 1]\n",
      "(8675,)\n",
      "(8675, 7)\n",
      "(868, 7)\n",
      "62.84 %\n",
      "[0]\n"
     ]
    }
   ],
   "source": [
    "XX = df.drop(['type','posts','I-E','N-S','T-F','J-P'], axis=1).values\n",
    "yy = df['T-F'].values\n",
    "print(XX)\n",
    "print(yy)\n",
    "\n",
    "print(yy.shape)\n",
    "print(XX.shape)\n",
    "\n",
    "XX_train,XX_test,yy_train,yy_test=train_test_split(XX,yy,test_size = 0.1, random_state=5)\n",
    "\n",
    "logregg = LogisticRegression()\n",
    "logregg.fit(XX_train, yy_train)\n",
    "\n",
    "Y_predd = logregg.predict(XX_test)\n",
    "print(XX_test.shape)\n",
    "\n",
    "acc_logg = round(logregg.score(XX_train, yy_train) * 100, 2)\n",
    "print(round(acc_logg,2,), \"%\")\n",
    "\n",
    "text = \"Serial entrepreneur passionate about building technology companies. Driven with enormous energy to lead and grow successful ventures. Public Board Director. Angel Investor. Speaker on disruption and innovation.\"\n",
    "data= [[len(text.split())/50,text.count('?')/50,text.count('...')/50,text.count('!')/50,text.count('music')/50,text.count('http')/50,text.count('jpg')/50]]\n",
    "data_frame = pd.DataFrame(data, columns = ['words_per_comment','question_per_comment','ellipsis_per_comment','excl_per_comment','music_per_comment','http_per_comment','img_per_comment']) \n",
    "Y_predd = logregg.predict(data_frame)\n",
    "print(Y_predd)"
   ]
  },
  {
   "cell_type": "code",
   "execution_count": 126,
   "metadata": {},
   "outputs": [
    {
     "name": "stdout",
     "output_type": "stream",
     "text": [
      "[[1.112e+01 4.800e-01 2.000e-02 ... 1.200e-01 6.000e-02 3.000e-01]\n",
      " [2.340e+01 2.000e-01 0.000e+00 ... 2.000e-02 0.000e+00 3.800e-01]\n",
      " [1.672e+01 1.000e-01 0.000e+00 ... 0.000e+00 8.000e-02 2.600e-01]\n",
      " ...\n",
      " [1.896e+01 4.000e-02 0.000e+00 ... 0.000e+00 2.000e-02 3.800e-01]\n",
      " [3.410e+01 0.000e+00 0.000e+00 ... 0.000e+00 6.000e-02 9.400e-01]\n",
      " [2.722e+01 6.000e-02 0.000e+00 ... 0.000e+00 1.000e-01 4.800e-01]]\n",
      "[0 1 1 ... 1 1 1]\n",
      "(8675,)\n",
      "(8675, 7)\n",
      "(868, 7)\n",
      "60.27 %\n",
      "[1]\n"
     ]
    }
   ],
   "source": [
    "XX = df.drop(['type','posts','I-E','N-S','T-F','J-P'], axis=1).values\n",
    "yy = df['J-P'].values\n",
    "print(XX)\n",
    "print(yy)\n",
    "\n",
    "print(yy.shape)\n",
    "print(XX.shape)\n",
    "\n",
    "XX_train,XX_test,yy_train,yy_test=train_test_split(XX,yy,test_size = 0.1, random_state=5)\n",
    "\n",
    "logregg = LogisticRegression()\n",
    "logregg.fit(XX_train, yy_train)\n",
    "\n",
    "Y_predd = logregg.predict(XX_test)\n",
    "print(XX_test.shape)\n",
    "\n",
    "acc_logg = round(logregg.score(XX_train, yy_train) * 100, 2)\n",
    "print(round(acc_logg,2,), \"%\")\n",
    "\n",
    "text = \"Serial entrepreneur passionate about building technology companies. Driven with enormous energy to lead and grow successful ventures. Public Board Director. Angel Investor. Speaker on disruption and innovation.\"\n",
    "data= [[len(text.split())/50,text.count('?')/50,text.count('...')/50,text.count('!')/50,text.count('music')/50,text.count('http')/50,text.count('jpg')/50]]\n",
    "data_frame = pd.DataFrame(data, columns = ['words_per_comment','question_per_comment','ellipsis_per_comment','excl_per_comment','music_per_comment','http_per_comment','img_per_comment']) \n",
    "Y_predd = logregg.predict(data_frame)\n",
    "print(Y_predd)"
   ]
  },
  {
   "cell_type": "code",
   "execution_count": 127,
   "metadata": {},
   "outputs": [
    {
     "name": "stdout",
     "output_type": "stream",
     "text": [
      "[[1.112e+01 4.800e-01 2.000e-02 ... 1.200e-01 6.000e-02 3.000e-01]\n",
      " [2.340e+01 2.000e-01 0.000e+00 ... 2.000e-02 0.000e+00 3.800e-01]\n",
      " [1.672e+01 1.000e-01 0.000e+00 ... 0.000e+00 8.000e-02 2.600e-01]\n",
      " ...\n",
      " [1.896e+01 4.000e-02 0.000e+00 ... 0.000e+00 2.000e-02 3.800e-01]\n",
      " [3.410e+01 0.000e+00 0.000e+00 ... 0.000e+00 6.000e-02 9.400e-01]\n",
      " [2.722e+01 6.000e-02 0.000e+00 ... 0.000e+00 1.000e-01 4.800e-01]]\n",
      "[1 0 0 ... 0 1 1]\n",
      "(8675,)\n",
      "(8675, 7)\n",
      "(868, 7)\n",
      "62.84 %\n",
      "[0]\n"
     ]
    }
   ],
   "source": [
    "XX = df.drop(['type','posts','I-E','N-S','T-F','J-P'], axis=1).values\n",
    "yy = df['T-F'].values\n",
    "print(XX)\n",
    "print(yy)\n",
    "\n",
    "print(yy.shape)\n",
    "print(XX.shape)\n",
    "\n",
    "XX_train,XX_test,yy_train,yy_test=train_test_split(XX,yy,test_size = 0.1, random_state=5)\n",
    "\n",
    "logregg = LogisticRegression()\n",
    "logregg.fit(XX_train, yy_train)\n",
    "\n",
    "Y_predd = logregg.predict(XX_test)\n",
    "print(XX_test.shape)\n",
    "\n",
    "acc_logg = round(logregg.score(XX_train, yy_train) * 100, 2)\n",
    "print(round(acc_logg,2,), \"%\")\n",
    "\n",
    "text = \"Building teams and companies that change people's lives\"\n",
    "data= [[len(text.split())/50,text.count('?')/50,text.count('...')/50,text.count('!')/50,text.count('music')/50,text.count('http')/50,text.count('jpg')/50]]\n",
    "data_frame = pd.DataFrame(data, columns = ['words_per_comment','question_per_comment','ellipsis_per_comment','excl_per_comment','music_per_comment','http_per_comment','img_per_comment']) \n",
    "Y_predd = logregg.predict(data_frame)\n",
    "print(Y_predd)"
   ]
  },
  {
   "cell_type": "code",
   "execution_count": 128,
   "metadata": {},
   "outputs": [
    {
     "name": "stdout",
     "output_type": "stream",
     "text": [
      "[[1.112e+01 4.800e-01 2.000e-02 ... 1.200e-01 6.000e-02 3.000e-01]\n",
      " [2.340e+01 2.000e-01 0.000e+00 ... 2.000e-02 0.000e+00 3.800e-01]\n",
      " [1.672e+01 1.000e-01 0.000e+00 ... 0.000e+00 8.000e-02 2.600e-01]\n",
      " ...\n",
      " [1.896e+01 4.000e-02 0.000e+00 ... 0.000e+00 2.000e-02 3.800e-01]\n",
      " [3.410e+01 0.000e+00 0.000e+00 ... 0.000e+00 6.000e-02 9.400e-01]\n",
      " [2.722e+01 6.000e-02 0.000e+00 ... 0.000e+00 1.000e-01 4.800e-01]]\n",
      "[0 1 0 ... 0 0 0]\n",
      "(8675,)\n",
      "(8675, 7)\n",
      "(868, 7)\n",
      "77.01 %\n",
      "[0]\n"
     ]
    }
   ],
   "source": [
    "XX = df.drop(['type','posts','I-E','N-S','T-F','J-P'], axis=1).values\n",
    "yy = df['I-E'].values\n",
    "print(XX)\n",
    "print(yy)\n",
    "\n",
    "print(yy.shape)\n",
    "print(XX.shape)\n",
    "\n",
    "XX_train,XX_test,yy_train,yy_test=train_test_split(XX,yy,test_size = 0.1, random_state=5)\n",
    "\n",
    "logregg = LogisticRegression()\n",
    "logregg.fit(XX_train, yy_train)\n",
    "\n",
    "Y_predd = logregg.predict(XX_test)\n",
    "print(XX_test.shape)\n",
    "\n",
    "acc_logg = round(logregg.score(XX_train, yy_train) * 100, 2)\n",
    "print(round(acc_logg,2,), \"%\")\n",
    "\n",
    "text = \"My latest co-op term began last September at Stratus360, Inc. where I worked as a Full Stack Developer. Stratus360 is a small to medium sized company located in Toronto, Canada, founded by Juda Marto & Martin Shaw (as seen in the picture below) and one of a handful of businesses to be awarded as a Salesforce Platinum Consulting Partner. No alt text provided for this image Like each of my past experiences, this co-op term was unique as it was my first Software Development internship. From day one I dove right in to learning about the Salesforce Lightning Platform which I would be using to develop multi-purpose web applications and handle complex data challenges. Prior to my internship I had only heard of Salesforce but had never worked with the CRM platform before. For those new to SFDC development, the Salesforce Platform can be described as a group of technologies that support the development of other technologies on top of it. Having explored both the programmatic and declarative platform features I’ve come to realize its new and innovative uses and the number of corporations, from various industries, that utilize the platform for development. Working in a smaller company has allowed me to take on many roles in the development process, owning the requirements gathering, building, testing and deployment phases of the build cycle. Throughout the 4 months I had the opportunity to work on 4 distinct client projects along with working on numerous data related tasks, some of which I have highlighted below. My first project at the company was building a Newsfeed Feature Component for a Non-Profit organization that displayed new and relevant news articles based on program access. I started out by manually building the required custom objects, fields and relationships within the Salesforce Platform and developed the component using HTML, CSS and JavaScript on the client side and Apex with embedded SOQL on the server side, to query data from the backend. In addition, I used the Salesforce Lightning Design System to create an application that uses responses design and provides a flexible, mobile-first layout. The finished Lightning Web Component was then able to be dragged and dropped onto different page layouts on the platform and based on who the logged in user was they would have access to only those articles with relevance to them. No alt text provided for this image Another full stack application that I worked on was developing a Feature Navigation component for a Security Software & Services company that displayed the firm’s product offerings and traversed through a product hierarchy tree. Essentially the component would query all of the values from the backend database and based on the content retrieved, users would be displayed cards with titles, images and descriptions of each of the products. If one product owned one or more other products, upon clicking the card you would be taken to the next level of the hierarchy. If the product card had no “child” component associated with it then upon clicking the card you would be taken to an external link that gave a further description about the selected item. Amongst some of the projects that I was working on, there were numerous data challenges that I completed as well. An example of such was creating a large Batch Apex Class on Visual Studio Code that enabled me to insert, update and upsert records and values between custom objects and between a standard and a custom object in order to maintain a company's sales and forecasting budget. Once the development for the batch job was complete I started building a test class from the ground up. Using the testSetup function from Salesforce when each individual test method is called the records will be created and once the test method has been completed the records will be removed from the database automatically. Hence, I created multiple test methods that evaluating different scenarios by running the batch and asserting specific statements. Finally, using the Developer Console, tests were run to ensure that the minimum code coverage percentage of 75% was hit and the code was ready to be deployed to the production environment. Despite taking a plethora of computer science courses throughout high school and university there are a lot of differences between completing school projects and working on large scale client solutions. This is especially true as in school we are taught a lot of theory which is tested in the form of examinations however, during a work term there are lot of resources available for us to reference such as Stack Overflow, our peers and developer documentation. In addition, a lot of key pieces of development are rarely taught in our lectures such as how to deploy code, front end and back end integration etc. Thus, this work term has truly taught me crucial skills to be a successful full stack developer and how to adapt to client needs, come up with different ways to solve an issue and how to work under tight deadlines. No alt text provided for this image Ultimately, I’m excited to have gone one step further and ended my co-op term having earned the Salesforce Platform Developer 1 Certification that highlights my understanding of the platform and brings full circle my experience having worked as a Salesforce Developer. I’m extremely grateful for all of the new skills that I’ve developed, the opportunity to work alongside so many talented individuals and participate in fun events such as dressing up for Halloween at the office, the Stratus Christmas party at the Rec Room and of course the company wide Gingerbread Decorating competition. As I head back to the University of Waterloo in the Winter, to start my 3A term in Management Engineering I’m truly taking back with me a lot of new learnings. Thanks a lot, Stratus! No alt text provided for this jpg\"\n",
    "data= [[len(text.split())/50,text.count('?')/50,text.count('...')/50,text.count('!')/50,text.count('music')/50,text.count('http')/50,text.count('jpg')/50]]\n",
    "data_frame = pd.DataFrame(data, columns = ['words_per_comment','question_per_comment','ellipsis_per_comment','excl_per_comment','music_per_comment','http_per_comment','img_per_comment']) \n",
    "Y_predd = logregg.predict(data_frame)\n",
    "print(Y_predd)"
   ]
  },
  {
   "cell_type": "code",
   "execution_count": 129,
   "metadata": {},
   "outputs": [
    {
     "name": "stdout",
     "output_type": "stream",
     "text": [
      "[[1.112e+01 4.800e-01 2.000e-02 ... 1.200e-01 6.000e-02 3.000e-01]\n",
      " [2.340e+01 2.000e-01 0.000e+00 ... 2.000e-02 0.000e+00 3.800e-01]\n",
      " [1.672e+01 1.000e-01 0.000e+00 ... 0.000e+00 8.000e-02 2.600e-01]\n",
      " ...\n",
      " [1.896e+01 4.000e-02 0.000e+00 ... 0.000e+00 2.000e-02 3.800e-01]\n",
      " [3.410e+01 0.000e+00 0.000e+00 ... 0.000e+00 6.000e-02 9.400e-01]\n",
      " [2.722e+01 6.000e-02 0.000e+00 ... 0.000e+00 1.000e-01 4.800e-01]]\n",
      "[0 0 0 ... 0 0 0]\n",
      "(8675,)\n",
      "(8675, 7)\n",
      "(868, 7)\n",
      "86.03 %\n",
      "[0]\n"
     ]
    }
   ],
   "source": [
    "XX = df.drop(['type','posts','I-E','N-S','T-F','J-P'], axis=1).values\n",
    "yy = df['N-S'].values\n",
    "print(XX)\n",
    "print(yy)\n",
    "\n",
    "print(yy.shape)\n",
    "print(XX.shape)\n",
    "\n",
    "XX_train,XX_test,yy_train,yy_test=train_test_split(XX,yy,test_size = 0.1, random_state=5)\n",
    "\n",
    "logregg = LogisticRegression()\n",
    "logregg.fit(XX_train, yy_train)\n",
    "\n",
    "Y_predd = logregg.predict(XX_test)\n",
    "print(XX_test.shape)\n",
    "\n",
    "acc_logg = round(logregg.score(XX_train, yy_train) * 100, 2)\n",
    "print(round(acc_logg,2,), \"%\")\n",
    "\n",
    "text = \"My latest co-op term began last September at Stratus360, Inc. where I worked as a Full Stack Developer. Stratus360 is a small to medium sized company located in Toronto, Canada, founded by Juda Marto & Martin Shaw (as seen in the picture below) and one of a handful of businesses to be awarded as a Salesforce Platinum Consulting Partner. No alt text provided for this image Like each of my past experiences, this co-op term was unique as it was my first Software Development internship. From day one I dove right in to learning about the Salesforce Lightning Platform which I would be using to develop multi-purpose web applications and handle complex data challenges. Prior to my internship I had only heard of Salesforce but had never worked with the CRM platform before. For those new to SFDC development, the Salesforce Platform can be described as a group of technologies that support the development of other technologies on top of it. Having explored both the programmatic and declarative platform features I’ve come to realize its new and innovative uses and the number of corporations, from various industries, that utilize the platform for development. Working in a smaller company has allowed me to take on many roles in the development process, owning the requirements gathering, building, testing and deployment phases of the build cycle. Throughout the 4 months I had the opportunity to work on 4 distinct client projects along with working on numerous data related tasks, some of which I have highlighted below. My first project at the company was building a Newsfeed Feature Component for a Non-Profit organization that displayed new and relevant news articles based on program access. I started out by manually building the required custom objects, fields and relationships within the Salesforce Platform and developed the component using HTML, CSS and JavaScript on the client side and Apex with embedded SOQL on the server side, to query data from the backend. In addition, I used the Salesforce Lightning Design System to create an application that uses responses design and provides a flexible, mobile-first layout. The finished Lightning Web Component was then able to be dragged and dropped onto different page layouts on the platform and based on who the logged in user was they would have access to only those articles with relevance to them. No alt text provided for this image Another full stack application that I worked on was developing a Feature Navigation component for a Security Software & Services company that displayed the firm’s product offerings and traversed through a product hierarchy tree. Essentially the component would query all of the values from the backend database and based on the content retrieved, users would be displayed cards with titles, images and descriptions of each of the products. If one product owned one or more other products, upon clicking the card you would be taken to the next level of the hierarchy. If the product card had no “child” component associated with it then upon clicking the card you would be taken to an external link that gave a further description about the selected item. Amongst some of the projects that I was working on, there were numerous data challenges that I completed as well. An example of such was creating a large Batch Apex Class on Visual Studio Code that enabled me to insert, update and upsert records and values between custom objects and between a standard and a custom object in order to maintain a company's sales and forecasting budget. Once the development for the batch job was complete I started building a test class from the ground up. Using the testSetup function from Salesforce when each individual test method is called the records will be created and once the test method has been completed the records will be removed from the database automatically. Hence, I created multiple test methods that evaluating different scenarios by running the batch and asserting specific statements. Finally, using the Developer Console, tests were run to ensure that the minimum code coverage percentage of 75% was hit and the code was ready to be deployed to the production environment. Despite taking a plethora of computer science courses throughout high school and university there are a lot of differences between completing school projects and working on large scale client solutions. This is especially true as in school we are taught a lot of theory which is tested in the form of examinations however, during a work term there are lot of resources available for us to reference such as Stack Overflow, our peers and developer documentation. In addition, a lot of key pieces of development are rarely taught in our lectures such as how to deploy code, front end and back end integration etc. Thus, this work term has truly taught me crucial skills to be a successful full stack developer and how to adapt to client needs, come up with different ways to solve an issue and how to work under tight deadlines. No alt text provided for this image Ultimately, I’m excited to have gone one step further and ended my co-op term having earned the Salesforce Platform Developer 1 Certification that highlights my understanding of the platform and brings full circle my experience having worked as a Salesforce Developer. I’m extremely grateful for all of the new skills that I’ve developed, the opportunity to work alongside so many talented individuals and participate in fun events such as dressing up for Halloween at the office, the Stratus Christmas party at the Rec Room and of course the company wide Gingerbread Decorating competition. As I head back to the University of Waterloo in the Winter, to start my 3A term in Management Engineering I’m truly taking back with me a lot of new learnings. Thanks a lot, Stratus! No alt text provided for this jpg\"\n",
    "data= [[len(text.split())/50,text.count('?')/50,text.count('...')/50,text.count('!')/50,text.count('music')/50,text.count('http')/50,text.count('jpg')/50]]\n",
    "data_frame = pd.DataFrame(data, columns = ['words_per_comment','question_per_comment','ellipsis_per_comment','excl_per_comment','music_per_comment','http_per_comment','img_per_comment']) \n",
    "Y_predd = logregg.predict(data_frame)\n",
    "print(Y_predd)"
   ]
  },
  {
   "cell_type": "code",
   "execution_count": 131,
   "metadata": {},
   "outputs": [
    {
     "name": "stdout",
     "output_type": "stream",
     "text": [
      "[[1.112e+01 4.800e-01 2.000e-02 ... 1.200e-01 6.000e-02 3.000e-01]\n",
      " [2.340e+01 2.000e-01 0.000e+00 ... 2.000e-02 0.000e+00 3.800e-01]\n",
      " [1.672e+01 1.000e-01 0.000e+00 ... 0.000e+00 8.000e-02 2.600e-01]\n",
      " ...\n",
      " [1.896e+01 4.000e-02 0.000e+00 ... 0.000e+00 2.000e-02 3.800e-01]\n",
      " [3.410e+01 0.000e+00 0.000e+00 ... 0.000e+00 6.000e-02 9.400e-01]\n",
      " [2.722e+01 6.000e-02 0.000e+00 ... 0.000e+00 1.000e-01 4.800e-01]]\n",
      "[1 0 0 ... 0 1 1]\n",
      "(8675,)\n",
      "(8675, 7)\n",
      "(868, 7)\n",
      "62.84 %\n",
      "[0]\n"
     ]
    }
   ],
   "source": [
    "XX = df.drop(['type','posts','I-E','N-S','T-F','J-P'], axis=1).values\n",
    "yy = df['T-F'].values\n",
    "print(XX)\n",
    "print(yy)\n",
    "\n",
    "print(yy.shape)\n",
    "print(XX.shape)\n",
    "\n",
    "XX_train,XX_test,yy_train,yy_test=train_test_split(XX,yy,test_size = 0.1, random_state=5)\n",
    "\n",
    "logregg = LogisticRegression()\n",
    "logregg.fit(XX_train, yy_train)\n",
    "\n",
    "Y_predd = logregg.predict(XX_test)\n",
    "print(XX_test.shape)\n",
    "\n",
    "acc_logg = round(logregg.score(XX_train, yy_train) * 100, 2)\n",
    "print(round(acc_logg,2,), \"%\")\n",
    "\n",
    "text = \"My latest co-op term began last September at Stratus360, Inc. where I worked as a Full Stack Developer. Stratus360 is a small to medium sized company located in Toronto, Canada, founded by Juda Marto & Martin Shaw (as seen in the picture below) and one of a handful of businesses to be awarded as a Salesforce Platinum Consulting Partner. No alt text provided for this image Like each of my past experiences, this co-op term was unique as it was my first Software Development internship. From day one I dove right in to learning about the Salesforce Lightning Platform which I would be using to develop multi-purpose web applications and handle complex data challenges. Prior to my internship I had only heard of Salesforce but had never worked with the CRM platform before. For those new to SFDC development, the Salesforce Platform can be described as a group of technologies that support the development of other technologies on top of it. Having explored both the programmatic and declarative platform features I’ve come to realize its new and innovative uses and the number of corporations, from various industries, that utilize the platform for development. Working in a smaller company has allowed me to take on many roles in the development process, owning the requirements gathering, building, testing and deployment phases of the build cycle. Throughout the 4 months I had the opportunity to work on 4 distinct client projects along with working on numerous data related tasks, some of which I have highlighted below. My first project at the company was building a Newsfeed Feature Component for a Non-Profit organization that displayed new and relevant news articles based on program access. I started out by manually building the required custom objects, fields and relationships within the Salesforce Platform and developed the component using HTML, CSS and JavaScript on the client side and Apex with embedded SOQL on the server side, to query data from the backend. In addition, I used the Salesforce Lightning Design System to create an application that uses responses design and provides a flexible, mobile-first layout. The finished Lightning Web Component was then able to be dragged and dropped onto different page layouts on the platform and based on who the logged in user was they would have access to only those articles with relevance to them. No alt text provided for this image Another full stack application that I worked on was developing a Feature Navigation component for a Security Software & Services company that displayed the firm’s product offerings and traversed through a product hierarchy tree. Essentially the component would query all of the values from the backend database and based on the content retrieved, users would be displayed cards with titles, images and descriptions of each of the products. If one product owned one or more other products, upon clicking the card you would be taken to the next level of the hierarchy. If the product card had no “child” component associated with it then upon clicking the card you would be taken to an external link that gave a further description about the selected item. Amongst some of the projects that I was working on, there were numerous data challenges that I completed as well. An example of such was creating a large Batch Apex Class on Visual Studio Code that enabled me to insert, update and upsert records and values between custom objects and between a standard and a custom object in order to maintain a company's sales and forecasting budget. Once the development for the batch job was complete I started building a test class from the ground up. Using the testSetup function from Salesforce when each individual test method is called the records will be created and once the test method has been completed the records will be removed from the database automatically. Hence, I created multiple test methods that evaluating different scenarios by running the batch and asserting specific statements. Finally, using the Developer Console, tests were run to ensure that the minimum code coverage percentage of 75% was hit and the code was ready to be deployed to the production environment. Despite taking a plethora of computer science courses throughout high school and university there are a lot of differences between completing school projects and working on large scale client solutions. This is especially true as in school we are taught a lot of theory which is tested in the form of examinations however, during a work term there are lot of resources available for us to reference such as Stack Overflow, our peers and developer documentation. In addition, a lot of key pieces of development are rarely taught in our lectures such as how to deploy code, front end and back end integration etc. Thus, this work term has truly taught me crucial skills to be a successful full stack developer and how to adapt to client needs, come up with different ways to solve an issue and how to work under tight deadlines. No alt text provided for this image Ultimately, I’m excited to have gone one step further and ended my co-op term having earned the Salesforce Platform Developer 1 Certification that highlights my understanding of the platform and brings full circle my experience having worked as a Salesforce Developer. I’m extremely grateful for all of the new skills that I’ve developed, the opportunity to work alongside so many talented individuals and participate in fun events such as dressing up for Halloween at the office, the Stratus Christmas party at the Rec Room and of course the company wide Gingerbread Decorating competition. As I head back to the University of Waterloo in the Winter, to start my 3A term in Management Engineering I’m truly taking back with me a lot of new learnings. Thanks a lot, Stratus! No alt text provided for this jpg\"\n",
    "data= [[len(text.split())/50,text.count('?')/50,text.count('...')/50,text.count('!')/50,text.count('music')/50,text.count('http')/50,text.count('jpg')/50]]\n",
    "data_frame = pd.DataFrame(data, columns = ['words_per_comment','question_per_comment','ellipsis_per_comment','excl_per_comment','music_per_comment','http_per_comment','img_per_comment']) \n",
    "Y_predd = logregg.predict(data_frame)\n",
    "print(Y_predd)"
   ]
  },
  {
   "cell_type": "code",
   "execution_count": 135,
   "metadata": {},
   "outputs": [
    {
     "name": "stdout",
     "output_type": "stream",
     "text": [
      "[[1.112e+01 4.800e-01 2.000e-02 ... 1.200e-01 6.000e-02 3.000e-01]\n",
      " [2.340e+01 2.000e-01 0.000e+00 ... 2.000e-02 0.000e+00 3.800e-01]\n",
      " [1.672e+01 1.000e-01 0.000e+00 ... 0.000e+00 8.000e-02 2.600e-01]\n",
      " ...\n",
      " [1.896e+01 4.000e-02 0.000e+00 ... 0.000e+00 2.000e-02 3.800e-01]\n",
      " [3.410e+01 0.000e+00 0.000e+00 ... 0.000e+00 6.000e-02 9.400e-01]\n",
      " [2.722e+01 6.000e-02 0.000e+00 ... 0.000e+00 1.000e-01 4.800e-01]]\n",
      "[1 0 0 ... 0 1 1]\n",
      "(8675,)\n",
      "(8675, 7)\n",
      "(868, 7)\n",
      "62.84 %\n",
      "   words_per_comment  question_per_comment  ellipsis_per_comment  \\\n",
      "0                978                     0                     0   \n",
      "\n",
      "   excl_per_comment  music_per_comment  http_per_comment  img_per_comment  \n",
      "0                 1                  0                 0                1  \n",
      "[1]\n"
     ]
    }
   ],
   "source": [
    "XX = df.drop(['type','posts','I-E','N-S','T-F','J-P'], axis=1).values\n",
    "yy = df['T-F'].values\n",
    "print(XX)\n",
    "print(yy)\n",
    "\n",
    "print(yy.shape)\n",
    "print(XX.shape)\n",
    "\n",
    "XX_train,XX_test,yy_train,yy_test=train_test_split(XX,yy,test_size = 0.1, random_state=5)\n",
    "\n",
    "logregg = LogisticRegression()\n",
    "logregg.fit(XX_train, yy_train)\n",
    "\n",
    "Y_predd = logregg.predict(XX_test)\n",
    "print(XX_test.shape)\n",
    "\n",
    "acc_logg = round(logregg.score(XX_train, yy_train) * 100, 2)\n",
    "print(round(acc_logg,2,), \"%\")\n",
    "\n",
    "text = \"My latest co-op term began last September at Stratus360, Inc. where I worked as a Full Stack Developer. Stratus360 is a small to medium sized company located in Toronto, Canada, founded by Juda Marto & Martin Shaw (as seen in the picture below) and one of a handful of businesses to be awarded as a Salesforce Platinum Consulting Partner. No alt text provided for this image Like each of my past experiences, this co-op term was unique as it was my first Software Development internship. From day one I dove right in to learning about the Salesforce Lightning Platform which I would be using to develop multi-purpose web applications and handle complex data challenges. Prior to my internship I had only heard of Salesforce but had never worked with the CRM platform before. For those new to SFDC development, the Salesforce Platform can be described as a group of technologies that support the development of other technologies on top of it. Having explored both the programmatic and declarative platform features I’ve come to realize its new and innovative uses and the number of corporations, from various industries, that utilize the platform for development. Working in a smaller company has allowed me to take on many roles in the development process, owning the requirements gathering, building, testing and deployment phases of the build cycle. Throughout the 4 months I had the opportunity to work on 4 distinct client projects along with working on numerous data related tasks, some of which I have highlighted below. My first project at the company was building a Newsfeed Feature Component for a Non-Profit organization that displayed new and relevant news articles based on program access. I started out by manually building the required custom objects, fields and relationships within the Salesforce Platform and developed the component using HTML, CSS and JavaScript on the client side and Apex with embedded SOQL on the server side, to query data from the backend. In addition, I used the Salesforce Lightning Design System to create an application that uses responses design and provides a flexible, mobile-first layout. The finished Lightning Web Component was then able to be dragged and dropped onto different page layouts on the platform and based on who the logged in user was they would have access to only those articles with relevance to them. No alt text provided for this image Another full stack application that I worked on was developing a Feature Navigation component for a Security Software & Services company that displayed the firm’s product offerings and traversed through a product hierarchy tree. Essentially the component would query all of the values from the backend database and based on the content retrieved, users would be displayed cards with titles, images and descriptions of each of the products. If one product owned one or more other products, upon clicking the card you would be taken to the next level of the hierarchy. If the product card had no “child” component associated with it then upon clicking the card you would be taken to an external link that gave a further description about the selected item. Amongst some of the projects that I was working on, there were numerous data challenges that I completed as well. An example of such was creating a large Batch Apex Class on Visual Studio Code that enabled me to insert, update and upsert records and values between custom objects and between a standard and a custom object in order to maintain a company's sales and forecasting budget. Once the development for the batch job was complete I started building a test class from the ground up. Using the testSetup function from Salesforce when each individual test method is called the records will be created and once the test method has been completed the records will be removed from the database automatically. Hence, I created multiple test methods that evaluating different scenarios by running the batch and asserting specific statements. Finally, using the Developer Console, tests were run to ensure that the minimum code coverage percentage of 75% was hit and the code was ready to be deployed to the production environment. Despite taking a plethora of computer science courses throughout high school and university there are a lot of differences between completing school projects and working on large scale client solutions. This is especially true as in school we are taught a lot of theory which is tested in the form of examinations however, during a work term there are lot of resources available for us to reference such as Stack Overflow, our peers and developer documentation. In addition, a lot of key pieces of development are rarely taught in our lectures such as how to deploy code, front end and back end integration etc. Thus, this work term has truly taught me crucial skills to be a successful full stack developer and how to adapt to client needs, come up with different ways to solve an issue and how to work under tight deadlines. No alt text provided for this image Ultimately, I’m excited to have gone one step further and ended my co-op term having earned the Salesforce Platform Developer 1 Certification that highlights my understanding of the platform and brings full circle my experience having worked as a Salesforce Developer. I’m extremely grateful for all of the new skills that I’ve developed, the opportunity to work alongside so many talented individuals and participate in fun events such as dressing up for Halloween at the office, the Stratus Christmas party at the Rec Room and of course the company wide Gingerbread Decorating competition. As I head back to the University of Waterloo in the Winter, to start my 3A term in Management Engineering I’m truly taking back with me a lot of new learnings. Thanks a lot, Stratus! No alt text provided for this jpg\"\n",
    "data= [[len(text.split()),text.count('?'),text.count('...'),text.count('!'),text.count('music'),text.count('http'),text.count('jpg')]]\n",
    "data_frame = pd.DataFrame(data, columns = ['words_per_comment','question_per_comment','ellipsis_per_comment','excl_per_comment','music_per_comment','http_per_comment','img_per_comment']) \n",
    "print(data_frame.head())\n",
    "Y_predd = logregg.predict(data_frame)\n",
    "print(Y_predd)"
   ]
  },
  {
   "cell_type": "code",
   "execution_count": 141,
   "metadata": {},
   "outputs": [
    {
     "name": "stdout",
     "output_type": "stream",
     "text": [
      "[[1.112e+01 4.800e-01 2.000e-02 ... 1.200e-01 6.000e-02 3.000e-01]\n",
      " [2.340e+01 2.000e-01 0.000e+00 ... 2.000e-02 0.000e+00 3.800e-01]\n",
      " [1.672e+01 1.000e-01 0.000e+00 ... 0.000e+00 8.000e-02 2.600e-01]\n",
      " ...\n",
      " [1.896e+01 4.000e-02 0.000e+00 ... 0.000e+00 2.000e-02 3.800e-01]\n",
      " [3.410e+01 0.000e+00 0.000e+00 ... 0.000e+00 6.000e-02 9.400e-01]\n",
      " [2.722e+01 6.000e-02 0.000e+00 ... 0.000e+00 1.000e-01 4.800e-01]]\n",
      "[1 0 0 ... 0 1 1]\n",
      "(8675,)\n",
      "(8675, 7)\n",
      "(868, 7)\n",
      "62.84 %\n",
      "   words_per_comment  question_per_comment  ellipsis_per_comment  \\\n",
      "0                515                     0                     0   \n",
      "\n",
      "   excl_per_comment  music_per_comment  http_per_comment  img_per_comment  \n",
      "0                19                  0                 0                0  \n",
      "[0]\n"
     ]
    }
   ],
   "source": [
    "XX = df.drop(['type','posts','I-E','N-S','T-F','J-P'], axis=1).values\n",
    "yy = df['T-F'].values\n",
    "print(XX)\n",
    "print(yy)\n",
    "\n",
    "print(yy.shape)\n",
    "print(XX.shape)\n",
    "\n",
    "XX_train,XX_test,yy_train,yy_test=train_test_split(XX,yy,test_size = 0.1, random_state=5)\n",
    "\n",
    "logregg = LogisticRegression()\n",
    "logregg.fit(XX_train, yy_train)\n",
    "\n",
    "Y_predd = logregg.predict(XX_test)\n",
    "print(XX_test.shape)\n",
    "\n",
    "acc_logg = round(logregg.score(XX_train, yy_train) * 100, 2)\n",
    "print(round(acc_logg,2,), \"%\")\n",
    "\n",
    "text = \"Hi! My name is Shein and I'm in the 2023 class of Architectural Engineering!Waterloo Engineering in one word:Rewarding.I chose engineering at Waterloo because…My program, Architectural engineering! The program was introduced in December 2017 while I was really struggling to figure out what I wanted to do. As soon as I heard about it, I knew that was the program I had to be in! It combined everything I was interested in, and allowed me to be both creative and logical at the same time. Additionally, the co-op program also played an influential role in my decision. It allows you to gain real world experience while in school, and figure out what you actually want to do with your degree!The best thing about my program is:I always like to say we get the best of both worlds! We get to express creativity through our studio courses, by using design programs, sketching and model making, while also applying practical knowledge in maths and sciences, such as in our mechanics and calculus courses!About my co-op experience:Co-op has been an amazing experience! It has allowed me to try out different opportunities in order to get a feel for what I want to do once I graduate. For my first co-op, I worked for an electrical contractor in Ottawa. At first I was really nervous about it, a new city (including a freezing Ottawa winter!) and a job that wasn't exactly in my field of interest. It ended up being an amazing experience, as I learned so much about the construction industry, including project management skills! The biggest takeaway from that job was that you can gain valuable experience regardless of what type of job you get, so don't limit yourself while applying! My second co-op job was with St. Michael's hospital in downtown Toronto, which was an extremely unique experience! I worked as part of the redevelopment team to help upgrade the existing campus and build a new patient care tower. The opportunity allowed me to understand how hospitals work as well as gain in-depth knowledge about construction in healthcare, as it is unlike anything else. So far, I love the co-op program, as it has allowed me to gain real world work experience, explore new places and try new things!I wish I had known before I came..There are an abundance of support available on campus and through the engineering faculty, so take advantage of them! Professors, TAs and other students are just a few examples of the great resources we have available. The engineering faculty has created a very supportive environment for all of its students, and everyone is there to help you succeed, so don't be afraid to ask questions!Outside of the classroom, I'm involved with:Engineering Ambassadors, orientation, Women in Engineering, Engineering Society and Student Ambassadors!One more thing about me:I was in your shoes a couple years ago, and definitely understand how hard it is to pick a university and a program! My advice, pick whatever feels right for you! I'm always happy to answer questions, so feel free to reach out and send me an email!\"\n",
    "data= [[len(text.split()),text.count('?'),text.count('...'),text.count('!'),text.count('music'),text.count('http'),text.count('jpg')]]\n",
    "data_frame = pd.DataFrame(data, columns = ['words_per_comment','question_per_comment','ellipsis_per_comment','excl_per_comment','music_per_comment','http_per_comment','img_per_comment']) \n",
    "print(data_frame.head())\n",
    "Y_predd = logregg.predict(data_frame)\n",
    "print(Y_predd)"
   ]
  },
  {
   "cell_type": "code",
   "execution_count": 140,
   "metadata": {},
   "outputs": [
    {
     "name": "stdout",
     "output_type": "stream",
     "text": [
      "[[1.112e+01 4.800e-01 2.000e-02 ... 1.200e-01 6.000e-02 3.000e-01]\n",
      " [2.340e+01 2.000e-01 0.000e+00 ... 2.000e-02 0.000e+00 3.800e-01]\n",
      " [1.672e+01 1.000e-01 0.000e+00 ... 0.000e+00 8.000e-02 2.600e-01]\n",
      " ...\n",
      " [1.896e+01 4.000e-02 0.000e+00 ... 0.000e+00 2.000e-02 3.800e-01]\n",
      " [3.410e+01 0.000e+00 0.000e+00 ... 0.000e+00 6.000e-02 9.400e-01]\n",
      " [2.722e+01 6.000e-02 0.000e+00 ... 0.000e+00 1.000e-01 4.800e-01]]\n",
      "[0 1 0 ... 0 0 0]\n",
      "(8675,)\n",
      "(8675, 7)\n",
      "(868, 7)\n",
      "77.01 %\n",
      "   words_per_comment  question_per_comment  ellipsis_per_comment  \\\n",
      "0                431                     0                     0   \n",
      "\n",
      "   excl_per_comment  music_per_comment  http_per_comment  img_per_comment  \n",
      "0                 4                  0                 0                0  \n",
      "[0]\n"
     ]
    }
   ],
   "source": [
    "XX = df.drop(['type','posts','I-E','N-S','T-F','J-P'], axis=1).values\n",
    "yy = df['I-E'].values\n",
    "print(XX)\n",
    "print(yy)\n",
    "\n",
    "print(yy.shape)\n",
    "print(XX.shape)\n",
    "\n",
    "XX_train,XX_test,yy_train,yy_test=train_test_split(XX,yy,test_size = 0.1, random_state=5)\n",
    "\n",
    "logregg = LogisticRegression()\n",
    "logregg.fit(XX_train, yy_train)\n",
    "\n",
    "Y_predd = logregg.predict(XX_test)\n",
    "print(XX_test.shape)\n",
    "\n",
    "acc_logg = round(logregg.score(XX_train, yy_train) * 100, 2)\n",
    "print(round(acc_logg,2,), \"%\")\n",
    "\n",
    "text = \"COVID-19 updates:University of Waterloo Coronavirus Information websiteSee list of Faculty of Engineering Modified ServicesEngineering Student AmbassadorsPeople profilesDaria YampolskyManagement Engineering 2022Daria YampolskyHi Guys!My name is Daria Yampolsky, I’m from Thornhill Ontario and am in the Management Engineering class of 2022. I love Waterloo engineering and the exceptional community here! The opportunities to get involved and meet people with the same interests are never ending. Feel free to contact me if you have any questions!Waterloo Engineering in one word:UniqueI chose Waterloo Engineering because:I chose Waterloo Engineering because it is ideal for my goal to become a highly skilled and innovative leader. At Waterloo you not only gain technical knowledge but also learn how to apply it to solve global and business problems. The variety of interdisciplinary programs, co-op opportunities and a strong sense of belonging attracted me to this engineering school. Waterloo Engineering opens many doors and provides you all the tools you need to excel in the future.The best thing about my program is:I chose management engineering because it is a one of a kind program which ideally targets my interests. The best thing about management engineering is the process of acquiring and developing a variety of skills in what I am passionate about: finance, software, industrial roles, project management, marketing and mechanical design. Working alongside and meeting people with a similar mindset and interest makes my program amazing.About Co-op:I am on my first co-op term so I have limited co-op experience. However, I already noticed that Management Engineering prepares you for a wide variety of co-op opportunities. I am very pleased with my current co-op as a Data Science Platform Technologist at Dynacare. I work on identifying use-cases where data science solutions can be applied to enhance business outcomes and add value to the company’s operations, customers and the healthcare ecosystem more broadly.I wish I had known before I came:Before I came to Waterloo I wish I’d known that there is no need to worry. Waterloo Engineering is not that intimidating and extremely competitive. If you need help with academics do not be afraid to get it, whether it is through the WEEF TAs or your classmates. Make sure you make time for the things you love! This is difficult, so time management and organization skills are a must.Outside the classroom, I’m involved with:I am involved with Engineering Ambassadors, The Industry 4.0 Design Team, Waterloo Outers club and regularly attend EngSoc events.One more thing about me:I love to travel and have been to 16 countries. I enjoy hiking and other outdoor sports. I have summited several mountains in America and Europe.\"\n",
    "data= [[len(text.split()),text.count('?'),text.count('...'),text.count('!'),text.count('music'),text.count('http'),text.count('jpg')]]\n",
    "data_frame = pd.DataFrame(data, columns = ['words_per_comment','question_per_comment','ellipsis_per_comment','excl_per_comment','music_per_comment','http_per_comment','img_per_comment']) \n",
    "print(data_frame.head())\n",
    "Y_predd = logregg.predict(data_frame)\n",
    "print(Y_predd)"
   ]
  },
  {
   "cell_type": "code",
   "execution_count": 143,
   "metadata": {},
   "outputs": [
    {
     "name": "stdout",
     "output_type": "stream",
     "text": [
      "[[1.112e+01 4.800e-01 2.000e-02 ... 1.200e-01 6.000e-02 3.000e-01]\n",
      " [2.340e+01 2.000e-01 0.000e+00 ... 2.000e-02 0.000e+00 3.800e-01]\n",
      " [1.672e+01 1.000e-01 0.000e+00 ... 0.000e+00 8.000e-02 2.600e-01]\n",
      " ...\n",
      " [1.896e+01 4.000e-02 0.000e+00 ... 0.000e+00 2.000e-02 3.800e-01]\n",
      " [3.410e+01 0.000e+00 0.000e+00 ... 0.000e+00 6.000e-02 9.400e-01]\n",
      " [2.722e+01 6.000e-02 0.000e+00 ... 0.000e+00 1.000e-01 4.800e-01]]\n",
      "[0 1 0 ... 0 0 0]\n",
      "(8675,)\n",
      "(8675, 7)\n",
      "(868, 7)\n",
      "77.01 %\n",
      "   words_per_comment  question_per_comment  ellipsis_per_comment  \\\n",
      "0                515                     0                     0   \n",
      "\n",
      "   excl_per_comment  music_per_comment  http_per_comment  img_per_comment  \n",
      "0                19                  0                 0                0  \n",
      "[1]\n"
     ]
    }
   ],
   "source": [
    "XX = df.drop(['type','posts','I-E','N-S','T-F','J-P'], axis=1).values\n",
    "yy = df['I-E'].values\n",
    "print(XX)\n",
    "print(yy)\n",
    "\n",
    "print(yy.shape)\n",
    "print(XX.shape)\n",
    "\n",
    "XX_train,XX_test,yy_train,yy_test=train_test_split(XX,yy,test_size = 0.1, random_state=5)\n",
    "\n",
    "logregg = LogisticRegression()\n",
    "logregg.fit(XX_train, yy_train)\n",
    "\n",
    "Y_predd = logregg.predict(XX_test)\n",
    "print(XX_test.shape)\n",
    "\n",
    "acc_logg = round(logregg.score(XX_train, yy_train) * 100, 2)\n",
    "print(round(acc_logg,2,), \"%\")\n",
    "\n",
    "text = \"Hi! My name is Shein and I'm in the 2023 class of Architectural Engineering!Waterloo Engineering in one word:Rewarding.I chose engineering at Waterloo because…My program, Architectural engineering! The program was introduced in December 2017 while I was really struggling to figure out what I wanted to do. As soon as I heard about it, I knew that was the program I had to be in! It combined everything I was interested in, and allowed me to be both creative and logical at the same time. Additionally, the co-op program also played an influential role in my decision. It allows you to gain real world experience while in school, and figure out what you actually want to do with your degree!The best thing about my program is:I always like to say we get the best of both worlds! We get to express creativity through our studio courses, by using design programs, sketching and model making, while also applying practical knowledge in maths and sciences, such as in our mechanics and calculus courses!About my co-op experience:Co-op has been an amazing experience! It has allowed me to try out different opportunities in order to get a feel for what I want to do once I graduate. For my first co-op, I worked for an electrical contractor in Ottawa. At first I was really nervous about it, a new city (including a freezing Ottawa winter!) and a job that wasn't exactly in my field of interest. It ended up being an amazing experience, as I learned so much about the construction industry, including project management skills! The biggest takeaway from that job was that you can gain valuable experience regardless of what type of job you get, so don't limit yourself while applying! My second co-op job was with St. Michael's hospital in downtown Toronto, which was an extremely unique experience! I worked as part of the redevelopment team to help upgrade the existing campus and build a new patient care tower. The opportunity allowed me to understand how hospitals work as well as gain in-depth knowledge about construction in healthcare, as it is unlike anything else. So far, I love the co-op program, as it has allowed me to gain real world work experience, explore new places and try new things!I wish I had known before I came..There are an abundance of support available on campus and through the engineering faculty, so take advantage of them! Professors, TAs and other students are just a few examples of the great resources we have available. The engineering faculty has created a very supportive environment for all of its students, and everyone is there to help you succeed, so don't be afraid to ask questions!Outside of the classroom, I'm involved with:Engineering Ambassadors, orientation, Women in Engineering, Engineering Society and Student Ambassadors!One more thing about me:I was in your shoes a couple years ago, and definitely understand how hard it is to pick a university and a program! My advice, pick whatever feels right for you! I'm always happy to answer questions, so feel free to reach out and send me an email!\"\n",
    "data= [[len(text.split()),text.count('?'),text.count('...'),text.count('!'),text.count('music'),text.count('http'),text.count('jpg')]]\n",
    "data_frame = pd.DataFrame(data, columns = ['words_per_comment','question_per_comment','ellipsis_per_comment','excl_per_comment','music_per_comment','http_per_comment','img_per_comment']) \n",
    "print(data_frame.head())\n",
    "Y_predd = logregg.predict(data_frame)\n",
    "print(Y_predd)"
   ]
  },
  {
   "cell_type": "code",
   "execution_count": 144,
   "metadata": {},
   "outputs": [
    {
     "name": "stdout",
     "output_type": "stream",
     "text": [
      "[[1.112e+01 4.800e-01 2.000e-02 ... 1.200e-01 6.000e-02 3.000e-01]\n",
      " [2.340e+01 2.000e-01 0.000e+00 ... 2.000e-02 0.000e+00 3.800e-01]\n",
      " [1.672e+01 1.000e-01 0.000e+00 ... 0.000e+00 8.000e-02 2.600e-01]\n",
      " ...\n",
      " [1.896e+01 4.000e-02 0.000e+00 ... 0.000e+00 2.000e-02 3.800e-01]\n",
      " [3.410e+01 0.000e+00 0.000e+00 ... 0.000e+00 6.000e-02 9.400e-01]\n",
      " [2.722e+01 6.000e-02 0.000e+00 ... 0.000e+00 1.000e-01 4.800e-01]]\n",
      "[0 1 0 ... 0 0 0]\n",
      "(8675,)\n",
      "(8675, 7)\n",
      "(868, 7)\n",
      "77.01 %\n",
      "   words_per_comment  question_per_comment  ellipsis_per_comment  \\\n",
      "0                411                     0                     0   \n",
      "\n",
      "   excl_per_comment  music_per_comment  http_per_comment  img_per_comment  \n",
      "0                 4                  0                 0                0  \n",
      "[0]\n"
     ]
    }
   ],
   "source": [
    "XX = df.drop(['type','posts','I-E','N-S','T-F','J-P'], axis=1).values\n",
    "yy = df['I-E'].values\n",
    "print(XX)\n",
    "print(yy)\n",
    "\n",
    "print(yy.shape)\n",
    "print(XX.shape)\n",
    "\n",
    "XX_train,XX_test,yy_train,yy_test=train_test_split(XX,yy,test_size = 0.1, random_state=5)\n",
    "\n",
    "logregg = LogisticRegression()\n",
    "logregg.fit(XX_train, yy_train)\n",
    "\n",
    "Y_predd = logregg.predict(XX_test)\n",
    "print(XX_test.shape)\n",
    "\n",
    "acc_logg = round(logregg.score(XX_train, yy_train) * 100, 2)\n",
    "print(round(acc_logg,2,), \"%\")\n",
    "\n",
    "text = \"Hi Guys!My name is Daria Yampolsky, I’m from Thornhill Ontario and am in the Management Engineering class of 2022. I love Waterloo engineering and the exceptional community here! The opportunities to get involved and meet people with the same interests are never ending. Feel free to contact me if you have any questions!Waterloo Engineering in one word:UniqueI chose Waterloo Engineering because:I chose Waterloo Engineering because it is ideal for my goal to become a highly skilled and innovative leader. At Waterloo you not only gain technical knowledge but also learn how to apply it to solve global and business problems. The variety of interdisciplinary programs, co-op opportunities and a strong sense of belonging attracted me to this engineering school. Waterloo Engineering opens many doors and provides you all the tools you need to excel in the future.The best thing about my program is:I chose management engineering because it is a one of a kind program which ideally targets my interests. The best thing about management engineering is the process of acquiring and developing a variety of skills in what I am passionate about: finance, software, industrial roles, project management, marketing and mechanical design. Working alongside and meeting people with a similar mindset and interest makes my program amazing.About Co-op:I am on my first co-op term so I have limited co-op experience. However, I already noticed that Management Engineering prepares you for a wide variety of co-op opportunities. I am very pleased with my current co-op as a Data Science Platform Technologist at Dynacare. I work on identifying use-cases where data science solutions can be applied to enhance business outcomes and add value to the company’s operations, customers and the healthcare ecosystem more broadly.I wish I had known before I came:Before I came to Waterloo I wish I’d known that there is no need to worry. Waterloo Engineering is not that intimidating and extremely competitive. If you need help with academics do not be afraid to get it, whether it is through the WEEF TAs or your classmates. Make sure you make time for the things you love! This is difficult, so time management and organization skills are a must.Outside the classroom, I’m involved with:I am involved with Engineering Ambassadors, The Industry 4.0 Design Team, Waterloo Outers club and regularly attend EngSoc events.One more thing about me:I love to travel and have been to 16 countries. I enjoy hiking and other outdoor sports. I have summited several mountains in America and Europe.\"\n",
    "data= [[len(text.split()),text.count('?'),text.count('...'),text.count('!'),text.count('music'),text.count('http'),text.count('jpg')]]\n",
    "data_frame = pd.DataFrame(data, columns = ['words_per_comment','question_per_comment','ellipsis_per_comment','excl_per_comment','music_per_comment','http_per_comment','img_per_comment']) \n",
    "print(data_frame.head())\n",
    "Y_predd = logregg.predict(data_frame)\n",
    "print(Y_predd)"
   ]
  },
  {
   "cell_type": "code",
   "execution_count": 145,
   "metadata": {
    "scrolled": true
   },
   "outputs": [
    {
     "name": "stdout",
     "output_type": "stream",
     "text": [
      "[[1.112e+01 4.800e-01 2.000e-02 ... 1.200e-01 6.000e-02 3.000e-01]\n",
      " [2.340e+01 2.000e-01 0.000e+00 ... 2.000e-02 0.000e+00 3.800e-01]\n",
      " [1.672e+01 1.000e-01 0.000e+00 ... 0.000e+00 8.000e-02 2.600e-01]\n",
      " ...\n",
      " [1.896e+01 4.000e-02 0.000e+00 ... 0.000e+00 2.000e-02 3.800e-01]\n",
      " [3.410e+01 0.000e+00 0.000e+00 ... 0.000e+00 6.000e-02 9.400e-01]\n",
      " [2.722e+01 6.000e-02 0.000e+00 ... 0.000e+00 1.000e-01 4.800e-01]]\n",
      "[0 0 0 ... 0 0 0]\n",
      "(8675,)\n",
      "(8675, 7)\n",
      "(868, 7)\n",
      "86.03 %\n",
      "   words_per_comment  question_per_comment  ellipsis_per_comment  \\\n",
      "0                515                     0                     0   \n",
      "\n",
      "   excl_per_comment  music_per_comment  http_per_comment  img_per_comment  \n",
      "0                19                  0                 0                0  \n",
      "[0]\n"
     ]
    }
   ],
   "source": [
    "XX = df.drop(['type','posts','I-E','N-S','T-F','J-P'], axis=1).values\n",
    "yy = df['N-S'].values\n",
    "print(XX)\n",
    "print(yy)\n",
    "\n",
    "print(yy.shape)\n",
    "print(XX.shape)\n",
    "\n",
    "XX_train,XX_test,yy_train,yy_test=train_test_split(XX,yy,test_size = 0.1, random_state=5)\n",
    "\n",
    "logregg = LogisticRegression()\n",
    "logregg.fit(XX_train, yy_train)\n",
    "\n",
    "Y_predd = logregg.predict(XX_test)\n",
    "print(XX_test.shape)\n",
    "\n",
    "acc_logg = round(logregg.score(XX_train, yy_train) * 100, 2)\n",
    "print(round(acc_logg,2,), \"%\")\n",
    "\n",
    "text = \"Hi! My name is Shein and I'm in the 2023 class of Architectural Engineering!Waterloo Engineering in one word:Rewarding.I chose engineering at Waterloo because…My program, Architectural engineering! The program was introduced in December 2017 while I was really struggling to figure out what I wanted to do. As soon as I heard about it, I knew that was the program I had to be in! It combined everything I was interested in, and allowed me to be both creative and logical at the same time. Additionally, the co-op program also played an influential role in my decision. It allows you to gain real world experience while in school, and figure out what you actually want to do with your degree!The best thing about my program is:I always like to say we get the best of both worlds! We get to express creativity through our studio courses, by using design programs, sketching and model making, while also applying practical knowledge in maths and sciences, such as in our mechanics and calculus courses!About my co-op experience:Co-op has been an amazing experience! It has allowed me to try out different opportunities in order to get a feel for what I want to do once I graduate. For my first co-op, I worked for an electrical contractor in Ottawa. At first I was really nervous about it, a new city (including a freezing Ottawa winter!) and a job that wasn't exactly in my field of interest. It ended up being an amazing experience, as I learned so much about the construction industry, including project management skills! The biggest takeaway from that job was that you can gain valuable experience regardless of what type of job you get, so don't limit yourself while applying! My second co-op job was with St. Michael's hospital in downtown Toronto, which was an extremely unique experience! I worked as part of the redevelopment team to help upgrade the existing campus and build a new patient care tower. The opportunity allowed me to understand how hospitals work as well as gain in-depth knowledge about construction in healthcare, as it is unlike anything else. So far, I love the co-op program, as it has allowed me to gain real world work experience, explore new places and try new things!I wish I had known before I came..There are an abundance of support available on campus and through the engineering faculty, so take advantage of them! Professors, TAs and other students are just a few examples of the great resources we have available. The engineering faculty has created a very supportive environment for all of its students, and everyone is there to help you succeed, so don't be afraid to ask questions!Outside of the classroom, I'm involved with:Engineering Ambassadors, orientation, Women in Engineering, Engineering Society and Student Ambassadors!One more thing about me:I was in your shoes a couple years ago, and definitely understand how hard it is to pick a university and a program! My advice, pick whatever feels right for you! I'm always happy to answer questions, so feel free to reach out and send me an email!\"\n",
    "data= [[len(text.split()),text.count('?'),text.count('...'),text.count('!'),text.count('music'),text.count('http'),text.count('jpg')]]\n",
    "data_frame = pd.DataFrame(data, columns = ['words_per_comment','question_per_comment','ellipsis_per_comment','excl_per_comment','music_per_comment','http_per_comment','img_per_comment']) \n",
    "print(data_frame.head())\n",
    "Y_predd = logregg.predict(data_frame)\n",
    "print(Y_predd)"
   ]
  },
  {
   "cell_type": "code",
   "execution_count": 146,
   "metadata": {},
   "outputs": [
    {
     "name": "stdout",
     "output_type": "stream",
     "text": [
      "[[1.112e+01 4.800e-01 2.000e-02 ... 1.200e-01 6.000e-02 3.000e-01]\n",
      " [2.340e+01 2.000e-01 0.000e+00 ... 2.000e-02 0.000e+00 3.800e-01]\n",
      " [1.672e+01 1.000e-01 0.000e+00 ... 0.000e+00 8.000e-02 2.600e-01]\n",
      " ...\n",
      " [1.896e+01 4.000e-02 0.000e+00 ... 0.000e+00 2.000e-02 3.800e-01]\n",
      " [3.410e+01 0.000e+00 0.000e+00 ... 0.000e+00 6.000e-02 9.400e-01]\n",
      " [2.722e+01 6.000e-02 0.000e+00 ... 0.000e+00 1.000e-01 4.800e-01]]\n",
      "[0 0 0 ... 0 0 0]\n",
      "(8675,)\n",
      "(8675, 7)\n",
      "(868, 7)\n",
      "86.03 %\n",
      "   words_per_comment  question_per_comment  ellipsis_per_comment  \\\n",
      "0                411                     0                     0   \n",
      "\n",
      "   excl_per_comment  music_per_comment  http_per_comment  img_per_comment  \n",
      "0                 4                  0                 0                0  \n",
      "[0]\n"
     ]
    }
   ],
   "source": [
    "XX = df.drop(['type','posts','I-E','N-S','T-F','J-P'], axis=1).values\n",
    "yy = df['N-S'].values\n",
    "print(XX)\n",
    "print(yy)\n",
    "\n",
    "print(yy.shape)\n",
    "print(XX.shape)\n",
    "\n",
    "XX_train,XX_test,yy_train,yy_test=train_test_split(XX,yy,test_size = 0.1, random_state=5)\n",
    "\n",
    "logregg = LogisticRegression()\n",
    "logregg.fit(XX_train, yy_train)\n",
    "\n",
    "Y_predd = logregg.predict(XX_test)\n",
    "print(XX_test.shape)\n",
    "\n",
    "acc_logg = round(logregg.score(XX_train, yy_train) * 100, 2)\n",
    "print(round(acc_logg,2,), \"%\")\n",
    "\n",
    "text = \"Hi Guys!My name is Daria Yampolsky, I’m from Thornhill Ontario and am in the Management Engineering class of 2022. I love Waterloo engineering and the exceptional community here! The opportunities to get involved and meet people with the same interests are never ending. Feel free to contact me if you have any questions!Waterloo Engineering in one word:UniqueI chose Waterloo Engineering because:I chose Waterloo Engineering because it is ideal for my goal to become a highly skilled and innovative leader. At Waterloo you not only gain technical knowledge but also learn how to apply it to solve global and business problems. The variety of interdisciplinary programs, co-op opportunities and a strong sense of belonging attracted me to this engineering school. Waterloo Engineering opens many doors and provides you all the tools you need to excel in the future.The best thing about my program is:I chose management engineering because it is a one of a kind program which ideally targets my interests. The best thing about management engineering is the process of acquiring and developing a variety of skills in what I am passionate about: finance, software, industrial roles, project management, marketing and mechanical design. Working alongside and meeting people with a similar mindset and interest makes my program amazing.About Co-op:I am on my first co-op term so I have limited co-op experience. However, I already noticed that Management Engineering prepares you for a wide variety of co-op opportunities. I am very pleased with my current co-op as a Data Science Platform Technologist at Dynacare. I work on identifying use-cases where data science solutions can be applied to enhance business outcomes and add value to the company’s operations, customers and the healthcare ecosystem more broadly.I wish I had known before I came:Before I came to Waterloo I wish I’d known that there is no need to worry. Waterloo Engineering is not that intimidating and extremely competitive. If you need help with academics do not be afraid to get it, whether it is through the WEEF TAs or your classmates. Make sure you make time for the things you love! This is difficult, so time management and organization skills are a must.Outside the classroom, I’m involved with:I am involved with Engineering Ambassadors, The Industry 4.0 Design Team, Waterloo Outers club and regularly attend EngSoc events.One more thing about me:I love to travel and have been to 16 countries. I enjoy hiking and other outdoor sports. I have summited several mountains in America and Europe.\"\n",
    "data= [[len(text.split()),text.count('?'),text.count('...'),text.count('!'),text.count('music'),text.count('http'),text.count('jpg')]]\n",
    "data_frame = pd.DataFrame(data, columns = ['words_per_comment','question_per_comment','ellipsis_per_comment','excl_per_comment','music_per_comment','http_per_comment','img_per_comment']) \n",
    "print(data_frame.head())\n",
    "Y_predd = logregg.predict(data_frame)\n",
    "print(Y_predd)"
   ]
  },
  {
   "cell_type": "code",
   "execution_count": 147,
   "metadata": {},
   "outputs": [
    {
     "name": "stdout",
     "output_type": "stream",
     "text": [
      "[[1.112e+01 4.800e-01 2.000e-02 ... 1.200e-01 6.000e-02 3.000e-01]\n",
      " [2.340e+01 2.000e-01 0.000e+00 ... 2.000e-02 0.000e+00 3.800e-01]\n",
      " [1.672e+01 1.000e-01 0.000e+00 ... 0.000e+00 8.000e-02 2.600e-01]\n",
      " ...\n",
      " [1.896e+01 4.000e-02 0.000e+00 ... 0.000e+00 2.000e-02 3.800e-01]\n",
      " [3.410e+01 0.000e+00 0.000e+00 ... 0.000e+00 6.000e-02 9.400e-01]\n",
      " [2.722e+01 6.000e-02 0.000e+00 ... 0.000e+00 1.000e-01 4.800e-01]]\n",
      "[1 0 0 ... 0 1 1]\n",
      "(8675,)\n",
      "(8675, 7)\n",
      "(868, 7)\n",
      "62.84 %\n",
      "   words_per_comment  question_per_comment  ellipsis_per_comment  \\\n",
      "0                515                     0                     0   \n",
      "\n",
      "   excl_per_comment  music_per_comment  http_per_comment  img_per_comment  \n",
      "0                19                  0                 0                0  \n",
      "[0]\n"
     ]
    }
   ],
   "source": [
    "XX = df.drop(['type','posts','I-E','N-S','T-F','J-P'], axis=1).values\n",
    "yy = df['T-F'].values\n",
    "print(XX)\n",
    "print(yy)\n",
    "\n",
    "print(yy.shape)\n",
    "print(XX.shape)\n",
    "\n",
    "XX_train,XX_test,yy_train,yy_test=train_test_split(XX,yy,test_size = 0.1, random_state=5)\n",
    "\n",
    "logregg = LogisticRegression()\n",
    "logregg.fit(XX_train, yy_train)\n",
    "\n",
    "Y_predd = logregg.predict(XX_test)\n",
    "print(XX_test.shape)\n",
    "\n",
    "acc_logg = round(logregg.score(XX_train, yy_train) * 100, 2)\n",
    "print(round(acc_logg,2,), \"%\")\n",
    "\n",
    "text = \"Hi! My name is Shein and I'm in the 2023 class of Architectural Engineering!Waterloo Engineering in one word:Rewarding.I chose engineering at Waterloo because…My program, Architectural engineering! The program was introduced in December 2017 while I was really struggling to figure out what I wanted to do. As soon as I heard about it, I knew that was the program I had to be in! It combined everything I was interested in, and allowed me to be both creative and logical at the same time. Additionally, the co-op program also played an influential role in my decision. It allows you to gain real world experience while in school, and figure out what you actually want to do with your degree!The best thing about my program is:I always like to say we get the best of both worlds! We get to express creativity through our studio courses, by using design programs, sketching and model making, while also applying practical knowledge in maths and sciences, such as in our mechanics and calculus courses!About my co-op experience:Co-op has been an amazing experience! It has allowed me to try out different opportunities in order to get a feel for what I want to do once I graduate. For my first co-op, I worked for an electrical contractor in Ottawa. At first I was really nervous about it, a new city (including a freezing Ottawa winter!) and a job that wasn't exactly in my field of interest. It ended up being an amazing experience, as I learned so much about the construction industry, including project management skills! The biggest takeaway from that job was that you can gain valuable experience regardless of what type of job you get, so don't limit yourself while applying! My second co-op job was with St. Michael's hospital in downtown Toronto, which was an extremely unique experience! I worked as part of the redevelopment team to help upgrade the existing campus and build a new patient care tower. The opportunity allowed me to understand how hospitals work as well as gain in-depth knowledge about construction in healthcare, as it is unlike anything else. So far, I love the co-op program, as it has allowed me to gain real world work experience, explore new places and try new things!I wish I had known before I came..There are an abundance of support available on campus and through the engineering faculty, so take advantage of them! Professors, TAs and other students are just a few examples of the great resources we have available. The engineering faculty has created a very supportive environment for all of its students, and everyone is there to help you succeed, so don't be afraid to ask questions!Outside of the classroom, I'm involved with:Engineering Ambassadors, orientation, Women in Engineering, Engineering Society and Student Ambassadors!One more thing about me:I was in your shoes a couple years ago, and definitely understand how hard it is to pick a university and a program! My advice, pick whatever feels right for you! I'm always happy to answer questions, so feel free to reach out and send me an email!\"\n",
    "data= [[len(text.split()),text.count('?'),text.count('...'),text.count('!'),text.count('music'),text.count('http'),text.count('jpg')]]\n",
    "data_frame = pd.DataFrame(data, columns = ['words_per_comment','question_per_comment','ellipsis_per_comment','excl_per_comment','music_per_comment','http_per_comment','img_per_comment']) \n",
    "print(data_frame.head())\n",
    "Y_predd = logregg.predict(data_frame)\n",
    "print(Y_predd)"
   ]
  },
  {
   "cell_type": "code",
   "execution_count": 148,
   "metadata": {},
   "outputs": [
    {
     "name": "stdout",
     "output_type": "stream",
     "text": [
      "[[1.112e+01 4.800e-01 2.000e-02 ... 1.200e-01 6.000e-02 3.000e-01]\n",
      " [2.340e+01 2.000e-01 0.000e+00 ... 2.000e-02 0.000e+00 3.800e-01]\n",
      " [1.672e+01 1.000e-01 0.000e+00 ... 0.000e+00 8.000e-02 2.600e-01]\n",
      " ...\n",
      " [1.896e+01 4.000e-02 0.000e+00 ... 0.000e+00 2.000e-02 3.800e-01]\n",
      " [3.410e+01 0.000e+00 0.000e+00 ... 0.000e+00 6.000e-02 9.400e-01]\n",
      " [2.722e+01 6.000e-02 0.000e+00 ... 0.000e+00 1.000e-01 4.800e-01]]\n",
      "[1 0 0 ... 0 1 1]\n",
      "(8675,)\n",
      "(8675, 7)\n",
      "(868, 7)\n",
      "62.84 %\n",
      "   words_per_comment  question_per_comment  ellipsis_per_comment  \\\n",
      "0                411                     0                     0   \n",
      "\n",
      "   excl_per_comment  music_per_comment  http_per_comment  img_per_comment  \n",
      "0                 4                  0                 0                0  \n",
      "[1]\n"
     ]
    }
   ],
   "source": [
    "XX = df.drop(['type','posts','I-E','N-S','T-F','J-P'], axis=1).values\n",
    "yy = df['T-F'].values\n",
    "print(XX)\n",
    "print(yy)\n",
    "\n",
    "print(yy.shape)\n",
    "print(XX.shape)\n",
    "\n",
    "XX_train,XX_test,yy_train,yy_test=train_test_split(XX,yy,test_size = 0.1, random_state=5)\n",
    "\n",
    "logregg = LogisticRegression()\n",
    "logregg.fit(XX_train, yy_train)\n",
    "\n",
    "Y_predd = logregg.predict(XX_test)\n",
    "print(XX_test.shape)\n",
    "\n",
    "acc_logg = round(logregg.score(XX_train, yy_train) * 100, 2)\n",
    "print(round(acc_logg,2,), \"%\")\n",
    "\n",
    "text = \"Hi Guys!My name is Daria Yampolsky, I’m from Thornhill Ontario and am in the Management Engineering class of 2022. I love Waterloo engineering and the exceptional community here! The opportunities to get involved and meet people with the same interests are never ending. Feel free to contact me if you have any questions!Waterloo Engineering in one word:UniqueI chose Waterloo Engineering because:I chose Waterloo Engineering because it is ideal for my goal to become a highly skilled and innovative leader. At Waterloo you not only gain technical knowledge but also learn how to apply it to solve global and business problems. The variety of interdisciplinary programs, co-op opportunities and a strong sense of belonging attracted me to this engineering school. Waterloo Engineering opens many doors and provides you all the tools you need to excel in the future.The best thing about my program is:I chose management engineering because it is a one of a kind program which ideally targets my interests. The best thing about management engineering is the process of acquiring and developing a variety of skills in what I am passionate about: finance, software, industrial roles, project management, marketing and mechanical design. Working alongside and meeting people with a similar mindset and interest makes my program amazing.About Co-op:I am on my first co-op term so I have limited co-op experience. However, I already noticed that Management Engineering prepares you for a wide variety of co-op opportunities. I am very pleased with my current co-op as a Data Science Platform Technologist at Dynacare. I work on identifying use-cases where data science solutions can be applied to enhance business outcomes and add value to the company’s operations, customers and the healthcare ecosystem more broadly.I wish I had known before I came:Before I came to Waterloo I wish I’d known that there is no need to worry. Waterloo Engineering is not that intimidating and extremely competitive. If you need help with academics do not be afraid to get it, whether it is through the WEEF TAs or your classmates. Make sure you make time for the things you love! This is difficult, so time management and organization skills are a must.Outside the classroom, I’m involved with:I am involved with Engineering Ambassadors, The Industry 4.0 Design Team, Waterloo Outers club and regularly attend EngSoc events.One more thing about me:I love to travel and have been to 16 countries. I enjoy hiking and other outdoor sports. I have summited several mountains in America and Europe.\"\n",
    "data= [[len(text.split()),text.count('?'),text.count('...'),text.count('!'),text.count('music'),text.count('http'),text.count('jpg')]]\n",
    "data_frame = pd.DataFrame(data, columns = ['words_per_comment','question_per_comment','ellipsis_per_comment','excl_per_comment','music_per_comment','http_per_comment','img_per_comment']) \n",
    "print(data_frame.head())\n",
    "Y_predd = logregg.predict(data_frame)\n",
    "print(Y_predd)"
   ]
  },
  {
   "cell_type": "code",
   "execution_count": 150,
   "metadata": {},
   "outputs": [
    {
     "name": "stdout",
     "output_type": "stream",
     "text": [
      "[[1.112e+01 4.800e-01 2.000e-02 ... 1.200e-01 6.000e-02 3.000e-01]\n",
      " [2.340e+01 2.000e-01 0.000e+00 ... 2.000e-02 0.000e+00 3.800e-01]\n",
      " [1.672e+01 1.000e-01 0.000e+00 ... 0.000e+00 8.000e-02 2.600e-01]\n",
      " ...\n",
      " [1.896e+01 4.000e-02 0.000e+00 ... 0.000e+00 2.000e-02 3.800e-01]\n",
      " [3.410e+01 0.000e+00 0.000e+00 ... 0.000e+00 6.000e-02 9.400e-01]\n",
      " [2.722e+01 6.000e-02 0.000e+00 ... 0.000e+00 1.000e-01 4.800e-01]]\n",
      "[0 1 0 ... 0 0 0]\n",
      "(8675,)\n",
      "(8675, 7)\n",
      "(868, 7)\n",
      "77.01 %\n",
      "   words_per_comment  question_per_comment  ellipsis_per_comment  \\\n",
      "0                279                     0                     0   \n",
      "\n",
      "   excl_per_comment  music_per_comment  http_per_comment  img_per_comment  \n",
      "0                 6                  0                 0                0  \n",
      "[1]\n"
     ]
    }
   ],
   "source": [
    "XX = df.drop(['type','posts','I-E','N-S','T-F','J-P'], axis=1).values\n",
    "yy = df['I-E'].values\n",
    "print(XX)\n",
    "print(yy)\n",
    "\n",
    "print(yy.shape)\n",
    "print(XX.shape)\n",
    "\n",
    "XX_train,XX_test,yy_train,yy_test=train_test_split(XX,yy,test_size = 0.1, random_state=5)\n",
    "\n",
    "logregg = LogisticRegression()\n",
    "logregg.fit(XX_train, yy_train)\n",
    "\n",
    "Y_predd = logregg.predict(XX_test)\n",
    "print(XX_test.shape)\n",
    "\n",
    "acc_logg = round(logregg.score(XX_train, yy_train) * 100, 2)\n",
    "print(round(acc_logg,2,), \"%\")\n",
    "\n",
    "text = \"Hi! My name is Emily Nairn. I am in 2B Management Engineering, and will be graduating in 2022. I am from a really small town called Cobourg, ON and knew no one at Waterloo before coming in first year. Since then, I have totally fallen in love with Waterloo Engineering and Waterloo in general :)Emily NairnWaterloo Engineering in one word:Supportive.I choose Waterloo Engineering because:The amazing co-op program. I also loved the idea of having all my classes with the same people in my cohort!The best thing about my program is:How tightknit my class is. We are all friends, in the classroom and outside of it! I know that if I ever need help understanding a concept or reviewing material before an exam, I can ask any of my classmates JAbout my Co-op experience:For my first co-op, I worked at TD as a Digital Customer Experience and Strategy intern. For my second co-op, I worked as a Cloud Analyst at Sourced Group. Both of them gave me huge insights into different roles, and the differences between working for a large and small company. I am looking forward to exploring more coops in development and product management JI wish I had known before I came:Everyone is in this together! There are tons of social and academic events in the first few weeks to ensure you get to know the rest of the first years and the supports Waterloo has to offer.Outside the classroom, I’m involved with:Since first year, I have been involved in Engineering Ambassadors, Industry 4.0 Design team, UWxPM and a few intramural teams!One more thing about me:I have been to 12 schools and UW is definitely my favourite one!\"\n",
    "data= [[len(text.split()),text.count('?'),text.count('...'),text.count('!'),text.count('music'),text.count('http'),text.count('jpg')]]\n",
    "data_frame = pd.DataFrame(data, columns = ['words_per_comment','question_per_comment','ellipsis_per_comment','excl_per_comment','music_per_comment','http_per_comment','img_per_comment']) \n",
    "print(data_frame.head())\n",
    "Y_predd = logregg.predict(data_frame)\n",
    "print(Y_predd)"
   ]
  },
  {
   "cell_type": "code",
   "execution_count": 151,
   "metadata": {},
   "outputs": [
    {
     "data": {
      "text/plain": [
       "2"
      ]
     },
     "execution_count": 151,
     "metadata": {},
     "output_type": "execute_result"
    }
   ],
   "source": [
    "s = \"I am happy :) I am sad :(\"\n",
    "s.count(':)') + s.count(':(')"
   ]
  },
  {
   "cell_type": "code",
   "execution_count": 152,
   "metadata": {},
   "outputs": [
    {
     "name": "stdout",
     "output_type": "stream",
     "text": [
      "   type                                              posts  words_per_comment  \\\n",
      "0  INFJ  'http://www.youtube.com/watch?v=qsXHcwe3krw|||...              11.12   \n",
      "1  ENTP  'I'm finding the lack of me in these posts ver...              23.40   \n",
      "2  INTP  'Good one  _____   https://www.youtube.com/wat...              16.72   \n",
      "3  INTJ  'Dear INTP,   I enjoyed our conversation the o...              21.28   \n",
      "4  ENTJ  'You're fired.|||That's another silly misconce...              19.34   \n",
      "\n",
      "   http_per_comment  music_per_comment  question_per_comment  img_per_comment  \\\n",
      "0              0.48               0.02                  0.36             0.12   \n",
      "1              0.20               0.00                  0.10             0.02   \n",
      "2              0.10               0.00                  0.24             0.00   \n",
      "3              0.04               0.02                  0.22             0.00   \n",
      "4              0.12               0.02                  0.20             0.04   \n",
      "\n",
      "   excl_per_comment  ellipsis_per_comment  I-E  N-S  T-F  J-P  \\\n",
      "0              0.06                  0.30    0    0    1    0   \n",
      "1              0.00                  0.38    1    0    0    1   \n",
      "2              0.08                  0.26    0    0    0    1   \n",
      "3              0.06                  0.52    0    0    0    0   \n",
      "4              0.02                  0.42    1    0    0    0   \n",
      "\n",
      "   emojis_per_comment  \n",
      "0                 0.0  \n",
      "1                 5.0  \n",
      "2                 7.0  \n",
      "3                 0.0  \n",
      "4                 1.0  \n"
     ]
    }
   ],
   "source": [
    "df['emojis_per_comment'] = df['posts'].apply(lambda x: (x.count(':)') + x.count(':(') + x.count(':O') + x.count(';)') + x.count(':P') + x.count(':''(') + x.count(':-D')/50))\n",
    "print(df.head())"
   ]
  },
  {
   "cell_type": "code",
   "execution_count": 157,
   "metadata": {},
   "outputs": [
    {
     "name": "stdout",
     "output_type": "stream",
     "text": [
      "[[1.112e+01 4.800e-01 2.000e-02 ... 6.000e-02 3.000e-01 0.000e+00]\n",
      " [2.340e+01 2.000e-01 0.000e+00 ... 0.000e+00 3.800e-01 5.000e+00]\n",
      " [1.672e+01 1.000e-01 0.000e+00 ... 8.000e-02 2.600e-01 7.000e+00]\n",
      " ...\n",
      " [1.896e+01 4.000e-02 0.000e+00 ... 2.000e-02 3.800e-01 0.000e+00]\n",
      " [3.410e+01 0.000e+00 0.000e+00 ... 6.000e-02 9.400e-01 0.000e+00]\n",
      " [2.722e+01 6.000e-02 0.000e+00 ... 1.000e-01 4.800e-01 8.000e+00]]\n",
      "[0 1 0 ... 0 0 0]\n",
      "(8675,)\n",
      "(8675, 8)\n",
      "(868, 8)\n",
      "77.01 %\n",
      "   words_per_comment  question_per_comment  ellipsis_per_comment  \\\n",
      "0                279                     0                     0   \n",
      "\n",
      "   excl_per_comment  music_per_comment  http_per_comment  img_per_comment  \\\n",
      "0                 6                  0                 0                0   \n",
      "\n",
      "   emojis_per_comment  \n",
      "0                   1  \n",
      "[1]\n"
     ]
    }
   ],
   "source": [
    "XX = df.drop(['type','posts','I-E','N-S','T-F','J-P'], axis=1).values\n",
    "yy = df['I-E'].values\n",
    "print(XX)\n",
    "print(yy)\n",
    "\n",
    "print(yy.shape)\n",
    "print(XX.shape)\n",
    "\n",
    "XX_train,XX_test,yy_train,yy_test=train_test_split(XX,yy,test_size = 0.1, random_state=5)\n",
    "\n",
    "logregg = LogisticRegression()\n",
    "logregg.fit(XX_train, yy_train)\n",
    "\n",
    "Y_predd = logregg.predict(XX_test)\n",
    "print(XX_test.shape)\n",
    "\n",
    "acc_logg = round(logregg.score(XX_train, yy_train) * 100, 2)\n",
    "print(round(acc_logg,2,), \"%\")\n",
    "\n",
    "text = \"Hi! My name is Emily Nairn. I am in 2B Management Engineering, and will be graduating in 2022. I am from a really small town called Cobourg, ON and knew no one at Waterloo before coming in first year. Since then, I have totally fallen in love with Waterloo Engineering and Waterloo in general :)Emily NairnWaterloo Engineering in one word:Supportive.I choose Waterloo Engineering because:The amazing co-op program. I also loved the idea of having all my classes with the same people in my cohort!The best thing about my program is:How tightknit my class is. We are all friends, in the classroom and outside of it! I know that if I ever need help understanding a concept or reviewing material before an exam, I can ask any of my classmates JAbout my Co-op experience:For my first co-op, I worked at TD as a Digital Customer Experience and Strategy intern. For my second co-op, I worked as a Cloud Analyst at Sourced Group. Both of them gave me huge insights into different roles, and the differences between working for a large and small company. I am looking forward to exploring more coops in development and product management JI wish I had known before I came:Everyone is in this together! There are tons of social and academic events in the first few weeks to ensure you get to know the rest of the first years and the supports Waterloo has to offer.Outside the classroom, I’m involved with:Since first year, I have been involved in Engineering Ambassadors, Industry 4.0 Design team, UWxPM and a few intramural teams!One more thing about me:I have been to 12 schools and UW is definitely my favourite one!\"\n",
    "data= [[len(text.split()),text.count('?'),text.count('...'),text.count('!'),text.count('music'),text.count('http'),text.count('jpg')+ text.count('image'),text.count(':)') + (text.count(':(') + text.count(':O') + text.count(';)') + text.count(':P') + text.count(':''(') + text.count(':-D'))]]\n",
    "data_frame = pd.DataFrame(data, columns = ['words_per_comment','question_per_comment','ellipsis_per_comment','excl_per_comment','music_per_comment','http_per_comment','img_per_comment','emojis_per_comment']) \n",
    "print(data_frame.head())\n",
    "Y_predd = logregg.predict(data_frame)\n",
    "print(Y_predd)"
   ]
  },
  {
   "cell_type": "code",
   "execution_count": 158,
   "metadata": {},
   "outputs": [
    {
     "ename": "KeyError",
     "evalue": "'E-I'",
     "output_type": "error",
     "traceback": [
      "\u001b[1;31m---------------------------------------------------------------------------\u001b[0m",
      "\u001b[1;31mKeyError\u001b[0m                                  Traceback (most recent call last)",
      "\u001b[1;32m<ipython-input-158-73b53aea80d6>\u001b[0m in \u001b[0;36m<module>\u001b[1;34m()\u001b[0m\n\u001b[1;32m----> 1\u001b[1;33m \u001b[0mdf\u001b[0m\u001b[1;33m.\u001b[0m\u001b[0mgroupby\u001b[0m\u001b[1;33m(\u001b[0m\u001b[1;34m'E-I'\u001b[0m\u001b[1;33m)\u001b[0m\u001b[1;33m.\u001b[0m\u001b[0mmean\u001b[0m\u001b[1;33m(\u001b[0m\u001b[1;33m)\u001b[0m\u001b[1;33m\u001b[0m\u001b[0m\n\u001b[0m",
      "\u001b[1;32m~\\Anaconda3\\lib\\site-packages\\pandas\\core\\generic.py\u001b[0m in \u001b[0;36mgroupby\u001b[1;34m(self, by, axis, level, as_index, sort, group_keys, squeeze, observed, **kwargs)\u001b[0m\n\u001b[0;32m   6657\u001b[0m         return groupby(self, by=by, axis=axis, level=level, as_index=as_index,\n\u001b[0;32m   6658\u001b[0m                        \u001b[0msort\u001b[0m\u001b[1;33m=\u001b[0m\u001b[0msort\u001b[0m\u001b[1;33m,\u001b[0m \u001b[0mgroup_keys\u001b[0m\u001b[1;33m=\u001b[0m\u001b[0mgroup_keys\u001b[0m\u001b[1;33m,\u001b[0m \u001b[0msqueeze\u001b[0m\u001b[1;33m=\u001b[0m\u001b[0msqueeze\u001b[0m\u001b[1;33m,\u001b[0m\u001b[1;33m\u001b[0m\u001b[0m\n\u001b[1;32m-> 6659\u001b[1;33m                        observed=observed, **kwargs)\n\u001b[0m\u001b[0;32m   6660\u001b[0m \u001b[1;33m\u001b[0m\u001b[0m\n\u001b[0;32m   6661\u001b[0m     def asfreq(self, freq, method=None, how=None, normalize=False,\n",
      "\u001b[1;32m~\\Anaconda3\\lib\\site-packages\\pandas\\core\\groupby\\groupby.py\u001b[0m in \u001b[0;36mgroupby\u001b[1;34m(obj, by, **kwds)\u001b[0m\n\u001b[0;32m   2150\u001b[0m         \u001b[1;32mraise\u001b[0m \u001b[0mTypeError\u001b[0m\u001b[1;33m(\u001b[0m\u001b[1;34m'invalid type: %s'\u001b[0m \u001b[1;33m%\u001b[0m \u001b[0mtype\u001b[0m\u001b[1;33m(\u001b[0m\u001b[0mobj\u001b[0m\u001b[1;33m)\u001b[0m\u001b[1;33m)\u001b[0m\u001b[1;33m\u001b[0m\u001b[0m\n\u001b[0;32m   2151\u001b[0m \u001b[1;33m\u001b[0m\u001b[0m\n\u001b[1;32m-> 2152\u001b[1;33m     \u001b[1;32mreturn\u001b[0m \u001b[0mklass\u001b[0m\u001b[1;33m(\u001b[0m\u001b[0mobj\u001b[0m\u001b[1;33m,\u001b[0m \u001b[0mby\u001b[0m\u001b[1;33m,\u001b[0m \u001b[1;33m**\u001b[0m\u001b[0mkwds\u001b[0m\u001b[1;33m)\u001b[0m\u001b[1;33m\u001b[0m\u001b[0m\n\u001b[0m\u001b[0;32m   2153\u001b[0m \u001b[1;33m\u001b[0m\u001b[0m\n\u001b[0;32m   2154\u001b[0m \u001b[1;33m\u001b[0m\u001b[0m\n",
      "\u001b[1;32m~\\Anaconda3\\lib\\site-packages\\pandas\\core\\groupby\\groupby.py\u001b[0m in \u001b[0;36m__init__\u001b[1;34m(self, obj, keys, axis, level, grouper, exclusions, selection, as_index, sort, group_keys, squeeze, observed, **kwargs)\u001b[0m\n\u001b[0;32m    597\u001b[0m                                                     \u001b[0msort\u001b[0m\u001b[1;33m=\u001b[0m\u001b[0msort\u001b[0m\u001b[1;33m,\u001b[0m\u001b[1;33m\u001b[0m\u001b[0m\n\u001b[0;32m    598\u001b[0m                                                     \u001b[0mobserved\u001b[0m\u001b[1;33m=\u001b[0m\u001b[0mobserved\u001b[0m\u001b[1;33m,\u001b[0m\u001b[1;33m\u001b[0m\u001b[0m\n\u001b[1;32m--> 599\u001b[1;33m                                                     mutated=self.mutated)\n\u001b[0m\u001b[0;32m    600\u001b[0m \u001b[1;33m\u001b[0m\u001b[0m\n\u001b[0;32m    601\u001b[0m         \u001b[0mself\u001b[0m\u001b[1;33m.\u001b[0m\u001b[0mobj\u001b[0m \u001b[1;33m=\u001b[0m \u001b[0mobj\u001b[0m\u001b[1;33m\u001b[0m\u001b[0m\n",
      "\u001b[1;32m~\\Anaconda3\\lib\\site-packages\\pandas\\core\\groupby\\groupby.py\u001b[0m in \u001b[0;36m_get_grouper\u001b[1;34m(obj, key, axis, level, sort, observed, mutated, validate)\u001b[0m\n\u001b[0;32m   3289\u001b[0m                 \u001b[0min_axis\u001b[0m\u001b[1;33m,\u001b[0m \u001b[0mname\u001b[0m\u001b[1;33m,\u001b[0m \u001b[0mlevel\u001b[0m\u001b[1;33m,\u001b[0m \u001b[0mgpr\u001b[0m \u001b[1;33m=\u001b[0m \u001b[1;32mFalse\u001b[0m\u001b[1;33m,\u001b[0m \u001b[1;32mNone\u001b[0m\u001b[1;33m,\u001b[0m \u001b[0mgpr\u001b[0m\u001b[1;33m,\u001b[0m \u001b[1;32mNone\u001b[0m\u001b[1;33m\u001b[0m\u001b[0m\n\u001b[0;32m   3290\u001b[0m             \u001b[1;32melse\u001b[0m\u001b[1;33m:\u001b[0m\u001b[1;33m\u001b[0m\u001b[0m\n\u001b[1;32m-> 3291\u001b[1;33m                 \u001b[1;32mraise\u001b[0m \u001b[0mKeyError\u001b[0m\u001b[1;33m(\u001b[0m\u001b[0mgpr\u001b[0m\u001b[1;33m)\u001b[0m\u001b[1;33m\u001b[0m\u001b[0m\n\u001b[0m\u001b[0;32m   3292\u001b[0m         \u001b[1;32melif\u001b[0m \u001b[0misinstance\u001b[0m\u001b[1;33m(\u001b[0m\u001b[0mgpr\u001b[0m\u001b[1;33m,\u001b[0m \u001b[0mGrouper\u001b[0m\u001b[1;33m)\u001b[0m \u001b[1;32mand\u001b[0m \u001b[0mgpr\u001b[0m\u001b[1;33m.\u001b[0m\u001b[0mkey\u001b[0m \u001b[1;32mis\u001b[0m \u001b[1;32mnot\u001b[0m \u001b[1;32mNone\u001b[0m\u001b[1;33m:\u001b[0m\u001b[1;33m\u001b[0m\u001b[0m\n\u001b[0;32m   3293\u001b[0m             \u001b[1;31m# Add key to exclusions\u001b[0m\u001b[1;33m\u001b[0m\u001b[1;33m\u001b[0m\u001b[0m\n",
      "\u001b[1;31mKeyError\u001b[0m: 'E-I'"
     ]
    }
   ],
   "source": [
    "df.groupby('E-I').mean()"
   ]
  },
  {
   "cell_type": "code",
   "execution_count": 159,
   "metadata": {},
   "outputs": [
    {
     "data": {
      "text/html": [
       "<div>\n",
       "<style scoped>\n",
       "    .dataframe tbody tr th:only-of-type {\n",
       "        vertical-align: middle;\n",
       "    }\n",
       "\n",
       "    .dataframe tbody tr th {\n",
       "        vertical-align: top;\n",
       "    }\n",
       "\n",
       "    .dataframe thead th {\n",
       "        text-align: right;\n",
       "    }\n",
       "</style>\n",
       "<table border=\"1\" class=\"dataframe\">\n",
       "  <thead>\n",
       "    <tr style=\"text-align: right;\">\n",
       "      <th></th>\n",
       "      <th>words_per_comment</th>\n",
       "      <th>http_per_comment</th>\n",
       "      <th>music_per_comment</th>\n",
       "      <th>question_per_comment</th>\n",
       "      <th>img_per_comment</th>\n",
       "      <th>excl_per_comment</th>\n",
       "      <th>ellipsis_per_comment</th>\n",
       "      <th>N-S</th>\n",
       "      <th>T-F</th>\n",
       "      <th>J-P</th>\n",
       "      <th>emojis_per_comment</th>\n",
       "    </tr>\n",
       "    <tr>\n",
       "      <th>I-E</th>\n",
       "      <th></th>\n",
       "      <th></th>\n",
       "      <th></th>\n",
       "      <th></th>\n",
       "      <th></th>\n",
       "      <th></th>\n",
       "      <th></th>\n",
       "      <th></th>\n",
       "      <th></th>\n",
       "      <th></th>\n",
       "      <th></th>\n",
       "    </tr>\n",
       "  </thead>\n",
       "  <tbody>\n",
       "    <tr>\n",
       "      <th>0</th>\n",
       "      <td>24.505704</td>\n",
       "      <td>0.070728</td>\n",
       "      <td>0.013041</td>\n",
       "      <td>0.211549</td>\n",
       "      <td>0.014563</td>\n",
       "      <td>0.151114</td>\n",
       "      <td>0.660923</td>\n",
       "      <td>0.146645</td>\n",
       "      <td>0.560066</td>\n",
       "      <td>0.560815</td>\n",
       "      <td>2.079512</td>\n",
       "    </tr>\n",
       "    <tr>\n",
       "      <th>1</th>\n",
       "      <td>24.588704</td>\n",
       "      <td>0.050595</td>\n",
       "      <td>0.010075</td>\n",
       "      <td>0.224872</td>\n",
       "      <td>0.011986</td>\n",
       "      <td>0.229105</td>\n",
       "      <td>0.667704</td>\n",
       "      <td>0.109055</td>\n",
       "      <td>0.477739</td>\n",
       "      <td>0.748874</td>\n",
       "      <td>2.682531</td>\n",
       "    </tr>\n",
       "  </tbody>\n",
       "</table>\n",
       "</div>"
      ],
      "text/plain": [
       "     words_per_comment  http_per_comment  music_per_comment  \\\n",
       "I-E                                                           \n",
       "0            24.505704          0.070728           0.013041   \n",
       "1            24.588704          0.050595           0.010075   \n",
       "\n",
       "     question_per_comment  img_per_comment  excl_per_comment  \\\n",
       "I-E                                                            \n",
       "0                0.211549         0.014563          0.151114   \n",
       "1                0.224872         0.011986          0.229105   \n",
       "\n",
       "     ellipsis_per_comment       N-S       T-F       J-P  emojis_per_comment  \n",
       "I-E                                                                          \n",
       "0                0.660923  0.146645  0.560066  0.560815            2.079512  \n",
       "1                0.667704  0.109055  0.477739  0.748874            2.682531  "
      ]
     },
     "execution_count": 159,
     "metadata": {},
     "output_type": "execute_result"
    }
   ],
   "source": [
    "df.groupby('I-E').mean()"
   ]
  },
  {
   "cell_type": "code",
   "execution_count": 169,
   "metadata": {
    "scrolled": true
   },
   "outputs": [
    {
     "name": "stdout",
     "output_type": "stream",
     "text": [
      "1 of 8675 rows\n",
      "500 of 8675 rows\n",
      "1000 of 8675 rows\n",
      "1500 of 8675 rows\n",
      "2000 of 8675 rows\n",
      "2500 of 8675 rows\n",
      "3000 of 8675 rows\n",
      "3500 of 8675 rows\n",
      "4000 of 8675 rows\n",
      "4500 of 8675 rows\n",
      "5000 of 8675 rows\n",
      "5500 of 8675 rows\n",
      "6000 of 8675 rows\n",
      "6500 of 8675 rows\n",
      "7000 of 8675 rows\n",
      "7500 of 8675 rows\n",
      "8000 of 8675 rows\n",
      "8500 of 8675 rows\n",
      "8675 of 8675 rows\n",
      "CountVectorizer...\n",
      "Tf-idf...\n"
     ]
    }
   ],
   "source": [
    "from nltk.stem import PorterStemmer, WordNetLemmatizer\n",
    "from nltk.corpus import stopwords \n",
    "from nltk import word_tokenize\n",
    "data = pd.read_csv('C:/Users/Daria Yampolsky/Documents/3A/DSS/FinalProject/mbti-type/mbti_1.csv')\n",
    "\n",
    "map1 = {\"I\": 0, \"E\": 1}\n",
    "map2 = {\"N\": 0, \"S\": 1}\n",
    "map3 = {\"T\": 0, \"F\": 1}\n",
    "map4 = {\"J\": 0, \"P\": 1}\n",
    "data['I-E'] = data['type'].astype(str).str[0]\n",
    "data['I-E'] = data['I-E'].map(map1)\n",
    "data['N-S'] = data['type'].astype(str).str[1]\n",
    "data['N-S'] = data['N-S'].map(map2)\n",
    "data['T-F'] = data['type'].astype(str).str[2]\n",
    "data['T-F'] = data['T-F'].map(map3)\n",
    "data['J-P'] = data['type'].astype(str).str[3]\n",
    "data['J-P'] = data['J-P'].map(map4)\n",
    "\n",
    "# We want to remove these from the psosts\n",
    "unique_type_list = ['INFJ', 'ENTP', 'INTP', 'INTJ', 'ENTJ', 'ENFJ', 'INFP', 'ENFP',\n",
    "       'ISFP', 'ISTP', 'ISFJ', 'ISTJ', 'ESTP', 'ESFP', 'ESTJ', 'ESFJ']\n",
    "  \n",
    "unique_type_list = [x.lower() for x in unique_type_list]\n",
    "\n",
    "\n",
    "# Lemmatize\n",
    "stemmer = PorterStemmer()\n",
    "lemmatiser = WordNetLemmatizer()\n",
    "\n",
    "# Cache the stop words for speed \n",
    "cachedStopWords = stopwords.words(\"english\")\n",
    "\n",
    "def pre_process_data(data, remove_stop_words=True, remove_mbti_profiles=True):\n",
    "\n",
    "    list_posts = []\n",
    "    len_data = len(data)\n",
    "    i=0\n",
    "    \n",
    "    for row in data.iterrows():\n",
    "        i+=1\n",
    "        if (i % 500 == 0 or i == 1 or i == len_data):\n",
    "            print(\"%s of %s rows\" % (i, len_data))\n",
    "\n",
    "        ##### Remove and clean comments\n",
    "        posts = row[1].posts\n",
    "        temp = re.sub('http[s]?://(?:[a-zA-Z]|[0-9]|[$-_@.&+]|(?:%[0-9a-fA-F][0-9a-fA-F]))+', ' ', posts)\n",
    "        temp = re.sub(\"[^a-zA-Z]\", \" \", temp)\n",
    "        temp = re.sub(' +', ' ', temp).lower()\n",
    "        if remove_stop_words:\n",
    "            temp = \" \".join([lemmatiser.lemmatize(w) for w in temp.split(' ') if w not in cachedStopWords])\n",
    "        else:\n",
    "            temp = \" \".join([lemmatiser.lemmatize(w) for w in temp.split(' ')])\n",
    "            \n",
    "        if remove_mbti_profiles:\n",
    "            for t in unique_type_list:\n",
    "                temp = temp.replace(t,\"\")\n",
    "\n",
    "        list_posts.append(temp)\n",
    "\n",
    "    list_posts = np.array(list_posts)\n",
    "\n",
    "    return list_posts\n",
    "\n",
    "list_posts = pre_process_data(data, remove_stop_words=True)\n",
    "\n",
    "from sklearn.feature_extraction.text import TfidfTransformer\n",
    "from sklearn.feature_extraction.text import CountVectorizer\n",
    "from sklearn.manifold import TSNE\n",
    "\n",
    "# Posts to a matrix of token counts\n",
    "cntizer = CountVectorizer(analyzer=\"word\", \n",
    "                             max_features=1500, \n",
    "                             tokenizer=None,    \n",
    "                             preprocessor=None, \n",
    "                             stop_words=None,  \n",
    "                             max_df=0.7,\n",
    "                             min_df=0.1) \n",
    "\n",
    "# Learn the vocabulary dictionary and return term-document matrix\n",
    "print(\"CountVectorizer...\")\n",
    "X_cnt = cntizer.fit_transform(list_posts)\n",
    "\n",
    "# Transform the count matrix to a normalized tf or tf-idf representation\n",
    "tfizer = TfidfTransformer()\n",
    "\n",
    "print(\"Tf-idf...\")\n",
    "# Learn the idf vector (fit) and transform a count matrix to a tf-idf representation\n",
    "X_tfidf =  tfizer.fit_transform(X_cnt).toarray()"
   ]
  },
  {
   "cell_type": "code",
   "execution_count": 170,
   "metadata": {},
   "outputs": [
    {
     "data": {
      "text/plain": [
       "(8675, 791)"
      ]
     },
     "execution_count": 170,
     "metadata": {},
     "output_type": "execute_result"
    }
   ],
   "source": [
    "X_tfidf.shape"
   ]
  },
  {
   "cell_type": "code",
   "execution_count": 171,
   "metadata": {},
   "outputs": [
    {
     "data": {
      "text/plain": [
       "numpy.ndarray"
      ]
     },
     "execution_count": 171,
     "metadata": {},
     "output_type": "execute_result"
    }
   ],
   "source": [
    "type(X_tfidf)"
   ]
  },
  {
   "cell_type": "code",
   "execution_count": 172,
   "metadata": {},
   "outputs": [
    {
     "data": {
      "text/plain": [
       "array([[0.        , 0.        , 0.        , ..., 0.        , 0.        ,\n",
       "        0.        ],\n",
       "       [0.        , 0.04934057, 0.        , ..., 0.        , 0.        ,\n",
       "        0.        ],\n",
       "       [0.14651861, 0.05312313, 0.12784862, ..., 0.        , 0.        ,\n",
       "        0.        ],\n",
       "       ...,\n",
       "       [0.        , 0.        , 0.        , ..., 0.        , 0.        ,\n",
       "        0.        ],\n",
       "       [0.        , 0.06779153, 0.        , ..., 0.        , 0.        ,\n",
       "        0.        ],\n",
       "       [0.        , 0.04002664, 0.        , ..., 0.        , 0.05382869,\n",
       "        0.        ]])"
      ]
     },
     "execution_count": 172,
     "metadata": {},
     "output_type": "execute_result"
    }
   ],
   "source": [
    "X_tfidf"
   ]
  },
  {
   "cell_type": "code",
   "execution_count": 173,
   "metadata": {},
   "outputs": [
    {
     "data": {
      "text/plain": [
       "array([0.        , 0.        , 0.        , 0.        , 0.        ,\n",
       "       0.        , 0.        , 0.        , 0.        , 0.        ,\n",
       "       0.        , 0.        , 0.        , 0.        , 0.08042209,\n",
       "       0.06830218, 0.        , 0.        , 0.        , 0.        ,\n",
       "       0.        , 0.        , 0.        , 0.        , 0.        ,\n",
       "       0.        , 0.        , 0.        , 0.        , 0.        ,\n",
       "       0.        , 0.        , 0.        , 0.        , 0.        ,\n",
       "       0.        , 0.        , 0.        , 0.10331537, 0.        ,\n",
       "       0.04973404, 0.        , 0.        , 0.        , 0.        ,\n",
       "       0.        , 0.        , 0.        , 0.        , 0.        ,\n",
       "       0.        , 0.        , 0.        , 0.        , 0.        ,\n",
       "       0.10984584, 0.        , 0.        , 0.        , 0.08642509,\n",
       "       0.        , 0.        , 0.10488948, 0.        , 0.        ,\n",
       "       0.        , 0.        , 0.        , 0.05188886, 0.06824736,\n",
       "       0.        , 0.        , 0.        , 0.        , 0.        ,\n",
       "       0.        , 0.        , 0.        , 0.        , 0.        ,\n",
       "       0.        , 0.        , 0.        , 0.        , 0.        ,\n",
       "       0.        , 0.        , 0.        , 0.        , 0.        ,\n",
       "       0.        , 0.        , 0.        , 0.        , 0.        ,\n",
       "       0.        , 0.        , 0.        , 0.        , 0.        ,\n",
       "       0.        , 0.        , 0.        , 0.        , 0.        ,\n",
       "       0.        , 0.16397917, 0.        , 0.10688913, 0.        ,\n",
       "       0.09877559, 0.        , 0.        , 0.        , 0.04608261,\n",
       "       0.        , 0.        , 0.        , 0.        , 0.        ,\n",
       "       0.        , 0.0719267 , 0.        , 0.        , 0.        ,\n",
       "       0.        , 0.        , 0.        , 0.        , 0.        ,\n",
       "       0.        , 0.        , 0.07283191, 0.07407407, 0.        ,\n",
       "       0.10568848, 0.        , 0.        , 0.        , 0.        ,\n",
       "       0.        , 0.        , 0.        , 0.        , 0.1056548 ,\n",
       "       0.        , 0.        , 0.        , 0.        , 0.        ,\n",
       "       0.        , 0.        , 0.        , 0.04782271, 0.        ,\n",
       "       0.        , 0.09941139, 0.09451469, 0.        , 0.        ,\n",
       "       0.        , 0.        , 0.        , 0.        , 0.        ,\n",
       "       0.        , 0.        , 0.        , 0.        , 0.        ,\n",
       "       0.        , 0.        , 0.        , 0.        , 0.        ,\n",
       "       0.        , 0.        , 0.        , 0.        , 0.        ,\n",
       "       0.        , 0.        , 0.        , 0.        , 0.        ,\n",
       "       0.        , 0.        , 0.        , 0.        , 0.        ,\n",
       "       0.        , 0.09534415, 0.        , 0.        , 0.        ,\n",
       "       0.        , 0.        , 0.        , 0.        , 0.        ,\n",
       "       0.        , 0.        , 0.        , 0.        , 0.06872176,\n",
       "       0.        , 0.        , 0.        , 0.        , 0.        ,\n",
       "       0.        , 0.        , 0.05582718, 0.11108332, 0.        ,\n",
       "       0.        , 0.        , 0.        , 0.        , 0.        ,\n",
       "       0.        , 0.        , 0.        , 0.12014107, 0.        ,\n",
       "       0.        , 0.        , 0.        , 0.        , 0.        ,\n",
       "       0.        , 0.        , 0.        , 0.        , 0.        ,\n",
       "       0.        , 0.        , 0.        , 0.        , 0.        ,\n",
       "       0.15686138, 0.        , 0.        , 0.        , 0.        ,\n",
       "       0.        , 0.        , 0.        , 0.        , 0.08315126,\n",
       "       0.        , 0.        , 0.        , 0.        , 0.        ,\n",
       "       0.        , 0.        , 0.        , 0.        , 0.        ,\n",
       "       0.        , 0.        , 0.        , 0.        , 0.        ,\n",
       "       0.        , 0.        , 0.        , 0.06994393, 0.        ,\n",
       "       0.        , 0.28967862, 0.        , 0.        , 0.        ,\n",
       "       0.        , 0.        , 0.        , 0.18269044, 0.        ,\n",
       "       0.        , 0.        , 0.        , 0.        , 0.        ,\n",
       "       0.        , 0.        , 0.        , 0.        , 0.        ,\n",
       "       0.        , 0.        , 0.        , 0.        , 0.        ,\n",
       "       0.        , 0.        , 0.        , 0.        , 0.        ,\n",
       "       0.        , 0.0547579 , 0.        , 0.        , 0.        ,\n",
       "       0.07784114, 0.08260747, 0.        , 0.        , 0.09099651,\n",
       "       0.        , 0.        , 0.        , 0.07935032, 0.        ,\n",
       "       0.12951228, 0.        , 0.        , 0.        , 0.        ,\n",
       "       0.        , 0.        , 0.        , 0.        , 0.        ,\n",
       "       0.        , 0.        , 0.        , 0.        , 0.        ,\n",
       "       0.        , 0.        , 0.        , 0.        , 0.05337654,\n",
       "       0.        , 0.        , 0.        , 0.        , 0.        ,\n",
       "       0.        , 0.        , 0.        , 0.        , 0.        ,\n",
       "       0.        , 0.        , 0.        , 0.        , 0.        ,\n",
       "       0.        , 0.        , 0.        , 0.        , 0.        ,\n",
       "       0.        , 0.        , 0.        , 0.        , 0.        ,\n",
       "       0.        , 0.        , 0.05266898, 0.        , 0.        ,\n",
       "       0.        , 0.        , 0.        , 0.        , 0.        ,\n",
       "       0.        , 0.05836642, 0.0940125 , 0.        , 0.        ,\n",
       "       0.        , 0.        , 0.        , 0.        , 0.        ,\n",
       "       0.07856479, 0.09349439, 0.        , 0.06118606, 0.        ,\n",
       "       0.16913746, 0.        , 0.        , 0.        , 0.        ,\n",
       "       0.        , 0.0799363 , 0.        , 0.        , 0.        ,\n",
       "       0.        , 0.        , 0.        , 0.        , 0.0665288 ,\n",
       "       0.        , 0.        , 0.        , 0.        , 0.        ,\n",
       "       0.        , 0.        , 0.        , 0.        , 0.        ,\n",
       "       0.        , 0.        , 0.        , 0.        , 0.        ,\n",
       "       0.09894029, 0.        , 0.        , 0.        , 0.        ,\n",
       "       0.04935906, 0.        , 0.        , 0.0575142 , 0.05105458,\n",
       "       0.        , 0.04654201, 0.        , 0.        , 0.        ,\n",
       "       0.        , 0.        , 0.        , 0.        , 0.        ,\n",
       "       0.        , 0.        , 0.        , 0.09842152, 0.        ,\n",
       "       0.        , 0.        , 0.09398877, 0.        , 0.        ,\n",
       "       0.        , 0.14959903, 0.        , 0.        , 0.        ,\n",
       "       0.        , 0.        , 0.        , 0.08740328, 0.07536433,\n",
       "       0.06984036, 0.        , 0.        , 0.09969166, 0.        ,\n",
       "       0.        , 0.        , 0.        , 0.        , 0.        ,\n",
       "       0.05621427, 0.07981208, 0.        , 0.        , 0.        ,\n",
       "       0.        , 0.        , 0.        , 0.09683441, 0.06174913,\n",
       "       0.        , 0.        , 0.        , 0.        , 0.        ,\n",
       "       0.        , 0.        , 0.        , 0.        , 0.        ,\n",
       "       0.06720138, 0.        , 0.        , 0.        , 0.        ,\n",
       "       0.        , 0.        , 0.        , 0.        , 0.        ,\n",
       "       0.        , 0.        , 0.        , 0.        , 0.        ,\n",
       "       0.        , 0.1144908 , 0.        , 0.        , 0.        ,\n",
       "       0.        , 0.        , 0.        , 0.10502133, 0.        ,\n",
       "       0.        , 0.        , 0.        , 0.05920758, 0.        ,\n",
       "       0.        , 0.        , 0.        , 0.        , 0.        ,\n",
       "       0.        , 0.        , 0.        , 0.07229573, 0.        ,\n",
       "       0.        , 0.        , 0.        , 0.        , 0.        ,\n",
       "       0.        , 0.        , 0.        , 0.08910025, 0.        ,\n",
       "       0.        , 0.        , 0.        , 0.        , 0.        ,\n",
       "       0.        , 0.        , 0.        , 0.09769795, 0.10578971,\n",
       "       0.        , 0.        , 0.        , 0.        , 0.        ,\n",
       "       0.10692408, 0.        , 0.        , 0.        , 0.        ,\n",
       "       0.        , 0.        , 0.        , 0.        , 0.        ,\n",
       "       0.        , 0.        , 0.        , 0.        , 0.056854  ,\n",
       "       0.        , 0.        , 0.        , 0.        , 0.05655187,\n",
       "       0.        , 0.        , 0.        , 0.        , 0.        ,\n",
       "       0.        , 0.0967055 , 0.        , 0.        , 0.0884512 ,\n",
       "       0.        , 0.        , 0.08325421, 0.        , 0.        ,\n",
       "       0.        , 0.0608422 , 0.        , 0.        , 0.        ,\n",
       "       0.        , 0.        , 0.        , 0.        , 0.        ,\n",
       "       0.06417914, 0.        , 0.        , 0.        , 0.        ,\n",
       "       0.        , 0.09239118, 0.        , 0.        , 0.08242257,\n",
       "       0.        , 0.        , 0.        , 0.        , 0.        ,\n",
       "       0.        , 0.        , 0.        , 0.        , 0.        ,\n",
       "       0.        , 0.        , 0.        , 0.        , 0.        ,\n",
       "       0.        , 0.        , 0.        , 0.        , 0.        ,\n",
       "       0.        , 0.06822546, 0.09769795, 0.        , 0.        ,\n",
       "       0.10175234, 0.        , 0.        , 0.        , 0.06439313,\n",
       "       0.07327479, 0.        , 0.        , 0.        , 0.        ,\n",
       "       0.09874822, 0.        , 0.        , 0.        , 0.        ,\n",
       "       0.        , 0.06190271, 0.        , 0.        , 0.        ,\n",
       "       0.        , 0.        , 0.        , 0.        , 0.        ,\n",
       "       0.        , 0.        , 0.        , 0.        , 0.        ,\n",
       "       0.        , 0.        , 0.        , 0.        , 0.        ,\n",
       "       0.06592056, 0.        , 0.        , 0.        , 0.        ,\n",
       "       0.        , 0.        , 0.        , 0.        , 0.        ,\n",
       "       0.        , 0.        , 0.        , 0.        , 0.        ,\n",
       "       0.07897035, 0.        , 0.        , 0.        , 0.        ,\n",
       "       0.        , 0.        , 0.        , 0.        , 0.        ,\n",
       "       0.        , 0.        , 0.        , 0.        , 0.        ,\n",
       "       0.        , 0.        , 0.        , 0.05092406, 0.087854  ,\n",
       "       0.        , 0.        , 0.        , 0.1494126 , 0.        ,\n",
       "       0.        , 0.        , 0.        , 0.09340105, 0.        ,\n",
       "       0.        , 0.        , 0.        , 0.        , 0.        ,\n",
       "       0.        , 0.        , 0.        , 0.        , 0.        ,\n",
       "       0.09835864, 0.        , 0.        , 0.        , 0.10555797,\n",
       "       0.        , 0.        , 0.        , 0.        , 0.        ,\n",
       "       0.        , 0.        , 0.        , 0.05765739, 0.        ,\n",
       "       0.        , 0.        , 0.08289525, 0.        , 0.        ,\n",
       "       0.2344923 , 0.        , 0.        , 0.08972042, 0.        ,\n",
       "       0.        , 0.        , 0.        , 0.        , 0.08588141,\n",
       "       0.        , 0.        , 0.        , 0.        , 0.16034096,\n",
       "       0.        , 0.        , 0.        , 0.        , 0.        ,\n",
       "       0.07001317, 0.        , 0.        , 0.10127672, 0.        ,\n",
       "       0.        , 0.        , 0.        , 0.        , 0.        ,\n",
       "       0.        , 0.        , 0.10829927, 0.09326152, 0.        ,\n",
       "       0.        , 0.        , 0.        , 0.        , 0.        ,\n",
       "       0.        , 0.        , 0.        , 0.        , 0.        ,\n",
       "       0.04577982, 0.        , 0.        , 0.        , 0.        ,\n",
       "       0.        ])"
      ]
     },
     "execution_count": 173,
     "metadata": {},
     "output_type": "execute_result"
    }
   ],
   "source": [
    "\n",
    "X_tfidf[0]"
   ]
  },
  {
   "cell_type": "code",
   "execution_count": 175,
   "metadata": {},
   "outputs": [
    {
     "data": {
      "text/plain": [
       "791"
      ]
     },
     "execution_count": 175,
     "metadata": {},
     "output_type": "execute_result"
    }
   ],
   "source": [
    "len(X_tfidf[0])"
   ]
  },
  {
   "cell_type": "code",
   "execution_count": 176,
   "metadata": {},
   "outputs": [
    {
     "name": "stdout",
     "output_type": "stream",
     "text": [
      "   type                                              posts  words_per_comment  \\\n",
      "0  INFJ  'http://www.youtube.com/watch?v=qsXHcwe3krw|||...              11.12   \n",
      "1  ENTP  'I'm finding the lack of me in these posts ver...              23.40   \n",
      "2  INTP  'Good one  _____   https://www.youtube.com/wat...              16.72   \n",
      "3  INTJ  'Dear INTP,   I enjoyed our conversation the o...              21.28   \n",
      "4  ENTJ  'You're fired.|||That's another silly misconce...              19.34   \n",
      "\n",
      "   http_per_comment  music_per_comment  question_per_comment  img_per_comment  \\\n",
      "0              0.48               0.02                  0.36             0.12   \n",
      "1              0.20               0.00                  0.10             0.02   \n",
      "2              0.10               0.00                  0.24             0.00   \n",
      "3              0.04               0.02                  0.22             0.00   \n",
      "4              0.12               0.02                  0.20             0.04   \n",
      "\n",
      "   excl_per_comment  ellipsis_per_comment  I-E  N-S  T-F  J-P  \\\n",
      "0              0.06                  0.30    0    0    1    0   \n",
      "1              0.00                  0.38    1    0    0    1   \n",
      "2              0.08                  0.26    0    0    0    1   \n",
      "3              0.06                  0.52    0    0    0    0   \n",
      "4              0.02                  0.42    1    0    0    0   \n",
      "\n",
      "   emojis_per_comment  \n",
      "0                 0.0  \n",
      "1                 5.0  \n",
      "2                 7.0  \n",
      "3                 0.0  \n",
      "4                 1.0  \n"
     ]
    }
   ],
   "source": [
    "print(df.head())\n"
   ]
  },
  {
   "cell_type": "code",
   "execution_count": 179,
   "metadata": {},
   "outputs": [
    {
     "name": "stdout",
     "output_type": "stream",
     "text": [
      "(8675, 805)\n"
     ]
    }
   ],
   "source": [
    "for i in range(len(X_tfidf[0])):\n",
    "    df['text'+str(i)] = X_tfidf[:,i]\n",
    "\n",
    "print(df.shape)"
   ]
  },
  {
   "cell_type": "code",
   "execution_count": 180,
   "metadata": {},
   "outputs": [
    {
     "name": "stdout",
     "output_type": "stream",
     "text": [
      "   type                                              posts  words_per_comment  \\\n",
      "0  INFJ  'http://www.youtube.com/watch?v=qsXHcwe3krw|||...              11.12   \n",
      "1  ENTP  'I'm finding the lack of me in these posts ver...              23.40   \n",
      "2  INTP  'Good one  _____   https://www.youtube.com/wat...              16.72   \n",
      "3  INTJ  'Dear INTP,   I enjoyed our conversation the o...              21.28   \n",
      "4  ENTJ  'You're fired.|||That's another silly misconce...              19.34   \n",
      "\n",
      "   http_per_comment  music_per_comment  question_per_comment  img_per_comment  \\\n",
      "0              0.48               0.02                  0.36             0.12   \n",
      "1              0.20               0.00                  0.10             0.02   \n",
      "2              0.10               0.00                  0.24             0.00   \n",
      "3              0.04               0.02                  0.22             0.00   \n",
      "4              0.12               0.02                  0.20             0.04   \n",
      "\n",
      "   excl_per_comment  ellipsis_per_comment  I-E   ...      text781  text782  \\\n",
      "0              0.06                  0.30    0   ...     0.000000      0.0   \n",
      "1              0.00                  0.38    1   ...     0.000000      0.0   \n",
      "2              0.08                  0.26    0   ...     0.000000      0.0   \n",
      "3              0.06                  0.52    0   ...     0.000000      0.0   \n",
      "4              0.02                  0.42    1   ...     0.048511      0.0   \n",
      "\n",
      "    text783   text784   text785   text786  text787  text788  text789  text790  \n",
      "0  0.000000  0.000000  0.045780  0.000000      0.0      0.0      0.0      0.0  \n",
      "1  0.000000  0.000000  0.032263  0.000000      0.0      0.0      0.0      0.0  \n",
      "2  0.000000  0.000000  0.173679  0.072213      0.0      0.0      0.0      0.0  \n",
      "3  0.000000  0.038035  0.000000  0.000000      0.0      0.0      0.0      0.0  \n",
      "4  0.078649  0.000000  0.034765  0.072274      0.0      0.0      0.0      0.0  \n",
      "\n",
      "[5 rows x 805 columns]\n"
     ]
    }
   ],
   "source": [
    "print(df.head())"
   ]
  },
  {
   "cell_type": "code",
   "execution_count": 181,
   "metadata": {},
   "outputs": [
    {
     "name": "stdout",
     "output_type": "stream",
     "text": [
      "[[1.11200000e+01 4.80000000e-01 2.00000000e-02 ... 0.00000000e+00\n",
      "  0.00000000e+00 0.00000000e+00]\n",
      " [2.34000000e+01 2.00000000e-01 0.00000000e+00 ... 0.00000000e+00\n",
      "  0.00000000e+00 0.00000000e+00]\n",
      " [1.67200000e+01 1.00000000e-01 0.00000000e+00 ... 0.00000000e+00\n",
      "  0.00000000e+00 0.00000000e+00]\n",
      " ...\n",
      " [1.89600000e+01 4.00000000e-02 0.00000000e+00 ... 0.00000000e+00\n",
      "  0.00000000e+00 0.00000000e+00]\n",
      " [3.41000000e+01 0.00000000e+00 0.00000000e+00 ... 0.00000000e+00\n",
      "  0.00000000e+00 0.00000000e+00]\n",
      " [2.72200000e+01 6.00000000e-02 0.00000000e+00 ... 0.00000000e+00\n",
      "  5.38286863e-02 0.00000000e+00]]\n",
      "[0 1 0 ... 0 0 0]\n",
      "(8675,)\n",
      "(8675, 799)\n",
      "(868, 799)\n",
      "80.27 %\n",
      "   words_per_comment  question_per_comment  ellipsis_per_comment  \\\n",
      "0                279                     0                     0   \n",
      "\n",
      "   excl_per_comment  music_per_comment  http_per_comment  img_per_comment  \\\n",
      "0                 6                  0                 0                0   \n",
      "\n",
      "   emojis_per_comment  \n",
      "0                   1  \n"
     ]
    },
    {
     "ename": "ValueError",
     "evalue": "X has 8 features per sample; expecting 799",
     "output_type": "error",
     "traceback": [
      "\u001b[1;31m---------------------------------------------------------------------------\u001b[0m",
      "\u001b[1;31mValueError\u001b[0m                                Traceback (most recent call last)",
      "\u001b[1;32m<ipython-input-181-ddf6b01b2785>\u001b[0m in \u001b[0;36m<module>\u001b[1;34m()\u001b[0m\n\u001b[0;32m     22\u001b[0m \u001b[0mdata_frame\u001b[0m \u001b[1;33m=\u001b[0m \u001b[0mpd\u001b[0m\u001b[1;33m.\u001b[0m\u001b[0mDataFrame\u001b[0m\u001b[1;33m(\u001b[0m\u001b[0mdata\u001b[0m\u001b[1;33m,\u001b[0m \u001b[0mcolumns\u001b[0m \u001b[1;33m=\u001b[0m \u001b[1;33m[\u001b[0m\u001b[1;34m'words_per_comment'\u001b[0m\u001b[1;33m,\u001b[0m\u001b[1;34m'question_per_comment'\u001b[0m\u001b[1;33m,\u001b[0m\u001b[1;34m'ellipsis_per_comment'\u001b[0m\u001b[1;33m,\u001b[0m\u001b[1;34m'excl_per_comment'\u001b[0m\u001b[1;33m,\u001b[0m\u001b[1;34m'music_per_comment'\u001b[0m\u001b[1;33m,\u001b[0m\u001b[1;34m'http_per_comment'\u001b[0m\u001b[1;33m,\u001b[0m\u001b[1;34m'img_per_comment'\u001b[0m\u001b[1;33m,\u001b[0m\u001b[1;34m'emojis_per_comment'\u001b[0m\u001b[1;33m]\u001b[0m\u001b[1;33m)\u001b[0m\u001b[1;33m\u001b[0m\u001b[0m\n\u001b[0;32m     23\u001b[0m \u001b[0mprint\u001b[0m\u001b[1;33m(\u001b[0m\u001b[0mdata_frame\u001b[0m\u001b[1;33m.\u001b[0m\u001b[0mhead\u001b[0m\u001b[1;33m(\u001b[0m\u001b[1;33m)\u001b[0m\u001b[1;33m)\u001b[0m\u001b[1;33m\u001b[0m\u001b[0m\n\u001b[1;32m---> 24\u001b[1;33m \u001b[0mY_predd\u001b[0m \u001b[1;33m=\u001b[0m \u001b[0mlogregg\u001b[0m\u001b[1;33m.\u001b[0m\u001b[0mpredict\u001b[0m\u001b[1;33m(\u001b[0m\u001b[0mdata_frame\u001b[0m\u001b[1;33m)\u001b[0m\u001b[1;33m\u001b[0m\u001b[0m\n\u001b[0m\u001b[0;32m     25\u001b[0m \u001b[0mprint\u001b[0m\u001b[1;33m(\u001b[0m\u001b[0mY_predd\u001b[0m\u001b[1;33m)\u001b[0m\u001b[1;33m\u001b[0m\u001b[0m\n",
      "\u001b[1;32m~\\Anaconda3\\lib\\site-packages\\sklearn\\linear_model\\base.py\u001b[0m in \u001b[0;36mpredict\u001b[1;34m(self, X)\u001b[0m\n\u001b[0;32m    322\u001b[0m             \u001b[0mPredicted\u001b[0m \u001b[1;32mclass\u001b[0m \u001b[0mlabel\u001b[0m \u001b[0mper\u001b[0m \u001b[0msample\u001b[0m\u001b[1;33m.\u001b[0m\u001b[1;33m\u001b[0m\u001b[0m\n\u001b[0;32m    323\u001b[0m         \"\"\"\n\u001b[1;32m--> 324\u001b[1;33m         \u001b[0mscores\u001b[0m \u001b[1;33m=\u001b[0m \u001b[0mself\u001b[0m\u001b[1;33m.\u001b[0m\u001b[0mdecision_function\u001b[0m\u001b[1;33m(\u001b[0m\u001b[0mX\u001b[0m\u001b[1;33m)\u001b[0m\u001b[1;33m\u001b[0m\u001b[0m\n\u001b[0m\u001b[0;32m    325\u001b[0m         \u001b[1;32mif\u001b[0m \u001b[0mlen\u001b[0m\u001b[1;33m(\u001b[0m\u001b[0mscores\u001b[0m\u001b[1;33m.\u001b[0m\u001b[0mshape\u001b[0m\u001b[1;33m)\u001b[0m \u001b[1;33m==\u001b[0m \u001b[1;36m1\u001b[0m\u001b[1;33m:\u001b[0m\u001b[1;33m\u001b[0m\u001b[0m\n\u001b[0;32m    326\u001b[0m             \u001b[0mindices\u001b[0m \u001b[1;33m=\u001b[0m \u001b[1;33m(\u001b[0m\u001b[0mscores\u001b[0m \u001b[1;33m>\u001b[0m \u001b[1;36m0\u001b[0m\u001b[1;33m)\u001b[0m\u001b[1;33m.\u001b[0m\u001b[0mastype\u001b[0m\u001b[1;33m(\u001b[0m\u001b[0mnp\u001b[0m\u001b[1;33m.\u001b[0m\u001b[0mint\u001b[0m\u001b[1;33m)\u001b[0m\u001b[1;33m\u001b[0m\u001b[0m\n",
      "\u001b[1;32m~\\Anaconda3\\lib\\site-packages\\sklearn\\linear_model\\base.py\u001b[0m in \u001b[0;36mdecision_function\u001b[1;34m(self, X)\u001b[0m\n\u001b[0;32m    303\u001b[0m         \u001b[1;32mif\u001b[0m \u001b[0mX\u001b[0m\u001b[1;33m.\u001b[0m\u001b[0mshape\u001b[0m\u001b[1;33m[\u001b[0m\u001b[1;36m1\u001b[0m\u001b[1;33m]\u001b[0m \u001b[1;33m!=\u001b[0m \u001b[0mn_features\u001b[0m\u001b[1;33m:\u001b[0m\u001b[1;33m\u001b[0m\u001b[0m\n\u001b[0;32m    304\u001b[0m             raise ValueError(\"X has %d features per sample; expecting %d\"\n\u001b[1;32m--> 305\u001b[1;33m                              % (X.shape[1], n_features))\n\u001b[0m\u001b[0;32m    306\u001b[0m \u001b[1;33m\u001b[0m\u001b[0m\n\u001b[0;32m    307\u001b[0m         scores = safe_sparse_dot(X, self.coef_.T,\n",
      "\u001b[1;31mValueError\u001b[0m: X has 8 features per sample; expecting 799"
     ]
    }
   ],
   "source": [
    "XX = df.drop(['type','posts','I-E','N-S','T-F','J-P'], axis=1).values\n",
    "yy = df['I-E'].values\n",
    "print(XX)\n",
    "print(yy)\n",
    "\n",
    "print(yy.shape)\n",
    "print(XX.shape)\n",
    "\n",
    "XX_train,XX_test,yy_train,yy_test=train_test_split(XX,yy,test_size = 0.1, random_state=5)\n",
    "\n",
    "logregg = LogisticRegression()\n",
    "logregg.fit(XX_train, yy_train)\n",
    "\n",
    "Y_predd = logregg.predict(XX_test)\n",
    "print(XX_test.shape)\n",
    "\n",
    "acc_logg = round(logregg.score(XX_train, yy_train) * 100, 2)\n",
    "print(round(acc_logg,2,), \"%\")\n",
    "\n",
    "text = \"Hi! My name is Emily Nairn. I am in 2B Management Engineering, and will be graduating in 2022. I am from a really small town called Cobourg, ON and knew no one at Waterloo before coming in first year. Since then, I have totally fallen in love with Waterloo Engineering and Waterloo in general :)Emily NairnWaterloo Engineering in one word:Supportive.I choose Waterloo Engineering because:The amazing co-op program. I also loved the idea of having all my classes with the same people in my cohort!The best thing about my program is:How tightknit my class is. We are all friends, in the classroom and outside of it! I know that if I ever need help understanding a concept or reviewing material before an exam, I can ask any of my classmates JAbout my Co-op experience:For my first co-op, I worked at TD as a Digital Customer Experience and Strategy intern. For my second co-op, I worked as a Cloud Analyst at Sourced Group. Both of them gave me huge insights into different roles, and the differences between working for a large and small company. I am looking forward to exploring more coops in development and product management JI wish I had known before I came:Everyone is in this together! There are tons of social and academic events in the first few weeks to ensure you get to know the rest of the first years and the supports Waterloo has to offer.Outside the classroom, I’m involved with:Since first year, I have been involved in Engineering Ambassadors, Industry 4.0 Design team, UWxPM and a few intramural teams!One more thing about me:I have been to 12 schools and UW is definitely my favourite one!\"\n",
    "data= [[len(text.split()),text.count('?'),text.count('...'),text.count('!'),text.count('music'),text.count('http'),text.count('jpg')+ text.count('image'),text.count(':)') + (text.count(':(') + text.count(':O') + text.count(';)') + text.count(':P') + text.count(':''(') + text.count(':-D'))]]\n",
    "data_frame = pd.DataFrame(data, columns = ['words_per_comment','question_per_comment','ellipsis_per_comment','excl_per_comment','music_per_comment','http_per_comment','img_per_comment','emojis_per_comment']) \n",
    "print(data_frame.head())\n",
    "Y_predd = logregg.predict(data_frame)\n",
    "print(Y_predd)"
   ]
  },
  {
   "cell_type": "code",
   "execution_count": 185,
   "metadata": {},
   "outputs": [
    {
     "name": "stdout",
     "output_type": "stream",
     "text": [
      "CountVectorizer...\n"
     ]
    },
    {
     "ename": "ValueError",
     "evalue": "After pruning, no terms remain. Try a lower min_df or a higher max_df.",
     "output_type": "error",
     "traceback": [
      "\u001b[1;31m---------------------------------------------------------------------------\u001b[0m",
      "\u001b[1;31mValueError\u001b[0m                                Traceback (most recent call last)",
      "\u001b[1;32m<ipython-input-185-00cb3d84cca3>\u001b[0m in \u001b[0;36m<module>\u001b[1;34m()\u001b[0m\n\u001b[0;32m     10\u001b[0m \u001b[1;31m# Learn the vocabulary dictionary and return term-document matrix\u001b[0m\u001b[1;33m\u001b[0m\u001b[1;33m\u001b[0m\u001b[0m\n\u001b[0;32m     11\u001b[0m \u001b[0mprint\u001b[0m\u001b[1;33m(\u001b[0m\u001b[1;34m\"CountVectorizer...\"\u001b[0m\u001b[1;33m)\u001b[0m\u001b[1;33m\u001b[0m\u001b[0m\n\u001b[1;32m---> 12\u001b[1;33m \u001b[0mX_cnt\u001b[0m \u001b[1;33m=\u001b[0m \u001b[0mcntizer\u001b[0m\u001b[1;33m.\u001b[0m\u001b[0mfit_transform\u001b[0m\u001b[1;33m(\u001b[0m\u001b[1;33m[\u001b[0m\u001b[1;34m'Hi! My name is Emily Nairn. I am in 2B Management Engineering, and will be graduating in 2022. I am from a really small town called Cobourg, ON and knew no one at Waterloo before coming in first year. Since then, I have totally fallen in love with Waterloo Engineering and Waterloo in general :)Emily NairnWaterloo Engineering in one word:Supportive.I choose Waterloo Engineering because:The amazing co-op program. I also loved the idea of having all my classes with the same people in my cohort!The best thing about my program is:How tightknit my class is. We are all friends, in the classroom and outside of it! I know that if I ever need help understanding a concept or reviewing material before an exam, I can ask any of my classmates JAbout my Co-op experience:For my first co-op, I worked at TD as a Digital Customer Experience and Strategy intern. For my second co-op, I worked as a Cloud Analyst at Sourced Group. Both of them gave me huge insights into different roles, and the differences between working for a large and small company. I am looking forward to exploring more coops in development and product management JI wish I had known before I came:Everyone is in this together! There are tons of social and academic events in the first few weeks to ensure you get to know the rest of the first years and the supports Waterloo has to offer.Outside the classroom, I’m involved with:Since first year, I have been involved in Engineering Ambassadors, Industry 4.0 Design team, UWxPM and a few intramural teams!One more thing about me:I have been to 12 schools and UW is definitely my favourite one!'\u001b[0m\u001b[1;33m]\u001b[0m\u001b[1;33m)\u001b[0m\u001b[1;33m\u001b[0m\u001b[0m\n\u001b[0m\u001b[0;32m     13\u001b[0m \u001b[1;33m\u001b[0m\u001b[0m\n\u001b[0;32m     14\u001b[0m \u001b[1;31m# Transform the count matrix to a normalized tf or tf-idf representation\u001b[0m\u001b[1;33m\u001b[0m\u001b[1;33m\u001b[0m\u001b[0m\n",
      "\u001b[1;32m~\\Anaconda3\\lib\\site-packages\\sklearn\\feature_extraction\\text.py\u001b[0m in \u001b[0;36mfit_transform\u001b[1;34m(self, raw_documents, y)\u001b[0m\n\u001b[0;32m    888\u001b[0m                                                        \u001b[0mmax_doc_count\u001b[0m\u001b[1;33m,\u001b[0m\u001b[1;33m\u001b[0m\u001b[0m\n\u001b[0;32m    889\u001b[0m                                                        \u001b[0mmin_doc_count\u001b[0m\u001b[1;33m,\u001b[0m\u001b[1;33m\u001b[0m\u001b[0m\n\u001b[1;32m--> 890\u001b[1;33m                                                        max_features)\n\u001b[0m\u001b[0;32m    891\u001b[0m \u001b[1;33m\u001b[0m\u001b[0m\n\u001b[0;32m    892\u001b[0m             \u001b[0mself\u001b[0m\u001b[1;33m.\u001b[0m\u001b[0mvocabulary_\u001b[0m \u001b[1;33m=\u001b[0m \u001b[0mvocabulary\u001b[0m\u001b[1;33m\u001b[0m\u001b[0m\n",
      "\u001b[1;32m~\\Anaconda3\\lib\\site-packages\\sklearn\\feature_extraction\\text.py\u001b[0m in \u001b[0;36m_limit_features\u001b[1;34m(self, X, vocabulary, high, low, limit)\u001b[0m\n\u001b[0;32m    769\u001b[0m         \u001b[0mkept_indices\u001b[0m \u001b[1;33m=\u001b[0m \u001b[0mnp\u001b[0m\u001b[1;33m.\u001b[0m\u001b[0mwhere\u001b[0m\u001b[1;33m(\u001b[0m\u001b[0mmask\u001b[0m\u001b[1;33m)\u001b[0m\u001b[1;33m[\u001b[0m\u001b[1;36m0\u001b[0m\u001b[1;33m]\u001b[0m\u001b[1;33m\u001b[0m\u001b[0m\n\u001b[0;32m    770\u001b[0m         \u001b[1;32mif\u001b[0m \u001b[0mlen\u001b[0m\u001b[1;33m(\u001b[0m\u001b[0mkept_indices\u001b[0m\u001b[1;33m)\u001b[0m \u001b[1;33m==\u001b[0m \u001b[1;36m0\u001b[0m\u001b[1;33m:\u001b[0m\u001b[1;33m\u001b[0m\u001b[0m\n\u001b[1;32m--> 771\u001b[1;33m             raise ValueError(\"After pruning, no terms remain. Try a lower\"\n\u001b[0m\u001b[0;32m    772\u001b[0m                              \" min_df or a higher max_df.\")\n\u001b[0;32m    773\u001b[0m         \u001b[1;32mreturn\u001b[0m \u001b[0mX\u001b[0m\u001b[1;33m[\u001b[0m\u001b[1;33m:\u001b[0m\u001b[1;33m,\u001b[0m \u001b[0mkept_indices\u001b[0m\u001b[1;33m]\u001b[0m\u001b[1;33m,\u001b[0m \u001b[0mremoved_terms\u001b[0m\u001b[1;33m\u001b[0m\u001b[0m\n",
      "\u001b[1;31mValueError\u001b[0m: After pruning, no terms remain. Try a lower min_df or a higher max_df."
     ]
    }
   ],
   "source": [
    "# Posts to a matrix of token counts\n",
    "cntizer = CountVectorizer(analyzer=\"word\", \n",
    "                             max_features=1500, \n",
    "                             tokenizer=None,    \n",
    "                             preprocessor=None, \n",
    "                             stop_words=None,  \n",
    "                             max_df=0.7,\n",
    "                             min_df=0.1) \n",
    "\n",
    "# Learn the vocabulary dictionary and return term-document matrix\n",
    "print(\"CountVectorizer...\")\n",
    "\n",
    "text = \"Hi! My name is Emily Nairn. I am in 2B Management Engineering, and will be graduating in 2022. I am from a really small town called Cobourg, ON and knew no one at Waterloo before coming in first year. Since then, I have totally fallen in love with Waterloo Engineering and Waterloo in general :)Emily NairnWaterloo Engineering in one word:Supportive.I choose Waterloo Engineering because:The amazing co-op program. I also loved the idea of having all my classes with the same people in my cohort!The best thing about my program is:How tightknit my class is. We are all friends, in the classroom and outside of it! I know that if I ever need help understanding a concept or reviewing material before an exam, I can ask any of my classmates JAbout my Co-op experience:For my first co-op, I worked at TD as a Digital Customer Experience and Strategy intern. For my second co-op, I worked as a Cloud Analyst at Sourced Group. Both of them gave me huge insights into different roles, and the differences between working for a large and small company. I am looking forward to exploring more coops in development and product management JI wish I had known before I came:Everyone is in this together! There are tons of social and academic events in the first few weeks to ensure you get to know the rest of the first years and the supports Waterloo has to offer.Outside the classroom, I’m involved with:Since first year, I have been involved in Engineering Ambassadors, Industry 4.0 Design team, UWxPM and a few intramural teams!One more thing about me:I have been to 12 schools and UW is definitely my favourite one!\"\n",
    "\n",
    "print(len(list_posts))\n",
    "list_posts.append(text)\n",
    "print(len(list_posts))\n",
    "\n",
    "#X_cnt = cntizer.fit_transform(['Hi! My name is Emily Nairn. I am in 2B Management Engineering, and will be graduating in 2022. I am from a really small town called Cobourg, ON and knew no one at Waterloo before coming in first year. Since then, I have totally fallen in love with Waterloo Engineering and Waterloo in general :)Emily NairnWaterloo Engineering in one word:Supportive.I choose Waterloo Engineering because:The amazing co-op program. I also loved the idea of having all my classes with the same people in my cohort!The best thing about my program is:How tightknit my class is. We are all friends, in the classroom and outside of it! I know that if I ever need help understanding a concept or reviewing material before an exam, I can ask any of my classmates JAbout my Co-op experience:For my first co-op, I worked at TD as a Digital Customer Experience and Strategy intern. For my second co-op, I worked as a Cloud Analyst at Sourced Group. Both of them gave me huge insights into different roles, and the differences between working for a large and small company. I am looking forward to exploring more coops in development and product management JI wish I had known before I came:Everyone is in this together! There are tons of social and academic events in the first few weeks to ensure you get to know the rest of the first years and the supports Waterloo has to offer.Outside the classroom, I’m involved with:Since first year, I have been involved in Engineering Ambassadors, Industry 4.0 Design team, UWxPM and a few intramural teams!One more thing about me:I have been to 12 schools and UW is definitely my favourite one!'])\n",
    "X_cnt = cntizer.fit_transform(list_posts)\n",
    "\n",
    "# Transform the count matrix to a normalized tf or tf-idf representation\n",
    "tfizer = TfidfTransformer()\n",
    "\n",
    "print(\"Tf-idf...\")\n",
    "# Learn the idf vector (fit) and transform a count matrix to a tf-idf representation\n",
    "X_tfidf =  tfizer.fit_transform(X_cnt).toarray()"
   ]
  },
  {
   "cell_type": "code",
   "execution_count": 190,
   "metadata": {},
   "outputs": [
    {
     "name": "stdout",
     "output_type": "stream",
     "text": [
      "CountVectorizer...\n",
      "Tf-idf...\n",
      "(1, 163)\n",
      "[[0.03196014 0.03196014 0.03196014 0.06392028 0.03196014 0.06392028\n",
      "  0.03196014 0.09588042 0.03196014 0.03196014 0.03196014 0.03196014\n",
      "  0.38352166 0.03196014 0.06392028 0.06392028 0.03196014 0.09588042\n",
      "  0.03196014 0.03196014 0.06392028 0.09588042 0.03196014 0.03196014\n",
      "  0.03196014 0.03196014 0.03196014 0.03196014 0.03196014 0.03196014\n",
      "  0.03196014 0.03196014 0.06392028 0.03196014 0.12784055 0.03196014\n",
      "  0.03196014 0.03196014 0.03196014 0.03196014 0.03196014 0.03196014\n",
      "  0.03196014 0.03196014 0.03196014 0.03196014 0.03196014 0.03196014\n",
      "  0.06392028 0.15980069 0.03196014 0.03196014 0.03196014 0.03196014\n",
      "  0.03196014 0.06392028 0.03196014 0.03196014 0.03196014 0.06392028\n",
      "  0.15980069 0.09588042 0.03196014 0.03196014 0.03196014 0.03196014\n",
      "  0.03196014 0.03196014 0.03196014 0.03196014 0.03196014 0.03196014\n",
      "  0.09588042 0.03196014 0.03196014 0.03196014 0.03196014 0.03196014\n",
      "  0.03196014 0.03196014 0.38352166 0.03196014 0.03196014 0.03196014\n",
      "  0.03196014 0.03196014 0.06392028 0.15980069 0.03196014 0.03196014\n",
      "  0.03196014 0.03196014 0.06392028 0.03196014 0.03196014 0.03196014\n",
      "  0.03196014 0.03196014 0.06392028 0.03196014 0.06392028 0.06392028\n",
      "  0.31960139 0.03196014 0.03196014 0.03196014 0.03196014 0.03196014\n",
      "  0.19176083 0.03196014 0.03196014 0.12784055 0.12784055 0.03196014\n",
      "  0.06392028 0.03196014 0.03196014 0.06392028 0.03196014 0.03196014\n",
      "  0.03196014 0.03196014 0.03196014 0.03196014 0.03196014 0.06392028\n",
      "  0.06392028 0.03196014 0.03196014 0.03196014 0.03196014 0.03196014\n",
      "  0.03196014 0.03196014 0.03196014 0.03196014 0.35156152 0.03196014\n",
      "  0.03196014 0.03196014 0.06392028 0.03196014 0.03196014 0.15980069\n",
      "  0.03196014 0.03196014 0.03196014 0.03196014 0.03196014 0.03196014\n",
      "  0.03196014 0.15980069 0.03196014 0.03196014 0.03196014 0.03196014\n",
      "  0.09588042 0.03196014 0.06392028 0.03196014 0.06392028 0.03196014\n",
      "  0.03196014]]\n"
     ]
    }
   ],
   "source": [
    "# Posts to a matrix of token counts\n",
    "cntizer = CountVectorizer(analyzer=\"word\", \n",
    "                             max_features=1500, \n",
    "                             tokenizer=None,    \n",
    "                             preprocessor=None, \n",
    "                             stop_words=None,  \n",
    "                             max_df=1.0,\n",
    "                             min_df=0.1) \n",
    "\n",
    "# Learn the vocabulary dictionary and return term-document matrix\n",
    "print(\"CountVectorizer...\")\n",
    "X_cnt = cntizer.fit_transform(['Hi! My name is Emily Nairn. I am in 2B Management Engineering, and will be graduating in 2022. I am from a really small town called Cobourg, ON and knew no one at Waterloo before coming in first year. Since then, I have totally fallen in love with Waterloo Engineering and Waterloo in general :)Emily NairnWaterloo Engineering in one word:Supportive.I choose Waterloo Engineering because:The amazing co-op program. I also loved the idea of having all my classes with the same people in my cohort!The best thing about my program is:How tightknit my class is. We are all friends, in the classroom and outside of it! I know that if I ever need help understanding a concept or reviewing material before an exam, I can ask any of my classmates JAbout my Co-op experience:For my first co-op, I worked at TD as a Digital Customer Experience and Strategy intern. For my second co-op, I worked as a Cloud Analyst at Sourced Group. Both of them gave me huge insights into different roles, and the differences between working for a large and small company. I am looking forward to exploring more coops in development and product management JI wish I had known before I came:Everyone is in this together! There are tons of social and academic events in the first few weeks to ensure you get to know the rest of the first years and the supports Waterloo has to offer.Outside the classroom, I’m involved with:Since first year, I have been involved in Engineering Ambassadors, Industry 4.0 Design team, UWxPM and a few intramural teams!One more thing about me:I have been to 12 schools and UW is definitely my favourite one!'])\n",
    "print\n",
    "\n",
    "# Transform the count matrix to a normalized tf or tf-idf representation\n",
    "tfizer = TfidfTransformer()\n",
    "\n",
    "print(\"Tf-idf...\")\n",
    "# Learn the idf vector (fit) and transform a count matrix to a tf-idf representation\n",
    "X_tfidf =  tfizer.fit_transform(X_cnt).toarray()\n",
    "\n",
    "print(X_tfidf.shape)\n",
    "print(X_tfidf)"
   ]
  },
  {
   "cell_type": "code",
   "execution_count": 202,
   "metadata": {},
   "outputs": [
    {
     "name": "stdout",
     "output_type": "stream",
     "text": [
      "CountVectorizer...\n",
      "['   moment sportscenter top ten play prank life changing experience life repeat today may perc experience immerse last thing  friend posted facebook committing suicide next day rest peace hello  sorry hear distress natural relationship perfection time every moment existence try figure hard time time growth welcome stuff game set match prozac wellbrutin least thirty minute moving leg mean moving sitting desk chair weed moderation maybe try edible healthier alternative basically come three item determined type whichever type want would likely use given type cognitive function whatnot left thing moderation sims indeed video game good one note good one somewhat subjective completely promoting death given sim dear  favorite video game growing current favorite video game cool appears late sad someone everyone wait thought confidence good thing cherish time solitude b c revel within inner world whereas time workin enjoy time worry people always around yo  lady complimentary personality well hey main social outlet xbox live conversation even verbally fatigue quickly really dig part banned thread requires get high backyard roast eat marshmellows backyard conversing something intellectual followed massage kiss banned many b sentence could think b banned watching movie corner dunce banned health class clearly taught nothing peer pressure banned whole host reason two baby deer left right munching beetle middle using blood two caveman diary today latest happening designated cave diary wall see pokemon world  society everyone becomes optimist artist artist draw idea count forming something like signature welcome robot rank person downed self esteem cuz avid signature artist like proud banned taking room bed ya gotta learn share roach banned much thundering grumbling kind storm yep ahh old high school music heard age failed public speaking class year ago sort learned could better position big part failure overloading like person mentality confirmed  way move denver area start new life '\n",
      " ' finding lack post alarming sex boring position often example girlfriend currently environment creatively use cowgirl missionary enough giving new meaning game theory hello  grin take converse flirting acknowledge presence return word smooth wordplay cheeky grin lack balance hand eye coordination real iq test score internet iq test funny score higher like former response thread mention believe iq test banish know  vanish site year half return find people still commenting post liking idea thought know  think thing sometimes go old sherlock holmes quote perhaps man special knowledge special power like rather encourages seek complex cheshirewolf tumblr com post really never thought e j p real function judge use use ne ti dominates fe emotion rarely si also use ni due strength know though ingenious saying really want try see happens playing first person shooter back drive around want see look rock paper one best make lol guy lucky really high tumblr system hear new first person shooter game rocking hell soundtrack auto sound equipment shake heaven managed put couple p way connected thing ne ne dominates aware environment se dominates example shawn spencer patrick jane s well charlie first admit get jealous like chalk w heart mixed dominate w like noticed like known upload clip mic away mouth hear anything ninja assassin style splatter tik tok really great song long mental block singer love beat make bounce drop io v swck mic really close mouth smokin ace assassin ball playing background sociable extrovert extrovert sociable sherlock movie  normally played extj book  said movie looked good except called sherlock holmes oh never fear kissing guy kiss animal nothing vanish personal taste liking guy kissed know one sound pretty much like area going right trying figure way want take life want many thing biggest problem know operating impression female never looked boxy okay help gay friend time one developed little crush get red described living worst nightmare trapped one place one one around dull wood serial killer would perfect place sadly tbh biased sound like shadowed  think maybe hurt turned  tell typical  trait left check list sorry seems came bad time already reached quota s however female like female make deal kick one antp leaning toward e easy s s identify also imagine  interrogation would go little bit like jack except mechanical rigging shock treatment equipment abandoned building old car batty jumper compliment trust psychopathic except emoticon weird one like laughing get hurt people running lawn mower like theme live know heart usual leave thing end mean time time work thing work mine mbp pleasure meet damn need trust instinct would closer going say  exfp leaning toward way responded friend even gay lesbian one always come advice bow  master s great s able build building duck duck duck shotgun never hard sad losing someone like knew right give big pat back awesome always correct oh tell stupid know play make laugh going take neuropsychology psychologist nightowl wake pm stay awake till personal opinion backed theory would suggest s socially difficult s socially indifferent also use social situation need arises personal stock desktop downloaded random stock site stock photobuckets tell open photoshop glad like static thanks made friend several hour work constructed every line static get avatar later one fellow teammate psychologist keep around long enough diagnosis like toy diagnosis psychologist friend friend tell '\n",
      " ' good one course say know blessing curse absolutely positive best friend could amazing couple count yes could madly love case reconciled feeling thank link called ti si loop stem current topic obsession deadly like stuck thought mind wanders circle feel truly terrible noticed peculiar vegetation look grass dozen different plant specie imagine hundred year later soil smith never one ever often find spotting face marble tile wood year old sentence incredibly accurate beautiful description visited website last year whoever read maybe even remembers highly doubt hi sit garden pm writing song sing together dozen cricket playing acoustic guitar  ish thread ever seen able look painting entire life knew picked human drawing background animation working right mar felt obligated make mark watneyx postcard read book started make comic turtle gordon unicorn chime see two first story  recently started post comic two friend turtle gordon unicorn chime posted stuff interested try include work probably could work together new model expert abrupt explosion laughter upon various weird stuff happens peculiar sense humor peculiar much hellooo nah touch everyone think scared sad true fact absolutely neutral face kitten actually really like patting hug well kind already mentioned sometimes ni hard convey complex stuff pop head whimsical compilation shape picture word think kitten would appropriate good night everyone even someone morning right night always supersede morning people say good night order meet next day oh movie awesome thank hope good sleep air anyway wishing good night next night ahead hopefully land good people deserve good well people may wondering issue name topic find response helpful anyway finally someone mentioned still see creature face maze various random pattern amusing sometimes handy skill bored oh know pity sacrifice whole supermarket decide walmart best think biggest one would great yippy go think fire delicious sacrifice tofu like waste food think creator thread care going year heh understand given language yes adventure time get angry quite rarely safer surrounding people go somewhere else impossible hide suppress anger way get rid feeling burst never liked anything fake bad actually hug given chosen one chosen quite though yup right course comfortable human race survived thankfully woman ability give birth human being worked thousand year change besides happens occurs often people use result extremely precise elaborate online test basis determining one type visual language art study graphic design really enjoy interesting field ability generate idea solve problem much important possession specific alexxxandra deviantart always ready discipline intimidate precise sibling offender world domination shooting people head oh right s always must characterised word want show badly reaction  '\n",
      " ...\n",
      " ' many question thing would take purple pill pick winning lottery number whatever want worked brewery couple year dont know familiar local micros craft mill st name tankhouse favorite anything local going summon great powerful mr cafebot song destruction four horseman ride count day people earth intro nick  male basement thread obviously textbook definition manliness ruffin tuffin going hard mother fking paint stand asked time approved say oh shit short staffed badger figure asked arn lol excellent thread nt dc love watching baseball playing oh hate yankee multiple partner consider manly man lift  thing relationship spend little time bedroom compared everything else dumb blonde make happy minute night going take thinking man plant fruit tree give food year feeling year later squirrel hungry eats fruit tree intuitive man see well think appreciate einstein quote everyone genius judge fish abiility climb tree live whole life believing stupid everybody vsauce real men write poetry oh mountain dew release mountain flavored doritos locos taco skateboard also check still two thing certain rusell brand heavilly extraverted magical man people badger gonna make male version  video today creative process s getting around thing putting think always ready work provided sleep food stomach may look busy hear everything guy like making video love part hey man life try yes know  conversation head real people tl dr yes posted spoken like true  really bothered believe think tell boyfriend said morality invariably get talking philosophy tangable answer good subject include evolution hunter gatherer society political system good movie hey b th read post immediate reaction boyfriend flipping something insignificant trust issue nothing wag finger think idea enjoy darkbarlow post crush ya maybe self defense really crime would kill somebody save people million dollar thirty year later could come conclusion woman indisputably better men gentler affectionate loving compassionate rarely really make clear cut method differentiating two  lazy useless thing reason often disastrous result basically lack thing make using adblocker p ask analytical type tell want see le advertising help better hahahaha mango thread chameleon skill thing mirror mood personality others chameleon skill make wonder true free human without either well know sure wrong exist obviously prove problem first word post watching news tv news entertainment journalism resent thought human nothing selfish creature selfless accomplished whim fulfillment life often come form giving others solfonny yup basically lol suicide permanent solution non permanent problem selfish cause pain burden family rest life thinking could considered lol woman easy seriously day every  adderal would live utopia noon repeat mantra self aware reject idea come god camus declares human exist nothing change choice get pissed give revolt fact absurd man without negating nothing eternal nostalgia foreign prefers courage reasoning first teach need elbow past people hurry potentially miss train door closing otherwise want first train bus get stuck behind crowd slow walker loaded question still strongly believing non belief internet police restrain trolling  '\n",
      " ' conflicted right come wanting child honestly maternal instinct whatsoever recently none close friend child guess closest friend    xnfp  know correct know know type actually xnfp said last paragraph teacher frustrates trend education combine class contain variety type student say much trouble community general mean talking age peer never considered popular artsy extracurricular eat meat feel guilty vaguely considered eating meat think could actually nutritional requirement need high protein diet well boat except teach science theater know people think science  find interesting good another career exactly god truly created one man one woman technically created woman man product incest per book stayed list going around facebook choice following special order reader bernhard schlink interpreter malady jhumpa amazing list partially posting sure find need idea listen list long others pretty another point  type known idealist heard theory procrastination say come person setting high standard mind ideal perhaps well bit impulse control feeling calm one else going feel calm cute think stereotype think eleanor roosevelt may  google classified  read biography actually seems like introvert forced know much subtypes wow definitely teacher first time read thought yeah way reading carefully second time almost perfectly list interest hobby generally like read lot tell later though sometimes work get busy also enjoy writing come burst go well help gay thing sorry however commiserate part waiting someone text back feeling like power oh wow totally situation right treated poorly opposite problem seem find courage stand ground think cry much mom think pretty sure think clinically depressed even though mean pretty sure cry bit lol well feel dumb work see thanks alcohol actually change base personality easy change mbti valid alcohol make say thing would absent site couple month since back couple week ago whenever try create thread like right reply thread unable create new also sorry huge long single paragraph reason window let create new paragraph attempting fix eggsies thanks reply perspective cheating thing interesting never really thought way especially beginning perhaps make good point  forum conversation like getting gift agreed lot thing however terrible gift giver anyone different taste always good math never enjoyed math fair slightly f opposed function also say math methodical ok mr  conundrum dating  since january busy schedule able spend little time love bike use one recreation actual transportation might bike weekend evening errand weather nice except right live steep hill never make clinically diagnosed adhd reading extensively talking mom behavior kid found wanted take psychologist dad yoga clothes tight black capri pink purple tank tear movie sometimes generally cry hard exception movie version book read like harry potter believe two hour usually unfortunately kind read lot book fiction working night circus erin morgenstern almost done dovekeepers alice hoffman also reading little ambivalent book made movie many favorite book literary enough movie version would atrocious couple agree finish dark could read point without replying may physically alone someone hearing posted thread fear may belong curiosity someone desperately wanted meet need know would tell person would even know ask well never read book seen loosely based movie see saying thought fully convinced case greatly appreciate input boxerkitty said s need socialize wide set people time unwind make feel somewhat better one thing would love person choose spend life assuming find someone choose spend life similar point made completely agreed madrabbit exception pursuing answer never find possibly exist go cycle get frustrated give decide stop yeah hear know really complicated wish seems way mind one entirely know bring without using word marriage know sure  seems far likely thought post advice s difficulty relationship something bugging week thought would post people seem get think thing way seeing original post title anything go totally relate almost posted similar thread able trust relationship day ago desire control others kind freak feel like control feeling situation let explain desire tell someone else others mentioned feel really guilty spend lot money spa type thing feel like could putting somewhere useful especially since make ton sad angry pathetic embarrassed love oh definitely definitely stem combination number thing occurred life biggest overall factor form attachment incredibly easy seems really hoping since referred break letter long distance relationship seriously even face person tell feel honestly see point saying letter like change imagine anyone said voted  closer e ok thing sort issue test took quiz got entertainer one think really type reason describe two yeah definitely get jealous come romantic relationship honest many serious romantic relationship part reason though certainly wait leafstone third volume q book originally split japanese another language spent entire week beach book finish finished since '\n",
      " ' long since personalitycafe although seem changed one bit must say good back somewhere like usually turn doctor overwhelmed world around one dream chased large shadowy creature someone else felt save else dream ended reached safety happened well avatar doctor clockwork creature always liked monster worker trying job kind st thanks reply appreciate help get nd think everyone right opinion however many people abuse right p yea iron man thing xd thanks advice everyone thanks think needed humour might show maybe know anything harsh like throw beat although place go really really know judge personality type say mum introverted dad extroverted p ok understand want feel liking men good problem tell parent want tell really know say contempt always suppose spent afternoon buried book world spending morning animal suppose good mix whats hardest thing going face life got clue current perspective telling parent gay seems like huge hurdle suspect seem mi torchwood oh fictional oh well still got book two day ago read thought brilliant true family love never wanted deeply understand contempt keeping deeper self different people see look understand knowing important much know also happy let anything get lately feel better either guess watching comedy central incredible song thanks reply relate part least big deal may made reply pointing well something along line feel although ever entered state mind time need emotion sake sometimes think young time live life find parent never happy effort give anything say used quite lazy lately tried best everything ask without hassle hey spoiler button still pre load image matter best driver currently hold restricted licence drive safely tell parent speed open road one around let someone tell belief wrong think right true people may agree make belief wrong mean midnight blue question many thing feel contrasting may see dark shade blue fact story behind every line magnificent fine ad make website know sometimes need reccomendation though make open new window clicked target top yes want people understand people anyway think matter could understand many people care really fully interested know s idea letting people life keeping distance personaly people let world let one bothered personally actually sometimes actually think realize obvious others might feel see good someone hang around happens chance notice accident good disappearing want see library walk somewhere remote alone agree although black white person outside anyway website need colour bright black help defiantly night person doubt enjoy late sleeping half day away say lost balance knew exactly feel say similar place right lost thing really keep going balance world spinning look good think top navigation bar news would look better darker colour white seems bright would tenth way actually capt jack going say doctor thought second thing seemed appropriate apart tardis would get car drive stopping enjoy thanks solitude right like constructive criticism something work improve guess upset little feel people criticize work something whenever someone tell something done good enough make feel like good enough maybe yes owner lonely heart doctor fan say repeated memory wipe silence eventually fry brain eleventh doctor remember people currently reading white wolf son good read quite expected picked finish soon next want read wolf gift tonight sit outside window blackness night staring wilderness call space peace beauty could stay till morning light thousand sun stare upon going close facebook month back well wanting able message family ausse school friend found connected website second mar collection seems fitting mood right seen agree actually think first time watched movie beginning got power kinda thought andrew would never work right ok watched underworld awakening must say really good film compared film last month anyway think good first would never want turn emotion sometimes hide world still need ']\n",
      "<class 'numpy.ndarray'>\n",
      "8675\n"
     ]
    },
    {
     "name": "stdout",
     "output_type": "stream",
     "text": [
      "8676\n",
      "  (0, 465)\t1\n",
      "  (0, 646)\t1\n",
      "  (0, 38)\t1\n",
      "  (0, 453)\t1\n",
      "  (0, 69)\t1\n",
      "  (0, 68)\t1\n",
      "  (0, 381)\t1\n",
      "  (0, 635)\t1\n",
      "  (0, 15)\t1\n",
      "  (0, 785)\t1\n",
      "  (0, 640)\t1\n",
      "  (0, 544)\t1\n",
      "  (0, 14)\t1\n",
      "  (0, 306)\t1\n",
      "  (0, 455)\t1\n",
      "  (0, 586)\t1\n",
      "  (0, 485)\t1\n",
      "  (0, 362)\t1\n",
      "  (0, 604)\t1\n",
      "  (0, 380)\t1\n",
      "  (0, 62)\t1\n",
      "  (0, 579)\t1\n",
      "  (0, 680)\t1\n",
      "  (0, 543)\t1\n",
      "  (0, 595)\t1\n",
      "  :\t:\n",
      "  (8675, 163)\t1\n",
      "  (8675, 488)\t4\n",
      "  (8675, 762)\t1\n",
      "  (8675, 770)\t2\n",
      "  (8675, 457)\t1\n",
      "  (8675, 771)\t1\n",
      "  (8675, 704)\t1\n",
      "  (8675, 314)\t1\n",
      "  (8675, 211)\t1\n",
      "  (8675, 174)\t1\n",
      "  (8675, 23)\t1\n",
      "  (8675, 364)\t1\n",
      "  (8675, 88)\t1\n",
      "  (8675, 310)\t1\n",
      "  (8675, 87)\t1\n",
      "  (8675, 367)\t1\n",
      "  (8675, 67)\t1\n",
      "  (8675, 768)\t1\n",
      "  (8675, 785)\t2\n",
      "  (8675, 334)\t1\n",
      "  (8675, 106)\t1\n",
      "  (8675, 626)\t1\n",
      "  (8675, 213)\t1\n",
      "  (8675, 576)\t1\n",
      "  (8675, 223)\t2\n",
      "Tf-idf...\n",
      "(8676, 791)\n"
     ]
    }
   ],
   "source": [
    "import numpy as np\n",
    "\n",
    "# Posts to a matrix of token counts\n",
    "cntizer = CountVectorizer(analyzer=\"word\", \n",
    "                             max_features=1500, \n",
    "                             tokenizer=None,    \n",
    "                             preprocessor=None, \n",
    "                             stop_words=None,  \n",
    "                             max_df=0.7,\n",
    "                             min_df=0.1) \n",
    "\n",
    "# Learn the vocabulary dictionary and return term-document matrix\n",
    "print(\"CountVectorizer...\")\n",
    "\n",
    "text = \"Hi! My name is Emily Nairn. I am in 2B Management Engineering, and will be graduating in 2022. I am from a really small town called Cobourg, ON and knew no one at Waterloo before coming in first year. Since then, I have totally fallen in love with Waterloo Engineering and Waterloo in general :)Emily NairnWaterloo Engineering in one word:Supportive.I choose Waterloo Engineering because:The amazing co-op program. I also loved the idea of having all my classes with the same people in my cohort!The best thing about my program is:How tightknit my class is. We are all friends, in the classroom and outside of it! I know that if I ever need help understanding a concept or reviewing material before an exam, I can ask any of my classmates JAbout my Co-op experience:For my first co-op, I worked at TD as a Digital Customer Experience and Strategy intern. For my second co-op, I worked as a Cloud Analyst at Sourced Group. Both of them gave me huge insights into different roles, and the differences between working for a large and small company. I am looking forward to exploring more coops in development and product management JI wish I had known before I came:Everyone is in this together! There are tons of social and academic events in the first few weeks to ensure you get to know the rest of the first years and the supports Waterloo has to offer.Outside the classroom, I’m involved with:Since first year, I have been involved in Engineering Ambassadors, Industry 4.0 Design team, UWxPM and a few intramural teams!One more thing about me:I have been to 12 schools and UW is definitely my favourite one!\"\n",
    "a = np.array([text])\n",
    "print(list_posts)\n",
    "print(type(list_posts))\n",
    "print(len(list_posts))\n",
    "list_posts = np.append(list_posts,a)\n",
    "print(len(list_posts))\n",
    "\n",
    "#X_cnt = cntizer.fit_transform(['Hi! My name is Emily Nairn. I am in 2B Management Engineering, and will be graduating in 2022. I am from a really small town called Cobourg, ON and knew no one at Waterloo before coming in first year. Since then, I have totally fallen in love with Waterloo Engineering and Waterloo in general :)Emily NairnWaterloo Engineering in one word:Supportive.I choose Waterloo Engineering because:The amazing co-op program. I also loved the idea of having all my classes with the same people in my cohort!The best thing about my program is:How tightknit my class is. We are all friends, in the classroom and outside of it! I know that if I ever need help understanding a concept or reviewing material before an exam, I can ask any of my classmates JAbout my Co-op experience:For my first co-op, I worked at TD as a Digital Customer Experience and Strategy intern. For my second co-op, I worked as a Cloud Analyst at Sourced Group. Both of them gave me huge insights into different roles, and the differences between working for a large and small company. I am looking forward to exploring more coops in development and product management JI wish I had known before I came:Everyone is in this together! There are tons of social and academic events in the first few weeks to ensure you get to know the rest of the first years and the supports Waterloo has to offer.Outside the classroom, I’m involved with:Since first year, I have been involved in Engineering Ambassadors, Industry 4.0 Design team, UWxPM and a few intramural teams!One more thing about me:I have been to 12 schools and UW is definitely my favourite one!'])\n",
    "X_cnt = cntizer.fit_transform(list_posts)\n",
    "print(X_cnt)\n",
    "# Transform the count matrix to a normalized tf or tf-idf representation\n",
    "tfizer = TfidfTransformer()\n",
    "\n",
    "print(\"Tf-idf...\")\n",
    "# Learn the idf vector (fit) and transform a count matrix to a tf-idf representation\n",
    "X_tfidf =  tfizer.fit_transform(X_cnt).toarray()\n",
    "print(X_tfidf.shape)"
   ]
  },
  {
   "cell_type": "code",
   "execution_count": 208,
   "metadata": {},
   "outputs": [
    {
     "name": "stdout",
     "output_type": "stream",
     "text": [
      "[0.         0.         0.         0.         0.         0.\n",
      " 0.         0.         0.         0.         0.         0.\n",
      " 0.         0.         0.         0.         0.         0.\n",
      " 0.         0.         0.         0.         0.         0.1201985\n",
      " 0.         0.         0.         0.         0.         0.\n",
      " 0.         0.         0.         0.         0.         0.\n",
      " 0.         0.         0.         0.         0.         0.\n",
      " 0.08625061 0.         0.         0.         0.         0.\n",
      " 0.         0.         0.         0.         0.         0.\n",
      " 0.         0.         0.         0.         0.         0.\n",
      " 0.         0.         0.         0.         0.         0.\n",
      " 0.         0.06593379 0.         0.         0.         0.\n",
      " 0.         0.         0.         0.         0.         0.\n",
      " 0.         0.         0.         0.         0.         0.\n",
      " 0.         0.         0.         0.10830561 0.10222791 0.\n",
      " 0.         0.         0.         0.         0.         0.\n",
      " 0.         0.         0.         0.         0.         0.\n",
      " 0.         0.         0.         0.12761409 0.10745193 0.\n",
      " 0.         0.         0.         0.         0.         0.\n",
      " 0.         0.         0.11170608 0.         0.         0.14251067\n",
      " 0.         0.         0.         0.13766267 0.         0.\n",
      " 0.         0.         0.         0.         0.         0.\n",
      " 0.         0.         0.         0.         0.         0.\n",
      " 0.         0.         0.         0.         0.         0.\n",
      " 0.         0.         0.         0.         0.         0.\n",
      " 0.         0.         0.         0.         0.         0.\n",
      " 0.         0.         0.         0.         0.         0.\n",
      " 0.         0.08109711 0.         0.         0.         0.\n",
      " 0.         0.         0.         0.         0.         0.\n",
      " 0.07083192 0.         0.         0.         0.         0.\n",
      " 0.         0.         0.         0.         0.         0.\n",
      " 0.         0.         0.         0.         0.         0.\n",
      " 0.         0.         0.         0.         0.         0.\n",
      " 0.         0.         0.         0.         0.         0.\n",
      " 0.         0.         0.         0.         0.         0.\n",
      " 0.         0.07053301 0.         0.07279695 0.         0.\n",
      " 0.         0.         0.         0.         0.         0.\n",
      " 0.         0.15746357 0.         0.         0.         0.\n",
      " 0.         0.         0.         0.         0.         0.\n",
      " 0.         0.         0.         0.         0.         0.\n",
      " 0.         0.         0.         0.         0.         0.\n",
      " 0.         0.         0.         0.         0.         0.\n",
      " 0.         0.         0.         0.         0.         0.\n",
      " 0.         0.         0.         0.         0.         0.\n",
      " 0.         0.         0.         0.         0.         0.\n",
      " 0.         0.         0.12918984 0.09720101 0.         0.\n",
      " 0.         0.         0.         0.         0.         0.\n",
      " 0.         0.         0.         0.         0.         0.\n",
      " 0.         0.10261428 0.         0.         0.         0.\n",
      " 0.         0.         0.         0.         0.         0.\n",
      " 0.         0.         0.         0.         0.         0.\n",
      " 0.         0.         0.         0.         0.07180818 0.\n",
      " 0.         0.         0.11623381 0.         0.         0.\n",
      " 0.         0.         0.         0.         0.         0.\n",
      " 0.         0.         0.         0.         0.         0.\n",
      " 0.12582829 0.         0.         0.         0.06995962 0.\n",
      " 0.         0.         0.         0.         0.         0.\n",
      " 0.         0.         0.         0.         0.         0.\n",
      " 0.         0.         0.         0.         0.         0.\n",
      " 0.         0.28737454 0.         0.         0.         0.\n",
      " 0.         0.         0.         0.         0.11436603 0.\n",
      " 0.         0.11690149 0.         0.         0.1438366  0.\n",
      " 0.         0.         0.         0.         0.         0.\n",
      " 0.         0.         0.         0.         0.         0.\n",
      " 0.         0.         0.         0.         0.         0.\n",
      " 0.         0.         0.         0.         0.         0.\n",
      " 0.         0.         0.         0.         0.         0.\n",
      " 0.         0.         0.         0.         0.         0.\n",
      " 0.08531352 0.         0.         0.         0.11919435 0.\n",
      " 0.         0.         0.         0.         0.         0.\n",
      " 0.         0.         0.         0.         0.         0.\n",
      " 0.         0.         0.         0.         0.         0.\n",
      " 0.         0.         0.         0.         0.         0.\n",
      " 0.         0.         0.         0.         0.         0.\n",
      " 0.         0.         0.         0.         0.         0.\n",
      " 0.         0.         0.         0.         0.         0.\n",
      " 0.         0.10180682 0.         0.         0.         0.\n",
      " 0.         0.         0.         0.         0.         0.\n",
      " 0.         0.         0.         0.         0.         0.\n",
      " 0.         0.         0.         0.         0.         0.\n",
      " 0.         0.         0.         0.         0.         0.\n",
      " 0.         0.         0.53117238 0.         0.         0.\n",
      " 0.         0.         0.         0.         0.         0.23494067\n",
      " 0.         0.         0.         0.         0.         0.\n",
      " 0.         0.         0.         0.         0.         0.\n",
      " 0.         0.         0.         0.         0.         0.\n",
      " 0.         0.         0.         0.         0.         0.\n",
      " 0.         0.         0.         0.         0.         0.\n",
      " 0.         0.         0.         0.         0.         0.\n",
      " 0.         0.         0.         0.         0.         0.\n",
      " 0.         0.         0.         0.         0.         0.\n",
      " 0.         0.         0.         0.         0.         0.\n",
      " 0.         0.         0.         0.         0.         0.\n",
      " 0.         0.         0.         0.         0.         0.\n",
      " 0.         0.         0.         0.         0.         0.\n",
      " 0.         0.         0.         0.         0.         0.\n",
      " 0.12672891 0.         0.         0.         0.         0.\n",
      " 0.         0.         0.         0.         0.         0.\n",
      " 0.         0.1001069  0.         0.         0.         0.\n",
      " 0.         0.         0.         0.         0.         0.\n",
      " 0.         0.         0.         0.         0.         0.\n",
      " 0.         0.         0.         0.         0.         0.\n",
      " 0.         0.         0.         0.14707708 0.         0.\n",
      " 0.         0.         0.         0.         0.         0.21473061\n",
      " 0.         0.         0.08941782 0.         0.         0.\n",
      " 0.         0.         0.         0.         0.         0.\n",
      " 0.         0.         0.         0.         0.         0.\n",
      " 0.         0.         0.         0.         0.         0.\n",
      " 0.         0.         0.         0.         0.         0.\n",
      " 0.         0.         0.         0.         0.         0.\n",
      " 0.         0.         0.         0.         0.         0.\n",
      " 0.         0.         0.         0.         0.         0.\n",
      " 0.         0.         0.         0.         0.         0.\n",
      " 0.         0.         0.         0.         0.         0.\n",
      " 0.         0.         0.         0.         0.         0.\n",
      " 0.         0.         0.         0.         0.         0.\n",
      " 0.         0.         0.         0.         0.         0.\n",
      " 0.         0.         0.10523319 0.         0.         0.\n",
      " 0.         0.         0.10441674 0.         0.         0.\n",
      " 0.         0.         0.         0.         0.         0.\n",
      " 0.         0.         0.         0.         0.         0.\n",
      " 0.         0.11747034 0.         0.         0.         0.\n",
      " 0.         0.         0.         0.         0.         0.\n",
      " 0.         0.         0.         0.         0.         0.\n",
      " 0.         0.         0.         0.         0.         0.\n",
      " 0.         0.         0.         0.         0.         0.\n",
      " 0.         0.         0.         0.         0.         0.\n",
      " 0.09548658 0.         0.         0.         0.         0.\n",
      " 0.07752441 0.         0.26898143 0.10298453 0.         0.\n",
      " 0.         0.         0.         0.         0.         0.\n",
      " 0.         0.         0.         0.         0.         0.12000806\n",
      " 0.         0.         0.         0.         0.        ]\n"
     ]
    },
    {
     "data": {
      "text/plain": [
       "(8675, 805)"
      ]
     },
     "execution_count": 208,
     "metadata": {},
     "output_type": "execute_result"
    }
   ],
   "source": [
    "list_posts[8675]\n",
    "type(X_tfidf)\n",
    "extracted = X_tfidf[8675,:]\n",
    "print(extracted)\n",
    "extracted.shape\n",
    "len(extracted)\n",
    "df.shape"
   ]
  },
  {
   "cell_type": "code",
   "execution_count": 212,
   "metadata": {},
   "outputs": [
    {
     "name": "stdout",
     "output_type": "stream",
     "text": [
      "[[1.11200000e+01 4.80000000e-01 2.00000000e-02 ... 0.00000000e+00\n",
      "  0.00000000e+00 0.00000000e+00]\n",
      " [2.34000000e+01 2.00000000e-01 0.00000000e+00 ... 0.00000000e+00\n",
      "  0.00000000e+00 0.00000000e+00]\n",
      " [1.67200000e+01 1.00000000e-01 0.00000000e+00 ... 0.00000000e+00\n",
      "  0.00000000e+00 0.00000000e+00]\n",
      " ...\n",
      " [1.89600000e+01 4.00000000e-02 0.00000000e+00 ... 0.00000000e+00\n",
      "  0.00000000e+00 0.00000000e+00]\n",
      " [3.41000000e+01 0.00000000e+00 0.00000000e+00 ... 0.00000000e+00\n",
      "  0.00000000e+00 0.00000000e+00]\n",
      " [2.72200000e+01 6.00000000e-02 0.00000000e+00 ... 0.00000000e+00\n",
      "  5.38286863e-02 0.00000000e+00]]\n",
      "[0 1 0 ... 0 0 0]\n",
      "(8675,)\n",
      "(8675, 799)\n",
      "(868, 799)\n",
      "80.27 %\n",
      "CountVectorizer...\n",
      "['   moment sportscenter top ten play prank life changing experience life repeat today may perc experience immerse last thing  friend posted facebook committing suicide next day rest peace hello  sorry hear distress natural relationship perfection time every moment existence try figure hard time time growth welcome stuff game set match prozac wellbrutin least thirty minute moving leg mean moving sitting desk chair weed moderation maybe try edible healthier alternative basically come three item determined type whichever type want would likely use given type cognitive function whatnot left thing moderation sims indeed video game good one note good one somewhat subjective completely promoting death given sim dear  favorite video game growing current favorite video game cool appears late sad someone everyone wait thought confidence good thing cherish time solitude b c revel within inner world whereas time workin enjoy time worry people always around yo  lady complimentary personality well hey main social outlet xbox live conversation even verbally fatigue quickly really dig part banned thread requires get high backyard roast eat marshmellows backyard conversing something intellectual followed massage kiss banned many b sentence could think b banned watching movie corner dunce banned health class clearly taught nothing peer pressure banned whole host reason two baby deer left right munching beetle middle using blood two caveman diary today latest happening designated cave diary wall see pokemon world  society everyone becomes optimist artist artist draw idea count forming something like signature welcome robot rank person downed self esteem cuz avid signature artist like proud banned taking room bed ya gotta learn share roach banned much thundering grumbling kind storm yep ahh old high school music heard age failed public speaking class year ago sort learned could better position big part failure overloading like person mentality confirmed  way move denver area start new life '\n",
      " ' finding lack post alarming sex boring position often example girlfriend currently environment creatively use cowgirl missionary enough giving new meaning game theory hello  grin take converse flirting acknowledge presence return word smooth wordplay cheeky grin lack balance hand eye coordination real iq test score internet iq test funny score higher like former response thread mention believe iq test banish know  vanish site year half return find people still commenting post liking idea thought know  think thing sometimes go old sherlock holmes quote perhaps man special knowledge special power like rather encourages seek complex cheshirewolf tumblr com post really never thought e j p real function judge use use ne ti dominates fe emotion rarely si also use ni due strength know though ingenious saying really want try see happens playing first person shooter back drive around want see look rock paper one best make lol guy lucky really high tumblr system hear new first person shooter game rocking hell soundtrack auto sound equipment shake heaven managed put couple p way connected thing ne ne dominates aware environment se dominates example shawn spencer patrick jane s well charlie first admit get jealous like chalk w heart mixed dominate w like noticed like known upload clip mic away mouth hear anything ninja assassin style splatter tik tok really great song long mental block singer love beat make bounce drop io v swck mic really close mouth smokin ace assassin ball playing background sociable extrovert extrovert sociable sherlock movie  normally played extj book  said movie looked good except called sherlock holmes oh never fear kissing guy kiss animal nothing vanish personal taste liking guy kissed know one sound pretty much like area going right trying figure way want take life want many thing biggest problem know operating impression female never looked boxy okay help gay friend time one developed little crush get red described living worst nightmare trapped one place one one around dull wood serial killer would perfect place sadly tbh biased sound like shadowed  think maybe hurt turned  tell typical  trait left check list sorry seems came bad time already reached quota s however female like female make deal kick one antp leaning toward e easy s s identify also imagine  interrogation would go little bit like jack except mechanical rigging shock treatment equipment abandoned building old car batty jumper compliment trust psychopathic except emoticon weird one like laughing get hurt people running lawn mower like theme live know heart usual leave thing end mean time time work thing work mine mbp pleasure meet damn need trust instinct would closer going say  exfp leaning toward way responded friend even gay lesbian one always come advice bow  master s great s able build building duck duck duck shotgun never hard sad losing someone like knew right give big pat back awesome always correct oh tell stupid know play make laugh going take neuropsychology psychologist nightowl wake pm stay awake till personal opinion backed theory would suggest s socially difficult s socially indifferent also use social situation need arises personal stock desktop downloaded random stock site stock photobuckets tell open photoshop glad like static thanks made friend several hour work constructed every line static get avatar later one fellow teammate psychologist keep around long enough diagnosis like toy diagnosis psychologist friend friend tell '\n",
      " ' good one course say know blessing curse absolutely positive best friend could amazing couple count yes could madly love case reconciled feeling thank link called ti si loop stem current topic obsession deadly like stuck thought mind wanders circle feel truly terrible noticed peculiar vegetation look grass dozen different plant specie imagine hundred year later soil smith never one ever often find spotting face marble tile wood year old sentence incredibly accurate beautiful description visited website last year whoever read maybe even remembers highly doubt hi sit garden pm writing song sing together dozen cricket playing acoustic guitar  ish thread ever seen able look painting entire life knew picked human drawing background animation working right mar felt obligated make mark watneyx postcard read book started make comic turtle gordon unicorn chime see two first story  recently started post comic two friend turtle gordon unicorn chime posted stuff interested try include work probably could work together new model expert abrupt explosion laughter upon various weird stuff happens peculiar sense humor peculiar much hellooo nah touch everyone think scared sad true fact absolutely neutral face kitten actually really like patting hug well kind already mentioned sometimes ni hard convey complex stuff pop head whimsical compilation shape picture word think kitten would appropriate good night everyone even someone morning right night always supersede morning people say good night order meet next day oh movie awesome thank hope good sleep air anyway wishing good night next night ahead hopefully land good people deserve good well people may wondering issue name topic find response helpful anyway finally someone mentioned still see creature face maze various random pattern amusing sometimes handy skill bored oh know pity sacrifice whole supermarket decide walmart best think biggest one would great yippy go think fire delicious sacrifice tofu like waste food think creator thread care going year heh understand given language yes adventure time get angry quite rarely safer surrounding people go somewhere else impossible hide suppress anger way get rid feeling burst never liked anything fake bad actually hug given chosen one chosen quite though yup right course comfortable human race survived thankfully woman ability give birth human being worked thousand year change besides happens occurs often people use result extremely precise elaborate online test basis determining one type visual language art study graphic design really enjoy interesting field ability generate idea solve problem much important possession specific alexxxandra deviantart always ready discipline intimidate precise sibling offender world domination shooting people head oh right s always must characterised word want show badly reaction  '\n",
      " ...\n",
      " ' many question thing would take purple pill pick winning lottery number whatever want worked brewery couple year dont know familiar local micros craft mill st name tankhouse favorite anything local going summon great powerful mr cafebot song destruction four horseman ride count day people earth intro nick  male basement thread obviously textbook definition manliness ruffin tuffin going hard mother fking paint stand asked time approved say oh shit short staffed badger figure asked arn lol excellent thread nt dc love watching baseball playing oh hate yankee multiple partner consider manly man lift  thing relationship spend little time bedroom compared everything else dumb blonde make happy minute night going take thinking man plant fruit tree give food year feeling year later squirrel hungry eats fruit tree intuitive man see well think appreciate einstein quote everyone genius judge fish abiility climb tree live whole life believing stupid everybody vsauce real men write poetry oh mountain dew release mountain flavored doritos locos taco skateboard also check still two thing certain rusell brand heavilly extraverted magical man people badger gonna make male version  video today creative process s getting around thing putting think always ready work provided sleep food stomach may look busy hear everything guy like making video love part hey man life try yes know  conversation head real people tl dr yes posted spoken like true  really bothered believe think tell boyfriend said morality invariably get talking philosophy tangable answer good subject include evolution hunter gatherer society political system good movie hey b th read post immediate reaction boyfriend flipping something insignificant trust issue nothing wag finger think idea enjoy darkbarlow post crush ya maybe self defense really crime would kill somebody save people million dollar thirty year later could come conclusion woman indisputably better men gentler affectionate loving compassionate rarely really make clear cut method differentiating two  lazy useless thing reason often disastrous result basically lack thing make using adblocker p ask analytical type tell want see le advertising help better hahahaha mango thread chameleon skill thing mirror mood personality others chameleon skill make wonder true free human without either well know sure wrong exist obviously prove problem first word post watching news tv news entertainment journalism resent thought human nothing selfish creature selfless accomplished whim fulfillment life often come form giving others solfonny yup basically lol suicide permanent solution non permanent problem selfish cause pain burden family rest life thinking could considered lol woman easy seriously day every  adderal would live utopia noon repeat mantra self aware reject idea come god camus declares human exist nothing change choice get pissed give revolt fact absurd man without negating nothing eternal nostalgia foreign prefers courage reasoning first teach need elbow past people hurry potentially miss train door closing otherwise want first train bus get stuck behind crowd slow walker loaded question still strongly believing non belief internet police restrain trolling  '\n",
      " ' conflicted right come wanting child honestly maternal instinct whatsoever recently none close friend child guess closest friend    xnfp  know correct know know type actually xnfp said last paragraph teacher frustrates trend education combine class contain variety type student say much trouble community general mean talking age peer never considered popular artsy extracurricular eat meat feel guilty vaguely considered eating meat think could actually nutritional requirement need high protein diet well boat except teach science theater know people think science  find interesting good another career exactly god truly created one man one woman technically created woman man product incest per book stayed list going around facebook choice following special order reader bernhard schlink interpreter malady jhumpa amazing list partially posting sure find need idea listen list long others pretty another point  type known idealist heard theory procrastination say come person setting high standard mind ideal perhaps well bit impulse control feeling calm one else going feel calm cute think stereotype think eleanor roosevelt may  google classified  read biography actually seems like introvert forced know much subtypes wow definitely teacher first time read thought yeah way reading carefully second time almost perfectly list interest hobby generally like read lot tell later though sometimes work get busy also enjoy writing come burst go well help gay thing sorry however commiserate part waiting someone text back feeling like power oh wow totally situation right treated poorly opposite problem seem find courage stand ground think cry much mom think pretty sure think clinically depressed even though mean pretty sure cry bit lol well feel dumb work see thanks alcohol actually change base personality easy change mbti valid alcohol make say thing would absent site couple month since back couple week ago whenever try create thread like right reply thread unable create new also sorry huge long single paragraph reason window let create new paragraph attempting fix eggsies thanks reply perspective cheating thing interesting never really thought way especially beginning perhaps make good point  forum conversation like getting gift agreed lot thing however terrible gift giver anyone different taste always good math never enjoyed math fair slightly f opposed function also say math methodical ok mr  conundrum dating  since january busy schedule able spend little time love bike use one recreation actual transportation might bike weekend evening errand weather nice except right live steep hill never make clinically diagnosed adhd reading extensively talking mom behavior kid found wanted take psychologist dad yoga clothes tight black capri pink purple tank tear movie sometimes generally cry hard exception movie version book read like harry potter believe two hour usually unfortunately kind read lot book fiction working night circus erin morgenstern almost done dovekeepers alice hoffman also reading little ambivalent book made movie many favorite book literary enough movie version would atrocious couple agree finish dark could read point without replying may physically alone someone hearing posted thread fear may belong curiosity someone desperately wanted meet need know would tell person would even know ask well never read book seen loosely based movie see saying thought fully convinced case greatly appreciate input boxerkitty said s need socialize wide set people time unwind make feel somewhat better one thing would love person choose spend life assuming find someone choose spend life similar point made completely agreed madrabbit exception pursuing answer never find possibly exist go cycle get frustrated give decide stop yeah hear know really complicated wish seems way mind one entirely know bring without using word marriage know sure  seems far likely thought post advice s difficulty relationship something bugging week thought would post people seem get think thing way seeing original post title anything go totally relate almost posted similar thread able trust relationship day ago desire control others kind freak feel like control feeling situation let explain desire tell someone else others mentioned feel really guilty spend lot money spa type thing feel like could putting somewhere useful especially since make ton sad angry pathetic embarrassed love oh definitely definitely stem combination number thing occurred life biggest overall factor form attachment incredibly easy seems really hoping since referred break letter long distance relationship seriously even face person tell feel honestly see point saying letter like change imagine anyone said voted  closer e ok thing sort issue test took quiz got entertainer one think really type reason describe two yeah definitely get jealous come romantic relationship honest many serious romantic relationship part reason though certainly wait leafstone third volume q book originally split japanese another language spent entire week beach book finish finished since '\n"
     ]
    },
    {
     "name": "stdout",
     "output_type": "stream",
     "text": [
      " ' long since personalitycafe although seem changed one bit must say good back somewhere like usually turn doctor overwhelmed world around one dream chased large shadowy creature someone else felt save else dream ended reached safety happened well avatar doctor clockwork creature always liked monster worker trying job kind st thanks reply appreciate help get nd think everyone right opinion however many people abuse right p yea iron man thing xd thanks advice everyone thanks think needed humour might show maybe know anything harsh like throw beat although place go really really know judge personality type say mum introverted dad extroverted p ok understand want feel liking men good problem tell parent want tell really know say contempt always suppose spent afternoon buried book world spending morning animal suppose good mix whats hardest thing going face life got clue current perspective telling parent gay seems like huge hurdle suspect seem mi torchwood oh fictional oh well still got book two day ago read thought brilliant true family love never wanted deeply understand contempt keeping deeper self different people see look understand knowing important much know also happy let anything get lately feel better either guess watching comedy central incredible song thanks reply relate part least big deal may made reply pointing well something along line feel although ever entered state mind time need emotion sake sometimes think young time live life find parent never happy effort give anything say used quite lazy lately tried best everything ask without hassle hey spoiler button still pre load image matter best driver currently hold restricted licence drive safely tell parent speed open road one around let someone tell belief wrong think right true people may agree make belief wrong mean midnight blue question many thing feel contrasting may see dark shade blue fact story behind every line magnificent fine ad make website know sometimes need reccomendation though make open new window clicked target top yes want people understand people anyway think matter could understand many people care really fully interested know s idea letting people life keeping distance personaly people let world let one bothered personally actually sometimes actually think realize obvious others might feel see good someone hang around happens chance notice accident good disappearing want see library walk somewhere remote alone agree although black white person outside anyway website need colour bright black help defiantly night person doubt enjoy late sleeping half day away say lost balance knew exactly feel say similar place right lost thing really keep going balance world spinning look good think top navigation bar news would look better darker colour white seems bright would tenth way actually capt jack going say doctor thought second thing seemed appropriate apart tardis would get car drive stopping enjoy thanks solitude right like constructive criticism something work improve guess upset little feel people criticize work something whenever someone tell something done good enough make feel like good enough maybe yes owner lonely heart doctor fan say repeated memory wipe silence eventually fry brain eleventh doctor remember people currently reading white wolf son good read quite expected picked finish soon next want read wolf gift tonight sit outside window blackness night staring wilderness call space peace beauty could stay till morning light thousand sun stare upon going close facebook month back well wanting able message family ausse school friend found connected website second mar collection seems fitting mood right seen agree actually think first time watched movie beginning got power kinda thought andrew would never work right ok watched underworld awakening must say really good film compared film last month anyway think good first would never want turn emotion sometimes hide world still need ']\n",
      "<class 'numpy.ndarray'>\n",
      "8675\n",
      "8676\n",
      "  (0, 465)\t1\n",
      "  (0, 646)\t1\n",
      "  (0, 38)\t1\n",
      "  (0, 453)\t1\n",
      "  (0, 69)\t1\n",
      "  (0, 68)\t1\n",
      "  (0, 381)\t1\n",
      "  (0, 635)\t1\n",
      "  (0, 15)\t1\n",
      "  (0, 785)\t1\n",
      "  (0, 640)\t1\n",
      "  (0, 544)\t1\n",
      "  (0, 14)\t1\n",
      "  (0, 306)\t1\n",
      "  (0, 455)\t1\n",
      "  (0, 586)\t1\n",
      "  (0, 485)\t1\n",
      "  (0, 362)\t1\n",
      "  (0, 604)\t1\n",
      "  (0, 380)\t1\n",
      "  (0, 62)\t1\n",
      "  (0, 579)\t1\n",
      "  (0, 680)\t1\n",
      "  (0, 543)\t1\n",
      "  (0, 595)\t1\n",
      "  :\t:\n",
      "  (8675, 288)\t1\n",
      "  (8675, 33)\t1\n",
      "  (8675, 367)\t1\n",
      "  (8675, 137)\t1\n",
      "  (8675, 67)\t2\n",
      "  (8675, 366)\t2\n",
      "  (8675, 560)\t2\n",
      "  (8675, 768)\t1\n",
      "  (8675, 678)\t1\n",
      "  (8675, 208)\t1\n",
      "  (8675, 465)\t4\n",
      "  (8675, 381)\t1\n",
      "  (8675, 15)\t1\n",
      "  (8675, 306)\t1\n",
      "  (8675, 586)\t1\n",
      "  (8675, 627)\t1\n",
      "  (8675, 737)\t1\n",
      "  (8675, 106)\t1\n",
      "  (8675, 501)\t1\n",
      "  (8675, 772)\t2\n",
      "  (8675, 213)\t1\n",
      "  (8675, 301)\t1\n",
      "  (8675, 249)\t2\n",
      "  (8675, 720)\t2\n",
      "  (8675, 223)\t7\n",
      "Tf-idf...\n",
      "(8676, 791)\n",
      "[0.         0.         0.         0.         0.         0.\n",
      " 0.         0.         0.         0.04012919 0.         0.\n",
      " 0.07024106 0.08595453 0.         0.05957613 0.         0.\n",
      " 0.         0.         0.         0.         0.         0.1599887\n",
      " 0.         0.         0.         0.         0.         0.05651819\n",
      " 0.         0.         0.         0.04435806 0.         0.\n",
      " 0.         0.         0.         0.         0.         0.\n",
      " 0.05740139 0.         0.         0.         0.         0.\n",
      " 0.         0.         0.         0.         0.         0.\n",
      " 0.         0.         0.         0.         0.         0.\n",
      " 0.         0.         0.         0.         0.         0.\n",
      " 0.         0.08776034 0.         0.         0.         0.\n",
      " 0.         0.         0.         0.         0.         0.\n",
      " 0.         0.         0.         0.         0.         0.\n",
      " 0.         0.         0.         0.         0.06803459 0.\n",
      " 0.         0.0534865  0.         0.         0.         0.\n",
      " 0.         0.         0.         0.         0.         0.\n",
      " 0.         0.         0.         0.         0.07151127 0.\n",
      " 0.         0.         0.         0.         0.         0.\n",
      " 0.         0.         0.         0.         0.         0.\n",
      " 0.         0.         0.         0.         0.         0.\n",
      " 0.         0.         0.         0.         0.         0.\n",
      " 0.         0.         0.         0.         0.         0.07044894\n",
      " 0.         0.         0.         0.09380014 0.         0.\n",
      " 0.         0.         0.         0.         0.         0.\n",
      " 0.         0.         0.         0.         0.         0.\n",
      " 0.         0.         0.         0.         0.         0.08380707\n",
      " 0.         0.05397164 0.08837629 0.         0.         0.\n",
      " 0.         0.         0.         0.         0.         0.\n",
      " 0.04713997 0.         0.         0.         0.         0.\n",
      " 0.         0.         0.         0.         0.         0.\n",
      " 0.         0.         0.         0.         0.         0.\n",
      " 0.         0.         0.         0.         0.05200399 0.\n",
      " 0.         0.         0.         0.09414379 0.         0.\n",
      " 0.         0.         0.         0.         0.09579239 0.\n",
      " 0.         0.         0.         0.04844773 0.04941634 0.\n",
      " 0.         0.         0.05881124 0.         0.         0.\n",
      " 0.         0.36678233 0.         0.09073743 0.07671035 0.\n",
      " 0.         0.         0.         0.         0.         0.\n",
      " 0.         0.         0.         0.05656129 0.         0.\n",
      " 0.         0.         0.         0.         0.         0.\n",
      " 0.         0.         0.         0.14504824 0.         0.\n",
      " 0.         0.         0.         0.         0.         0.\n",
      " 0.         0.         0.         0.         0.07346534 0.\n",
      " 0.         0.         0.         0.         0.         0.\n",
      " 0.         0.         0.         0.         0.         0.\n",
      " 0.         0.         0.         0.         0.         0.\n",
      " 0.         0.         0.         0.         0.         0.\n",
      " 0.0497147  0.         0.         0.         0.         0.\n",
      " 0.         0.         0.         0.         0.         0.\n",
      " 0.05409024 0.04776418 0.         0.         0.         0.\n",
      " 0.07205    0.         0.         0.         0.09557937 0.\n",
      " 0.         0.         0.07735577 0.         0.         0.\n",
      " 0.         0.         0.         0.         0.         0.\n",
      " 0.         0.         0.         0.         0.         0.\n",
      " 0.         0.         0.         0.         0.         0.\n",
      " 0.         0.         0.         0.         0.         0.\n",
      " 0.         0.         0.         0.         0.         0.06662301\n",
      " 0.06330777 0.         0.         0.         0.         0.\n",
      " 0.         0.09562656 0.         0.25636255 0.         0.\n",
      " 0.         0.         0.         0.         0.07611273 0.\n",
      " 0.17737438 0.07780013 0.         0.         0.         0.\n",
      " 0.         0.         0.         0.         0.         0.\n",
      " 0.         0.         0.         0.08154136 0.         0.\n",
      " 0.         0.         0.         0.         0.         0.\n",
      " 0.         0.         0.         0.         0.         0.\n",
      " 0.         0.         0.         0.         0.         0.\n",
      " 0.08763839 0.         0.         0.         0.         0.\n",
      " 0.         0.         0.         0.         0.         0.\n",
      " 0.         0.         0.         0.05949968 0.         0.\n",
      " 0.         0.         0.         0.         0.         0.\n",
      " 0.         0.         0.         0.         0.         0.\n",
      " 0.         0.         0.         0.         0.         0.\n",
      " 0.         0.         0.         0.         0.         0.\n",
      " 0.         0.         0.         0.         0.         0.\n",
      " 0.         0.         0.         0.         0.         0.\n",
      " 0.         0.06775434 0.         0.         0.         0.\n",
      " 0.         0.         0.         0.19613735 0.         0.\n",
      " 0.         0.         0.         0.         0.         0.\n",
      " 0.         0.         0.         0.         0.         0.\n",
      " 0.         0.         0.         0.         0.         0.\n",
      " 0.         0.         0.53025772 0.         0.         0.\n",
      " 0.         0.07511598 0.         0.         0.         0.0781787\n",
      " 0.         0.         0.         0.04993362 0.         0.\n",
      " 0.         0.         0.         0.         0.         0.\n",
      " 0.         0.         0.         0.         0.         0.\n",
      " 0.         0.         0.16801189 0.         0.         0.\n",
      " 0.         0.         0.         0.         0.         0.\n",
      " 0.         0.         0.         0.         0.         0.\n",
      " 0.         0.         0.         0.         0.         0.\n",
      " 0.         0.         0.09255392 0.         0.         0.\n",
      " 0.         0.         0.         0.         0.         0.\n",
      " 0.         0.         0.         0.         0.         0.\n",
      " 0.         0.         0.11434291 0.         0.         0.\n",
      " 0.         0.         0.         0.         0.         0.\n",
      " 0.         0.         0.         0.         0.         0.\n",
      " 0.         0.         0.         0.         0.         0.\n",
      " 0.         0.         0.         0.         0.05307045 0.\n",
      " 0.         0.06662301 0.         0.         0.         0.\n",
      " 0.         0.         0.         0.         0.         0.\n",
      " 0.         0.         0.         0.         0.         0.\n",
      " 0.         0.         0.         0.         0.         0.\n",
      " 0.         0.         0.         0.         0.         0.\n",
      " 0.         0.         0.         0.         0.         0.\n",
      " 0.         0.         0.         0.08520553 0.         0.\n",
      " 0.         0.         0.         0.0864809  0.         0.\n",
      " 0.         0.         0.         0.         0.         0.\n",
      " 0.         0.         0.         0.         0.         0.\n",
      " 0.         0.         0.         0.         0.         0.\n",
      " 0.         0.         0.         0.         0.         0.\n",
      " 0.         0.         0.         0.09592573 0.         0.\n",
      " 0.         0.         0.         0.         0.         0.09582567\n",
      " 0.         0.         0.         0.         0.         0.\n",
      " 0.03963352 0.         0.         0.         0.         0.\n",
      " 0.         0.         0.         0.         0.         0.\n",
      " 0.         0.         0.         0.         0.         0.\n",
      " 0.         0.         0.         0.         0.         0.\n",
      " 0.         0.         0.         0.         0.         0.\n",
      " 0.         0.         0.         0.         0.         0.\n",
      " 0.         0.         0.         0.         0.         0.\n",
      " 0.08579756 0.         0.         0.         0.         0.\n",
      " 0.09657012 0.         0.         0.         0.         0.\n",
      " 0.         0.         0.         0.         0.         0.07230091\n",
      " 0.         0.         0.         0.         0.         0.\n",
      " 0.         0.06019505 0.         0.         0.         0.\n",
      " 0.         0.         0.         0.         0.         0.\n",
      " 0.06822723 0.         0.         0.         0.         0.\n",
      " 0.0635481  0.         0.         0.         0.         0.\n",
      " 0.05159395 0.08071105 0.17901217 0.         0.09446737 0.\n",
      " 0.         0.         0.         0.         0.         0.\n",
      " 0.         0.         0.         0.         0.         0.\n",
      " 0.         0.         0.         0.         0.        ]\n"
     ]
    },
    {
     "name": "stdout",
     "output_type": "stream",
     "text": [
      "   words_per_comment  question_per_comment  ellipsis_per_comment  \\\n",
      "0                515                     0                     0   \n",
      "\n",
      "   excl_per_comment  music_per_comment  http_per_comment  img_per_comment  \\\n",
      "0                19                  0                 0                0   \n",
      "\n",
      "   emojis_per_comment  text0  text1   ...     text781  text782  text783  \\\n",
      "0                   0    0.0    0.0   ...         0.0      0.0      0.0   \n",
      "\n",
      "   text784  text785  text786  text787  text788  text789  text790  \n",
      "0      0.0      0.0      0.0      0.0      0.0      0.0      0.0  \n",
      "\n",
      "[1 rows x 799 columns]\n",
      "[1]\n"
     ]
    }
   ],
   "source": [
    "XX = df.drop(['type','posts','I-E','N-S','T-F','J-P'], axis=1).values\n",
    "yy = df['I-E'].values\n",
    "print(XX)\n",
    "print(yy)\n",
    "\n",
    "print(yy.shape)\n",
    "print(XX.shape)\n",
    "\n",
    "XX_train,XX_test,yy_train,yy_test=train_test_split(XX,yy,test_size = 0.1, random_state=5)\n",
    "\n",
    "logregg = LogisticRegression()\n",
    "logregg.fit(XX_train, yy_train)\n",
    "\n",
    "Y_predd = logregg.predict(XX_test)\n",
    "print(XX_test.shape)\n",
    "\n",
    "acc_logg = round(logregg.score(XX_train, yy_train) * 100, 2)\n",
    "print(round(acc_logg,2,), \"%\")\n",
    "\n",
    "text = \"Hi! My name is Shein and I'm in the 2023 class of Architectural Engineering!Waterloo Engineering in one word:Rewarding.I chose engineering at Waterloo because…My program, Architectural engineering! The program was introduced in December 2017 while I was really struggling to figure out what I wanted to do. As soon as I heard about it, I knew that was the program I had to be in! It combined everything I was interested in, and allowed me to be both creative and logical at the same time. Additionally, the co-op program also played an influential role in my decision. It allows you to gain real world experience while in school, and figure out what you actually want to do with your degree!The best thing about my program is:I always like to say we get the best of both worlds! We get to express creativity through our studio courses, by using design programs, sketching and model making, while also applying practical knowledge in maths and sciences, such as in our mechanics and calculus courses!About my co-op experience:Co-op has been an amazing experience! It has allowed me to try out different opportunities in order to get a feel for what I want to do once I graduate. For my first co-op, I worked for an electrical contractor in Ottawa. At first I was really nervous about it, a new city (including a freezing Ottawa winter!) and a job that wasn't exactly in my field of interest. It ended up being an amazing experience, as I learned so much about the construction industry, including project management skills! The biggest takeaway from that job was that you can gain valuable experience regardless of what type of job you get, so don't limit yourself while applying! My second co-op job was with St. Michael's hospital in downtown Toronto, which was an extremely unique experience! I worked as part of the redevelopment team to help upgrade the existing campus and build a new patient care tower. The opportunity allowed me to understand how hospitals work as well as gain in-depth knowledge about construction in healthcare, as it is unlike anything else. So far, I love the co-op program, as it has allowed me to gain real world work experience, explore new places and try new things!I wish I had known before I came..There are an abundance of support available on campus and through the engineering faculty, so take advantage of them! Professors, TAs and other students are just a few examples of the great resources we have available. The engineering faculty has created a very supportive environment for all of its students, and everyone is there to help you succeed, so don't be afraid to ask questions!Outside of the classroom, I'm involved with:Engineering Ambassadors, orientation, Women in Engineering, Engineering Society and Student Ambassadors!One more thing about me:I was in your shoes a couple years ago, and definitely understand how hard it is to pick a university and a program! My advice, pick whatever feels right for you! I'm always happy to answer questions, so feel free to reach out and send me an email!\"\n",
    "data= [[len(text.split()),text.count('?'),text.count('...'),text.count('!'),text.count('music'),text.count('http'),text.count('jpg')+ text.count('image'),text.count(':)') + (text.count(':(') + text.count(':O') + text.count(';)') + text.count(':P') + text.count(':''(') + text.count(':-D'))]]\n",
    "data_frame = pd.DataFrame(data, columns = ['words_per_comment','question_per_comment','ellipsis_per_comment','excl_per_comment','music_per_comment','http_per_comment','img_per_comment','emojis_per_comment']) \n",
    "\n",
    "\n",
    "\n",
    "cntizer = CountVectorizer(analyzer=\"word\", \n",
    "                             max_features=1500, \n",
    "                             tokenizer=None,    \n",
    "                             preprocessor=None, \n",
    "                             stop_words=None,  \n",
    "                             max_df=0.7,\n",
    "                             min_df=0.1) \n",
    "\n",
    "# Learn the vocabulary dictionary and return term-document matrix\n",
    "print(\"CountVectorizer...\")\n",
    "\n",
    "text = \"Hi! My name is Shein and I'm in the 2023 class of Architectural Engineering!Waterloo Engineering in one word:Rewarding.I chose engineering at Waterloo because…My program, Architectural engineering! The program was introduced in December 2017 while I was really struggling to figure out what I wanted to do. As soon as I heard about it, I knew that was the program I had to be in! It combined everything I was interested in, and allowed me to be both creative and logical at the same time. Additionally, the co-op program also played an influential role in my decision. It allows you to gain real world experience while in school, and figure out what you actually want to do with your degree!The best thing about my program is:I always like to say we get the best of both worlds! We get to express creativity through our studio courses, by using design programs, sketching and model making, while also applying practical knowledge in maths and sciences, such as in our mechanics and calculus courses!About my co-op experience:Co-op has been an amazing experience! It has allowed me to try out different opportunities in order to get a feel for what I want to do once I graduate. For my first co-op, I worked for an electrical contractor in Ottawa. At first I was really nervous about it, a new city (including a freezing Ottawa winter!) and a job that wasn't exactly in my field of interest. It ended up being an amazing experience, as I learned so much about the construction industry, including project management skills! The biggest takeaway from that job was that you can gain valuable experience regardless of what type of job you get, so don't limit yourself while applying! My second co-op job was with St. Michael's hospital in downtown Toronto, which was an extremely unique experience! I worked as part of the redevelopment team to help upgrade the existing campus and build a new patient care tower. The opportunity allowed me to understand how hospitals work as well as gain in-depth knowledge about construction in healthcare, as it is unlike anything else. So far, I love the co-op program, as it has allowed me to gain real world work experience, explore new places and try new things!I wish I had known before I came..There are an abundance of support available on campus and through the engineering faculty, so take advantage of them! Professors, TAs and other students are just a few examples of the great resources we have available. The engineering faculty has created a very supportive environment for all of its students, and everyone is there to help you succeed, so don't be afraid to ask questions!Outside of the classroom, I'm involved with:Engineering Ambassadors, orientation, Women in Engineering, Engineering Society and Student Ambassadors!One more thing about me:I was in your shoes a couple years ago, and definitely understand how hard it is to pick a university and a program! My advice, pick whatever feels right for you! I'm always happy to answer questions, so feel free to reach out and send me an email!\"\n",
    "a = np.array([text])\n",
    "list_posts = list_posts[:-1]\n",
    "print(list_posts)\n",
    "print(type(list_posts))\n",
    "print(len(list_posts))\n",
    "list_posts = np.append(list_posts,a)\n",
    "print(len(list_posts))\n",
    "\n",
    "#X_cnt = cntizer.fit_transform(['Hi! My name is Emily Nairn. I am in 2B Management Engineering, and will be graduating in 2022. I am from a really small town called Cobourg, ON and knew no one at Waterloo before coming in first year. Since then, I have totally fallen in love with Waterloo Engineering and Waterloo in general :)Emily NairnWaterloo Engineering in one word:Supportive.I choose Waterloo Engineering because:The amazing co-op program. I also loved the idea of having all my classes with the same people in my cohort!The best thing about my program is:How tightknit my class is. We are all friends, in the classroom and outside of it! I know that if I ever need help understanding a concept or reviewing material before an exam, I can ask any of my classmates JAbout my Co-op experience:For my first co-op, I worked at TD as a Digital Customer Experience and Strategy intern. For my second co-op, I worked as a Cloud Analyst at Sourced Group. Both of them gave me huge insights into different roles, and the differences between working for a large and small company. I am looking forward to exploring more coops in development and product management JI wish I had known before I came:Everyone is in this together! There are tons of social and academic events in the first few weeks to ensure you get to know the rest of the first years and the supports Waterloo has to offer.Outside the classroom, I’m involved with:Since first year, I have been involved in Engineering Ambassadors, Industry 4.0 Design team, UWxPM and a few intramural teams!One more thing about me:I have been to 12 schools and UW is definitely my favourite one!'])\n",
    "X_cnt = cntizer.fit_transform(list_posts)\n",
    "print(X_cnt)\n",
    "# Transform the count matrix to a normalized tf or tf-idf representation\n",
    "tfizer = TfidfTransformer()\n",
    "\n",
    "print(\"Tf-idf...\")\n",
    "# Learn the idf vector (fit) and transform a count matrix to a tf-idf representation\n",
    "X_tfidf =  tfizer.fit_transform(X_cnt).toarray()\n",
    "print(X_tfidf.shape)\n",
    "extracted = X_tfidf[8675,:]\n",
    "print(extracted)\n",
    "\n",
    "for i in range(len(extracted)):\n",
    "    data_frame['text'+str(i)] = extracted[i]\n",
    "\n",
    "print(data_frame.head())\n",
    "Y_predd = logregg.predict(data_frame)\n",
    "print(Y_predd)\n",
    "\n"
   ]
  },
  {
   "cell_type": "code",
   "execution_count": 211,
   "metadata": {},
   "outputs": [
    {
     "data": {
      "text/plain": [
       "8676"
      ]
     },
     "execution_count": 211,
     "metadata": {},
     "output_type": "execute_result"
    }
   ],
   "source": [
    "len(list_posts)"
   ]
  },
  {
   "cell_type": "code",
   "execution_count": 213,
   "metadata": {},
   "outputs": [
    {
     "name": "stdout",
     "output_type": "stream",
     "text": [
      "   type                                              posts  words_per_comment  \\\n",
      "0  INFJ  'http://www.youtube.com/watch?v=qsXHcwe3krw|||...              11.12   \n",
      "1  ENTP  'I'm finding the lack of me in these posts ver...              23.40   \n",
      "2  INTP  'Good one  _____   https://www.youtube.com/wat...              16.72   \n",
      "3  INTJ  'Dear INTP,   I enjoyed our conversation the o...              21.28   \n",
      "4  ENTJ  'You're fired.|||That's another silly misconce...              19.34   \n",
      "\n",
      "   http_per_comment  music_per_comment  question_per_comment  img_per_comment  \\\n",
      "0              0.48               0.02                  0.36             0.12   \n",
      "1              0.20               0.00                  0.10             0.02   \n",
      "2              0.10               0.00                  0.24             0.00   \n",
      "3              0.04               0.02                  0.22             0.00   \n",
      "4              0.12               0.02                  0.20             0.04   \n",
      "\n",
      "   excl_per_comment  ellipsis_per_comment  I-E   ...      text781  text782  \\\n",
      "0              0.06                  0.30    0   ...     0.000000      0.0   \n",
      "1              0.00                  0.38    1   ...     0.000000      0.0   \n",
      "2              0.08                  0.26    0   ...     0.000000      0.0   \n",
      "3              0.06                  0.52    0   ...     0.000000      0.0   \n",
      "4              0.02                  0.42    1   ...     0.048511      0.0   \n",
      "\n",
      "    text783   text784   text785   text786  text787  text788  text789  text790  \n",
      "0  0.000000  0.000000  0.045780  0.000000      0.0      0.0      0.0      0.0  \n",
      "1  0.000000  0.000000  0.032263  0.000000      0.0      0.0      0.0      0.0  \n",
      "2  0.000000  0.000000  0.173679  0.072213      0.0      0.0      0.0      0.0  \n",
      "3  0.000000  0.038035  0.000000  0.000000      0.0      0.0      0.0      0.0  \n",
      "4  0.078649  0.000000  0.034765  0.072274      0.0      0.0      0.0      0.0  \n",
      "\n",
      "[5 rows x 805 columns]\n"
     ]
    }
   ],
   "source": [
    "print(df.head())"
   ]
  },
  {
   "cell_type": "code",
   "execution_count": null,
   "metadata": {},
   "outputs": [],
   "source": []
  }
 ],
 "metadata": {
  "kernelspec": {
   "display_name": "Python 3",
   "language": "python",
   "name": "python3"
  },
  "language_info": {
   "codemirror_mode": {
    "name": "ipython",
    "version": 3
   },
   "file_extension": ".py",
   "mimetype": "text/x-python",
   "name": "python",
   "nbconvert_exporter": "python",
   "pygments_lexer": "ipython3",
   "version": "3.6.5"
  }
 },
 "nbformat": 4,
 "nbformat_minor": 2
}
